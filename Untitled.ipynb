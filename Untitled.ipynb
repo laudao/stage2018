{
 "cells": [
  {
   "cell_type": "code",
   "execution_count": 10,
   "metadata": {
    "collapsed": true
   },
   "outputs": [],
   "source": [
    "from utils import *\n",
    "%matplotlib inline"
   ]
  },
  {
   "cell_type": "code",
   "execution_count": 2,
   "metadata": {
    "collapsed": true
   },
   "outputs": [],
   "source": [
    "def NMP(i, h, labeled_set):\n",
    "    '''\n",
    "        labeled_set : labeled set\n",
    "        i, h : pair of indices in labeled_set\n",
    "        return 1 if \n",
    "            (a1(w_i),...,am(w_i)) <= (a1(w_h),...,am(w_h)) and lambda(w_i) > lambda(w_h)\n",
    "            or \n",
    "            (a1(w_i),...,am(w_i)) >= (a1(w_h),...,am(w_h)) and lambda(w_i) < lambda(w_h)\n",
    "        0 otherwise\n",
    "    '''\n",
    "    w_i = labeled_set.getX(i)\n",
    "    w_h = labeled_set.getX(h)\n",
    "    if (np.sum(w_i - w_h)) <= 0 and (labeled_set.getY(i) > labeled_set.getY(h)):\n",
    "        return 1\n",
    "    if (np.sum(w_i - w_h)) >= 0 and (labeled_set.getY(i) < labeled_set.getY(h)):\n",
    "        return 1\n",
    "    return 0\n",
    "\n",
    "def NMI1(labeled_set):\n",
    "    '''\n",
    "        labeled_set : labeled set\n",
    "        return index of non-monotonicity NMI1\n",
    "    '''\n",
    "    n = labeled_set.size()\n",
    "    \n",
    "    s = 0\n",
    "    for i in range(n):\n",
    "        for j in range(i+1, n):\n",
    "            s += NMP(i, h, labeled_set)\n",
    "            \n",
    "    return s / (n*n - n)\n",
    "\n",
    "def NClash(x, y, labeled_set):\n",
    "    '''\n",
    "        labeled_set : labeled set\n",
    "        x : example\n",
    "        y : label of example\n",
    "        return the number of examples that clash with x\n",
    "    '''\n",
    "    n = labeled_set.size()\n",
    "    \n",
    "    s = 0\n",
    "    for i in range(n):\n",
    "        z = labeled_set.getX(i)\n",
    "        if (np.less_equal(z, x).all()) and (labeled_set.getY(i) > y):\n",
    "            s += 1\n",
    "        if (np.greater_equal(z, x).all()) and (labeled_set.getY(i) < y):\n",
    "            s += 1\n",
    "    return s\n",
    "    "
   ]
  },
  {
   "cell_type": "code",
   "execution_count": 4,
   "metadata": {
    "collapsed": true
   },
   "outputs": [],
   "source": [
    "def generate_noisy_monotone_dataset(n, desired_NMI, lower_NMI, m, k, f):\n",
    "    '''\n",
    "        n : number of examples\n",
    "        desired_NMI : desired non-monotonicity index\n",
    "        lower_NMI : lower bound of NMI\n",
    "        m : number of attributes\n",
    "        k : number of ordinal class values\n",
    "        f : non-decreasing monotone function\n",
    "        return a dataset with the above specifications\n",
    "    '''\n",
    "    class_num_values = []\n",
    "    x = []\n",
    "    \n",
    "    # step A :\n",
    "    #   for each example, assign random values to the attributes\n",
    "    #   compute the output as f(attribute values)\n",
    "    for i in range(n):\n",
    "        vector = np.random.uniform(0,1,m)\n",
    "        x.append(vector)\n",
    "        c = f(vector)\n",
    "        class_num_values.append(c)\n",
    "    \n",
    "    # step B :\n",
    "    #   normalize output values and sort all the examples in increasing order of normalized output values\n",
    "    max_v = max(class_num_values)\n",
    "    min_v = min(class_num_values)\n",
    "    outputs = []\n",
    "    \n",
    "    for i in range(n):\n",
    "        outputs.append(normalize(class_num_values[i], min_v, max_v))\n",
    "    \n",
    "    x = [x for _, x in sorted(zip(outputs, x))]\n",
    "    outputs = np.reshape(np.array([sorted(outputs)]), (-1, 1))\n",
    "    \n",
    "    # step C : \n",
    "    #   assign ordinal values to the class such that the class values will be balanced\n",
    "    data = np.hstack((np.array(x), np.reshape(np.array([outputs]), (-1, 1))))\n",
    "    \n",
    "    dataset = LabeledSet(m)\n",
    "    \n",
    "    for i in range(k):\n",
    "        if i == 0:\n",
    "            examples = data[(data[:,m] <= 1.0/k)][:,:m]\n",
    "            p = examples.shape[0]\n",
    "        else:\n",
    "            examples = data[(data[:,m] > (i*1.0)/k) & (data[:,m] <= (i+1.0)/k)][:,:m]\n",
    "            p = examples.shape[0]\n",
    "        dataset.addExamples(examples, np.array([[i+1]] * p))\n",
    "        \n",
    "    current_NMI = NMI1(dataset)\n",
    "    \n",
    "    # step D\n",
    "    while current_NMI < lower_NMI:\n",
    "        r = random.sample(range(0, n), 2)\n",
    "        x = dataset.getX(r[0])\n",
    "        y = dataset.getY(r[0])\n",
    "        \n",
    "        if y == 1:\n",
    "            # randomly select attribute values for xp that are <= relative to those of x\n",
    "            xp = np.random.uniform(0, x, m)\n",
    "            # class value that is > to y\n",
    "            xp_y = random.randint(2, k+1)\n",
    "        elif y == k+1:\n",
    "            # randomly select attribute values for xp that are >= relative to those of x\n",
    "            xp = np.random.uniform(x, 1, m)\n",
    "            # class value that is < to y\n",
    "            xp_y = random.randint(1, k)\n",
    "        else:\n",
    "            if random.uniform(0, 1) <= 0.5:\n",
    "                xp = np.random.uniform(0, x, m)\n",
    "                xp_y = random.randint(y+1, k+1)\n",
    "            else:\n",
    "                xp = np.random.uniform(x, 1, m)\n",
    "                xp_y = random.randint(1, y-1)\n",
    "        \n",
    "        xs = dataset.getX(r[1])\n",
    "        xs_y = dataset.getY(r[1])\n",
    "        nclash_xs = NClash(xs, xs_y, dataset)\n",
    "        nclash_xp = NClash(xp, xp_y, dataset)\n",
    "        \n",
    "        updated_NMI = nclash_xp - nclash_xs\n",
    "        \n",
    "        if updated_NMI < desired_NMI:\n",
    "            dataset.x[r[1]] = xp\n",
    "            dataset.y[r[1]] = xp_y\n",
    "            current_NMI = updated_NMI\n",
    "            \n",
    "    return dataset"
   ]
  },
  {
   "cell_type": "code",
   "execution_count": 17,
   "metadata": {
    "collapsed": true
   },
   "outputs": [],
   "source": [
    "g = Log()\n",
    "h = Sum()\n",
    "\n",
    "f_r = Dsr()\n",
    "rsdm = Gdm(h, g, f_r)\n",
    "\n",
    "f = Ds()\n",
    "sdm = Gdm(h, g, f)"
   ]
  },
  {
   "cell_type": "code",
   "execution_count": 12,
   "metadata": {
    "collapsed": false
   },
   "outputs": [],
   "source": [
    "dataset = generate_monotone_consistent_dataset(1000, 2)"
   ]
  },
  {
   "cell_type": "code",
   "execution_count": 13,
   "metadata": {
    "collapsed": false
   },
   "outputs": [
    {
     "data": {
      "image/png": "[encoded data removed]",
      "text/plain": [
       "<matplotlib.figure.Figure at 0x7f6da08066a0>"
      ]
     },
     "metadata": {},
     "output_type": "display_data"
    }
   ],
   "source": [
    "plot2DSet(dataset, \"\")"
   ]
  },
  {
   "cell_type": "code",
   "execution_count": 14,
   "metadata": {
    "collapsed": true
   },
   "outputs": [],
   "source": [
    "sets = get_ten_folds(dataset)"
   ]
  },
  {
   "cell_type": "code",
   "execution_count": 19,
   "metadata": {
    "collapsed": false
   },
   "outputs": [
    {
     "name": "stdout",
     "output_type": "stream",
     "text": [
      "0.8506666666666668\n",
      "25.0\n",
      "7.800000000000001\n",
      "running time :  375.2146534919739\n"
     ]
    }
   ],
   "source": [
    "avg_accuracy = 0\n",
    "avg_leaves = 0\n",
    "avg_depth = 0\n",
    "start = time.time()\n",
    "for i in range(10):\n",
    "    test_set = sets[i]\n",
    "    train_set = LabeledSet(2)\n",
    "    for j in range(0, 5):\n",
    "        if i != j:\n",
    "            train_set.addExamples(sets[j].x, sets[j].y)\n",
    "    tree = RDMT(rsdm, \"shannon\", 0, 100, 0.01, [1, 2])\n",
    "    tree.train(train_set)\n",
    "    avg_accuracy += tree.accuracy(test_set)\n",
    "    avg_leaves += tree.get_nb_leaves()\n",
    "    avg_depth += tree.get_depth()\n",
    "            \n",
    "avg_accuracy = avg_accuracy * (1.0/5)\n",
    "avg_leaves = avg_leaves * (1.0/5)\n",
    "avg_depth = avg_depth * (1.0/5)\n",
    "print(avg_accuracy)\n",
    "print(avg_leaves)\n",
    "print(avg_depth)\n",
    "print(\"running time : \", format(time.time() - start))"
   ]
  }
 ],
 "metadata": {
  "kernelspec": {
   "display_name": "Python 3",
   "language": "python",
   "name": "python3"
  },
  "language_info": {
   "codemirror_mode": {
    "name": "ipython",
    "version": 3
   },
   "file_extension": ".py",
   "mimetype": "text/x-python",
   "name": "python",
   "nbconvert_exporter": "python",
   "pygments_lexer": "ipython3",
   "version": "3.6.3"
  }
 },
 "nbformat": 4,
 "nbformat_minor": 2
}
