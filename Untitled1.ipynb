{
 "cells": [
  {
   "cell_type": "code",
   "execution_count": 1,
   "metadata": {},
   "outputs": [],
   "source": [
    "%load_ext autoreload\n",
    "%autoreload 2\n",
    "from utils import *\n",
    "#import utils"
   ]
  },
  {
   "cell_type": "code",
   "execution_count": 2,
   "metadata": {},
   "outputs": [],
   "source": [
    "import sys\n",
    "sys.argv[1] = \"1\""
   ]
  },
  {
   "cell_type": "code",
   "execution_count": 3,
   "metadata": {},
   "outputs": [],
   "source": [
    "sys.argv[2] = \"1\""
   ]
  },
  {
   "cell_type": "code",
   "execution_count": 7,
   "metadata": {},
   "outputs": [],
   "source": [
    "g = Log()\n",
    "h = Sum()\n",
    "\n",
    "# rank Shannon discrimination measure\n",
    "f_r = Dsr()\n",
    "rsdm = Gdm(h, g, f_r)\n",
    "\n",
    "# conditional Shannon entropy\n",
    "f = Ds()\n",
    "sdm = Gdm(h, g, f)\n",
    "\n",
    "# pessimistic rank discrimination measure\n",
    "f_p = Mindsr()\n",
    "g_p = Frac() \n",
    "prdm = Gdm(h, g_p, f_p)"
   ]
  },
  {
   "cell_type": "code",
   "execution_count": 39,
   "metadata": {},
   "outputs": [
    {
     "data": {
      "text/plain": [
       "array([1, 3, 4])"
      ]
     },
     "execution_count": 39,
     "metadata": {},
     "output_type": "execute_result"
    }
   ],
   "source": [
    "a = np.array([1., 3. , 4.])\n",
    "a.astype(int)"
   ]
  },
  {
   "cell_type": "code",
   "execution_count": 46,
   "metadata": {},
   "outputs": [
    {
     "data": {
      "image/png": "[encoded data removed]",
      "text/plain": [
       "<matplotlib.figure.Figure at 0x7f6cf8a08f98>"
      ]
     },
     "metadata": {},
     "output_type": "display_data"
    }
   ],
   "source": [
    "set2_10_0, t = utils.generate_2Ddataset(0, 2, 10, 0., 0.1, [[-10, 10], [-10, 10]], use_seed = True)\n",
    "t1, h1 = utils.discretize(rsdm, set2_10_0, 0)\n",
    "t2, h2 = utils.discretize(sdm, set2_10_0, 0)\n",
    "utils.display_discretizations_comparison(set2_10_0, t1, t2, [0], 0, \"splitting boundaries generated by rsdm and sdm with attribute 0, no noise\", \"rsdm threshold\", \"sdm threshold\")"
   ]
  },
  {
   "cell_type": "code",
   "execution_count": 18,
   "metadata": {},
   "outputs": [
    {
     "data": {
      "image/png": "[encoded data removed]",
      "text/plain": [
       "<matplotlib.figure.Figure at 0x7f6cf94b8dd8>"
      ]
     },
     "metadata": {},
     "output_type": "display_data"
    }
   ],
   "source": [
    "set2_10_0, t = utils.generate_2Ddataset(0, 2, 10, 0., 0.1, [[-10, 10], [-10, 10]], use_seed = True)\n",
    "t1, h1 = utils.discretize(rsdm, set2_10_0, 0)\n",
    "t2, h2 = utils.discretize(sdm, set2_10_0, 0)\n",
    "utils.display_discretizations_comparison(set2_10_0, t1, t2, [0], 0, \"splitting boundaries generated by rsdm and sdm with attribute 0, no noise\", \"rsdm threshold\", \"sdm threshold\")"
   ]
  },
  {
   "cell_type": "code",
   "execution_count": 22,
   "metadata": {},
   "outputs": [],
   "source": [
    "dataset, t = generate_2Ddataset(0, 2, 100, 0, 0.1, [[-10, 10], [-10, 10]])\n",
    "\n",
    "for k in range(int(sys.argv[2])):\n",
    "    dataset = add_noise(dataset, 0.05)\n",
    "\n",
    "sets = get_ten_folds(dataset)\n",
    "\n",
    "acc1 = 0\n",
    "leaves1 = 0\n",
    "depth1 = 0\n",
    "ratio1 = 0\n",
    "pairs1 = 0\n",
    "\n",
    "acc2 = 0\n",
    "leaves2 = 0\n",
    "depth2 = 0\n",
    "ratio2 = 0\n",
    "pairs2 = 0\n",
    "\n",
    "acc3 = 0\n",
    "leaves3 = 0\n",
    "depth3 = 0\n",
    "ratio3 = 0\n",
    "pairs3 = 0\n",
    "\n",
    "\n",
    "for i in range(10):\n",
    "    test_set = sets[i]\n",
    "    train_set = LabeledSet(2)\n",
    "    for j in range(10):\n",
    "        if i != j:\n",
    "            train_set.addExamples(sets[j].x, sets[j].y)\n",
    "    tree1 = RDMT(rsdm, \"shannon\", 0, 100, 0.01, [1, 2])\n",
    "    tree1.train(train_set)\n",
    "    acc1 += tree1.accuracy(test_set)\n",
    "    leaves1 += tree1.get_nb_leaves()\n",
    "    depth1 += tree1.get_depth()\n",
    "    ratio1 += tree1.get_ratio_non_monotone_pairs()\n",
    "    pairs1 += tree1.get_total_pairs()\n",
    "\n",
    "    tree2 = RDMT(sdm, \"shannon\", 0, 100, 0.01, [1, 2])\n",
    "    tree2.train(train_set)\n",
    "    acc2 += tree2.accuracy(test_set)\n",
    "    leaves2 += tree2.get_nb_leaves()\n",
    "    depth2 += tree2.get_depth()\n",
    "    ratio2 += tree2.get_ratio_non_monotone_pairs()\n",
    "    pairs2 += tree2.get_total_pairs()\n",
    "\n",
    "    tree3 = RDMT(prdm, \"shannon\", 0, 100, 0.01, [1, 2])\n",
    "    tree3.train(train_set)\n",
    "    acc3 += tree3.accuracy(test_set)\n",
    "    leaves3 += tree3.get_nb_leaves()\n",
    "    depth3 += tree3.get_depth()\n",
    "    ratio3 += tree3.get_ratio_non_monotone_pairs()\n",
    "    pairs3 += tree3.get_total_pairs()\n",
    "\n",
    "acc1 = acc1 * (1.0/10)\n",
    "depth1 = depth1 * (1.0/10)\n",
    "ratio1 = ratio1 * (1.0/10)\n",
    "pairs1 = pairs1 * (1.0/10)\n",
    "\n",
    "acc2 = acc2 * (1.0/10)\n",
    "leaves2 = leaves2 * (1.0/10)\n",
    "depth2 = depth2 * (1.0/10)\n",
    "ratio2 = ratio2 * (1.0/10)\n",
    "pairs2 = pairs2 * (1.0/10)\n",
    "\n",
    "acc3 = acc3 * (1.0/10)\n",
    "leaves3 = leaves3 * (1.0/10)\n",
    "depth3 = depth3 * (1.0/10)\n",
    "ratio3 = ratio3 * (1.0/10)\n",
    "pairs3 = pairs3 * (1.0/10)"
   ]
  },
  {
   "cell_type": "code",
   "execution_count": 23,
   "metadata": {},
   "outputs": [
    {
     "name": "stdout",
     "output_type": "stream",
     "text": [
      "0.9800000000000001 4.9 0.9 1.9000000000000001\n",
      "0.9700000000000002 5.6000000000000005 0.8544444444444445 1.0\n",
      "0.9500000000000002 4.7 0.6511111111111112 1.9000000000000001\n"
     ]
    }
   ],
   "source": [
    "print(acc1, depth1, ratio1, pairs1)\n",
    "print(acc2, depth2, ratio2, pairs2)\n",
    "print(acc3, depth3, ratio3, pairs3)"
   ]
  },
  {
   "cell_type": "code",
   "execution_count": 8,
   "metadata": {},
   "outputs": [
    {
     "name": "stdout",
     "output_type": "stream",
     "text": [
      "[3]\n",
      "[[1. 1. 1. 0. 1. 1. 1. 1. 1. 1.]\n",
      " [1. 1. 1. 0. 1. 1. 1. 1. 1. 1.]\n",
      " [1. 1. 1. 0. 1. 1. 1. 1. 1. 1.]\n",
      " [1. 1. 1. 1. 1. 1. 1. 1. 1. 1.]\n",
      " [1. 1. 1. 0. 1. 1. 1. 1. 1. 1.]\n",
      " [1. 1. 1. 0. 1. 1. 1. 1. 1. 1.]\n",
      " [1. 1. 1. 0. 1. 1. 1. 1. 1. 1.]\n",
      " [1. 1. 1. 0. 1. 1. 1. 1. 1. 1.]\n",
      " [1. 1. 1. 0. 1. 1. 1. 1. 1. 1.]\n",
      " [1. 1. 1. 0. 1. 1. 1. 1. 1. 1.]]\n",
      "[3, 1]\n",
      "[[1. 0. 1. 0. 1. 1. 1. 1. 1. 1.]\n",
      " [1. 1. 1. 1. 1. 1. 1. 1. 1. 1.]\n",
      " [1. 0. 1. 0. 1. 1. 1. 1. 1. 1.]\n",
      " [1. 1. 1. 1. 1. 1. 1. 1. 1. 1.]\n",
      " [1. 0. 1. 0. 1. 1. 1. 1. 1. 1.]\n",
      " [1. 0. 1. 0. 1. 1. 1. 1. 1. 1.]\n",
      " [1. 0. 1. 0. 1. 1. 1. 1. 1. 1.]\n",
      " [1. 0. 1. 0. 1. 1. 1. 1. 1. 1.]\n",
      " [1. 0. 1. 0. 1. 1. 1. 1. 1. 1.]\n",
      " [1. 0. 1. 0. 1. 1. 1. 1. 1. 1.]]\n",
      "[3, 1, 0]\n",
      "[[1. 1. 1. 1. 1. 1. 1. 1. 1. 1.]\n",
      " [1. 1. 1. 1. 1. 1. 1. 1. 1. 1.]\n",
      " [0. 0. 1. 0. 1. 1. 1. 1. 1. 1.]\n",
      " [1. 1. 1. 1. 1. 1. 1. 1. 1. 1.]\n",
      " [0. 0. 1. 0. 1. 1. 1. 1. 1. 1.]\n",
      " [0. 0. 1. 0. 1. 1. 1. 1. 1. 1.]\n",
      " [0. 0. 1. 0. 1. 1. 1. 1. 1. 1.]\n",
      " [0. 0. 1. 0. 1. 1. 1. 1. 1. 1.]\n",
      " [0. 0. 1. 0. 1. 1. 1. 1. 1. 1.]\n",
      " [0. 0. 1. 0. 1. 1. 1. 1. 1. 1.]]\n",
      "[3, 1, 0, 4]\n",
      "[[1. 1. 1. 1. 1. 1. 1. 1. 1. 1.]\n",
      " [1. 1. 1. 1. 1. 1. 1. 1. 1. 1.]\n",
      " [0. 0. 1. 0. 0. 1. 1. 1. 1. 1.]\n",
      " [1. 1. 1. 1. 1. 1. 1. 1. 1. 1.]\n",
      " [1. 1. 1. 1. 1. 1. 1. 1. 1. 1.]\n",
      " [0. 0. 1. 0. 0. 1. 1. 1. 1. 1.]\n",
      " [0. 0. 1. 0. 0. 1. 1. 1. 1. 1.]\n",
      " [0. 0. 1. 0. 0. 1. 1. 1. 1. 1.]\n",
      " [0. 0. 1. 0. 0. 1. 1. 1. 1. 1.]\n",
      " [0. 0. 1. 0. 0. 1. 1. 1. 1. 1.]]\n",
      "[3, 1, 0, 4, 2]\n",
      "[[1. 1. 1. 1. 1. 1. 1. 1. 1. 1.]\n",
      " [1. 1. 1. 1. 1. 1. 1. 1. 1. 1.]\n",
      " [1. 1. 1. 1. 1. 1. 1. 1. 1. 1.]\n",
      " [1. 1. 1. 1. 1. 1. 1. 1. 1. 1.]\n",
      " [1. 1. 1. 1. 1. 1. 1. 1. 1. 1.]\n",
      " [0. 0. 0. 0. 0. 1. 1. 1. 1. 1.]\n",
      " [0. 0. 0. 0. 0. 1. 1. 1. 1. 1.]\n",
      " [0. 0. 0. 0. 0. 1. 1. 1. 1. 1.]\n",
      " [0. 0. 0. 0. 0. 1. 1. 1. 1. 1.]\n",
      " [0. 0. 0. 0. 0. 1. 1. 1. 1. 1.]]\n",
      "[3, 1, 0, 4, 2, 8]\n",
      "[[1. 1. 1. 1. 1. 1. 1. 1. 1. 1.]\n",
      " [1. 1. 1. 1. 1. 1. 1. 1. 1. 1.]\n",
      " [1. 1. 1. 1. 1. 1. 1. 1. 1. 1.]\n",
      " [1. 1. 1. 1. 1. 1. 1. 1. 1. 1.]\n",
      " [1. 1. 1. 1. 1. 1. 1. 1. 1. 1.]\n",
      " [0. 0. 0. 0. 0. 1. 1. 1. 0. 1.]\n",
      " [0. 0. 0. 0. 0. 1. 1. 1. 0. 1.]\n",
      " [0. 0. 0. 0. 0. 1. 1. 1. 0. 1.]\n",
      " [1. 1. 1. 1. 1. 1. 1. 1. 1. 1.]\n",
      " [0. 0. 0. 0. 0. 1. 1. 1. 0. 1.]]\n",
      "[3, 1, 0, 4, 2, 8, 5]\n",
      "[[1. 1. 1. 1. 1. 1. 1. 1. 1. 1.]\n",
      " [1. 1. 1. 1. 1. 1. 1. 1. 1. 1.]\n",
      " [1. 1. 1. 1. 1. 1. 1. 1. 1. 1.]\n",
      " [1. 1. 1. 1. 1. 1. 1. 1. 1. 1.]\n",
      " [1. 1. 1. 1. 1. 1. 1. 1. 1. 1.]\n",
      " [1. 1. 1. 1. 1. 1. 1. 1. 1. 1.]\n",
      " [0. 0. 0. 0. 0. 0. 1. 1. 0. 1.]\n",
      " [0. 0. 0. 0. 0. 0. 1. 1. 0. 1.]\n",
      " [1. 1. 1. 1. 1. 1. 1. 1. 1. 1.]\n",
      " [0. 0. 0. 0. 0. 0. 1. 1. 0. 1.]]\n",
      "[3, 1, 0, 4, 2, 8, 5, 9]\n",
      "[[1. 1. 1. 1. 1. 1. 1. 1. 1. 1.]\n",
      " [1. 1. 1. 1. 1. 1. 1. 1. 1. 1.]\n",
      " [1. 1. 1. 1. 1. 1. 1. 1. 1. 1.]\n",
      " [1. 1. 1. 1. 1. 1. 1. 1. 1. 1.]\n",
      " [1. 1. 1. 1. 1. 1. 1. 1. 1. 1.]\n",
      " [1. 1. 1. 1. 1. 1. 1. 1. 1. 1.]\n",
      " [0. 0. 0. 0. 0. 0. 1. 1. 0. 0.]\n",
      " [0. 0. 0. 0. 0. 0. 1. 1. 0. 0.]\n",
      " [1. 1. 1. 1. 1. 1. 1. 1. 1. 1.]\n",
      " [1. 1. 1. 1. 1. 1. 1. 1. 1. 1.]]\n",
      "[3, 1, 0, 4, 2, 8, 5, 9, 7]\n",
      "[[1. 1. 1. 1. 1. 1. 1. 1. 1. 1.]\n",
      " [1. 1. 1. 1. 1. 1. 1. 1. 1. 1.]\n",
      " [1. 1. 1. 1. 1. 1. 1. 1. 1. 1.]\n",
      " [1. 1. 1. 1. 1. 1. 1. 1. 1. 1.]\n",
      " [1. 1. 1. 1. 1. 1. 1. 1. 1. 1.]\n",
      " [1. 1. 1. 1. 1. 1. 1. 1. 1. 1.]\n",
      " [0. 0. 0. 0. 0. 0. 1. 0. 0. 0.]\n",
      " [1. 1. 1. 1. 1. 1. 1. 1. 1. 1.]\n",
      " [1. 1. 1. 1. 1. 1. 1. 1. 1. 1.]\n",
      " [1. 1. 1. 1. 1. 1. 1. 1. 1. 1.]]\n",
      "[3]\n",
      "[[1. 1. 1. 0. 1. 1. 1. 1. 1. 1.]\n",
      " [1. 1. 1. 0. 1. 1. 1. 1. 1. 1.]\n",
      " [1. 1. 1. 0. 1. 1. 1. 1. 1. 1.]\n",
      " [1. 1. 1. 1. 1. 1. 1. 1. 1. 1.]\n",
      " [1. 1. 1. 0. 1. 1. 1. 1. 1. 1.]\n",
      " [1. 1. 1. 0. 1. 1. 1. 1. 1. 1.]\n",
      " [1. 1. 1. 0. 1. 1. 1. 1. 1. 1.]\n",
      " [1. 1. 1. 0. 1. 1. 1. 1. 1. 1.]\n",
      " [1. 1. 1. 0. 1. 1. 1. 1. 1. 1.]\n",
      " [1. 1. 1. 0. 1. 1. 1. 1. 1. 1.]]\n",
      "[3, 1]\n",
      "[[1. 0. 1. 0. 1. 1. 1. 1. 1. 1.]\n",
      " [1. 1. 1. 1. 1. 1. 1. 1. 1. 1.]\n",
      " [1. 0. 1. 0. 1. 1. 1. 1. 1. 1.]\n",
      " [1. 1. 1. 1. 1. 1. 1. 1. 1. 1.]\n",
      " [1. 0. 1. 0. 1. 1. 1. 1. 1. 1.]\n",
      " [1. 0. 1. 0. 1. 1. 1. 1. 1. 1.]\n",
      " [1. 0. 1. 0. 1. 1. 1. 1. 1. 1.]\n",
      " [1. 0. 1. 0. 1. 1. 1. 1. 1. 1.]\n",
      " [1. 0. 1. 0. 1. 1. 1. 1. 1. 1.]\n",
      " [1. 0. 1. 0. 1. 1. 1. 1. 1. 1.]]\n",
      "[3, 1, 0]\n",
      "[[1. 1. 1. 1. 1. 1. 1. 1. 1. 1.]\n",
      " [1. 1. 1. 1. 1. 1. 1. 1. 1. 1.]\n",
      " [0. 0. 1. 0. 1. 1. 1. 1. 1. 1.]\n",
      " [1. 1. 1. 1. 1. 1. 1. 1. 1. 1.]\n",
      " [0. 0. 1. 0. 1. 1. 1. 1. 1. 1.]\n",
      " [0. 0. 1. 0. 1. 1. 1. 1. 1. 1.]\n",
      " [0. 0. 1. 0. 1. 1. 1. 1. 1. 1.]\n",
      " [0. 0. 1. 0. 1. 1. 1. 1. 1. 1.]\n",
      " [0. 0. 1. 0. 1. 1. 1. 1. 1. 1.]\n",
      " [0. 0. 1. 0. 1. 1. 1. 1. 1. 1.]]\n",
      "[3, 1, 0, 4]\n",
      "[[1. 1. 1. 1. 1. 1. 1. 1. 1. 1.]\n",
      " [1. 1. 1. 1. 1. 1. 1. 1. 1. 1.]\n",
      " [0. 0. 1. 0. 0. 1. 1. 1. 1. 1.]\n",
      " [1. 1. 1. 1. 1. 1. 1. 1. 1. 1.]\n",
      " [1. 1. 1. 1. 1. 1. 1. 1. 1. 1.]\n",
      " [0. 0. 1. 0. 0. 1. 1. 1. 1. 1.]\n",
      " [0. 0. 1. 0. 0. 1. 1. 1. 1. 1.]\n",
      " [0. 0. 1. 0. 0. 1. 1. 1. 1. 1.]\n",
      " [0. 0. 1. 0. 0. 1. 1. 1. 1. 1.]\n",
      " [0. 0. 1. 0. 0. 1. 1. 1. 1. 1.]]\n",
      "[3, 1, 0, 4, 2]\n",
      "[[1. 1. 1. 1. 1. 1. 1. 1. 1. 1.]\n",
      " [1. 1. 1. 1. 1. 1. 1. 1. 1. 1.]\n",
      " [1. 1. 1. 1. 1. 1. 1. 1. 1. 1.]\n",
      " [1. 1. 1. 1. 1. 1. 1. 1. 1. 1.]\n",
      " [1. 1. 1. 1. 1. 1. 1. 1. 1. 1.]\n",
      " [0. 0. 0. 0. 0. 1. 1. 1. 1. 1.]\n",
      " [0. 0. 0. 0. 0. 1. 1. 1. 1. 1.]\n",
      " [0. 0. 0. 0. 0. 1. 1. 1. 1. 1.]\n",
      " [0. 0. 0. 0. 0. 1. 1. 1. 1. 1.]\n",
      " [0. 0. 0. 0. 0. 1. 1. 1. 1. 1.]]\n",
      "[3, 1, 0, 4, 2, 8]\n",
      "[[1. 1. 1. 1. 1. 1. 1. 1. 1. 1.]\n",
      " [1. 1. 1. 1. 1. 1. 1. 1. 1. 1.]\n",
      " [1. 1. 1. 1. 1. 1. 1. 1. 1. 1.]\n",
      " [1. 1. 1. 1. 1. 1. 1. 1. 1. 1.]\n",
      " [1. 1. 1. 1. 1. 1. 1. 1. 1. 1.]\n",
      " [0. 0. 0. 0. 0. 1. 1. 1. 0. 1.]\n",
      " [0. 0. 0. 0. 0. 1. 1. 1. 0. 1.]\n",
      " [0. 0. 0. 0. 0. 1. 1. 1. 0. 1.]\n",
      " [1. 1. 1. 1. 1. 1. 1. 1. 1. 1.]\n",
      " [0. 0. 0. 0. 0. 1. 1. 1. 0. 1.]]\n",
      "[3, 1, 0, 4, 2, 8, 5]\n",
      "[[1. 1. 1. 1. 1. 1. 1. 1. 1. 1.]\n",
      " [1. 1. 1. 1. 1. 1. 1. 1. 1. 1.]\n",
      " [1. 1. 1. 1. 1. 1. 1. 1. 1. 1.]\n",
      " [1. 1. 1. 1. 1. 1. 1. 1. 1. 1.]\n",
      " [1. 1. 1. 1. 1. 1. 1. 1. 1. 1.]\n",
      " [1. 1. 1. 1. 1. 1. 1. 1. 1. 1.]\n",
      " [0. 0. 0. 0. 0. 0. 1. 1. 0. 1.]\n",
      " [0. 0. 0. 0. 0. 0. 1. 1. 0. 1.]\n",
      " [1. 1. 1. 1. 1. 1. 1. 1. 1. 1.]\n",
      " [0. 0. 0. 0. 0. 0. 1. 1. 0. 1.]]\n",
      "[3, 1, 0, 4, 2, 8, 5, 9]\n",
      "[[1. 1. 1. 1. 1. 1. 1. 1. 1. 1.]\n",
      " [1. 1. 1. 1. 1. 1. 1. 1. 1. 1.]\n",
      " [1. 1. 1. 1. 1. 1. 1. 1. 1. 1.]\n",
      " [1. 1. 1. 1. 1. 1. 1. 1. 1. 1.]\n",
      " [1. 1. 1. 1. 1. 1. 1. 1. 1. 1.]\n",
      " [1. 1. 1. 1. 1. 1. 1. 1. 1. 1.]\n",
      " [0. 0. 0. 0. 0. 0. 1. 1. 0. 0.]\n",
      " [0. 0. 0. 0. 0. 0. 1. 1. 0. 0.]\n",
      " [1. 1. 1. 1. 1. 1. 1. 1. 1. 1.]\n",
      " [1. 1. 1. 1. 1. 1. 1. 1. 1. 1.]]\n",
      "[3, 1, 0, 4, 2, 8, 5, 9, 7]\n",
      "[[1. 1. 1. 1. 1. 1. 1. 1. 1. 1.]\n",
      " [1. 1. 1. 1. 1. 1. 1. 1. 1. 1.]\n",
      " [1. 1. 1. 1. 1. 1. 1. 1. 1. 1.]\n",
      " [1. 1. 1. 1. 1. 1. 1. 1. 1. 1.]\n",
      " [1. 1. 1. 1. 1. 1. 1. 1. 1. 1.]\n",
      " [1. 1. 1. 1. 1. 1. 1. 1. 1. 1.]\n",
      " [0. 0. 0. 0. 0. 0. 1. 0. 0. 0.]\n",
      " [1. 1. 1. 1. 1. 1. 1. 1. 1. 1.]\n",
      " [1. 1. 1. 1. 1. 1. 1. 1. 1. 1.]\n",
      " [1. 1. 1. 1. 1. 1. 1. 1. 1. 1.]]\n"
     ]
    },
    {
     "data": {
      "image/png": "[encoded data removed]",
      "text/plain": [
       "<matplotlib.figure.Figure at 0x10d191358>"
      ]
     },
     "metadata": {},
     "output_type": "display_data"
    }
   ],
   "source": [
    "set2_10_0, t = generate_2Ddataset(0, 2, 10, 0.3, 0.1, [[-10, 10], [-10, 10]], use_seed = False)\n",
    "t1, h1 = discretize(rsdm, set2_10_0, 0)\n",
    "t2, h2 = discretize(sdm, set2_10_0, 0)\n",
    "display_discretizations_comparison(set2_10_0, t1, t2, [0], 0, \"splitting boundaries generated by rsdm and sdm with attribute 0, no noise\", \"rsdm threshold\", \"sdm threshold\")\n"
   ]
  },
  {
   "cell_type": "code",
   "execution_count": 62,
   "metadata": {},
   "outputs": [
    {
     "data": {
      "text/plain": [
       "array([[-0.44937959,  2.99001267],\n",
       "       [-9.1245126 , -0.22181508],\n",
       "       [ 3.10791226,  7.05693224],\n",
       "       [ 5.80379704,  5.73482839]])"
      ]
     },
     "execution_count": 62,
     "metadata": {},
     "output_type": "execute_result"
    }
   ],
   "source": [
    "set2_10_0.x"
   ]
  },
  {
   "cell_type": "code",
   "execution_count": null,
   "metadata": {
    "collapsed": true
   },
   "outputs": [],
   "source": []
  }
 ],
 "metadata": {
  "kernelspec": {
   "display_name": "Python 3",
   "language": "python",
   "name": "python3"
  },
  "language_info": {
   "codemirror_mode": {
    "name": "ipython",
    "version": 3
   },
   "file_extension": ".py",
   "mimetype": "text/x-python",
   "name": "python",
   "nbconvert_exporter": "python",
   "pygments_lexer": "ipython3",
   "version": "3.5.4"
  }
 },
 "nbformat": 4,
 "nbformat_minor": 2
}
