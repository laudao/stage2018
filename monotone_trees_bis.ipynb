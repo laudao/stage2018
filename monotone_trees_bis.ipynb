{
 "cells": [
  {
   "cell_type": "markdown",
   "metadata": {},
   "source": [
    "# Implémentation et expérimentation de l'algorithme de construction d'arbres monotones"
   ]
  },
  {
   "cell_type": "code",
   "execution_count": 150,
   "metadata": {
    "collapsed": false
   },
   "outputs": [],
   "source": [
    "import numpy as np\n",
    "import pandas as pd\n",
    "import math\n",
    "import random\n",
    "from arbres import *\n",
    "from functools import reduce\n",
    "import matplotlib.pyplot as plt\n",
    "%matplotlib inline"
   ]
  },
  {
   "cell_type": "markdown",
   "metadata": {},
   "source": [
    "### Création de la base jouet :"
   ]
  },
  {
   "cell_type": "code",
   "execution_count": 151,
   "metadata": {
    "collapsed": false
   },
   "outputs": [],
   "source": [
    "training_set = LabeledSet(2)\n",
    "\n",
    "for i in range(0, 3):\n",
    "    training_set.addExample([random.randint(0,2),random.randint(0,10)],1)\n",
    "for i in range(0, 3):\n",
    "    training_set.addExample([random.randint(3, 5), random.randint(0, 10)], 2)\n",
    "for i in range(0, 4):\n",
    "    training_set.addExample([random.randint(6, 10), random.randint(0,10)], 3)"
   ]
  },
  {
   "cell_type": "code",
   "execution_count": 152,
   "metadata": {
    "collapsed": false
   },
   "outputs": [
    {
     "data": {
      "text/html": [
       "<div>\n",
       "<style scoped>\n",
       "    .dataframe tbody tr th:only-of-type {\n",
       "        vertical-align: middle;\n",
       "    }\n",
       "\n",
       "    .dataframe tbody tr th {\n",
       "        vertical-align: top;\n",
       "    }\n",
       "\n",
       "    .dataframe thead th {\n",
       "        text-align: right;\n",
       "    }\n",
       "</style>\n",
       "<table border=\"1\" class=\"dataframe\">\n",
       "  <thead>\n",
       "    <tr style=\"text-align: right;\">\n",
       "      <th></th>\n",
       "      <th>x1</th>\n",
       "      <th>x2</th>\n",
       "      <th>label</th>\n",
       "    </tr>\n",
       "  </thead>\n",
       "  <tbody>\n",
       "    <tr>\n",
       "      <th>0</th>\n",
       "      <td>2</td>\n",
       "      <td>7</td>\n",
       "      <td>1</td>\n",
       "    </tr>\n",
       "    <tr>\n",
       "      <th>1</th>\n",
       "      <td>1</td>\n",
       "      <td>3</td>\n",
       "      <td>1</td>\n",
       "    </tr>\n",
       "    <tr>\n",
       "      <th>2</th>\n",
       "      <td>2</td>\n",
       "      <td>5</td>\n",
       "      <td>1</td>\n",
       "    </tr>\n",
       "    <tr>\n",
       "      <th>3</th>\n",
       "      <td>3</td>\n",
       "      <td>1</td>\n",
       "      <td>2</td>\n",
       "    </tr>\n",
       "    <tr>\n",
       "      <th>4</th>\n",
       "      <td>4</td>\n",
       "      <td>6</td>\n",
       "      <td>2</td>\n",
       "    </tr>\n",
       "    <tr>\n",
       "      <th>5</th>\n",
       "      <td>5</td>\n",
       "      <td>3</td>\n",
       "      <td>2</td>\n",
       "    </tr>\n",
       "    <tr>\n",
       "      <th>6</th>\n",
       "      <td>9</td>\n",
       "      <td>6</td>\n",
       "      <td>3</td>\n",
       "    </tr>\n",
       "    <tr>\n",
       "      <th>7</th>\n",
       "      <td>9</td>\n",
       "      <td>1</td>\n",
       "      <td>3</td>\n",
       "    </tr>\n",
       "    <tr>\n",
       "      <th>8</th>\n",
       "      <td>6</td>\n",
       "      <td>9</td>\n",
       "      <td>3</td>\n",
       "    </tr>\n",
       "    <tr>\n",
       "      <th>9</th>\n",
       "      <td>6</td>\n",
       "      <td>8</td>\n",
       "      <td>3</td>\n",
       "    </tr>\n",
       "  </tbody>\n",
       "</table>\n",
       "</div>"
      ],
      "text/plain": [
       "   x1  x2  label\n",
       "0   2   7      1\n",
       "1   1   3      1\n",
       "2   2   5      1\n",
       "3   3   1      2\n",
       "4   4   6      2\n",
       "5   5   3      2\n",
       "6   9   6      3\n",
       "7   9   1      3\n",
       "8   6   9      3\n",
       "9   6   8      3"
      ]
     },
     "execution_count": 152,
     "metadata": {},
     "output_type": "execute_result"
    }
   ],
   "source": [
    "df = pd.DataFrame(training_set.x, columns=['x1', 'x2'])\n",
    "df['label'] = training_set.y\n",
    "df"
   ]
  },
  {
   "cell_type": "markdown",
   "metadata": {},
   "source": [
    "### Ensembles dominants générés par un attribut/label"
   ]
  },
  {
   "cell_type": "code",
   "execution_count": 153,
   "metadata": {
    "collapsed": false
   },
   "outputs": [
    {
     "ename": "TypeError",
     "evalue": "'LabeledSet' object is not callable",
     "output_type": "error",
     "traceback": [
      "\u001b[0;31m---------------------------------------------------------------------------\u001b[0m",
      "\u001b[0;31mTypeError\u001b[0m                                 Traceback (most recent call last)",
      "\u001b[0;32m<ipython-input-153-7370b9edcb10>\u001b[0m in \u001b[0;36m<module>\u001b[0;34m()\u001b[0m\n\u001b[1;32m     33\u001b[0m     \u001b[0;32mreturn\u001b[0m \u001b[0mdominant_sets\u001b[0m\u001b[0;34m\u001b[0m\u001b[0m\n\u001b[1;32m     34\u001b[0m \u001b[0;34m\u001b[0m\u001b[0m\n\u001b[0;32m---> 35\u001b[0;31m \u001b[0mdsa_1\u001b[0m \u001b[0;34m=\u001b[0m \u001b[0mdominant_sets_attribute\u001b[0m\u001b[0;34m(\u001b[0m\u001b[0;36m0\u001b[0m\u001b[0;34m,\u001b[0m \u001b[0mtraining_set\u001b[0m\u001b[0;34m)\u001b[0m\u001b[0;34m\u001b[0m\u001b[0m\n\u001b[0m\u001b[1;32m     36\u001b[0m \u001b[0mdsa_2\u001b[0m \u001b[0;34m=\u001b[0m \u001b[0mdominant_sets_attribute\u001b[0m\u001b[0;34m(\u001b[0m\u001b[0;36m1\u001b[0m\u001b[0;34m,\u001b[0m \u001b[0mtraining_set\u001b[0m\u001b[0;34m)\u001b[0m\u001b[0;34m\u001b[0m\u001b[0m\n\u001b[1;32m     37\u001b[0m \u001b[0mdsl\u001b[0m \u001b[0;34m=\u001b[0m \u001b[0mdominant_sets_label\u001b[0m\u001b[0;34m(\u001b[0m\u001b[0mtraining_set\u001b[0m\u001b[0;34m)\u001b[0m\u001b[0;34m\u001b[0m\u001b[0m\n",
      "\u001b[0;32m<ipython-input-153-7370b9edcb10>\u001b[0m in \u001b[0;36mdominant_sets_attribute\u001b[0;34m(a_j, labeled_set)\u001b[0m\n\u001b[1;32m     12\u001b[0m     \u001b[0;32mfor\u001b[0m \u001b[0mi\u001b[0m \u001b[0;32min\u001b[0m \u001b[0mrange\u001b[0m\u001b[0;34m(\u001b[0m\u001b[0;36m0\u001b[0m\u001b[0;34m,\u001b[0m \u001b[0mlabeled_set\u001b[0m\u001b[0;34m.\u001b[0m\u001b[0msize\u001b[0m\u001b[0;34m(\u001b[0m\u001b[0;34m)\u001b[0m\u001b[0;34m)\u001b[0m\u001b[0;34m:\u001b[0m\u001b[0;34m\u001b[0m\u001b[0m\n\u001b[1;32m     13\u001b[0m         \u001b[0mv\u001b[0m \u001b[0;34m=\u001b[0m \u001b[0mlabeled_set\u001b[0m\u001b[0;34m.\u001b[0m\u001b[0mgetX\u001b[0m\u001b[0;34m(\u001b[0m\u001b[0mi\u001b[0m\u001b[0;34m)\u001b[0m\u001b[0;34m[\u001b[0m\u001b[0ma_j\u001b[0m\u001b[0;34m]\u001b[0m\u001b[0;34m\u001b[0m\u001b[0m\n\u001b[0;32m---> 14\u001b[0;31m         \u001b[0mdominant_sets\u001b[0m\u001b[0;34m[\u001b[0m\u001b[0mi\u001b[0m\u001b[0;34m]\u001b[0m \u001b[0;34m=\u001b[0m \u001b[0mset\u001b[0m\u001b[0;34m(\u001b[0m\u001b[0mvalues\u001b[0m\u001b[0;34m[\u001b[0m\u001b[0mvalues\u001b[0m\u001b[0;34m[\u001b[0m\u001b[0;34m:\u001b[0m\u001b[0;34m,\u001b[0m\u001b[0ma_j\u001b[0m\u001b[0;34m]\u001b[0m \u001b[0;34m>=\u001b[0m \u001b[0mv\u001b[0m\u001b[0;34m]\u001b[0m\u001b[0;34m[\u001b[0m\u001b[0;34m:\u001b[0m\u001b[0;34m,\u001b[0m\u001b[0mlabeled_set\u001b[0m\u001b[0;34m.\u001b[0m\u001b[0mgetInputDimension\u001b[0m\u001b[0;34m(\u001b[0m\u001b[0;34m)\u001b[0m\u001b[0;34m]\u001b[0m\u001b[0;34m)\u001b[0m\u001b[0;34m\u001b[0m\u001b[0m\n\u001b[0m\u001b[1;32m     15\u001b[0m \u001b[0;34m\u001b[0m\u001b[0m\n\u001b[1;32m     16\u001b[0m     \u001b[0;32mreturn\u001b[0m \u001b[0mdominant_sets\u001b[0m\u001b[0;34m\u001b[0m\u001b[0m\n",
      "\u001b[0;31mTypeError\u001b[0m: 'LabeledSet' object is not callable"
     ]
    }
   ],
   "source": [
    "def dominant_sets_attribute(a_j, labeled_set):    \n",
    "    '''\n",
    "        a_j : index of attribute in labeled_set\n",
    "        labeled_set : labeled set\n",
    "        for each object w in labeled_set, return its dominant set generated by a_j  \n",
    "    '''\n",
    "    values = labeled_set.x.copy()\n",
    "    ind = np.transpose(np.array([[i for i in range(labeled_set.size())]]))\n",
    "    values = np.hstack((values, ind))\n",
    "    \n",
    "    dominant_sets = dict()\n",
    "    for i in range(0, labeled_set.size()):\n",
    "        v = labeled_set.getX(i)[a_j]\n",
    "        dominant_sets[i] = set(values[values[:,a_j] >= v][:,labeled_set.getInputDimension()])\n",
    "                \n",
    "    return dominant_sets\n",
    "\n",
    "def dominant_sets_label(labeled_set):\n",
    "    '''\n",
    "        labeled_set : labeled set\n",
    "        for each object w in labeled_set, return its dominant set generated by its label  \n",
    "    '''\n",
    "    values = labeled_set.y.copy()\n",
    "    ind = np.transpose(np.array([[i for i in range(labeled_set.size())]]))\n",
    "    values = np.hstack((values, ind))\n",
    "    \n",
    "    dominant_sets = dict()\n",
    "    \n",
    "    for i in range(0, labeled_set.size()):\n",
    "        v = labeled_set.getY(i)\n",
    "        dominant_sets[i] = set(values[values[:,0] >= v][:,1])\n",
    "                \n",
    "    return dominant_sets\n",
    "    \n",
    "dsa_1 = dominant_sets_attribute(0, training_set)\n",
    "dsa_2 = dominant_sets_attribute(1, training_set)\n",
    "dsl = dominant_sets_label(training_set)"
   ]
  },
  {
   "cell_type": "code",
   "execution_count": null,
   "metadata": {
    "collapsed": false
   },
   "outputs": [],
   "source": [
    "df_dsa1 = pd.DataFrame(list(dsa_1.items())).drop(0, axis=1)\n",
    "df_dsa1.columns = ['dominant set generated by first attribute']\n",
    "df_dsa1"
   ]
  },
  {
   "cell_type": "code",
   "execution_count": null,
   "metadata": {
    "collapsed": false
   },
   "outputs": [],
   "source": [
    "df_dsa2 = pd.DataFrame(list(dsa_2.items())).drop(0, axis=1)\n",
    "df_dsa2.columns = ['dominant set generated by second attribute']\n",
    "df_dsa2"
   ]
  },
  {
   "cell_type": "code",
   "execution_count": null,
   "metadata": {
    "collapsed": false
   },
   "outputs": [],
   "source": [
    "df_dsl = pd.DataFrame(list(dsl.items())).drop(0, axis=1)\n",
    "df_dsl.columns = ['dominant set generated by label']\n",
    "df_dsl"
   ]
  },
  {
   "cell_type": "markdown",
   "metadata": {},
   "source": [
    "### Construction hiérarchique de mesures de discrimination"
   ]
  },
  {
   "cell_type": "markdown",
   "metadata": {},
   "source": [
    "#### f-layer :"
   ]
  },
  {
   "cell_type": "code",
   "execution_count": null,
   "metadata": {
    "collapsed": true
   },
   "outputs": [],
   "source": [
    "class F_layer:\n",
    "    '''\n",
    "        object-wise local monotonicity measure \n",
    "    '''\n",
    "    def __init__(self, a_j):\n",
    "        '''\n",
    "            a_j : index of attribute in labeled_set\n",
    "        '''\n",
    "        self.a_j = a_j\n",
    "        \n",
    "    def value(self, w_i):\n",
    "        raise NotImplementedError\n",
    "        \n",
    "    def equal_sets_attribute(self, labeled_set):    \n",
    "        '''\n",
    "            a_j : index of attribute in labeled_set\n",
    "            labeled_set : labeled set\n",
    "            for each object w in labeled_set, return its equal set generated by a_j  \n",
    "        '''\n",
    "        values = labeled_set.x.copy()\n",
    "        ind = np.transpose(np.array([[i for i in range(labeled_set.size())]]))\n",
    "        values = np.hstack((values, ind))\n",
    "\n",
    "        dominant_sets = dict()\n",
    "        for i in range(0, labeled_set.size()):\n",
    "            v = labeled_set.getX(i)[self.a_j]\n",
    "            dominant_sets[i] = set(values[values[:,self.a_j] == v][:,labeled_set.getInputDimension()])\n",
    "\n",
    "        return dominant_sets\n",
    "    \n",
    "    def equal_sets_label(self, labeled_set):    \n",
    "        '''\n",
    "            labeled_set : labeled set\n",
    "            for each object w in labeled_set, return its dominant set generated by its label  \n",
    "        '''\n",
    "        values = labeled_set.y.copy()\n",
    "        ind = np.transpose(np.array([[i for i in range(labeled_set.size())]]))\n",
    "        values = np.hstack((values, ind))\n",
    "\n",
    "        dominant_sets = dict()\n",
    "\n",
    "        for i in range(0, labeled_set.size()):\n",
    "            v = labeled_set.getY(i)\n",
    "            dominant_sets[i] = set(values[values[:,0] == v][:,1])\n",
    "\n",
    "        return dominant_sets\n",
    "    \n",
    "    def dominant_sets_attribute(self, labeled_set):    \n",
    "        '''\n",
    "            a_j : index of attribute in labeled_set\n",
    "            labeled_set : labeled set\n",
    "            for each object w in labeled_set, return its dominant set generated by a_j  \n",
    "        '''\n",
    "        values = labeled_set.x.copy()\n",
    "        ind = np.transpose(np.array([[i for i in range(labeled_set.size())]]))\n",
    "        values = np.hstack((values, ind))\n",
    "\n",
    "        dominant_sets = dict()\n",
    "        for i in range(0, labeled_set.size()):\n",
    "            v = labeled_set.getX(i)[self.a_j]\n",
    "            dominant_sets[i] = set(values[values[:,self.a_j] >= v][:,labeled_set.getInputDimension()])\n",
    "\n",
    "        return dominant_sets\n",
    "\n",
    "    def dominant_sets_label(self, labeled_set):\n",
    "        '''\n",
    "            labeled_set : labeled set\n",
    "            for each object w in labeled_set, return its dominant set generated by its label  \n",
    "        '''\n",
    "        values = labeled_set.y.copy()\n",
    "        ind = np.transpose(np.array([[i for i in range(labeled_set.size())]]))\n",
    "        values = np.hstack((values, ind))\n",
    "\n",
    "        dominant_sets = dict()\n",
    "\n",
    "        for i in range(0, labeled_set.size()):\n",
    "            v = labeled_set.getY(i)\n",
    "            dominant_sets[i] = set(values[values[:,0] >= v][:,1])\n",
    "\n",
    "        return dominant_sets"
   ]
  },
  {
   "cell_type": "code",
   "execution_count": null,
   "metadata": {
    "collapsed": true
   },
   "outputs": [],
   "source": [
    "class Ds(F_layer):\n",
    "    def __init__(self, a_j):\n",
    "        super().__init__(a_j)\n",
    "    \n",
    "    def value(self, w_i, labeled_set, esa, esl):\n",
    "        '''\n",
    "            labeled_set : labeled set\n",
    "            w_i : index of object in labeled_set\n",
    "            return ds value of w_i, a_j\n",
    "        '''\n",
    "        esa_i = esa[w_i]\n",
    "        esl_i = esl[w_i]\n",
    "        intersection = esa_i.intersection(esl_i)\n",
    "        \n",
    "        return len(intersection) * 1.0 / len(esa_i)"
   ]
  },
  {
   "cell_type": "code",
   "execution_count": null,
   "metadata": {
    "collapsed": false
   },
   "outputs": [],
   "source": [
    "ds_2 = Ds(1)\n",
    "ds_2_values = []\n",
    "esa = ds_2.equal_sets_attribute(training_set)\n",
    "esl = ds_2.equal_sets_label(training_set)\n",
    "for i in range(0, 10):\n",
    "    ds_2_values.append(ds_2.value(i, training_set, esa, esl))\n",
    "pd.DataFrame(ds_2_values, columns=['ds generated by second attribute'])"
   ]
  },
  {
   "cell_type": "markdown",
   "metadata": {},
   "source": [
    "$dsr(\\omega_i)$ :"
   ]
  },
  {
   "cell_type": "code",
   "execution_count": null,
   "metadata": {
    "collapsed": false
   },
   "outputs": [],
   "source": [
    "class Dsr(F_layer):\n",
    "    def __init__(self, a_j):\n",
    "        super().__init__(a_j)\n",
    "    \n",
    "    def value(self, w_i, labeled_set, dsa, dsl):\n",
    "        '''\n",
    "            labeled_set : labeled set\n",
    "            w_i : index of object in labeled_set\n",
    "            return dsr value of w_i, a_j\n",
    "        '''\n",
    "        dsa_i = dsa[w_i]\n",
    "        dsl_i = dsl[w_i]\n",
    "        intersection = dsa_i.intersection(dsl_i)\n",
    "        \n",
    "        return len(intersection) * 1.0 / len(dsa_i)"
   ]
  },
  {
   "cell_type": "code",
   "execution_count": null,
   "metadata": {
    "collapsed": false
   },
   "outputs": [],
   "source": [
    "dsr_1 = Dsr(0)\n",
    "dsr_1_values = []\n",
    "dsa = dsr_1.dominant_sets_attribute(training_set)\n",
    "dsl = dsr_1.dominant_sets_label(training_set)\n",
    "\n",
    "for i in range(0, 10):\n",
    "    dsr_1_values.append(dsr_1.value(i, training_set, dsa, dsl))\n",
    "pd.DataFrame(dsr_1_values, columns=['dsr generated by first attribute'])"
   ]
  },
  {
   "cell_type": "code",
   "execution_count": null,
   "metadata": {
    "collapsed": false
   },
   "outputs": [],
   "source": [
    "dsr_2 = Dsr(1)\n",
    "dsr_2_values = []\n",
    "dsa = dsr_2.dominant_sets_attribute(training_set)\n",
    "dsl = dsr_2.dominant_sets_label(training_set)\n",
    "\n",
    "for i in range(0, 10):\n",
    "    dsr_2_values.append(dsr_2.value(i, training_set, dsa, dsl))\n",
    "pd.DataFrame(dsr_2_values, columns=['dsr generated by second attribute'])"
   ]
  },
  {
   "cell_type": "code",
   "execution_count": null,
   "metadata": {
    "collapsed": true
   },
   "outputs": [],
   "source": [
    "class Minds(F_layer):\n",
    "    def __init__(self, a_j):\n",
    "        super().__init__(a_j)\n",
    "    \n",
    "    def value(self, w_i, labeled_set, esa, esl):\n",
    "        '''\n",
    "            labeled_set : labeled set\n",
    "            w_i : index of object in labeled_set\n",
    "            return minds value of w_i, a_j\n",
    "        '''\n",
    "        n = labeled_set.size()\n",
    "        intersections_lengths = []\n",
    "        equal_set = esa[w_i]\n",
    "        \n",
    "        for w_h in equal_set:\n",
    "            intersections_lengths.append(len(esa[w_h].intersection(esl[w_h])))\n",
    "    \n",
    "        return min(intersections_lengths) * 1.0 / len(equal_set)    "
   ]
  },
  {
   "cell_type": "code",
   "execution_count": null,
   "metadata": {
    "collapsed": false
   },
   "outputs": [],
   "source": [
    "minds_2 = Minds(1)\n",
    "minds_2_values = []\n",
    "esa = minds_2.equal_sets_attribute(training_set)\n",
    "esl = minds_2.equal_sets_label(training_set)\n",
    "\n",
    "for i in range(0, 10):\n",
    "    minds_2_values.append(minds_2.value(i,training_set, esa, esl))\n",
    "pd.DataFrame(minds_2_values, columns=['minds generated by second attribute'])"
   ]
  },
  {
   "cell_type": "markdown",
   "metadata": {},
   "source": [
    "$mindsr(\\omega_i)$"
   ]
  },
  {
   "cell_type": "code",
   "execution_count": null,
   "metadata": {
    "collapsed": false
   },
   "outputs": [],
   "source": [
    "class Mindsr(F_layer):\n",
    "    def __init__(self, a_j):\n",
    "        super().__init__(a_j)\n",
    "    \n",
    "    def value(self, w_i, labeled_set, dsa, dsl):\n",
    "        '''\n",
    "            labeled_set : labeled set\n",
    "            w_i : index of object in labeled_set\n",
    "            return mindsr value of w_i, a_j\n",
    "        '''\n",
    "        n = labeled_set.size()\n",
    "        intersections_lengths = []\n",
    "        dominant_set = dsa[w_i]\n",
    "        \n",
    "        for w_h in dominant_set:\n",
    "            intersections_lengths.append(len(dsa[w_h].intersection(dsl[w_h])))\n",
    "    \n",
    "        return min(intersections_lengths) * 1.0 / len(dominant_set)    "
   ]
  },
  {
   "cell_type": "code",
   "execution_count": null,
   "metadata": {
    "collapsed": false
   },
   "outputs": [],
   "source": [
    "mindsr_1 = Mindsr(0)\n",
    "mindsr_1_values = []\n",
    "dsa = mindsr_1.dominant_sets_attribute(training_set)\n",
    "dsl = mindsr_1.dominant_sets_label(training_set)\n",
    "\n",
    "for i in range(0, 10):\n",
    "    mindsr_1_values.append(mindsr_1.value(i,training_set, dsa, dsl))\n",
    "pd.DataFrame(mindsr_1_values, columns=['mindsr generated by first attribute'])"
   ]
  },
  {
   "cell_type": "markdown",
   "metadata": {},
   "source": [
    "$maxdsr(\\omega_i)$"
   ]
  },
  {
   "cell_type": "code",
   "execution_count": null,
   "metadata": {
    "collapsed": true
   },
   "outputs": [],
   "source": [
    "class Maxdsr(F_layer):\n",
    "    def __init__(self, a_j):\n",
    "        super().__init__(a_j)\n",
    "    \n",
    "    def value(self, w_i, labeled_set, dsa, dsl):\n",
    "        '''\n",
    "            w_i : index of object in labeled_set\n",
    "            return maxdsr value of w_i, a_j\n",
    "        '''\n",
    "        n = labeled_set.size()\n",
    "        intersections_lengths = []\n",
    "\n",
    "        dominant_set = dsa[w_i]\n",
    "        \n",
    "        for w_h in dominant_set:\n",
    "            intersections_lengths.append(len(dsa[w_h].intersection(dsl[w_h])))\n",
    "    \n",
    "    \n",
    "        return max(intersections_lengths) * 1.0 / len(dominant_set)    "
   ]
  },
  {
   "cell_type": "code",
   "execution_count": null,
   "metadata": {
    "collapsed": true
   },
   "outputs": [],
   "source": [
    "class Maxds(F_layer):\n",
    "    def __init__(self, a_j):\n",
    "        super().__init__(a_j)\n",
    "    \n",
    "    def value(self, w_i, labeled_set, esa, esl):\n",
    "        '''\n",
    "            w_i : index of object in labeled_set\n",
    "            return maxds value of w_i, a_j\n",
    "        '''\n",
    "        n = labeled_set.size()\n",
    "        intersections_lengths = []\n",
    "\n",
    "        equal_set = esa[w_i]\n",
    "        \n",
    "        for w_h in equal_set:\n",
    "            intersections_lengths.append(len(esa[w_h].intersection(esl[w_h])))\n",
    "    \n",
    "    \n",
    "        return max(intersections_lengths) * 1.0 / len(equal_set)    "
   ]
  },
  {
   "cell_type": "markdown",
   "metadata": {},
   "source": [
    "$avgdsr(\\omega_i)$"
   ]
  },
  {
   "cell_type": "code",
   "execution_count": null,
   "metadata": {
    "collapsed": true
   },
   "outputs": [],
   "source": [
    "class Avgdsr(F_layer):\n",
    "    def __init__(self, a_j):\n",
    "        super().__init__(a_j)\n",
    "    \n",
    "    def value(self, w_i, labeled_set, dsa, dsl):\n",
    "        '''\n",
    "            labeled_set : labeled set\n",
    "            w_i : index of object in labeled_set\n",
    "            return avgdsr value of w_i, a_j\n",
    "        '''\n",
    "        n = labeled_set.size()\n",
    "        intersections_lengths = []\n",
    "\n",
    "        dominant_set = dsa[w_i]\n",
    "        \n",
    "        for w_h in dominant_set:\n",
    "            intersections_lengths.append(len(dsa[w_h].intersection(dsl[w_h])))\n",
    "            \n",
    "        return (1.0/len(dominant_set) * np.sum(intersections_lengths)) * 1.0 / len(dominant_set)    "
   ]
  },
  {
   "cell_type": "code",
   "execution_count": null,
   "metadata": {
    "collapsed": true
   },
   "outputs": [],
   "source": [
    "class Avgds(F_layer):\n",
    "    def __init__(self, a_j):\n",
    "        super().__init__(a_j)\n",
    "    \n",
    "    def value(self, w_i, labeled_set, esa, esl):\n",
    "        '''\n",
    "            labeled_set : labeled set\n",
    "            w_i : index of object in labeled_set\n",
    "            return avgds value of w_i, a_j\n",
    "        '''\n",
    "        n = labeled_set.size()\n",
    "        intersections_lengths = []\n",
    "\n",
    "        equal_set = esa[w_i]\n",
    "        \n",
    "        for w_h in equal_set:\n",
    "            intersections_lengths.append(len(esa[w_h].intersection(esl[w_h])))\n",
    "            \n",
    "        return (1.0/len(equal_set) * np.sum(intersections_lengths)) * 1.0 / len(equal_set)    "
   ]
  },
  {
   "cell_type": "code",
   "execution_count": null,
   "metadata": {
    "collapsed": false
   },
   "outputs": [],
   "source": [
    "avgdsr_2 = Avgdsr(1)\n",
    "avgdsr_2_values = []\n",
    "dsa = avgdsr_2.dominant_sets_attribute(training_set)\n",
    "dsl = avgdsr_2.dominant_sets_label(training_set)\n",
    "\n",
    "\n",
    "for i in range(0, 10):\n",
    "    avgdsr_2_values.append(avgdsr_2.value(i, training_set, dsa, dsl))\n",
    "pd.DataFrame(avgdsr_2_values, columns=['avgdsr generated by second attribute'])"
   ]
  },
  {
   "cell_type": "code",
   "execution_count": null,
   "metadata": {
    "collapsed": false
   },
   "outputs": [],
   "source": [
    "avgds_2 = Avgds(1)\n",
    "avgds_2_values = []\n",
    "\n",
    "esa = avgds_2.equal_sets_attribute(training_set)\n",
    "esl = avgds_2.equal_sets_label(training_set)\n",
    "\n",
    "for i in range(0, 10):\n",
    "    avgds_2_values.append(avgds_2.value(i, training_set, esa, esl))\n",
    "pd.DataFrame(avgds_2_values, columns=['avgds generated by second attribute'])"
   ]
  },
  {
   "cell_type": "markdown",
   "metadata": {},
   "source": [
    "#### g-layer :"
   ]
  },
  {
   "cell_type": "code",
   "execution_count": null,
   "metadata": {
    "collapsed": true
   },
   "outputs": [],
   "source": [
    "class G_layer:\n",
    "    '''\n",
    "        object-wise local non-monotonicity measure\n",
    "    '''\n",
    "        \n",
    "    def value(self, f_value):\n",
    "        raise NotImplementedError"
   ]
  },
  {
   "cell_type": "code",
   "execution_count": null,
   "metadata": {
    "collapsed": true
   },
   "outputs": [],
   "source": [
    "class Log(G_layer):    \n",
    "    def value(self, f_value):\n",
    "        '''\n",
    "            f_value : value computed by f_layer\n",
    "            return -log_2(f_value)\n",
    "        '''\n",
    "        return -log(f_value, 2) "
   ]
  },
  {
   "cell_type": "code",
   "execution_count": null,
   "metadata": {
    "collapsed": true
   },
   "outputs": [],
   "source": [
    "class One_minus(G_layer):    \n",
    "    def value(self, f_value):\n",
    "        '''\n",
    "            f_value : value computed by f_layer\n",
    "            return 1 - f_value\n",
    "        '''\n",
    "        return 1 - f_value"
   ]
  },
  {
   "cell_type": "markdown",
   "metadata": {},
   "source": [
    "#### h-layer :"
   ]
  },
  {
   "cell_type": "code",
   "execution_count": null,
   "metadata": {
    "collapsed": true
   },
   "outputs": [],
   "source": [
    "class H_layer:\n",
    "    '''\n",
    "        aggregated local non-monotonicity measure\n",
    "    '''\n",
    "        \n",
    "    def value(self, g_values, labeled_set):\n",
    "        raise NotImplementedError"
   ]
  },
  {
   "cell_type": "code",
   "execution_count": null,
   "metadata": {
    "collapsed": true
   },
   "outputs": [],
   "source": [
    "class Sum(H_layer):    \n",
    "    def value(self, g_values, labeled_set):\n",
    "        '''\n",
    "            return (1/labeled_set.size()) * sum(g_values)\n",
    "        '''\n",
    "        return (1.0/labeled_set.size()) * np.sum(g_values)"
   ]
  },
  {
   "cell_type": "markdown",
   "metadata": {},
   "source": [
    "#### Rank Shannon discrimination measure $H^*_s(\\lambda | a_j)$ :"
   ]
  },
  {
   "cell_type": "code",
   "execution_count": null,
   "metadata": {
    "collapsed": false
   },
   "outputs": [],
   "source": [
    "def rsdm(f_layer, labeled_set, dsa, dsl):\n",
    "    '''\n",
    "        f_layer : object-wise local monotonicity measure \n",
    "        labeled_set : labeled set\n",
    "        return the rank shannon discrimination measure generated by attribute a_j\n",
    "    '''\n",
    "    H = 0\n",
    "    n = labeled_set.size()\n",
    "    for i in range(0, n):\n",
    "        H += -log(f_layer.value(i, labeled_set, dsa, dsl), 2)\n",
    "    return (1.0/n)*H"
   ]
  },
  {
   "cell_type": "code",
   "execution_count": null,
   "metadata": {
    "collapsed": false
   },
   "outputs": [],
   "source": [
    "dsr_shannon_1 = Dsr(0)\n",
    "dsr_shannon_2 = Dsr(1)\n",
    "dsa_1 = dsr_shannon_1.dominant_sets_attribute(training_set)\n",
    "dsl_1 = dsr_shannon_1.dominant_sets_label(training_set)\n",
    "dsa_2 = dsr_shannon_2.dominant_sets_attribute(training_set)\n",
    "dsl_2 = dsr_shannon_2.dominant_sets_label(training_set)\n",
    "print(\"Rank Shannon discrimination measure generated by first attribute : \", rsdm(dsr_shannon_1, training_set, dsa_1, dsl_1))\n",
    "print(\"Rank shannon discrimination measure generated by second attribute : \", rsdm(dsr_shannon_2, training_set, dsa_2, dsl_2))"
   ]
  },
  {
   "cell_type": "markdown",
   "metadata": {},
   "source": [
    "#### Rank Gini discrimination measure $H^*_G(\\lambda | a_j)$"
   ]
  },
  {
   "cell_type": "code",
   "execution_count": null,
   "metadata": {
    "collapsed": true
   },
   "outputs": [],
   "source": [
    "def rgdm(f_layer, labeled_set, dsa, dsl):\n",
    "    '''\n",
    "        f_layer : object-wise local monotonicity measure \n",
    "        labeled_set : labeled set\n",
    "        return the rank gini discrimination measure generated by attribute a_j\n",
    "    '''\n",
    "    H = 0\n",
    "    n = labeled_set.size()\n",
    "    for i in range(0, n):\n",
    "        H += 1-(f_layer.value(i, labeled_set, dsa, dsl))\n",
    "    return (1.0/n)*H"
   ]
  },
  {
   "cell_type": "code",
   "execution_count": null,
   "metadata": {
    "collapsed": false
   },
   "outputs": [],
   "source": [
    "dsr_gini_1 = Dsr(0)\n",
    "dsr_gini_2 = Dsr(1)\n",
    "print(\"Rank Gini discrimination measure generated by first attribute : \", rgdm(dsr_gini_1, training_set, dsa_1, dsl_1))\n",
    "print(\"Rank Gini discrimination measure generated by second attribute : \", rgdm(dsr_gini_2, training_set, dsa_2, dsl_2))"
   ]
  },
  {
   "cell_type": "markdown",
   "metadata": {},
   "source": [
    "#### Generic discrimination measure :"
   ]
  },
  {
   "cell_type": "code",
   "execution_count": null,
   "metadata": {
    "collapsed": false
   },
   "outputs": [],
   "source": [
    "class Gdm:\n",
    "    '''\n",
    "        Generic rank discrimination measure\n",
    "    '''\n",
    "    def __init__(self, h, g, f):\n",
    "        '''\n",
    "            h : object-wise local monotonicity measure \n",
    "            g : object-wise local non-monotonicity measure \n",
    "            f : aggregated local non-monotonicity measure\n",
    "            labeled_set : labeled set\n",
    "        '''\n",
    "        self.h = h \n",
    "        self.g = g\n",
    "        self.f = f\n",
    "    \n",
    "    def value(self, labeled_set):\n",
    "        g_f = []\n",
    "\n",
    "        if (isinstance(self.f, Dsr)):\n",
    "            sa = self.f.dominant_sets_attribute(labeled_set)\n",
    "            sl = self.f.dominant_sets_label(labeled_set)\n",
    "        else:\n",
    "            sa = self.f.equal_sets_attribute(labeled_set)\n",
    "            sl = self.f.equal_sets_label(labeled_set)\n",
    "        \n",
    "        for i in range(0, labeled_set.size()):\n",
    "            g_f.append(self.g.value(self.f.value(i, labeled_set, sa, sl)))\n",
    "        \n",
    "        return self.h.value(g_f, labeled_set)"
   ]
  },
  {
   "cell_type": "code",
   "execution_count": null,
   "metadata": {
    "collapsed": false
   },
   "outputs": [],
   "source": [
    "f_layer = Dsr(1)\n",
    "g_layer_shannon = Log()\n",
    "g_layer_gini = One_minus() \n",
    "h_layer = Sum()\n",
    "\n",
    "rsdm = Gdm(h_layer, g_layer_shannon, f_layer)\n",
    "rgdm = Gdm(h_layer, g_layer_gini, f_layer)\n",
    "\n",
    "print(\"Rank Shannon discrimination measure generated by second attribute : \" , rsdm.value(training_set))\n",
    "print(\"Rank Gini discrimination measure generated by second attribute : \" , rgdm.value(training_set))"
   ]
  },
  {
   "cell_type": "code",
   "execution_count": null,
   "metadata": {
    "collapsed": false
   },
   "outputs": [],
   "source": [
    "f_layer = Ds(1)\n",
    "g_layer_shannon = Log()\n",
    "g_layer_gini = One_minus() \n",
    "h_layer = Sum()\n",
    "\n",
    "sdm = Gdm(h_layer, g_layer_shannon, f_layer)\n",
    "gdm = Gdm(h_layer, g_layer_gini, f_layer)\n",
    "\n",
    "print(\"Conditional Shannon entropy generated by second attribute : \" , sdm.value(training_set))\n",
    "print(\"Conditional Gini entropy generated by second attribute : \" , gdm.value(training_set))"
   ]
  },
  {
   "cell_type": "code",
   "execution_count": null,
   "metadata": {
    "collapsed": true
   },
   "outputs": [],
   "source": [
    "def plot2DSet(labeled_set):\n",
    "    labels = list(set([item for sublist in labeled_set.y.tolist() for item in sublist]))\n",
    "    mark_dict = {\n",
    "        \".\":\"point\",\n",
    "        \",\":\"pixel\",\n",
    "        \"o\":\"circle\",\n",
    "        \"v\":\"triangle_down\",\n",
    "        \"^\":\"triangle_up\",\n",
    "        \"<\":\"triangle_left\",\n",
    "        \">\":\"triangle_right\",\n",
    "        \"1\":\"tri_down\",\n",
    "        \"2\":\"tri_up\",\n",
    "        \"3\":\"tri_left\",\n",
    "        \"4\":\"tri_right\",\n",
    "        \"8\":\"octagon\",\n",
    "        \"s\":\"square\",\n",
    "        \"p\":\"pentagon\",\n",
    "        \"*\":\"star\",\n",
    "        \"h\":\"hexagon1\",\n",
    "        \"H\":\"hexagon2\",\n",
    "        \"+\":\"plus\",\n",
    "        \"D\":\"diamond\",\n",
    "        \"d\":\"thin_diamond\",\n",
    "        \"|\":\"vline\",\n",
    "        \"_\":\"hline\"\n",
    "    }    \n",
    "    S = []\n",
    "    for label in labels:\n",
    "        S.append(labeled_set.x[np.where(labeled_set.y == label),:][0])\n",
    "    for i in range(len(labels)):\n",
    "        plt.scatter(S[i][:,0],S[i][:,1],marker=list(mark_dict)[i])"
   ]
  },
  {
   "cell_type": "code",
   "execution_count": 149,
   "metadata": {
    "collapsed": false
   },
   "outputs": [
    {
     "ename": "TypeError",
     "evalue": "'LabeledSet' object is not callable",
     "output_type": "error",
     "traceback": [
      "\u001b[0;31m---------------------------------------------------------------------------\u001b[0m",
      "\u001b[0;31mTypeError\u001b[0m                                 Traceback (most recent call last)",
      "\u001b[0;32m<ipython-input-149-5f2bcd9dd802>\u001b[0m in \u001b[0;36m<module>\u001b[0;34m()\u001b[0m\n\u001b[1;32m      1\u001b[0m \u001b[0mlabels\u001b[0m \u001b[0;34m=\u001b[0m \u001b[0;34m[\u001b[0m\u001b[0mitem\u001b[0m \u001b[0;32mfor\u001b[0m \u001b[0msublist\u001b[0m \u001b[0;32min\u001b[0m \u001b[0mtraining_set\u001b[0m\u001b[0;34m.\u001b[0m\u001b[0my\u001b[0m\u001b[0;34m.\u001b[0m\u001b[0mtolist\u001b[0m\u001b[0;34m(\u001b[0m\u001b[0;34m)\u001b[0m \u001b[0;32mfor\u001b[0m \u001b[0mitem\u001b[0m \u001b[0;32min\u001b[0m \u001b[0msublist\u001b[0m\u001b[0;34m]\u001b[0m\u001b[0;34m\u001b[0m\u001b[0m\n\u001b[1;32m      2\u001b[0m \u001b[0mlabels\u001b[0m\u001b[0;34m\u001b[0m\u001b[0m\n\u001b[0;32m----> 3\u001b[0;31m \u001b[0mset\u001b[0m\u001b[0;34m(\u001b[0m\u001b[0mlabels\u001b[0m\u001b[0;34m)\u001b[0m\u001b[0;34m\u001b[0m\u001b[0m\n\u001b[0m",
      "\u001b[0;31mTypeError\u001b[0m: 'LabeledSet' object is not callable"
     ]
    }
   ],
   "source": [
    "labels = [item for sublist in training_set.y.tolist() for item in sublist]\n",
    "labels\n",
    "set(labels)"
   ]
  },
  {
   "cell_type": "code",
   "execution_count": 140,
   "metadata": {
    "collapsed": false
   },
   "outputs": [
    {
     "ename": "TypeError",
     "evalue": "'LabeledSet' object is not callable",
     "output_type": "error",
     "traceback": [
      "\u001b[0;31m---------------------------------------------------------------------------\u001b[0m",
      "\u001b[0;31mTypeError\u001b[0m                                 Traceback (most recent call last)",
      "\u001b[0;32m<ipython-input-140-da08fcfc24b1>\u001b[0m in \u001b[0;36m<module>\u001b[0;34m()\u001b[0m\n\u001b[0;32m----> 1\u001b[0;31m \u001b[0mlist\u001b[0m\u001b[0;34m(\u001b[0m\u001b[0mset\u001b[0m\u001b[0;34m(\u001b[0m\u001b[0;34m[\u001b[0m\u001b[0mitem\u001b[0m \u001b[0;32mfor\u001b[0m \u001b[0msublist\u001b[0m \u001b[0;32min\u001b[0m \u001b[0mtraining_set\u001b[0m\u001b[0;34m.\u001b[0m\u001b[0my\u001b[0m\u001b[0;34m.\u001b[0m\u001b[0mtolist\u001b[0m\u001b[0;34m(\u001b[0m\u001b[0;34m)\u001b[0m \u001b[0;32mfor\u001b[0m \u001b[0mitem\u001b[0m \u001b[0;32min\u001b[0m \u001b[0msublist\u001b[0m\u001b[0;34m]\u001b[0m\u001b[0;34m)\u001b[0m\u001b[0;34m)\u001b[0m\u001b[0;34m\u001b[0m\u001b[0m\n\u001b[0m",
      "\u001b[0;31mTypeError\u001b[0m: 'LabeledSet' object is not callable"
     ]
    }
   ],
   "source": [
    "list(set([item for sublist in training_set.y.tolist() for item in sublist]))"
   ]
  },
  {
   "cell_type": "code",
   "execution_count": 136,
   "metadata": {
    "collapsed": false
   },
   "outputs": [
    {
     "ename": "TypeError",
     "evalue": "'LabeledSet' object is not callable",
     "output_type": "error",
     "traceback": [
      "\u001b[0;31m---------------------------------------------------------------------------\u001b[0m",
      "\u001b[0;31mTypeError\u001b[0m                                 Traceback (most recent call last)",
      "\u001b[0;32m<ipython-input-136-3d59eb658d96>\u001b[0m in \u001b[0;36m<module>\u001b[0;34m()\u001b[0m\n\u001b[0;32m----> 1\u001b[0;31m \u001b[0mplot2DSet\u001b[0m\u001b[0;34m(\u001b[0m\u001b[0mtraining_set\u001b[0m\u001b[0;34m)\u001b[0m\u001b[0;34m\u001b[0m\u001b[0m\n\u001b[0m",
      "\u001b[0;32m<ipython-input-135-79f3787da84a>\u001b[0m in \u001b[0;36mplot2DSet\u001b[0;34m(labeled_set)\u001b[0m\n\u001b[1;32m      5\u001b[0m         \u001b[0mremarque\u001b[0m\u001b[0;34m:\u001b[0m \u001b[0ml\u001b[0m\u001b[0;31m'\u001b[0m\u001b[0mordre\u001b[0m \u001b[0mdes\u001b[0m \u001b[0mlabels\u001b[0m \u001b[0mdans\u001b[0m \u001b[0mset\u001b[0m \u001b[0mpeut\u001b[0m \u001b[0mêtre\u001b[0m \u001b[0mquelconque\u001b[0m\u001b[0;34m\u001b[0m\u001b[0m\n\u001b[1;32m      6\u001b[0m     \"\"\"\n\u001b[0;32m----> 7\u001b[0;31m     \u001b[0mlabels\u001b[0m \u001b[0;34m=\u001b[0m \u001b[0mlist\u001b[0m\u001b[0;34m(\u001b[0m\u001b[0mset\u001b[0m\u001b[0;34m(\u001b[0m\u001b[0;34m[\u001b[0m\u001b[0mitem\u001b[0m \u001b[0;32mfor\u001b[0m \u001b[0msublist\u001b[0m \u001b[0;32min\u001b[0m \u001b[0mlabeled_set\u001b[0m\u001b[0;34m.\u001b[0m\u001b[0my\u001b[0m\u001b[0;34m.\u001b[0m\u001b[0mtolist\u001b[0m\u001b[0;34m(\u001b[0m\u001b[0;34m)\u001b[0m \u001b[0;32mfor\u001b[0m \u001b[0mitem\u001b[0m \u001b[0;32min\u001b[0m \u001b[0msublist\u001b[0m\u001b[0;34m]\u001b[0m\u001b[0;34m)\u001b[0m\u001b[0;34m)\u001b[0m\u001b[0;34m\u001b[0m\u001b[0m\n\u001b[0m\u001b[1;32m      8\u001b[0m     mark_dict = {\n\u001b[1;32m      9\u001b[0m     \u001b[0;34m\".\"\u001b[0m\u001b[0;34m:\u001b[0m\u001b[0;34m\"point\"\u001b[0m\u001b[0;34m,\u001b[0m\u001b[0;34m\u001b[0m\u001b[0m\n",
      "\u001b[0;31mTypeError\u001b[0m: 'LabeledSet' object is not callable"
     ]
    }
   ],
   "source": [
    "plot2DSet(training_set)"
   ]
  },
  {
   "cell_type": "code",
   "execution_count": 104,
   "metadata": {
    "collapsed": true
   },
   "outputs": [],
   "source": [
    "def display_discretization(labeled_set, threshold, a_j, model):\n",
    "    plot2DSet(labeled_set)\n",
    "    \n",
    "    if (a_j == 0):\n",
    "        max_v = ceil(max(labeled_set.x[:,1]))\n",
    "        min_v = floor(min(labeled_set.x[:,1]))\n",
    "        plt.plot([threshold, threshold], [min_v, max_v])\n",
    "    else:\n",
    "        max_v = ceil(max(labeled_set.x[:,0]))\n",
    "        min_v = floor(min(labeled_set.x[:,0]))\n",
    "        plt.plot([min_v, max_v], [threshold, threshold])\n",
    "    \n",
    "    plt.xlabel(\"x\")\n",
    "    plt.ylabel(\"y\")\n",
    "    plt.title(\"splitting boundary generated by \" + model + \" with attribute \" + str(a_j))\n",
    "    plt.show() "
   ]
  },
  {
   "cell_type": "code",
   "execution_count": 105,
   "metadata": {
    "collapsed": true
   },
   "outputs": [],
   "source": [
    "def discretize(dm, labeled_set):\n",
    "    '''\n",
    "        dm : discrimation measure\n",
    "        labeled_set : labeled set\n",
    "        \n",
    "    '''\n",
    "    a_j = dm.f.a_j\n",
    "    \n",
    "    min_threshold = 0.0    \n",
    "    n = labeled_set.size()\n",
    "    ind = np.argsort(labeled_set.x,axis=0)[:,a_j] # sort values \n",
    "    \n",
    "    binary_set = LabeledSet(labeled_set.getInputDimension())\n",
    "    binary_set.nb_examples = labeled_set.size()\n",
    "    binary_set.x = labeled_set.x.copy()\n",
    "    binary_set.x[:,a_j] = np.ones(labeled_set.size())\n",
    "    binary_set.y = labeled_set.y\n",
    "    \n",
    "    thresholds = []\n",
    "    H_values = []\n",
    "    \n",
    "    for i in range(n-1):\n",
    "        current = labeled_set.getX(ind[i])[a_j]\n",
    "        lookahead = labeled_set.getX(ind[i+1])[a_j]\n",
    "        binary_set.x[ind[i]][a_j] = 0\n",
    "        \n",
    "        if current == lookahead:\n",
    "            continue\n",
    "\n",
    "        thresholds.append((current + lookahead) / 2.0)\n",
    "        H_values.append(dm.value(binary_set))\n",
    "        \n",
    "    min_entropy = min(H_values)\n",
    "    min_threshold = thresholds[np.argmin(H_values)]\n",
    "    \n",
    "    return (min_threshold, min_entropy)"
   ]
  },
  {
   "cell_type": "code",
   "execution_count": 106,
   "metadata": {
    "collapsed": false
   },
   "outputs": [
    {
     "name": "stdout",
     "output_type": "stream",
     "text": [
      "splitting value generated by rsdm on axis 0 :  5.5\n",
      "corresponding entropy :  0.1543719518489275\n",
      "splitting value generated by sdm on axis 0 :  5.5\n",
      "corresponding entropy :  0.6000000000000001\n"
     ]
    },
    {
     "data": {
      "image/png": "[encoded data removed]",
      "text/plain": [
       "<matplotlib.figure.Figure at 0x7f41d83d4828>"
      ]
     },
     "metadata": {},
     "output_type": "display_data"
    },
    {
     "data": {
      "image/png": "[encoded data removed]",
      "text/plain": [
       "<matplotlib.figure.Figure at 0x7f41d88ba668>"
      ]
     },
     "metadata": {},
     "output_type": "display_data"
    }
   ],
   "source": [
    "# rsdm \n",
    "f = Dsr(0)\n",
    "g = Log()\n",
    "h = Sum()\n",
    "\n",
    "rsdm = Gdm(h, g, f)\n",
    "\n",
    "# sdm\n",
    "f = Ds(0)\n",
    "g = Log()\n",
    "h = Sum()\n",
    "\n",
    "sdm = Gdm(h, g, f)\n",
    "\n",
    "threshold_r, entropy_r = discretize(rsdm, training_set)\n",
    "print(\"splitting value generated by rsdm on axis 0 : \", threshold_r)\n",
    "print(\"corresponding entropy : \", entropy_r)\n",
    "\n",
    "threshold_nr, entropy_nr = discretize(sdm, training_set)\n",
    "print(\"splitting value generated by sdm on axis 0 : \", threshold_nr)\n",
    "print(\"corresponding entropy : \", entropy_nr)\n",
    "\n",
    "display_discretization(training_set, threshold_r, 0, \"rsdm\")\n",
    "display_discretization(training_set, threshold_nr, 0, \"sdm\")"
   ]
  },
  {
   "cell_type": "code",
   "execution_count": 107,
   "metadata": {
    "collapsed": false
   },
   "outputs": [
    {
     "name": "stdout",
     "output_type": "stream",
     "text": [
      "splitting value generated by rsdm on axis 1 :  5.5\n",
      "corresponding entropy :  0.48838993179328605\n",
      "splitting value generated by sdm on axis 1 :  2.5\n",
      "corresponding entropy :  1.2896596952239763\n"
     ]
    },
    {
     "data": {
      "image/png": "[encoded data removed]",
      "text/plain": [
       "<matplotlib.figure.Figure at 0x7f41d88c93c8>"
      ]
     },
     "metadata": {},
     "output_type": "display_data"
    },
    {
     "data": {
      "image/png": "[encoded data removed]",
      "text/plain": [
       "<matplotlib.figure.Figure at 0x7f41d86f3630>"
      ]
     },
     "metadata": {},
     "output_type": "display_data"
    }
   ],
   "source": [
    "f = Dsr(1)\n",
    "rsdm = Gdm(h, g, f)\n",
    "\n",
    "f = Ds(1)\n",
    "sdm = Gdm(h, g, f)\n",
    "\n",
    "threshold_r, entropy_r = discretize(rsdm, training_set)\n",
    "print(\"splitting value generated by rsdm on axis 1 : \", threshold_r)\n",
    "print(\"corresponding entropy : \", entropy_r)\n",
    "\n",
    "threshold_nr, entropy_nr = discretize(sdm, training_set)\n",
    "print(\"splitting value generated by sdm on axis 1 : \", threshold_nr)\n",
    "print(\"corresponding entropy : \", entropy_nr)\n",
    "\n",
    "display_discretization(training_set, threshold_r, 1, \"rsdm\")\n",
    "display_discretization(training_set, threshold_nr, 1, \"sdm\")"
   ]
  },
  {
   "cell_type": "code",
   "execution_count": 131,
   "metadata": {
    "collapsed": false
   },
   "outputs": [],
   "source": [
    "import random \n",
    "def generate_2Ddataset(a_j, k, n, noise, amplitude, ranges):\n",
    "    '''\n",
    "        a_j : monotone attribute\n",
    "        k : number of labels\n",
    "        n : number of examples to create \n",
    "        noise :  % of non-monotone noise\n",
    "        amplitude : amplitude of noise\n",
    "        ranges : array of arrays indicating, for each attribute, its min and max values\n",
    "        generate a two-dimensional dataset with monotone attribute a_j\n",
    "    '''\n",
    "    labeled_set = LabeledSet(2)\n",
    "    p = round(n/k)\n",
    "    r = n # remaining examples to add \n",
    "    \n",
    "    current_min = ranges[a_j][0]\n",
    "    total_range = ranges[a_j][1] - ranges[a_j][0]\n",
    "    \n",
    "    for q in range(k):\n",
    "        current_max = current_min + (total_range / k) \n",
    "\n",
    "        if (current_max > ranges[a_j][1]):\n",
    "            current_max = ranges[a_j][1]\n",
    "        \n",
    "        if (current_max < ranges[a_j][1] and q == k-1):\n",
    "            current_max = ranges[a_j][1] \n",
    "            \n",
    "        print(\"class \" + str(q+1) + \" : [\" + str(current_min) + \" , \" + str(current_max) + \"]\")\n",
    "        \n",
    "        if (p < r) and (q==k-1):\n",
    "            p = r\n",
    "\n",
    "        monotone_values = np.random.uniform(current_min, current_max, size=(p,1))\n",
    "        \n",
    "        if noise > 0:\n",
    "            sample_size = np.random.binomial(len(monotone_values), noise)\n",
    "            sample = np.random.randint(0, len(monotone_values), size=sample_size)\n",
    "            \n",
    "            for e in sample:\n",
    "                if random.random() < 0.5:\n",
    "                    monotone_values[e] = current_min - random.uniform(0, total_range * amplitude)\n",
    "                else:\n",
    "                    monotone_values[e] = current_max + random.uniform(0, total_range * amplitude)\n",
    "            \n",
    "        if (a_j == 0):\n",
    "            random_values = np.random.uniform(ranges[1][0], ranges[1][1], size=(p, 1))\n",
    "            values = np.hstack((monotone_values, random_values))\n",
    "        else:\n",
    "            random_values = np.random.uniform(ranges[0][0], ranges[0][1], size=(p,1))\n",
    "            values = np.hstack((random_values, monotone_values))\n",
    "        \n",
    "        for i in range(p):\n",
    "            labeled_set.addExample(values[i], q+1)\n",
    "            \n",
    "        current_min = current_max\n",
    "        r -= p \n",
    "    return labeled_set"
   ]
  },
  {
   "cell_type": "markdown",
   "metadata": {},
   "source": [
    "## Expérimentation sur des bases de données à deux dimensions"
   ]
  },
  {
   "cell_type": "markdown",
   "metadata": {},
   "source": [
    "#### 2 classes : "
   ]
  },
  {
   "cell_type": "code",
   "execution_count": 119,
   "metadata": {
    "collapsed": false
   },
   "outputs": [
    {
     "name": "stdout",
     "output_type": "stream",
     "text": [
      "class 1 : [-10 , 0.0]\n",
      "class 2 : [0.0 , 10.0]\n",
      "class 1 : [-10 , 0.0]\n",
      "class 2 : [0.0 , 10.0]\n",
      "class 1 : [-10 , 0.0]\n",
      "class 2 : [0.0 , 10.0]\n",
      "class 1 : [-10 , 0.0]\n",
      "class 2 : [0.0 , 10.0]\n",
      "class 1 : [-10 , 0.0]\n",
      "class 2 : [0.0 , 10.0]\n",
      "class 1 : [-10 , 0.0]\n",
      "class 2 : [0.0 , 10.0]\n"
     ]
    }
   ],
   "source": [
    "data_sets = []\n",
    "\n",
    "data_sets.append(generate_2Ddataset(0, 2, 100, 0.0, 0.0, [[-10, 10], [-10, 10]])) # no noise\n",
    "data_sets.append(generate_2Ddataset(0, 2, 100, 0.1, 0.1, [[-10, 10], [-10, 10]])) # a bit of noise, small amplitude\n",
    "data_sets.append(generate_2Ddataset(0, 2, 100, 0.9, 0.1, [[-10, 10], [-10, 10]])) # lots of noise, small amplitude\n",
    "data_sets.append(generate_2Ddataset(0, 2, 100, 0.1, 0.9, [[-10, 10], [-10, 10]])) # a bit of noise, large amplitude\n",
    "data_sets.append(generate_2Ddataset(0, 2, 100, 0.9, 0.9, [[-10, 10], [-10, 10]])) # lots of noise, large amplitude\n",
    "data_sets.append(generate_2Ddataset(0, 2, 100, 0.3, 0.3, [[-10, 10], [-10, 10]])) # medium amount of noise and medium amplitude"
   ]
  },
  {
   "cell_type": "code",
   "execution_count": null,
   "metadata": {
    "collapsed": false
   },
   "outputs": [],
   "source": []
  },
  {
   "cell_type": "code",
   "execution_count": 125,
   "metadata": {
    "collapsed": false
   },
   "outputs": [
    {
     "ename": "TypeError",
     "evalue": "'LabeledSet' object is not callable",
     "output_type": "error",
     "traceback": [
      "\u001b[0;31m---------------------------------------------------------------------------\u001b[0m",
      "\u001b[0;31mTypeError\u001b[0m                                 Traceback (most recent call last)",
      "\u001b[0;32m<ipython-input-125-3391eed6db0a>\u001b[0m in \u001b[0;36m<module>\u001b[0;34m()\u001b[0m\n\u001b[1;32m      1\u001b[0m \u001b[0;32mfor\u001b[0m \u001b[0mdata_set\u001b[0m \u001b[0;32min\u001b[0m \u001b[0mdata_sets\u001b[0m\u001b[0;34m:\u001b[0m\u001b[0;34m\u001b[0m\u001b[0m\n\u001b[0;32m----> 2\u001b[0;31m     \u001b[0mplot2DSet\u001b[0m\u001b[0;34m(\u001b[0m\u001b[0mdata_set\u001b[0m\u001b[0;34m)\u001b[0m\u001b[0;34m\u001b[0m\u001b[0m\n\u001b[0m",
      "\u001b[0;32m<ipython-input-37-79f3787da84a>\u001b[0m in \u001b[0;36mplot2DSet\u001b[0;34m(labeled_set)\u001b[0m\n\u001b[1;32m      5\u001b[0m         \u001b[0mremarque\u001b[0m\u001b[0;34m:\u001b[0m \u001b[0ml\u001b[0m\u001b[0;31m'\u001b[0m\u001b[0mordre\u001b[0m \u001b[0mdes\u001b[0m \u001b[0mlabels\u001b[0m \u001b[0mdans\u001b[0m \u001b[0mset\u001b[0m \u001b[0mpeut\u001b[0m \u001b[0mêtre\u001b[0m \u001b[0mquelconque\u001b[0m\u001b[0;34m\u001b[0m\u001b[0m\n\u001b[1;32m      6\u001b[0m     \"\"\"\n\u001b[0;32m----> 7\u001b[0;31m     \u001b[0mlabels\u001b[0m \u001b[0;34m=\u001b[0m \u001b[0mlist\u001b[0m\u001b[0;34m(\u001b[0m\u001b[0mset\u001b[0m\u001b[0;34m(\u001b[0m\u001b[0;34m[\u001b[0m\u001b[0mitem\u001b[0m \u001b[0;32mfor\u001b[0m \u001b[0msublist\u001b[0m \u001b[0;32min\u001b[0m \u001b[0mlabeled_set\u001b[0m\u001b[0;34m.\u001b[0m\u001b[0my\u001b[0m\u001b[0;34m.\u001b[0m\u001b[0mtolist\u001b[0m\u001b[0;34m(\u001b[0m\u001b[0;34m)\u001b[0m \u001b[0;32mfor\u001b[0m \u001b[0mitem\u001b[0m \u001b[0;32min\u001b[0m \u001b[0msublist\u001b[0m\u001b[0;34m]\u001b[0m\u001b[0;34m)\u001b[0m\u001b[0;34m)\u001b[0m\u001b[0;34m\u001b[0m\u001b[0m\n\u001b[0m\u001b[1;32m      8\u001b[0m     mark_dict = {\n\u001b[1;32m      9\u001b[0m     \u001b[0;34m\".\"\u001b[0m\u001b[0;34m:\u001b[0m\u001b[0;34m\"point\"\u001b[0m\u001b[0;34m,\u001b[0m\u001b[0;34m\u001b[0m\u001b[0m\n",
      "\u001b[0;31mTypeError\u001b[0m: 'LabeledSet' object is not callable"
     ]
    }
   ],
   "source": [
    "for data_set in data_sets:\n",
    "    plot2DSet(data_set)"
   ]
  },
  {
   "cell_type": "code",
   "execution_count": 132,
   "metadata": {
    "collapsed": false
   },
   "outputs": [
    {
     "name": "stdout",
     "output_type": "stream",
     "text": [
      "class 1 : [-10 , 0.0]\n",
      "class 2 : [0.0 , 10.0]\n"
     ]
    },
    {
     "ename": "TypeError",
     "evalue": "'LabeledSet' object is not callable",
     "output_type": "error",
     "traceback": [
      "\u001b[0;31m---------------------------------------------------------------------------\u001b[0m",
      "\u001b[0;31mTypeError\u001b[0m                                 Traceback (most recent call last)",
      "\u001b[0;32m<ipython-input-132-db3cd186edc7>\u001b[0m in \u001b[0;36m<module>\u001b[0;34m()\u001b[0m\n\u001b[1;32m      1\u001b[0m \u001b[0mdata_set\u001b[0m \u001b[0;34m=\u001b[0m \u001b[0mgenerate_2Ddataset\u001b[0m\u001b[0;34m(\u001b[0m\u001b[0;36m0\u001b[0m\u001b[0;34m,\u001b[0m \u001b[0;36m2\u001b[0m\u001b[0;34m,\u001b[0m \u001b[0;36m100\u001b[0m\u001b[0;34m,\u001b[0m \u001b[0;36m0.0\u001b[0m\u001b[0;34m,\u001b[0m \u001b[0;36m0.1\u001b[0m\u001b[0;34m,\u001b[0m \u001b[0;34m[\u001b[0m\u001b[0;34m[\u001b[0m\u001b[0;34m-\u001b[0m\u001b[0;36m10\u001b[0m\u001b[0;34m,\u001b[0m \u001b[0;36m10\u001b[0m\u001b[0;34m]\u001b[0m\u001b[0;34m,\u001b[0m \u001b[0;34m[\u001b[0m\u001b[0;34m-\u001b[0m\u001b[0;36m10\u001b[0m\u001b[0;34m,\u001b[0m \u001b[0;36m10\u001b[0m\u001b[0;34m]\u001b[0m\u001b[0;34m]\u001b[0m\u001b[0;34m)\u001b[0m\u001b[0;34m\u001b[0m\u001b[0m\n\u001b[1;32m      2\u001b[0m \u001b[0;34m\u001b[0m\u001b[0m\n\u001b[0;32m----> 3\u001b[0;31m \u001b[0mplot2DSet\u001b[0m\u001b[0;34m(\u001b[0m\u001b[0mdata_set\u001b[0m\u001b[0;34m)\u001b[0m\u001b[0;34m\u001b[0m\u001b[0m\n\u001b[0m",
      "\u001b[0;32m<ipython-input-37-79f3787da84a>\u001b[0m in \u001b[0;36mplot2DSet\u001b[0;34m(labeled_set)\u001b[0m\n\u001b[1;32m      5\u001b[0m         \u001b[0mremarque\u001b[0m\u001b[0;34m:\u001b[0m \u001b[0ml\u001b[0m\u001b[0;31m'\u001b[0m\u001b[0mordre\u001b[0m \u001b[0mdes\u001b[0m \u001b[0mlabels\u001b[0m \u001b[0mdans\u001b[0m \u001b[0mset\u001b[0m \u001b[0mpeut\u001b[0m \u001b[0mêtre\u001b[0m \u001b[0mquelconque\u001b[0m\u001b[0;34m\u001b[0m\u001b[0m\n\u001b[1;32m      6\u001b[0m     \"\"\"\n\u001b[0;32m----> 7\u001b[0;31m     \u001b[0mlabels\u001b[0m \u001b[0;34m=\u001b[0m \u001b[0mlist\u001b[0m\u001b[0;34m(\u001b[0m\u001b[0mset\u001b[0m\u001b[0;34m(\u001b[0m\u001b[0;34m[\u001b[0m\u001b[0mitem\u001b[0m \u001b[0;32mfor\u001b[0m \u001b[0msublist\u001b[0m \u001b[0;32min\u001b[0m \u001b[0mlabeled_set\u001b[0m\u001b[0;34m.\u001b[0m\u001b[0my\u001b[0m\u001b[0;34m.\u001b[0m\u001b[0mtolist\u001b[0m\u001b[0;34m(\u001b[0m\u001b[0;34m)\u001b[0m \u001b[0;32mfor\u001b[0m \u001b[0mitem\u001b[0m \u001b[0;32min\u001b[0m \u001b[0msublist\u001b[0m\u001b[0;34m]\u001b[0m\u001b[0;34m)\u001b[0m\u001b[0;34m)\u001b[0m\u001b[0;34m\u001b[0m\u001b[0m\n\u001b[0m\u001b[1;32m      8\u001b[0m     mark_dict = {\n\u001b[1;32m      9\u001b[0m     \u001b[0;34m\".\"\u001b[0m\u001b[0;34m:\u001b[0m\u001b[0;34m\"point\"\u001b[0m\u001b[0;34m,\u001b[0m\u001b[0;34m\u001b[0m\u001b[0m\n",
      "\u001b[0;31mTypeError\u001b[0m: 'LabeledSet' object is not callable"
     ]
    }
   ],
   "source": [
    "data_set = generate_2Ddataset(0, 2, 100, 0.0, 0.1, [[-10, 10], [-10, 10]])\n",
    "\n",
    "plot2DSet(data_set)"
   ]
  },
  {
   "cell_type": "code",
   "execution_count": null,
   "metadata": {
    "collapsed": true
   },
   "outputs": [],
   "source": [
    "f = Dsr(0)\n",
    "rsdm = Gdm(h, g, f)\n",
    "\n",
    "f = Ds(0)\n",
    "sdm = Gdm(h, g, f)\n"
   ]
  },
  {
   "cell_type": "code",
   "execution_count": null,
   "metadata": {
    "collapsed": true
   },
   "outputs": [],
   "source": [
    "f = Dsr(0)\n",
    "rsdm = Gdm(h, g, f)\n",
    "\n",
    "f = Ds(0)\n",
    "sdm = Gdm(h, g, f)\n",
    "\n",
    "threshold_r, entropy_r = discretize(rsdm, data_set)\n",
    "print(\"splitting value generated by rsdm on axis 0 : \", threshold_r)\n",
    "print(\"corresponding entropy : \", entropy_r)\n",
    "\n",
    "threshold_nr, entropy_nr = discretize(sdm, data_set)\n",
    "print(\"splitting value generated by sdm on axis 0 : \", threshold_nr)\n",
    "print(\"corresponding entropy : \", entropy_nr)\n",
    "\n",
    "display_discretization(data_set, threshold_r, 0, \"rsdm\")\n",
    "display_discretization(data_set, threshold_nr, 0, \"sdm\")"
   ]
  },
  {
   "cell_type": "code",
   "execution_count": 115,
   "metadata": {
    "collapsed": false
   },
   "outputs": [
    {
     "name": "stdout",
     "output_type": "stream",
     "text": [
      "class 1 : [-10 , 0.0]\n",
      "class 2 : [0.0 , 10.0]\n"
     ]
    },
    {
     "data": {
      "image/png": "[encoded data removed]",
      "text/plain": [
       "<matplotlib.figure.Figure at 0x7f41d87c1da0>"
      ]
     },
     "metadata": {},
     "output_type": "display_data"
    }
   ],
   "source": [
    "data_set = generate_2Ddataset(0, 2, 100, 0.3, 0.1, [[-10, 10], [-10, 10]])\n",
    "\n",
    "plot2DSet(data_set)"
   ]
  },
  {
   "cell_type": "code",
   "execution_count": 116,
   "metadata": {
    "collapsed": false
   },
   "outputs": [
    {
     "name": "stdout",
     "output_type": "stream",
     "text": [
      "splitting value generated by rsdm on axis 0 :  0.5780384101584914\n",
      "corresponding entropy :  0.11523358811689799\n",
      "splitting value generated by sdm on axis 0 :  -0.061075951176867704\n",
      "corresponding entropy :  0.4604634265784404\n"
     ]
    },
    {
     "data": {
      "image/png": "[encoded data removed]",
      "text/plain": [
       "<matplotlib.figure.Figure at 0x7f41d869b2e8>"
      ]
     },
     "metadata": {},
     "output_type": "display_data"
    },
    {
     "data": {
      "image/png": "[encoded data removed]",
      "text/plain": [
       "<matplotlib.figure.Figure at 0x7f41d87115c0>"
      ]
     },
     "metadata": {},
     "output_type": "display_data"
    }
   ],
   "source": [
    "f = Dsr(0)\n",
    "rsdm = Gdm(h, g, f)\n",
    "\n",
    "f = Ds(0)\n",
    "sdm = Gdm(h, g, f)\n",
    "\n",
    "threshold_r, entropy_r = discretize(rsdm, data_set)\n",
    "print(\"splitting value generated by rsdm on axis 0 : \", threshold_r)\n",
    "print(\"corresponding entropy : \", entropy_r)\n",
    "\n",
    "threshold_nr, entropy_nr = discretize(sdm, data_set)\n",
    "print(\"splitting value generated by sdm on axis 0 : \", threshold_nr)\n",
    "print(\"corresponding entropy : \", entropy_nr)\n",
    "\n",
    "display_discretization(data_set, threshold_r, 0, \"rsdm\")\n",
    "display_discretization(data_set, threshold_nr, 0, \"sdm\")"
   ]
  }
 ],
 "metadata": {
  "kernelspec": {
   "display_name": "Python 3",
   "language": "python",
   "name": "python3"
  },
  "language_info": {
   "codemirror_mode": {
    "name": "ipython",
    "version": 3
   },
   "file_extension": ".py",
   "mimetype": "text/x-python",
   "name": "python",
   "nbconvert_exporter": "python",
   "pygments_lexer": "ipython3",
   "version": "3.6.3"
  }
 },
 "nbformat": 4,
 "nbformat_minor": 2
}
