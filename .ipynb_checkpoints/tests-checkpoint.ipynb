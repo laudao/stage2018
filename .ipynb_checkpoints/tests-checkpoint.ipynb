{
 "cells": [
  {
   "cell_type": "code",
   "execution_count": 6,
   "metadata": {
    "collapsed": false
   },
   "outputs": [],
   "source": [
    "import numpy as np \n",
    "import random"
   ]
  },
  {
   "cell_type": "code",
   "execution_count": 5,
   "metadata": {
    "collapsed": false
   },
   "outputs": [
    {
     "data": {
      "text/plain": [
       "array([0, 1])"
      ]
     },
     "execution_count": 5,
     "metadata": {},
     "output_type": "execute_result"
    }
   ],
   "source": [
    "t = np.array([4, 4, 1])\n",
    "np.argwhere(t == np.amax(t)).flatten()"
   ]
  },
  {
   "cell_type": "code",
   "execution_count": 4,
   "metadata": {
    "collapsed": false
   },
   "outputs": [
    {
     "data": {
      "text/plain": [
       "array([-0.49541498, -0.10049821, -0.01345478, -0.16649135, -0.14207335,\n",
       "       -0.93681546, -0.8667862 , -0.75769653, -0.07025795, -0.10681655])"
      ]
     },
     "execution_count": 4,
     "metadata": {},
     "output_type": "execute_result"
    }
   ],
   "source": [
    "np.random.uniform(-1,0,10)"
   ]
  },
  {
   "cell_type": "code",
   "execution_count": 11,
   "metadata": {
    "collapsed": false
   },
   "outputs": [],
   "source": [
    "def normalize(x, min_v, max_v):\n",
    "    return ((x - min_v)*1.0) / (max_v - min_v) \n",
    "\n",
    "values = []\n",
    "x = []\n",
    "\n",
    "for i in range(10):\n",
    "    x1 = random.uniform(0, 1)\n",
    "    x2 = random.uniform(0, 1)\n",
    "    x.append((x1, x2))\n",
    "    v = 1 + x1 + (1/2) * (x2 * x2 - x1 * x1)\n",
    "    values.append(v)\n",
    "        \n",
    "max_v = max(values)\n",
    "min_v = min(values)\n",
    "results = []\n",
    "    \n",
    "for i in range(10):\n",
    "    results.append(normalize(values[i], min_v, max_v))\n",
    "    \n",
    "x = [x for _, x in sorted(zip(results, x))]\n",
    "results = np.reshape(np.array([sorted(results)]), (-1, 1))\n",
    "    \n",
    "data = np.hstack((np.array(x), results))"
   ]
  },
  {
   "cell_type": "code",
   "execution_count": 12,
   "metadata": {
    "collapsed": false
   },
   "outputs": [
    {
     "data": {
      "text/plain": [
       "array([[0.        ],\n",
       "       [0.25779614],\n",
       "       [0.53105131],\n",
       "       [0.55126411],\n",
       "       [0.68363613],\n",
       "       [0.78397458],\n",
       "       [0.80792435],\n",
       "       [0.82298545],\n",
       "       [0.92244498],\n",
       "       [1.        ]])"
      ]
     },
     "execution_count": 12,
     "metadata": {},
     "output_type": "execute_result"
    }
   ],
   "source": [
    "results"
   ]
  },
  {
   "cell_type": "code",
   "execution_count": 13,
   "metadata": {
    "collapsed": false
   },
   "outputs": [
    {
     "data": {
      "text/plain": [
       "array([[0.24560044, 0.34929416, 0.        ],\n",
       "       [0.43130473, 0.42318911, 0.25779614],\n",
       "       [0.37174707, 0.7558574 , 0.53105131],\n",
       "       [0.87599291, 0.46447474, 0.55126411],\n",
       "       [0.89817415, 0.60514565, 0.68363613],\n",
       "       [0.71598207, 0.74454588, 0.78397458],\n",
       "       [0.72802047, 0.75880482, 0.80792435],\n",
       "       [0.86621561, 0.73307553, 0.82298545],\n",
       "       [0.98978268, 0.79776135, 0.92244498],\n",
       "       [0.5976494 , 0.94302428, 1.        ]])"
      ]
     },
     "execution_count": 13,
     "metadata": {},
     "output_type": "execute_result"
    }
   ],
   "source": [
    "data"
   ]
  },
  {
   "cell_type": "code",
   "execution_count": 15,
   "metadata": {
    "collapsed": false
   },
   "outputs": [
    {
     "name": "stdout",
     "output_type": "stream",
     "text": [
      "[0.24560044 0.34929416] [0.89817415 0.60514565]\n"
     ]
    }
   ],
   "source": [
    "x1 = data[0,:2]\n",
    "x2 = data[4,:2]\n",
    "print(x1, x2)"
   ]
  },
  {
   "cell_type": "code",
   "execution_count": 26,
   "metadata": {
    "collapsed": false
   },
   "outputs": [
    {
     "data": {
      "text/plain": [
       "True"
      ]
     },
     "execution_count": 26,
     "metadata": {},
     "output_type": "execute_result"
    }
   ],
   "source": [
    "np.less_equal(x1, x2).all()"
   ]
  },
  {
   "cell_type": "code",
   "execution_count": 17,
   "metadata": {
    "collapsed": false
   },
   "outputs": [
    {
     "data": {
      "text/plain": [
       "-0.9084251985629941"
      ]
     },
     "execution_count": 17,
     "metadata": {},
     "output_type": "execute_result"
    }
   ],
   "source": [
    "np.sum(x1 - x2)"
   ]
  },
  {
   "cell_type": "code",
   "execution_count": 20,
   "metadata": {
    "collapsed": false
   },
   "outputs": [
    {
     "name": "stdout",
     "output_type": "stream",
     "text": [
      "[  0.73413999 676.09648896]\n"
     ]
    }
   ],
   "source": [
    "x0 = np.array([1, 1000])\n",
    "x3 = np.random.uniform(0,x0,2)\n",
    "print(x3)"
   ]
  },
  {
   "cell_type": "code",
   "execution_count": null,
   "metadata": {
    "collapsed": true
   },
   "outputs": [],
   "source": [
    "np.array([random.uniform)"
   ]
  }
 ],
 "metadata": {
  "kernelspec": {
   "display_name": "Python 3",
   "language": "python",
   "name": "python3"
  },
  "language_info": {
   "codemirror_mode": {
    "name": "ipython",
    "version": 3
   },
   "file_extension": ".py",
   "mimetype": "text/x-python",
   "name": "python",
   "nbconvert_exporter": "python",
   "pygments_lexer": "ipython3",
   "version": "3.6.3"
  }
 },
 "nbformat": 4,
 "nbformat_minor": 2
}
