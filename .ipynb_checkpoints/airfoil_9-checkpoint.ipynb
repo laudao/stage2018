{
 "cells": [
  {
   "cell_type": "code",
   "execution_count": 1,
   "metadata": {
    "collapsed": false
   },
   "outputs": [],
   "source": [
    "%load_ext autoreload\n",
    "%autoreload 2\n",
    "from utils import *"
   ]
  },
  {
   "cell_type": "code",
   "execution_count": 2,
   "metadata": {
    "collapsed": true
   },
   "outputs": [],
   "source": [
    "df = pd.read_csv(\"csv/airfoil.csv\")"
   ]
  },
  {
   "cell_type": "code",
   "execution_count": 3,
   "metadata": {
    "collapsed": false
   },
   "outputs": [
    {
     "data": {
      "text/html": [
       "<div>\n",
       "<style scoped>\n",
       "    .dataframe tbody tr th:only-of-type {\n",
       "        vertical-align: middle;\n",
       "    }\n",
       "\n",
       "    .dataframe tbody tr th {\n",
       "        vertical-align: top;\n",
       "    }\n",
       "\n",
       "    .dataframe thead th {\n",
       "        text-align: right;\n",
       "    }\n",
       "</style>\n",
       "<table border=\"1\" class=\"dataframe\">\n",
       "  <thead>\n",
       "    <tr style=\"text-align: right;\">\n",
       "      <th></th>\n",
       "      <th>frequency</th>\n",
       "      <th>angle of attack</th>\n",
       "      <th>chord length</th>\n",
       "      <th>velocity</th>\n",
       "      <th>thickness</th>\n",
       "      <th>scaled sound pressure level</th>\n",
       "    </tr>\n",
       "  </thead>\n",
       "  <tbody>\n",
       "    <tr>\n",
       "      <th>885</th>\n",
       "      <td>8000</td>\n",
       "      <td>15.4</td>\n",
       "      <td>0.0508</td>\n",
       "      <td>71.3</td>\n",
       "      <td>0.026427</td>\n",
       "      <td>112.675</td>\n",
       "    </tr>\n",
       "    <tr>\n",
       "      <th>656</th>\n",
       "      <td>2500</td>\n",
       "      <td>9.9</td>\n",
       "      <td>0.1524</td>\n",
       "      <td>55.5</td>\n",
       "      <td>0.020844</td>\n",
       "      <td>118.365</td>\n",
       "    </tr>\n",
       "    <tr>\n",
       "      <th>1237</th>\n",
       "      <td>3150</td>\n",
       "      <td>22.2</td>\n",
       "      <td>0.0254</td>\n",
       "      <td>39.6</td>\n",
       "      <td>0.022903</td>\n",
       "      <td>120.856</td>\n",
       "    </tr>\n",
       "    <tr>\n",
       "      <th>1009</th>\n",
       "      <td>3150</td>\n",
       "      <td>4.8</td>\n",
       "      <td>0.0254</td>\n",
       "      <td>71.3</td>\n",
       "      <td>0.000849</td>\n",
       "      <td>133.378</td>\n",
       "    </tr>\n",
       "    <tr>\n",
       "      <th>88</th>\n",
       "      <td>2000</td>\n",
       "      <td>1.5</td>\n",
       "      <td>0.3048</td>\n",
       "      <td>39.6</td>\n",
       "      <td>0.003921</td>\n",
       "      <td>122.101</td>\n",
       "    </tr>\n",
       "  </tbody>\n",
       "</table>\n",
       "</div>"
      ],
      "text/plain": [
       "      frequency  angle of attack  chord length  velocity  thickness  \\\n",
       "885        8000             15.4        0.0508      71.3   0.026427   \n",
       "656        2500              9.9        0.1524      55.5   0.020844   \n",
       "1237       3150             22.2        0.0254      39.6   0.022903   \n",
       "1009       3150              4.8        0.0254      71.3   0.000849   \n",
       "88         2000              1.5        0.3048      39.6   0.003921   \n",
       "\n",
       "      scaled sound pressure level  \n",
       "885                       112.675  \n",
       "656                       118.365  \n",
       "1237                      120.856  \n",
       "1009                      133.378  \n",
       "88                        122.101  "
      ]
     },
     "execution_count": 3,
     "metadata": {},
     "output_type": "execute_result"
    }
   ],
   "source": [
    "df.sample(5)"
   ]
  },
  {
   "cell_type": "code",
   "execution_count": 4,
   "metadata": {
    "collapsed": false
   },
   "outputs": [
    {
     "name": "stdout",
     "output_type": "stream",
     "text": [
      "frequency :  [  200   250   315   400   500   630   800  1000  1250  1600  2000  2500\n",
      "  3150  4000  5000  6300  8000 10000 12500 16000 20000]\n",
      "angle of attack :  [ 0.   1.5  2.   2.7  3.   3.3  4.   4.2  4.8  5.3  5.4  6.7  7.2  7.3\n",
      "  8.4  8.9  9.5  9.9 11.2 12.3 12.6 12.7 15.4 15.6 17.4 19.7 22.2]\n",
      "chord length :  [0.0254 0.0508 0.1016 0.1524 0.2286 0.3048]\n",
      "velocity :  [31.7 39.6 55.5 71.3]\n",
      "thickness :  [0.00040068 0.00041229 0.00042846 0.00043947 0.00074048 0.00076193\n",
      " 0.00079182 0.00081216 0.00084863 0.00087322 0.00090748 0.00093079\n",
      " 0.00121072 0.00131983 0.00142788 0.00146332 0.00150092 0.00152689\n",
      " 0.0015988  0.00172668 0.00193287 0.00202822 0.00209405 0.00214345\n",
      " 0.002211   0.00229336 0.00243851 0.00245138 0.00251435 0.00253511\n",
      " 0.00266337 0.0027238  0.00283081 0.00293031 0.00294804 0.00310138\n",
      " 0.00313525 0.00331266 0.00336729 0.00346574 0.00372371 0.00392107\n",
      " 0.00400603 0.00401199 0.00420654 0.00425727 0.0042862  0.0043284\n",
      " 0.00433288 0.00449821 0.00452492 0.00461377 0.00473801 0.00478288\n",
      " 0.00485029 0.00495741 0.00497773 0.00509068 0.0051942  0.0052139\n",
      " 0.00525474 0.00529514 0.00544854 0.00566229 0.00578076 0.00579636\n",
      " 0.00580776 0.00592927 0.00614329 0.00752039 0.00909175 0.0103088\n",
      " 0.0104404  0.0111706  0.0121808  0.0123481  0.0124596  0.0130253\n",
      " 0.0132672  0.014072   0.0150478  0.016104   0.0165706  0.0172206\n",
      " 0.0176631  0.0193001  0.0208438  0.0214178  0.0229028  0.0233328\n",
      " 0.0252785  0.0264269  0.0271925  0.0282593  0.0289853  0.0337792\n",
      " 0.0341183  0.036484   0.0368233  0.0408268  0.0418756  0.0437259\n",
      " 0.0483159  0.0528487  0.0584113 ]\n",
      "scaled sound pressure level :  [103.38  104.13  104.204 ... 139.918 140.158 140.987]\n"
     ]
    }
   ],
   "source": [
    "print(\"frequency : \", np.unique(df[\"frequency\"].values))\n",
    "print(\"angle of attack : \", np.unique(df[\"angle of attack\"].values))\n",
    "print(\"chord length : \", np.unique(df[\"chord length\"].values))\n",
    "print(\"velocity : \", np.unique(df[\"velocity\"].values))\n",
    "print(\"thickness : \", np.unique(df[\"thickness\"].values))\n",
    "print(\"scaled sound pressure level : \", np.unique(df['scaled sound pressure level'].values))"
   ]
  },
  {
   "cell_type": "code",
   "execution_count": 5,
   "metadata": {
    "collapsed": false
   },
   "outputs": [
    {
     "data": {
      "text/plain": [
       "count    1503.000000\n",
       "mean      124.835943\n",
       "std         6.898657\n",
       "min       103.380000\n",
       "25%       120.191000\n",
       "50%       125.721000\n",
       "75%       129.995500\n",
       "max       140.987000\n",
       "Name: scaled sound pressure level, dtype: float64"
      ]
     },
     "execution_count": 5,
     "metadata": {},
     "output_type": "execute_result"
    }
   ],
   "source": [
    "df['scaled sound pressure level'].describe()"
   ]
  },
  {
   "cell_type": "code",
   "execution_count": 7,
   "metadata": {
    "collapsed": true
   },
   "outputs": [],
   "source": [
    "v_min = df['scaled sound pressure level'].min()"
   ]
  },
  {
   "cell_type": "code",
   "execution_count": 8,
   "metadata": {
    "collapsed": true
   },
   "outputs": [],
   "source": [
    "g = Log()\n",
    "h = Sum()\n",
    "\n",
    "# rank Shannon discrimination measure\n",
    "f_r = Dsr()\n",
    "rsdm = Gdm(h, g, f_r)\n",
    "\n",
    "# conditional Shannon entropy\n",
    "f = Ds()\n",
    "sdm = Gdm(h, g, f)\n",
    "\n",
    "# pessimistic rank discrimination measure\n",
    "f_p = Mindsr()\n",
    "g_p = Frac() \n",
    "prdm = Gdm(h, g_p, f_p)\n",
    "\n",
    "# rank Gini discrimination measure \n",
    "g_g = One_minus()\n",
    "rgdm = Gdm(h, g_g, f_r)\n",
    "\n",
    "# Gini discrimination measure\n",
    "gdm = Gdm(h, g_g, f)\n",
    "\n",
    "# H_M\n",
    "h_m = Max()\n",
    "g_m = One_minus_square()\n",
    "H_m = Gdm(h_m, g_m, f_r)\n",
    "\n",
    "# H_Q\n",
    "f_q = Avgdsr()\n",
    "h_q = Square_root()\n",
    "H_q = Gdm(h_q, g_g, f_q)"
   ]
  },
  {
   "cell_type": "markdown",
   "metadata": {},
   "source": [
    "##  9 classes :"
   ]
  },
  {
   "cell_type": "code",
   "execution_count": 9,
   "metadata": {
    "collapsed": true
   },
   "outputs": [],
   "source": [
    "v1 = df['scaled sound pressure level'].quantile(1/9)\n",
    "v2 = df['scaled sound pressure level'].quantile(2/9)\n",
    "v3 = df['scaled sound pressure level'].quantile(3/9)\n",
    "v4 = df['scaled sound pressure level'].quantile(4/9)\n",
    "v5 = df['scaled sound pressure level'].quantile(5/9)\n",
    "v6 = df['scaled sound pressure level'].quantile(6/9)\n",
    "v7 = df['scaled sound pressure level'].quantile(7/9)\n",
    "v8 = df['scaled sound pressure level'].quantile(8/9)"
   ]
  },
  {
   "cell_type": "code",
   "execution_count": 10,
   "metadata": {
    "collapsed": false
   },
   "outputs": [],
   "source": [
    "df9 = df.copy()\n",
    "df9.loc[(df9['scaled sound pressure level'] >= v_min) & (df9['scaled sound pressure level'] < v1), 'scaled sound pressure level'] = 9\n",
    "df9.loc[(df9['scaled sound pressure level'] >= v1) & (df9['scaled sound pressure level'] < v2), 'scaled sound pressure level'] = 8\n",
    "df9.loc[(df9['scaled sound pressure level'] >= v2) & (df9['scaled sound pressure level'] < v3), 'scaled sound pressure level'] = 7\n",
    "df9.loc[(df9['scaled sound pressure level'] >= v3) & (df9['scaled sound pressure level'] < v4), 'scaled sound pressure level'] = 6\n",
    "df9.loc[(df9['scaled sound pressure level'] >= v4) & (df9['scaled sound pressure level'] < v5), 'scaled sound pressure level'] = 5\n",
    "df9.loc[(df9['scaled sound pressure level'] >= v5) & (df9['scaled sound pressure level'] < v6), 'scaled sound pressure level'] = 4\n",
    "df9.loc[(df9['scaled sound pressure level'] >= v6) & (df9['scaled sound pressure level'] < v7), 'scaled sound pressure level'] = 3\n",
    "df9.loc[(df9['scaled sound pressure level'] >= v7) & (df9['scaled sound pressure level'] < v8), 'scaled sound pressure level'] = 2\n",
    "df9.loc[df9['scaled sound pressure level'] >= v8, 'scaled sound pressure level'] = 1"
   ]
  },
  {
   "cell_type": "code",
   "execution_count": 49,
   "metadata": {
    "collapsed": true
   },
   "outputs": [],
   "source": [
    "#df7.drop(['velocity'], axis=1, inplace=True)"
   ]
  },
  {
   "cell_type": "code",
   "execution_count": 11,
   "metadata": {
    "collapsed": false
   },
   "outputs": [],
   "source": [
    "#m = 4 # input dimension\n",
    "m = 5\n",
    "vectors = df9.values\n",
    "dataset = LabeledSet(m)\n",
    "dataset.addExamples(vectors[:,0:m], vectors[:,m:])"
   ]
  },
  {
   "cell_type": "code",
   "execution_count": 12,
   "metadata": {
    "collapsed": false
   },
   "outputs": [
    {
     "name": "stdout",
     "output_type": "stream",
     "text": [
      "number of instances of class 1 : 168\n",
      "number of instances of class 2 : 166\n",
      "number of instances of class 3 : 167\n",
      "number of instances of class 4 : 167\n",
      "number of instances of class 5 : 167\n",
      "number of instances of class 6 : 167\n",
      "number of instances of class 7 : 167\n",
      "number of instances of class 8 : 167\n",
      "number of instances of class 9 : 167\n"
     ]
    }
   ],
   "source": [
    "for i in range(9):\n",
    "    print(\"number of instances of class \" + str(i+1) + \" : \" + str(np.count_nonzero(dataset.y == i+1)))"
   ]
  },
  {
   "cell_type": "code",
   "execution_count": 13,
   "metadata": {
    "collapsed": false
   },
   "outputs": [
    {
     "data": {
      "text/plain": [
       "0.01890670500986487"
      ]
     },
     "execution_count": 13,
     "metadata": {},
     "output_type": "execute_result"
    }
   ],
   "source": [
    "NMI1(dataset)"
   ]
  },
  {
   "cell_type": "code",
   "execution_count": 14,
   "metadata": {
    "collapsed": true
   },
   "outputs": [],
   "source": [
    "nb_folds = 4\n",
    "\n",
    "folds = get_folds(dataset, nb_folds)"
   ]
  },
  {
   "cell_type": "code",
   "execution_count": 19,
   "metadata": {
    "collapsed": false
   },
   "outputs": [
    {
     "name": "stdout",
     "output_type": "stream",
     "text": [
      "average accuracy :  0.25595238095238093\n",
      "standard deviation of accuracy:  0.04766954259865712\n",
      "average depth :  19.5\n",
      "standard deviation of depth:  1.5\n",
      "average number of leaves :  171.75\n",
      "standard deviation of number of leaves:  5.889609494694874\n",
      "average ratio between number of pairwise non-monotone label comparisons and number of pairs :  0.5307242145567543\n",
      "standard deviation of ratio:  0.03863639963916191\n",
      "average number of pairs used for ratio computing :  46.0\n",
      "standard deviation of number of pairs:  4.527692569068709\n"
     ]
    }
   ],
   "source": [
    "# Rank Shannon discrimination measure\n",
    "acc = []\n",
    "leaves = []\n",
    "depth = []\n",
    "ratio = []\n",
    "pairs = []\n",
    "\n",
    "for i in range(nb_folds):\n",
    "    test_set = folds[i]\n",
    "    train_set = LabeledSet(m)\n",
    "    for j in range(0, nb_folds):\n",
    "        if i != j:\n",
    "            train_set.addExamples(folds[j].x, folds[j].y)\n",
    "    tree = RDMT(rsdm, \"shannon\", 0, 100, 0.01 * train_set.size(), [1, 2, 3, 4, 5, 6, 7, 8, 9])\n",
    "    tree.train(train_set)\n",
    "    acc.append(tree.accuracy(test_set))\n",
    "    leaves.append(tree.get_nb_leaves())\n",
    "    depth.append(tree.get_depth())\n",
    "    ratio.append(tree.get_ratio_non_monotone_pairs())\n",
    "    pairs.append(tree.get_total_pairs())\n",
    "        \n",
    "avg_accuracy = np.mean(acc)\n",
    "std_accuracy = np.std(acc)\n",
    "avg_leaves = np.mean(leaves)\n",
    "std_leaves = np.std(leaves)\n",
    "avg_depth = np.mean(depth)\n",
    "std_depth = np.std(depth)\n",
    "avg_ratio = np.mean(ratio)\n",
    "std_ratio = np.std(ratio)\n",
    "avg_pairs = np.mean(pairs)\n",
    "std_pairs = np.std(pairs)\n",
    "\n",
    "print(\"average accuracy : \", avg_accuracy)\n",
    "print(\"standard deviation of accuracy: \", std_accuracy)\n",
    "print(\"average depth : \", avg_depth)\n",
    "print(\"standard deviation of depth: \", std_depth)\n",
    "print(\"average number of leaves : \", avg_leaves)\n",
    "print(\"standard deviation of number of leaves: \", std_leaves)\n",
    "print(\"average ratio between number of pairwise non-monotone label comparisons and number of pairs : \", avg_ratio)\n",
    "print(\"standard deviation of ratio: \", std_ratio)\n",
    "print(\"average number of pairs used for ratio computing : \", avg_pairs)\n",
    "print(\"standard deviation of number of pairs: \", std_pairs)"
   ]
  },
  {
   "cell_type": "code",
   "execution_count": 20,
   "metadata": {
    "collapsed": false
   },
   "outputs": [
    {
     "name": "stdout",
     "output_type": "stream",
     "text": [
      "average accuracy :  0.2393050716221448\n",
      "standard deviation of accuracy:  0.07973493645542472\n",
      "average depth :  14.75\n",
      "standard deviation of depth:  0.4330127018922193\n",
      "average number of leaves :  158.5\n",
      "standard deviation of number of leaves:  0.8660254037844386\n",
      "average ratio between number of pairwise non-monotone label comparisons and number of pairs :  0.5544645070635812\n",
      "standard deviation of ratio:  0.027452874022339046\n",
      "average number of pairs used for ratio computing :  52.25\n",
      "standard deviation of number of pairs:  3.6996621467371855\n"
     ]
    }
   ],
   "source": [
    "acc = []\n",
    "leaves = []\n",
    "depth = []\n",
    "ratio = []\n",
    "pairs = []\n",
    "\n",
    "for i in range(nb_folds):\n",
    "    test_set = folds[i]\n",
    "    train_set = LabeledSet(m)\n",
    "    for j in range(0, nb_folds):\n",
    "        if i != j:\n",
    "            train_set.addExamples(folds[j].x, folds[j].y)\n",
    "    tree = RDMT(sdm, \"shannon\", 0, 100, 0.01 * train_set.size(), [1, 2, 3, 4, 5, 6, 7, 8, 9])\n",
    "    tree.train(train_set)\n",
    "    acc.append(tree.accuracy(test_set))\n",
    "    leaves.append(tree.get_nb_leaves())\n",
    "    depth.append(tree.get_depth())\n",
    "    ratio.append(tree.get_ratio_non_monotone_pairs())\n",
    "    pairs.append(tree.get_total_pairs())\n",
    "        \n",
    "avg_accuracy = np.mean(acc)\n",
    "std_accuracy = np.std(acc)\n",
    "avg_leaves = np.mean(leaves)\n",
    "std_leaves = np.std(leaves)\n",
    "avg_depth = np.mean(depth)\n",
    "std_depth = np.std(depth)\n",
    "avg_ratio = np.mean(ratio)\n",
    "std_ratio = np.std(ratio)\n",
    "avg_pairs = np.mean(pairs)\n",
    "std_pairs = np.std(pairs)\n",
    "\n",
    "print(\"average accuracy : \", avg_accuracy)\n",
    "print(\"standard deviation of accuracy: \", std_accuracy)\n",
    "print(\"average depth : \", avg_depth)\n",
    "print(\"standard deviation of depth: \", std_depth)\n",
    "print(\"average number of leaves : \", avg_leaves)\n",
    "print(\"standard deviation of number of leaves: \", std_leaves)\n",
    "print(\"average ratio between number of pairwise non-monotone label comparisons and number of pairs : \", avg_ratio)\n",
    "print(\"standard deviation of ratio: \", std_ratio)\n",
    "print(\"average number of pairs used for ratio computing : \", avg_pairs)\n",
    "print(\"standard deviation of number of pairs: \", std_pairs)"
   ]
  },
  {
   "cell_type": "code",
   "execution_count": 21,
   "metadata": {
    "collapsed": false
   },
   "outputs": [
    {
     "name": "stdout",
     "output_type": "stream",
     "text": [
      "average accuracy :  0.24527358368821783\n",
      "standard deviation of accuracy:  0.05563554230316268\n",
      "average depth :  20.0\n",
      "standard deviation of depth:  1.224744871391589\n",
      "average number of leaves :  176.0\n",
      "standard deviation of number of leaves:  3.9370039370059056\n",
      "average ratio between number of pairwise non-monotone label comparisons and number of pairs :  0.518645038632737\n",
      "standard deviation of ratio:  0.02167076498751026\n",
      "average number of pairs used for ratio computing :  48.0\n",
      "standard deviation of number of pairs:  1.8708286933869707\n"
     ]
    }
   ],
   "source": [
    "acc = []\n",
    "leaves = []\n",
    "depth = []\n",
    "ratio = []\n",
    "pairs = []\n",
    "\n",
    "for i in range(nb_folds):\n",
    "    test_set = folds[i]\n",
    "    train_set = LabeledSet(m)\n",
    "    for j in range(0, nb_folds):\n",
    "        if i != j:\n",
    "            train_set.addExamples(folds[j].x, folds[j].y)\n",
    "    tree = RDMT(rgdm, \"shannon\", 0, 100, 0.01 * train_set.size(), [1, 2, 3, 4, 5, 6, 7, 8, 9])\n",
    "    tree.train(train_set)\n",
    "    acc.append(tree.accuracy(test_set))\n",
    "    leaves.append(tree.get_nb_leaves())\n",
    "    depth.append(tree.get_depth())\n",
    "    ratio.append(tree.get_ratio_non_monotone_pairs())\n",
    "    pairs.append(tree.get_total_pairs())\n",
    "        \n",
    "avg_accuracy = np.mean(acc)\n",
    "std_accuracy = np.std(acc)\n",
    "avg_leaves = np.mean(leaves)\n",
    "std_leaves = np.std(leaves)\n",
    "avg_depth = np.mean(depth)\n",
    "std_depth = np.std(depth)\n",
    "avg_ratio = np.mean(ratio)\n",
    "std_ratio = np.std(ratio)\n",
    "avg_pairs = np.mean(pairs)\n",
    "std_pairs = np.std(pairs)\n",
    "\n",
    "print(\"average accuracy : \", avg_accuracy)\n",
    "print(\"standard deviation of accuracy: \", std_accuracy)\n",
    "print(\"average depth : \", avg_depth)\n",
    "print(\"standard deviation of depth: \", std_depth)\n",
    "print(\"average number of leaves : \", avg_leaves)\n",
    "print(\"standard deviation of number of leaves: \", std_leaves)\n",
    "print(\"average ratio between number of pairwise non-monotone label comparisons and number of pairs : \", avg_ratio)\n",
    "print(\"standard deviation of ratio: \", std_ratio)\n",
    "print(\"average number of pairs used for ratio computing : \", avg_pairs)\n",
    "print(\"standard deviation of number of pairs: \", std_pairs)"
   ]
  },
  {
   "cell_type": "code",
   "execution_count": 22,
   "metadata": {
    "collapsed": false
   },
   "outputs": [
    {
     "name": "stdout",
     "output_type": "stream",
     "text": [
      "average accuracy :  0.22068976642147375\n",
      "standard deviation of accuracy:  0.05185796298777161\n",
      "average depth :  14.0\n",
      "standard deviation of depth:  1.0\n",
      "average number of leaves :  160.0\n",
      "standard deviation of number of leaves:  2.5495097567963922\n",
      "average ratio between number of pairwise non-monotone label comparisons and number of pairs :  0.5341393504839271\n",
      "standard deviation of ratio:  0.014420700776302163\n",
      "average number of pairs used for ratio computing :  54.0\n",
      "standard deviation of number of pairs:  2.1213203435596424\n"
     ]
    }
   ],
   "source": [
    "acc = []\n",
    "leaves = []\n",
    "depth = []\n",
    "ratio = []\n",
    "pairs = []\n",
    "\n",
    "for i in range(nb_folds):\n",
    "    test_set = folds[i]\n",
    "    train_set = LabeledSet(m)\n",
    "    for j in range(0, nb_folds):\n",
    "        if i != j:\n",
    "            train_set.addExamples(folds[j].x, folds[j].y)\n",
    "    tree = RDMT(gdm, \"shannon\", 0, 100, 0.01 * train_set.size(), [1, 2, 3, 4, 5, 6, 7, 8, 9])\n",
    "    tree.train(train_set)\n",
    "    acc.append(tree.accuracy(test_set))\n",
    "    leaves.append(tree.get_nb_leaves())\n",
    "    depth.append(tree.get_depth())\n",
    "    ratio.append(tree.get_ratio_non_monotone_pairs())\n",
    "    pairs.append(tree.get_total_pairs())\n",
    "        \n",
    "avg_accuracy = np.mean(acc)\n",
    "std_accuracy = np.std(acc)\n",
    "avg_leaves = np.mean(leaves)\n",
    "std_leaves = np.std(leaves)\n",
    "avg_depth = np.mean(depth)\n",
    "std_depth = np.std(depth)\n",
    "avg_ratio = np.mean(ratio)\n",
    "std_ratio = np.std(ratio)\n",
    "avg_pairs = np.mean(pairs)\n",
    "std_pairs = np.std(pairs)\n",
    "\n",
    "print(\"average accuracy : \", avg_accuracy)\n",
    "print(\"standard deviation of accuracy: \", std_accuracy)\n",
    "print(\"average depth : \", avg_depth)\n",
    "print(\"standard deviation of depth: \", std_depth)\n",
    "print(\"average number of leaves : \", avg_leaves)\n",
    "print(\"standard deviation of number of leaves: \", std_leaves)\n",
    "print(\"average ratio between number of pairwise non-monotone label comparisons and number of pairs : \", avg_ratio)\n",
    "print(\"standard deviation of ratio: \", std_ratio)\n",
    "print(\"average number of pairs used for ratio computing : \", avg_pairs)\n",
    "print(\"standard deviation of number of pairs: \", std_pairs)"
   ]
  },
  {
   "cell_type": "code",
   "execution_count": 23,
   "metadata": {
    "collapsed": false
   },
   "outputs": [
    {
     "ename": "KeyboardInterrupt",
     "evalue": "",
     "output_type": "error",
     "traceback": [
      "\u001b[0;31m---------------------------------------------------------------------------\u001b[0m",
      "\u001b[0;31mKeyboardInterrupt\u001b[0m                         Traceback (most recent call last)",
      "\u001b[0;32m<ipython-input-23-c88388e313c9>\u001b[0m in \u001b[0;36m<module>\u001b[0;34m()\u001b[0m\n\u001b[1;32m     12\u001b[0m             \u001b[0mtrain_set\u001b[0m\u001b[0;34m.\u001b[0m\u001b[0maddExamples\u001b[0m\u001b[0;34m(\u001b[0m\u001b[0mfolds\u001b[0m\u001b[0;34m[\u001b[0m\u001b[0mj\u001b[0m\u001b[0;34m]\u001b[0m\u001b[0;34m.\u001b[0m\u001b[0mx\u001b[0m\u001b[0;34m,\u001b[0m \u001b[0mfolds\u001b[0m\u001b[0;34m[\u001b[0m\u001b[0mj\u001b[0m\u001b[0;34m]\u001b[0m\u001b[0;34m.\u001b[0m\u001b[0my\u001b[0m\u001b[0;34m)\u001b[0m\u001b[0;34m\u001b[0m\u001b[0m\n\u001b[1;32m     13\u001b[0m     \u001b[0mtree\u001b[0m \u001b[0;34m=\u001b[0m \u001b[0mRDMT\u001b[0m\u001b[0;34m(\u001b[0m\u001b[0mprdm\u001b[0m\u001b[0;34m,\u001b[0m \u001b[0;34m\"shannon\"\u001b[0m\u001b[0;34m,\u001b[0m \u001b[0;36m0\u001b[0m\u001b[0;34m,\u001b[0m \u001b[0;36m100\u001b[0m\u001b[0;34m,\u001b[0m \u001b[0;36m0.01\u001b[0m \u001b[0;34m*\u001b[0m \u001b[0mtrain_set\u001b[0m\u001b[0;34m.\u001b[0m\u001b[0msize\u001b[0m\u001b[0;34m(\u001b[0m\u001b[0;34m)\u001b[0m\u001b[0;34m,\u001b[0m \u001b[0;34m[\u001b[0m\u001b[0;36m1\u001b[0m\u001b[0;34m,\u001b[0m \u001b[0;36m2\u001b[0m\u001b[0;34m,\u001b[0m \u001b[0;36m3\u001b[0m\u001b[0;34m,\u001b[0m \u001b[0;36m4\u001b[0m\u001b[0;34m,\u001b[0m \u001b[0;36m5\u001b[0m\u001b[0;34m,\u001b[0m \u001b[0;36m6\u001b[0m\u001b[0;34m,\u001b[0m \u001b[0;36m7\u001b[0m\u001b[0;34m,\u001b[0m \u001b[0;36m8\u001b[0m\u001b[0;34m,\u001b[0m \u001b[0;36m9\u001b[0m\u001b[0;34m]\u001b[0m\u001b[0;34m)\u001b[0m\u001b[0;34m\u001b[0m\u001b[0m\n\u001b[0;32m---> 14\u001b[0;31m     \u001b[0mtree\u001b[0m\u001b[0;34m.\u001b[0m\u001b[0mtrain\u001b[0m\u001b[0;34m(\u001b[0m\u001b[0mtrain_set\u001b[0m\u001b[0;34m)\u001b[0m\u001b[0;34m\u001b[0m\u001b[0m\n\u001b[0m\u001b[1;32m     15\u001b[0m     \u001b[0macc\u001b[0m\u001b[0;34m.\u001b[0m\u001b[0mappend\u001b[0m\u001b[0;34m(\u001b[0m\u001b[0mtree\u001b[0m\u001b[0;34m.\u001b[0m\u001b[0maccuracy\u001b[0m\u001b[0;34m(\u001b[0m\u001b[0mtest_set\u001b[0m\u001b[0;34m)\u001b[0m\u001b[0;34m)\u001b[0m\u001b[0;34m\u001b[0m\u001b[0m\n\u001b[1;32m     16\u001b[0m     \u001b[0mleaves\u001b[0m\u001b[0;34m.\u001b[0m\u001b[0mappend\u001b[0m\u001b[0;34m(\u001b[0m\u001b[0mtree\u001b[0m\u001b[0;34m.\u001b[0m\u001b[0mget_nb_leaves\u001b[0m\u001b[0;34m(\u001b[0m\u001b[0;34m)\u001b[0m\u001b[0;34m)\u001b[0m\u001b[0;34m\u001b[0m\u001b[0m\n",
      "\u001b[0;32m/home/laura/Documents/stage2018/utils.py\u001b[0m in \u001b[0;36mtrain\u001b[0;34m(self, labeled_set)\u001b[0m\n\u001b[1;32m    975\u001b[0m         '''\n\u001b[1;32m    976\u001b[0m         \u001b[0mself\u001b[0m\u001b[0;34m.\u001b[0m\u001b[0mlabeled_set\u001b[0m \u001b[0;34m=\u001b[0m \u001b[0mlabeled_set\u001b[0m\u001b[0;34m\u001b[0m\u001b[0m\n\u001b[0;32m--> 977\u001b[0;31m         \u001b[0mself\u001b[0m\u001b[0;34m.\u001b[0m\u001b[0mroot\u001b[0m \u001b[0;34m=\u001b[0m \u001b[0mbuild_DT\u001b[0m\u001b[0;34m(\u001b[0m\u001b[0mlabeled_set\u001b[0m\u001b[0;34m,\u001b[0m\u001b[0mself\u001b[0m\u001b[0;34m.\u001b[0m\u001b[0mH\u001b[0m\u001b[0;34m,\u001b[0m \u001b[0mself\u001b[0m\u001b[0;34m.\u001b[0m\u001b[0mH_stop\u001b[0m\u001b[0;34m,\u001b[0m \u001b[0mself\u001b[0m\u001b[0;34m.\u001b[0m\u001b[0mmeasureThreshold\u001b[0m\u001b[0;34m,\u001b[0m \u001b[0mself\u001b[0m\u001b[0;34m.\u001b[0m\u001b[0mmaxDepth\u001b[0m\u001b[0;34m,\u001b[0m \u001b[0mself\u001b[0m\u001b[0;34m.\u001b[0m\u001b[0mpercMinSize\u001b[0m\u001b[0;34m,\u001b[0m \u001b[0mself\u001b[0m\u001b[0;34m.\u001b[0m\u001b[0mlabels\u001b[0m\u001b[0;34m,\u001b[0m \u001b[0;36m0\u001b[0m\u001b[0;34m)\u001b[0m\u001b[0;34m\u001b[0m\u001b[0m\n\u001b[0m\u001b[1;32m    978\u001b[0m \u001b[0;34m\u001b[0m\u001b[0m\n\u001b[1;32m    979\u001b[0m     \u001b[0;32mdef\u001b[0m \u001b[0mplot\u001b[0m\u001b[0;34m(\u001b[0m\u001b[0mself\u001b[0m\u001b[0;34m)\u001b[0m\u001b[0;34m:\u001b[0m\u001b[0;34m\u001b[0m\u001b[0m\n",
      "\u001b[0;32m/home/laura/Documents/stage2018/utils.py\u001b[0m in \u001b[0;36mbuild_DT\u001b[0;34m(labeled_set, H, H_stop, measureThreshold, maxDepth, minSize, labels, current_depth)\u001b[0m\n\u001b[1;32m    903\u001b[0m \u001b[0;34m\u001b[0m\u001b[0m\n\u001b[1;32m    904\u001b[0m     \u001b[0minf_bt\u001b[0m \u001b[0;34m=\u001b[0m \u001b[0mbuild_DT\u001b[0m\u001b[0;34m(\u001b[0m\u001b[0minf_set\u001b[0m\u001b[0;34m,\u001b[0m \u001b[0mH\u001b[0m\u001b[0;34m,\u001b[0m \u001b[0mH_stop\u001b[0m\u001b[0;34m,\u001b[0m \u001b[0mmeasureThreshold\u001b[0m\u001b[0;34m,\u001b[0m \u001b[0mmaxDepth\u001b[0m\u001b[0;34m,\u001b[0m \u001b[0mminSize\u001b[0m\u001b[0;34m,\u001b[0m \u001b[0mlabels\u001b[0m\u001b[0;34m,\u001b[0m \u001b[0mcurrent_depth\u001b[0m\u001b[0;34m+\u001b[0m\u001b[0;36m1\u001b[0m\u001b[0;34m)\u001b[0m\u001b[0;34m\u001b[0m\u001b[0m\n\u001b[0;32m--> 905\u001b[0;31m     \u001b[0msup_bt\u001b[0m \u001b[0;34m=\u001b[0m \u001b[0mbuild_DT\u001b[0m\u001b[0;34m(\u001b[0m\u001b[0msup_set\u001b[0m\u001b[0;34m,\u001b[0m \u001b[0mH\u001b[0m\u001b[0;34m,\u001b[0m \u001b[0mH_stop\u001b[0m\u001b[0;34m,\u001b[0m \u001b[0mmeasureThreshold\u001b[0m\u001b[0;34m,\u001b[0m \u001b[0mmaxDepth\u001b[0m\u001b[0;34m,\u001b[0m \u001b[0mminSize\u001b[0m\u001b[0;34m,\u001b[0m \u001b[0mlabels\u001b[0m\u001b[0;34m,\u001b[0m \u001b[0mcurrent_depth\u001b[0m\u001b[0;34m+\u001b[0m\u001b[0;36m1\u001b[0m\u001b[0;34m)\u001b[0m\u001b[0;34m\u001b[0m\u001b[0m\n\u001b[0m\u001b[1;32m    906\u001b[0m     \u001b[0mbt\u001b[0m\u001b[0;34m.\u001b[0m\u001b[0madd_children\u001b[0m\u001b[0;34m(\u001b[0m\u001b[0minf_bt\u001b[0m\u001b[0;34m,\u001b[0m \u001b[0msup_bt\u001b[0m\u001b[0;34m,\u001b[0m \u001b[0mmin_attribute\u001b[0m\u001b[0;34m,\u001b[0m \u001b[0mmin_threshold\u001b[0m\u001b[0;34m)\u001b[0m\u001b[0;34m\u001b[0m\u001b[0m\n\u001b[1;32m    907\u001b[0m     \u001b[0;32mreturn\u001b[0m \u001b[0mbt\u001b[0m\u001b[0;34m\u001b[0m\u001b[0m\n",
      "\u001b[0;32m/home/laura/Documents/stage2018/utils.py\u001b[0m in \u001b[0;36mbuild_DT\u001b[0;34m(labeled_set, H, H_stop, measureThreshold, maxDepth, minSize, labels, current_depth)\u001b[0m\n\u001b[1;32m    879\u001b[0m             \u001b[0;32mcontinue\u001b[0m\u001b[0;34m\u001b[0m\u001b[0m\n\u001b[1;32m    880\u001b[0m \u001b[0;34m\u001b[0m\u001b[0m\n\u001b[0;32m--> 881\u001b[0;31m         \u001b[0mthreshold\u001b[0m\u001b[0;34m,\u001b[0m \u001b[0mh\u001b[0m \u001b[0;34m=\u001b[0m \u001b[0mdiscretize\u001b[0m\u001b[0;34m(\u001b[0m\u001b[0mH\u001b[0m\u001b[0;34m,\u001b[0m \u001b[0mlabeled_set\u001b[0m\u001b[0;34m,\u001b[0m \u001b[0ma_j\u001b[0m\u001b[0;34m)\u001b[0m\u001b[0;34m\u001b[0m\u001b[0m\n\u001b[0m\u001b[1;32m    882\u001b[0m         \u001b[0mthresholds\u001b[0m\u001b[0;34m.\u001b[0m\u001b[0mappend\u001b[0m\u001b[0;34m(\u001b[0m\u001b[0mthreshold\u001b[0m\u001b[0;34m)\u001b[0m\u001b[0;34m\u001b[0m\u001b[0m\n\u001b[1;32m    883\u001b[0m         \u001b[0mh_values\u001b[0m\u001b[0;34m.\u001b[0m\u001b[0mappend\u001b[0m\u001b[0;34m(\u001b[0m\u001b[0mh\u001b[0m\u001b[0;34m)\u001b[0m\u001b[0;34m\u001b[0m\u001b[0m\n",
      "\u001b[0;32m/home/laura/Documents/stage2018/utils.py\u001b[0m in \u001b[0;36mdiscretize\u001b[0;34m(H, labeled_set, a_j)\u001b[0m\n\u001b[1;32m    478\u001b[0m \u001b[0;34m\u001b[0m\u001b[0m\n\u001b[1;32m    479\u001b[0m         \u001b[0mthresholds\u001b[0m\u001b[0;34m.\u001b[0m\u001b[0mappend\u001b[0m\u001b[0;34m(\u001b[0m\u001b[0;34m(\u001b[0m\u001b[0mcurrent\u001b[0m \u001b[0;34m+\u001b[0m \u001b[0mlookahead\u001b[0m\u001b[0;34m)\u001b[0m \u001b[0;34m/\u001b[0m \u001b[0;36m2.0\u001b[0m\u001b[0;34m)\u001b[0m\u001b[0;34m\u001b[0m\u001b[0m\n\u001b[0;32m--> 480\u001b[0;31m         \u001b[0mH_values\u001b[0m\u001b[0;34m.\u001b[0m\u001b[0mappend\u001b[0m\u001b[0;34m(\u001b[0m\u001b[0mH\u001b[0m\u001b[0;34m.\u001b[0m\u001b[0mvalue\u001b[0m\u001b[0;34m(\u001b[0m\u001b[0mbinary_set\u001b[0m\u001b[0;34m,\u001b[0m \u001b[0ma_j\u001b[0m\u001b[0;34m,\u001b[0m \u001b[0mdsa\u001b[0m\u001b[0;34m,\u001b[0m \u001b[0mdsl\u001b[0m\u001b[0;34m,\u001b[0m \u001b[0mesa\u001b[0m\u001b[0;34m,\u001b[0m \u001b[0mesl\u001b[0m\u001b[0;34m)\u001b[0m\u001b[0;34m)\u001b[0m\u001b[0;34m\u001b[0m\u001b[0m\n\u001b[0m\u001b[1;32m    481\u001b[0m \u001b[0;34m\u001b[0m\u001b[0m\n\u001b[1;32m    482\u001b[0m \u001b[0;34m\u001b[0m\u001b[0m\n",
      "\u001b[0;32m/home/laura/Documents/stage2018/utils.py\u001b[0m in \u001b[0;36mvalue\u001b[0;34m(self, labeled_set, a_j, dsa, dsl, esa, esl)\u001b[0m\n\u001b[1;32m    400\u001b[0m \u001b[0;34m\u001b[0m\u001b[0m\n\u001b[1;32m    401\u001b[0m         \u001b[0;32mfor\u001b[0m \u001b[0mi\u001b[0m \u001b[0;32min\u001b[0m \u001b[0mrange\u001b[0m\u001b[0;34m(\u001b[0m\u001b[0;36m0\u001b[0m\u001b[0;34m,\u001b[0m \u001b[0mlabeled_set\u001b[0m\u001b[0;34m.\u001b[0m\u001b[0msize\u001b[0m\u001b[0;34m(\u001b[0m\u001b[0;34m)\u001b[0m\u001b[0;34m)\u001b[0m\u001b[0;34m:\u001b[0m\u001b[0;34m\u001b[0m\u001b[0m\n\u001b[0;32m--> 402\u001b[0;31m             \u001b[0mg_f\u001b[0m\u001b[0;34m.\u001b[0m\u001b[0mappend\u001b[0m\u001b[0;34m(\u001b[0m\u001b[0mself\u001b[0m\u001b[0;34m.\u001b[0m\u001b[0mg\u001b[0m\u001b[0;34m.\u001b[0m\u001b[0mvalue\u001b[0m\u001b[0;34m(\u001b[0m\u001b[0mself\u001b[0m\u001b[0;34m.\u001b[0m\u001b[0mf\u001b[0m\u001b[0;34m.\u001b[0m\u001b[0mvalue\u001b[0m\u001b[0;34m(\u001b[0m\u001b[0mi\u001b[0m\u001b[0;34m,\u001b[0m \u001b[0mlabeled_set\u001b[0m\u001b[0;34m,\u001b[0m \u001b[0mdsa\u001b[0m\u001b[0;34m,\u001b[0m \u001b[0mdsl\u001b[0m\u001b[0;34m,\u001b[0m \u001b[0mesa\u001b[0m\u001b[0;34m,\u001b[0m \u001b[0mesl\u001b[0m\u001b[0;34m)\u001b[0m\u001b[0;34m)\u001b[0m\u001b[0;34m)\u001b[0m\u001b[0;34m\u001b[0m\u001b[0m\n\u001b[0m\u001b[1;32m    403\u001b[0m \u001b[0;34m\u001b[0m\u001b[0m\n\u001b[1;32m    404\u001b[0m         \u001b[0;32mreturn\u001b[0m \u001b[0mself\u001b[0m\u001b[0;34m.\u001b[0m\u001b[0mh\u001b[0m\u001b[0;34m.\u001b[0m\u001b[0mvalue\u001b[0m\u001b[0;34m(\u001b[0m\u001b[0mg_f\u001b[0m\u001b[0;34m,\u001b[0m \u001b[0mlabeled_set\u001b[0m\u001b[0;34m)\u001b[0m\u001b[0;34m\u001b[0m\u001b[0m\n",
      "\u001b[0;32m/home/laura/Documents/stage2018/utils.py\u001b[0m in \u001b[0;36mvalue\u001b[0;34m(self, w_i, labeled_set, dsa, dsl, esa, esl)\u001b[0m\n\u001b[1;32m    217\u001b[0m             \u001b[0mdsa_wh\u001b[0m \u001b[0;34m=\u001b[0m \u001b[0mnp\u001b[0m\u001b[0;34m.\u001b[0m\u001b[0margwhere\u001b[0m\u001b[0;34m(\u001b[0m\u001b[0mdsa\u001b[0m\u001b[0;34m[\u001b[0m\u001b[0mw_h\u001b[0m\u001b[0;34m]\u001b[0m \u001b[0;34m==\u001b[0m \u001b[0;36m1\u001b[0m\u001b[0;34m)\u001b[0m\u001b[0;34m.\u001b[0m\u001b[0mflatten\u001b[0m\u001b[0;34m(\u001b[0m\u001b[0;34m)\u001b[0m\u001b[0;34m\u001b[0m\u001b[0m\n\u001b[1;32m    218\u001b[0m             \u001b[0mdsl_wh\u001b[0m \u001b[0;34m=\u001b[0m \u001b[0mnp\u001b[0m\u001b[0;34m.\u001b[0m\u001b[0margwhere\u001b[0m\u001b[0;34m(\u001b[0m\u001b[0mdsl\u001b[0m\u001b[0;34m[\u001b[0m\u001b[0mw_h\u001b[0m\u001b[0;34m]\u001b[0m \u001b[0;34m==\u001b[0m \u001b[0;36m1\u001b[0m\u001b[0;34m)\u001b[0m\u001b[0;34m.\u001b[0m\u001b[0mflatten\u001b[0m\u001b[0;34m(\u001b[0m\u001b[0;34m)\u001b[0m\u001b[0;34m\u001b[0m\u001b[0m\n\u001b[0;32m--> 219\u001b[0;31m             \u001b[0ml\u001b[0m \u001b[0;34m=\u001b[0m \u001b[0mnp\u001b[0m\u001b[0;34m.\u001b[0m\u001b[0mintersect1d\u001b[0m\u001b[0;34m(\u001b[0m\u001b[0mdsa_wh\u001b[0m\u001b[0;34m,\u001b[0m \u001b[0mdsl_wh\u001b[0m\u001b[0;34m)\u001b[0m\u001b[0;34m.\u001b[0m\u001b[0msize\u001b[0m\u001b[0;34m\u001b[0m\u001b[0m\n\u001b[0m\u001b[1;32m    220\u001b[0m             \u001b[0;32mif\u001b[0m \u001b[0mmin_l\u001b[0m \u001b[0;34m>\u001b[0m \u001b[0ml\u001b[0m\u001b[0;34m:\u001b[0m\u001b[0;34m\u001b[0m\u001b[0m\n\u001b[1;32m    221\u001b[0m                 \u001b[0mmin_l\u001b[0m \u001b[0;34m=\u001b[0m \u001b[0ml\u001b[0m\u001b[0;34m\u001b[0m\u001b[0m\n",
      "\u001b[0;32m/home/laura/.local/lib/python3.6/site-packages/numpy/lib/arraysetops.py\u001b[0m in \u001b[0;36mintersect1d\u001b[0;34m(ar1, ar2, assume_unique)\u001b[0m\n\u001b[1;32m    342\u001b[0m     \u001b[0maux\u001b[0m \u001b[0;34m=\u001b[0m \u001b[0mnp\u001b[0m\u001b[0;34m.\u001b[0m\u001b[0mconcatenate\u001b[0m\u001b[0;34m(\u001b[0m\u001b[0;34m(\u001b[0m\u001b[0mar1\u001b[0m\u001b[0;34m,\u001b[0m \u001b[0mar2\u001b[0m\u001b[0;34m)\u001b[0m\u001b[0;34m)\u001b[0m\u001b[0;34m\u001b[0m\u001b[0m\n\u001b[1;32m    343\u001b[0m     \u001b[0maux\u001b[0m\u001b[0;34m.\u001b[0m\u001b[0msort\u001b[0m\u001b[0;34m(\u001b[0m\u001b[0;34m)\u001b[0m\u001b[0;34m\u001b[0m\u001b[0m\n\u001b[0;32m--> 344\u001b[0;31m     \u001b[0;32mreturn\u001b[0m \u001b[0maux\u001b[0m\u001b[0;34m[\u001b[0m\u001b[0;34m:\u001b[0m\u001b[0;34m-\u001b[0m\u001b[0;36m1\u001b[0m\u001b[0;34m]\u001b[0m\u001b[0;34m[\u001b[0m\u001b[0maux\u001b[0m\u001b[0;34m[\u001b[0m\u001b[0;36m1\u001b[0m\u001b[0;34m:\u001b[0m\u001b[0;34m]\u001b[0m \u001b[0;34m==\u001b[0m \u001b[0maux\u001b[0m\u001b[0;34m[\u001b[0m\u001b[0;34m:\u001b[0m\u001b[0;34m-\u001b[0m\u001b[0;36m1\u001b[0m\u001b[0;34m]\u001b[0m\u001b[0;34m]\u001b[0m\u001b[0;34m\u001b[0m\u001b[0m\n\u001b[0m\u001b[1;32m    345\u001b[0m \u001b[0;34m\u001b[0m\u001b[0m\n\u001b[1;32m    346\u001b[0m \u001b[0;32mdef\u001b[0m \u001b[0msetxor1d\u001b[0m\u001b[0;34m(\u001b[0m\u001b[0mar1\u001b[0m\u001b[0;34m,\u001b[0m \u001b[0mar2\u001b[0m\u001b[0;34m,\u001b[0m \u001b[0massume_unique\u001b[0m\u001b[0;34m=\u001b[0m\u001b[0;32mFalse\u001b[0m\u001b[0;34m)\u001b[0m\u001b[0;34m:\u001b[0m\u001b[0;34m\u001b[0m\u001b[0m\n",
      "\u001b[0;31mKeyboardInterrupt\u001b[0m: "
     ]
    }
   ],
   "source": [
    "acc = []\n",
    "leaves = []\n",
    "depth = []\n",
    "ratio = []\n",
    "pairs = []\n",
    "\n",
    "for i in range(nb_folds):\n",
    "    test_set = folds[i]\n",
    "    train_set = LabeledSet(m)\n",
    "    for j in range(0, nb_folds):\n",
    "        if i != j:\n",
    "            train_set.addExamples(folds[j].x, folds[j].y)\n",
    "    tree = RDMT(prdm, \"shannon\", 0, 100, 0.01 * train_set.size(), [1, 2, 3, 4, 5, 6, 7, 8, 9])\n",
    "    tree.train(train_set)\n",
    "    acc.append(tree.accuracy(test_set))\n",
    "    leaves.append(tree.get_nb_leaves())\n",
    "    depth.append(tree.get_depth())\n",
    "    ratio.append(tree.get_ratio_non_monotone_pairs())\n",
    "    pairs.append(tree.get_total_pairs())\n",
    "        \n",
    "avg_accuracy = np.mean(acc)\n",
    "std_accuracy = np.std(acc)\n",
    "avg_leaves = np.mean(leaves)\n",
    "std_leaves = np.std(leaves)\n",
    "avg_depth = np.mean(depth)\n",
    "std_depth = np.std(depth)\n",
    "avg_ratio = np.mean(ratio)\n",
    "std_ratio = np.std(ratio)\n",
    "avg_pairs = np.mean(pairs)\n",
    "std_pairs = np.std(pairs)\n",
    "\n",
    "print(\"average accuracy : \", avg_accuracy)\n",
    "print(\"standard deviation of accuracy: \", std_accuracy)\n",
    "print(\"average depth : \", avg_depth)\n",
    "print(\"standard deviation of depth: \", std_depth)\n",
    "print(\"average number of leaves : \", avg_leaves)\n",
    "print(\"standard deviation of number of leaves: \", std_leaves)\n",
    "print(\"average ratio between number of pairwise non-monotone label comparisons and number of pairs : \", avg_ratio)\n",
    "print(\"standard deviation of ratio: \", std_ratio)\n",
    "print(\"average number of pairs used for ratio computing : \", avg_pairs)\n",
    "print(\"standard deviation of number of pairs: \", std_pairs)"
   ]
  },
  {
   "cell_type": "code",
   "execution_count": null,
   "metadata": {
    "collapsed": true
   },
   "outputs": [],
   "source": [
    "acc = []\n",
    "leaves = []\n",
    "depth = []\n",
    "ratio = []\n",
    "pairs = []\n",
    "\n",
    "for i in range(nb_folds):\n",
    "    test_set = folds[i]\n",
    "    train_set = LabeledSet(m)\n",
    "    for j in range(0, nb_folds):\n",
    "        if i != j:\n",
    "            train_set.addExamples(folds[j].x, folds[j].y)\n",
    "    tree = RDMT(H_m, \"shannon\", 0, 100, 0.01 * train_set.size(), [1, 2, 3, 4, 5, 6, 7, 8, 9])\n",
    "    tree.train(train_set)\n",
    "    acc.append(tree.accuracy(test_set))\n",
    "    leaves.append(tree.get_nb_leaves())\n",
    "    depth.append(tree.get_depth())\n",
    "    ratio.append(tree.get_ratio_non_monotone_pairs())\n",
    "    pairs.append(tree.get_total_pairs())\n",
    "        \n",
    "avg_accuracy = np.mean(acc)\n",
    "std_accuracy = np.std(acc)\n",
    "avg_leaves = np.mean(leaves)\n",
    "std_leaves = np.std(leaves)\n",
    "avg_depth = np.mean(depth)\n",
    "std_depth = np.std(depth)\n",
    "avg_ratio = np.mean(ratio)\n",
    "std_ratio = np.std(ratio)\n",
    "avg_pairs = np.mean(pairs)\n",
    "std_pairs = np.std(pairs)\n",
    "\n",
    "print(\"average accuracy : \", avg_accuracy)\n",
    "print(\"standard deviation of accuracy: \", std_accuracy)\n",
    "print(\"average depth : \", avg_depth)\n",
    "print(\"standard deviation of depth: \", std_depth)\n",
    "print(\"average number of leaves : \", avg_leaves)\n",
    "print(\"standard deviation of number of leaves: \", std_leaves)\n",
    "print(\"average ratio between number of pairwise non-monotone label comparisons and number of pairs : \", avg_ratio)\n",
    "print(\"standard deviation of ratio: \", std_ratio)\n",
    "print(\"average number of pairs used for ratio computing : \", avg_pairs)\n",
    "print(\"standard deviation of number of pairs: \", std_pairs)"
   ]
  },
  {
   "cell_type": "code",
   "execution_count": null,
   "metadata": {
    "collapsed": true
   },
   "outputs": [],
   "source": [
    "acc = []\n",
    "leaves = []\n",
    "depth = []\n",
    "ratio = []\n",
    "pairs = []\n",
    "\n",
    "for i in range(nb_folds):\n",
    "    test_set = folds[i]\n",
    "    train_set = LabeledSet(m)\n",
    "    for j in range(0, nb_folds):\n",
    "        if i != j:\n",
    "            train_set.addExamples(folds[j].x, folds[j].y)\n",
    "    tree = RDMT(H_q, \"shannon\", 0, 100, 0.01 * train_set.size(), [1, 2, 3, 4, 5, 6, 7, 8, 9])\n",
    "    tree.train(train_set)\n",
    "    acc.append(tree.accuracy(test_set))\n",
    "    leaves.append(tree.get_nb_leaves())\n",
    "    depth.append(tree.get_depth())\n",
    "    ratio.append(tree.get_ratio_non_monotone_pairs())\n",
    "    pairs.append(tree.get_total_pairs())\n",
    "        \n",
    "avg_accuracy = np.mean(acc)\n",
    "std_accuracy = np.std(acc)\n",
    "avg_leaves = np.mean(leaves)\n",
    "std_leaves = np.std(leaves)\n",
    "avg_depth = np.mean(depth)\n",
    "std_depth = np.std(depth)\n",
    "avg_ratio = np.mean(ratio)\n",
    "std_ratio = np.std(ratio)\n",
    "avg_pairs = np.mean(pairs)\n",
    "std_pairs = np.std(pairs)\n",
    "\n",
    "print(\"average accuracy : \", avg_accuracy)\n",
    "print(\"standard deviation of accuracy: \", std_accuracy)\n",
    "print(\"average depth : \", avg_depth)\n",
    "print(\"standard deviation of depth: \", std_depth)\n",
    "print(\"average number of leaves : \", avg_leaves)\n",
    "print(\"standard deviation of number of leaves: \", std_leaves)\n",
    "print(\"average ratio between number of pairwise non-monotone label comparisons and number of pairs : \", avg_ratio)\n",
    "print(\"standard deviation of ratio: \", std_ratio)\n",
    "print(\"average number of pairs used for ratio computing : \", avg_pairs)\n",
    "print(\"standard deviation of number of pairs: \", std_pairs)"
   ]
  }
 ],
 "metadata": {
  "kernelspec": {
   "display_name": "Python 3",
   "language": "python",
   "name": "python3"
  },
  "language_info": {
   "codemirror_mode": {
    "name": "ipython",
    "version": 3
   },
   "file_extension": ".py",
   "mimetype": "text/x-python",
   "name": "python",
   "nbconvert_exporter": "python",
   "pygments_lexer": "ipython3",
   "version": "3.6.3"
  }
 },
 "nbformat": 4,
 "nbformat_minor": 2
}
