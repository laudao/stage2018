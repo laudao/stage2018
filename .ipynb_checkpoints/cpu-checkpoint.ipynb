{
 "cells": [
  {
   "cell_type": "code",
   "execution_count": 1,
   "metadata": {
    "collapsed": false
   },
   "outputs": [],
   "source": [
    "%load_ext autoreload\n",
    "%autoreload 2\n",
    "from utils import *"
   ]
  },
  {
   "cell_type": "code",
   "execution_count": 2,
   "metadata": {
    "collapsed": true
   },
   "outputs": [],
   "source": [
    "df = pd.read_csv(\"cpu.csv\")"
   ]
  },
  {
   "cell_type": "code",
   "execution_count": 3,
   "metadata": {
    "collapsed": false
   },
   "outputs": [
    {
     "data": {
      "text/html": [
       "<div>\n",
       "<style scoped>\n",
       "    .dataframe tbody tr th:only-of-type {\n",
       "        vertical-align: middle;\n",
       "    }\n",
       "\n",
       "    .dataframe tbody tr th {\n",
       "        vertical-align: top;\n",
       "    }\n",
       "\n",
       "    .dataframe thead th {\n",
       "        text-align: right;\n",
       "    }\n",
       "</style>\n",
       "<table border=\"1\" class=\"dataframe\">\n",
       "  <thead>\n",
       "    <tr style=\"text-align: right;\">\n",
       "      <th></th>\n",
       "      <th>vendor name</th>\n",
       "      <th>model name</th>\n",
       "      <th>MYCT</th>\n",
       "      <th>MMIN</th>\n",
       "      <th>MMAX</th>\n",
       "      <th>CACH</th>\n",
       "      <th>CHMIN</th>\n",
       "      <th>CHMAX</th>\n",
       "      <th>PRP</th>\n",
       "      <th>ERP</th>\n",
       "    </tr>\n",
       "  </thead>\n",
       "  <tbody>\n",
       "    <tr>\n",
       "      <th>77</th>\n",
       "      <td>harris</td>\n",
       "      <td>700</td>\n",
       "      <td>300</td>\n",
       "      <td>384</td>\n",
       "      <td>12000</td>\n",
       "      <td>6</td>\n",
       "      <td>1</td>\n",
       "      <td>24</td>\n",
       "      <td>53</td>\n",
       "      <td>50</td>\n",
       "    </tr>\n",
       "    <tr>\n",
       "      <th>70</th>\n",
       "      <td>hp</td>\n",
       "      <td>3000/64</td>\n",
       "      <td>75</td>\n",
       "      <td>2000</td>\n",
       "      <td>8000</td>\n",
       "      <td>8</td>\n",
       "      <td>3</td>\n",
       "      <td>24</td>\n",
       "      <td>62</td>\n",
       "      <td>47</td>\n",
       "    </tr>\n",
       "    <tr>\n",
       "      <th>179</th>\n",
       "      <td>prime</td>\n",
       "      <td>50-750-ii</td>\n",
       "      <td>160</td>\n",
       "      <td>1000</td>\n",
       "      <td>8000</td>\n",
       "      <td>16</td>\n",
       "      <td>1</td>\n",
       "      <td>14</td>\n",
       "      <td>60</td>\n",
       "      <td>43</td>\n",
       "    </tr>\n",
       "    <tr>\n",
       "      <th>201</th>\n",
       "      <td>sperry</td>\n",
       "      <td>80/4</td>\n",
       "      <td>180</td>\n",
       "      <td>512</td>\n",
       "      <td>4000</td>\n",
       "      <td>0</td>\n",
       "      <td>1</td>\n",
       "      <td>3</td>\n",
       "      <td>14</td>\n",
       "      <td>24</td>\n",
       "    </tr>\n",
       "    <tr>\n",
       "      <th>143</th>\n",
       "      <td>nas</td>\n",
       "      <td>as/6130</td>\n",
       "      <td>75</td>\n",
       "      <td>4000</td>\n",
       "      <td>16000</td>\n",
       "      <td>16</td>\n",
       "      <td>1</td>\n",
       "      <td>6</td>\n",
       "      <td>66</td>\n",
       "      <td>86</td>\n",
       "    </tr>\n",
       "  </tbody>\n",
       "</table>\n",
       "</div>"
      ],
      "text/plain": [
       "    vendor name model name  MYCT  MMIN   MMAX  CACH  CHMIN  CHMAX  PRP  ERP\n",
       "77       harris        700   300   384  12000     6      1     24   53   50\n",
       "70           hp    3000/64    75  2000   8000     8      3     24   62   47\n",
       "179       prime  50-750-ii   160  1000   8000    16      1     14   60   43\n",
       "201      sperry       80/4   180   512   4000     0      1      3   14   24\n",
       "143         nas    as/6130    75  4000  16000    16      1      6   66   86"
      ]
     },
     "execution_count": 3,
     "metadata": {},
     "output_type": "execute_result"
    }
   ],
   "source": [
    "df.sample(5)"
   ]
  },
  {
   "cell_type": "code",
   "execution_count": 4,
   "metadata": {
    "collapsed": false
   },
   "outputs": [
    {
     "data": {
      "text/plain": [
       "Index(['vendor name', 'model name', 'MYCT', 'MMIN', 'MMAX', 'CACH', 'CHMIN',\n",
       "       'CHMAX', 'PRP', 'ERP'],\n",
       "      dtype='object')"
      ]
     },
     "execution_count": 4,
     "metadata": {},
     "output_type": "execute_result"
    }
   ],
   "source": [
    "df.columns"
   ]
  },
  {
   "cell_type": "code",
   "execution_count": 5,
   "metadata": {
    "collapsed": false
   },
   "outputs": [
    {
     "name": "stdout",
     "output_type": "stream",
     "text": [
      "vendor name :  ['adviser' 'amdahl' 'apollo' 'basf' 'bti' 'burroughs' 'c.r.d' 'cambex'\n",
      " 'cdc' 'dec' 'dg' 'formation' 'four-phase' 'gould' 'harris' 'honeywell'\n",
      " 'hp' 'ibm' 'ipl' 'magnuson' 'microdata' 'nas' 'ncr' 'nixdorf'\n",
      " 'perkin-elmer' 'prime' 'siemens' 'sperry' 'sratus' 'wang']\n",
      "model name :  ['100' '1100/61-h1' '1100/81' '1100/82' '1100/83' '1100/84' '1100/93'\n",
      " '1100/94' '1636-1' '1636-10' '1641-1' '1641-11' '1651-1' '2000/260' '300'\n",
      " '3000/30' '3000/40' '3000/44' '3000/48' '3000/64' '3000/88' '3000/iii'\n",
      " '3033:s' '3033:u' '3081' '3081:d' '3083:b' '3083:e' '32' '32/60' '3205'\n",
      " '3210' '3230' '370/125-2' '370/148' '370/158-3' '38/3' '38/4' '38/5'\n",
      " '38/7' '38/8' '4321' '4331-1' '4331-11' '4331-2' '4341' '4341-1'\n",
      " '4341-10' '4341-11' '4341-12' '4341-2' '4341-9' '4361-4' '4361-5'\n",
      " '4381-1' '4381-2' '4436' '4443' '4445' '4446' '4460' '4480' '470v/7'\n",
      " '470v/7a' '470v/7b' '470v/7c' '470v/b' '50-2250' '50-250-ii' '50-550-ii'\n",
      " '50-750-ii' '50-850-ii' '500' '5000' '580-5840' '580-5850' '580-5860'\n",
      " '580-5880' '600' '68/10-80' '7.521' '7.531' '7.536' '7.541' '7.551'\n",
      " '7.561' '7.865-2' '7.870-2' '7.872-2' '7.875-2' '7.880-2' '7.881-2'\n",
      " '7/65' '7/68' '700' '80' '80/3' '80/4' '80/5' '80/6' '80/8' '800' '8000'\n",
      " '8130-a' '8130-b' '8140' '8890/30' '8890/50' '8890/70' '90/80-model-3'\n",
      " 'as/3000' 'as/3000-n' 'as/5000' 'as/5000-e' 'as/5000-n' 'as/6130'\n",
      " 'as/6150' 'as/6620' 'as/6630' 'as/6650' 'as/7000' 'as/7000-n' 'as/8040'\n",
      " 'as/8050' 'as/8060' 'as/9000-dpc' 'as/9000-n' 'as/9040' 'as/9060' 'b1955'\n",
      " 'b2900' 'b2925' 'b4955' 'b5900' 'b5920' 'b6900' 'b6925' 'concept:32/8705'\n",
      " 'concept:32/8750' 'concept:32/8780' 'cyber:170/750' 'cyber:170/760'\n",
      " 'cyber:170/815' 'cyber:170/825' 'cyber:170/835' 'cyber:170/845'\n",
      " 'decsys:10:1091' 'decsys:20:2060' 'dn320' 'dn420' 'dps:6/35' 'dps:6/92'\n",
      " 'dps:6/96' 'dps:7/35' 'dps:7/45' 'dps:7/55' 'dps:7/65' 'dps:8/20'\n",
      " 'dps:8/44' 'dps:8/49' 'dps:8/50' 'dps:8/52' 'dps:8/62' 'eclipse:c/350'\n",
      " 'eclipse:m/600' 'eclipse:mv/10000' 'eclipse:mv/4000' 'eclipse:mv/6000'\n",
      " 'eclipse:mv/8000' 'eclipse:mv/8000-ii' 'f4000/100' 'f4000/200'\n",
      " 'f4000/200ap' 'f4000/300' 'f4000/300ap' 'm80/30' 'm80/31' 'm80/32'\n",
      " 'm80/42' 'm80/43' 'm80/44' 'microvax-1' 'omega:480-i' 'omega:480-ii'\n",
      " 'omega:480-iii' 'seq.ms/3200' 'universe:2203t' 'universe:68'\n",
      " 'universe:68/05' 'universe:68/137' 'universe:68/37' 'v8535:ii' 'v8545:ii'\n",
      " 'v8555:ii' 'v8565:ii' 'v8565:ii-e' 'v8575:ii' 'v8585:ii' 'v8595:ii'\n",
      " 'v8635' 'v8650' 'v8655' 'v8665' 'v8670' 'vax:11/730' 'vax:11/750'\n",
      " 'vax:11/780' 'vs-100' 'vs-90']\n",
      "MYCT :  [  17   23   25   26   29   30   35   38   40   48   50   52   56   57\n",
      "   59   60   64   70   72   75   84   90   92   98  100  105  110  112\n",
      "  115  116  124  125  133  140  143  150  160  167  175  180  185  200\n",
      "  203  220  225  240  250  300  320  330  350  400  480  600  700  800\n",
      "  810  900 1100 1500]\n",
      "MMIN :  [   64    96   128   192   256   262   384   500   512   524   768  1000\n",
      "  1310  1500  2000  2300  2620  3000  3100  4000  5000  5240  8000 16000\n",
      " 32000]\n",
      "MMAX :  [   64   512   768  1000  1500  2000  2620  3000  3500  4000  4500  5000\n",
      "  6000  6200  6300  8000 10480 12000 16000 20970 24000 32000 64000]\n",
      "CACH :  [  0   1   2   4   6   8   9  12  16  24  30  32  48  64  65  96 112 128\n",
      " 131 142 160 256]\n",
      "CHMIN :  [ 0  1  2  3  4  5  6  7  8 12 16 24 26 32 52]\n",
      "CHMAX :  [  0   1   2   3   4   5   6   7   8  10  12  13  14  15  16  19  20  24\n",
      "  26  28  31  32  38  48  52  54  64 104 112 128 176]\n",
      "PRP :  [   6    7    8   10   11   12   13   14   16   17   18   19   20   21\n",
      "   22   23   24   25   26   27   28   29   30   31   32   33   34   35\n",
      "   36   37   38   40   41   42   44   45   46   49   50   51   52   53\n",
      "   54   56   58   60   61   62   63   64   65   66   67   69   70   71\n",
      "   72   74   75   76   77   80   84   86   92   93  100  105  106  109\n",
      "  111  113  114  116  120  130  132  133  134  136  138  140  141  143\n",
      "  144  172  173  185  188  189  198  208  212  214  220  237  248  259\n",
      "  269  274  277  307  318  326  367  368  370  397  405  465  489  510\n",
      "  636  915 1144 1150]\n",
      "ERP :  [  15   17   18   19   20   21   22   23   24   25   26   27   28   29\n",
      "   30   31   32   33   34   35   36   37   38   39   40   41   42   43\n",
      "   44   45   46   47   48   50   52   53   54   56   57   59   62   64\n",
      "   65   67   70   72   73   74   75   76   78   80   81   82   86   88\n",
      "   95   99  101  102  107  113  116  117  119  120  124  126  128  132\n",
      "  136  138  142  149  151  157  171  175  181  182  183  190  199  220\n",
      "  227  253  266  267  270  275  281  290  341  350  360  361  381  382\n",
      "  426  603  749  919  978 1238]\n"
     ]
    }
   ],
   "source": [
    "print(\"vendor name : \", np.unique(df['vendor name'].values))\n",
    "print(\"model name : \", np.unique(df['model name'].values))\n",
    "print(\"MYCT : \", np.unique(df['MYCT'].values))\n",
    "print(\"MMIN : \", np.unique(df['MMIN'].values))\n",
    "print(\"MMAX : \", np.unique(df['MMAX'].values))\n",
    "print(\"CACH : \", np.unique(df['CACH'].values))\n",
    "print(\"CHMIN : \", np.unique(df['CHMIN'].values))\n",
    "print(\"CHMAX : \", np.unique(df['CHMAX'].values))\n",
    "print(\"PRP : \", np.unique(df['PRP'].values))\n",
    "print(\"ERP : \", np.unique(df['ERP'].values))"
   ]
  },
  {
   "cell_type": "code",
   "execution_count": 6,
   "metadata": {
    "collapsed": true
   },
   "outputs": [],
   "source": [
    "df.drop(['model name', 'vendor name'], axis=1, inplace=True) # keep ordinal values only"
   ]
  },
  {
   "cell_type": "code",
   "execution_count": 7,
   "metadata": {
    "collapsed": false
   },
   "outputs": [
    {
     "data": {
      "text/html": [
       "<div>\n",
       "<style scoped>\n",
       "    .dataframe tbody tr th:only-of-type {\n",
       "        vertical-align: middle;\n",
       "    }\n",
       "\n",
       "    .dataframe tbody tr th {\n",
       "        vertical-align: top;\n",
       "    }\n",
       "\n",
       "    .dataframe thead th {\n",
       "        text-align: right;\n",
       "    }\n",
       "</style>\n",
       "<table border=\"1\" class=\"dataframe\">\n",
       "  <thead>\n",
       "    <tr style=\"text-align: right;\">\n",
       "      <th></th>\n",
       "      <th>MYCT</th>\n",
       "      <th>MMIN</th>\n",
       "      <th>MMAX</th>\n",
       "      <th>CACH</th>\n",
       "      <th>CHMIN</th>\n",
       "      <th>CHMAX</th>\n",
       "      <th>PRP</th>\n",
       "      <th>ERP</th>\n",
       "    </tr>\n",
       "  </thead>\n",
       "  <tbody>\n",
       "    <tr>\n",
       "      <th>196</th>\n",
       "      <td>50</td>\n",
       "      <td>2000</td>\n",
       "      <td>32000</td>\n",
       "      <td>112</td>\n",
       "      <td>52</td>\n",
       "      <td>104</td>\n",
       "      <td>307</td>\n",
       "      <td>341</td>\n",
       "    </tr>\n",
       "    <tr>\n",
       "      <th>122</th>\n",
       "      <td>1500</td>\n",
       "      <td>768</td>\n",
       "      <td>1000</td>\n",
       "      <td>0</td>\n",
       "      <td>0</td>\n",
       "      <td>0</td>\n",
       "      <td>12</td>\n",
       "      <td>18</td>\n",
       "    </tr>\n",
       "    <tr>\n",
       "      <th>117</th>\n",
       "      <td>225</td>\n",
       "      <td>1000</td>\n",
       "      <td>4000</td>\n",
       "      <td>2</td>\n",
       "      <td>3</td>\n",
       "      <td>6</td>\n",
       "      <td>24</td>\n",
       "      <td>26</td>\n",
       "    </tr>\n",
       "    <tr>\n",
       "      <th>177</th>\n",
       "      <td>160</td>\n",
       "      <td>512</td>\n",
       "      <td>2000</td>\n",
       "      <td>2</td>\n",
       "      <td>3</td>\n",
       "      <td>8</td>\n",
       "      <td>32</td>\n",
       "      <td>20</td>\n",
       "    </tr>\n",
       "    <tr>\n",
       "      <th>47</th>\n",
       "      <td>810</td>\n",
       "      <td>1000</td>\n",
       "      <td>5000</td>\n",
       "      <td>0</td>\n",
       "      <td>1</td>\n",
       "      <td>1</td>\n",
       "      <td>20</td>\n",
       "      <td>28</td>\n",
       "    </tr>\n",
       "  </tbody>\n",
       "</table>\n",
       "</div>"
      ],
      "text/plain": [
       "     MYCT  MMIN   MMAX  CACH  CHMIN  CHMAX  PRP  ERP\n",
       "196    50  2000  32000   112     52    104  307  341\n",
       "122  1500   768   1000     0      0      0   12   18\n",
       "117   225  1000   4000     2      3      6   24   26\n",
       "177   160   512   2000     2      3      8   32   20\n",
       "47    810  1000   5000     0      1      1   20   28"
      ]
     },
     "execution_count": 7,
     "metadata": {},
     "output_type": "execute_result"
    }
   ],
   "source": [
    "df.sample(5)"
   ]
  },
  {
   "cell_type": "code",
   "execution_count": 8,
   "metadata": {
    "collapsed": false
   },
   "outputs": [],
   "source": [
    "df['PRP'] = df['PRP'].astype(int)"
   ]
  },
  {
   "cell_type": "code",
   "execution_count": 9,
   "metadata": {
    "collapsed": false
   },
   "outputs": [],
   "source": [
    "df.loc[(df['PRP'] >= 0) & (df['PRP'] <= 20),'PRP'] = -1\n",
    "df.loc[(df['PRP'] >= 21) & (df['PRP'] <= 100),'PRP'] = -2\n",
    "df.loc[(df['PRP'] >= 101) & (df['PRP'] <= 200),'PRP'] = -3\n",
    "df.loc[(df['PRP'] >= 201) & (df['PRP'] <= 300),'PRP'] = -4\n",
    "df.loc[(df['PRP'] >= 301) & (df['PRP'] <= 400),'PRP'] = -5\n",
    "df.loc[(df['PRP'] >= 401)& (df['PRP'] <= 500),'PRP'] = -6\n",
    "df.loc[(df['PRP'] >= 501) & (df['PRP'] <= 600),'PRP'] = -7\n",
    "df.loc[df['PRP'] >= 601,'PRP'] = -8"
   ]
  },
  {
   "cell_type": "code",
   "execution_count": 10,
   "metadata": {
    "collapsed": true
   },
   "outputs": [],
   "source": [
    "df.loc[df['PRP'] == -1, 'PRP'] = 1\n",
    "df.loc[df['PRP'] == -2, 'PRP'] = 2\n",
    "df.loc[df['PRP'] == -3, 'PRP'] = 3\n",
    "df.loc[df['PRP'] == -4, 'PRP'] = 4\n",
    "df.loc[df['PRP'] == -5, 'PRP'] = 5\n",
    "df.loc[df['PRP'] == -6, 'PRP'] = 6\n",
    "df.loc[df['PRP'] == -7, 'PRP'] = 7\n",
    "df.loc[df['PRP'] == -8, 'PRP'] = 8"
   ]
  },
  {
   "cell_type": "code",
   "execution_count": 11,
   "metadata": {
    "collapsed": true
   },
   "outputs": [],
   "source": [
    "df = df[['PRP', 'MYCT', 'MMIN', 'MMAX', 'CACH', 'CHMIN', 'CHMAX', 'ERP']]"
   ]
  },
  {
   "cell_type": "code",
   "execution_count": 12,
   "metadata": {
    "collapsed": true
   },
   "outputs": [],
   "source": [
    "df['PRP'] = df['PRP'].astype(int)"
   ]
  },
  {
   "cell_type": "code",
   "execution_count": 13,
   "metadata": {
    "collapsed": false
   },
   "outputs": [
    {
     "data": {
      "text/html": [
       "<div>\n",
       "<style scoped>\n",
       "    .dataframe tbody tr th:only-of-type {\n",
       "        vertical-align: middle;\n",
       "    }\n",
       "\n",
       "    .dataframe tbody tr th {\n",
       "        vertical-align: top;\n",
       "    }\n",
       "\n",
       "    .dataframe thead th {\n",
       "        text-align: right;\n",
       "    }\n",
       "</style>\n",
       "<table border=\"1\" class=\"dataframe\">\n",
       "  <thead>\n",
       "    <tr style=\"text-align: right;\">\n",
       "      <th></th>\n",
       "      <th>PRP</th>\n",
       "      <th>MYCT</th>\n",
       "      <th>MMIN</th>\n",
       "      <th>MMAX</th>\n",
       "      <th>CACH</th>\n",
       "      <th>CHMIN</th>\n",
       "      <th>CHMAX</th>\n",
       "      <th>ERP</th>\n",
       "    </tr>\n",
       "  </thead>\n",
       "  <tbody>\n",
       "    <tr>\n",
       "      <th>106</th>\n",
       "      <td>2</td>\n",
       "      <td>400</td>\n",
       "      <td>4000</td>\n",
       "      <td>8000</td>\n",
       "      <td>0</td>\n",
       "      <td>1</td>\n",
       "      <td>1</td>\n",
       "      <td>45</td>\n",
       "    </tr>\n",
       "    <tr>\n",
       "      <th>155</th>\n",
       "      <td>5</td>\n",
       "      <td>38</td>\n",
       "      <td>8000</td>\n",
       "      <td>32000</td>\n",
       "      <td>64</td>\n",
       "      <td>8</td>\n",
       "      <td>24</td>\n",
       "      <td>267</td>\n",
       "    </tr>\n",
       "    <tr>\n",
       "      <th>184</th>\n",
       "      <td>2</td>\n",
       "      <td>105</td>\n",
       "      <td>2000</td>\n",
       "      <td>6000</td>\n",
       "      <td>16</td>\n",
       "      <td>6</td>\n",
       "      <td>16</td>\n",
       "      <td>41</td>\n",
       "    </tr>\n",
       "  </tbody>\n",
       "</table>\n",
       "</div>"
      ],
      "text/plain": [
       "     PRP  MYCT  MMIN   MMAX  CACH  CHMIN  CHMAX  ERP\n",
       "106    2   400  4000   8000     0      1      1   45\n",
       "155    5    38  8000  32000    64      8     24  267\n",
       "184    2   105  2000   6000    16      6     16   41"
      ]
     },
     "execution_count": 13,
     "metadata": {},
     "output_type": "execute_result"
    }
   ],
   "source": [
    "df.sample(3)"
   ]
  },
  {
   "cell_type": "code",
   "execution_count": 14,
   "metadata": {
    "collapsed": false
   },
   "outputs": [],
   "source": [
    "vectors = df.values\n",
    "dataset = LabeledSet(7)\n",
    "dataset.addExamples(vectors[:,1:], vectors[:,0:1])"
   ]
  },
  {
   "cell_type": "code",
   "execution_count": 15,
   "metadata": {
    "collapsed": false
   },
   "outputs": [
    {
     "data": {
      "text/plain": [
       "0.0012881854987118145"
      ]
     },
     "execution_count": 15,
     "metadata": {},
     "output_type": "execute_result"
    }
   ],
   "source": [
    "NMI1(dataset)"
   ]
  },
  {
   "cell_type": "code",
   "execution_count": 21,
   "metadata": {
    "collapsed": false
   },
   "outputs": [],
   "source": [
    "folds = get_folds(dataset, 2)"
   ]
  },
  {
   "cell_type": "code",
   "execution_count": 32,
   "metadata": {
    "collapsed": true
   },
   "outputs": [],
   "source": [
    "g = Log()\n",
    "h = Sum()\n",
    "\n",
    "# rank Shannon discrimination measure\n",
    "f_r = Dsr()\n",
    "rsdm = Gdm(h, g, f_r)\n",
    "\n",
    "# conditional Shannon entropy\n",
    "f = Ds()\n",
    "sdm = Gdm(h, g, f)\n",
    "\n",
    "# pessimistic rank discrimination measure\n",
    "f_p = Mindsr()\n",
    "g_p = Frac() \n",
    "prdm = Gdm(h, g_p, f_p)\n",
    "\n",
    "# rank Gini discrimination measure \n",
    "g_g = One_minus()\n",
    "rgdm = Gdm(h, g_g, f_r)\n",
    "\n",
    "# Gini discrimination measure\n",
    "gdm = Gdm(h, g_g, f)\n",
    "\n",
    "# H_M\n",
    "h_m = Max()\n",
    "g_m = One_minus_square()\n",
    "H_m = Gdm(h_m, g_m, f_r)\n",
    "\n",
    "# H_Q\n",
    "f_q = Avgdsr()\n",
    "h_q = Square_root()\n",
    "H_q = Gdm(h_q, g_g, f_q)"
   ]
  },
  {
   "cell_type": "code",
   "execution_count": 26,
   "metadata": {
    "collapsed": false
   },
   "outputs": [
    {
     "name": "stdout",
     "output_type": "stream",
     "text": [
      "average accuracy :  0.5308608058608059\n",
      "average depth :  10.5\n",
      "average number of leaves :  23.5\n",
      "average ratio between number of pairwise non-monotone label comparisons and number of pairs :  0.9053021978021978\n",
      "average number of pairs used for ratio computing :  5.0\n"
     ]
    }
   ],
   "source": [
    "# Rank Shannon discrimination measure\n",
    "avg_accuracy = 0\n",
    "avg_leaves = 0\n",
    "avg_depth = 0\n",
    "avg_ratio = 0\n",
    "avg_pairs = 0\n",
    "\n",
    "for i in range(2):\n",
    "    test_set = folds[i]\n",
    "    train_set = LabeledSet(7)\n",
    "    for j in range(0, 2):\n",
    "        if i != j:\n",
    "            train_set.addExamples(folds[j].x, folds[j].y)\n",
    "    tree = RDMT(rsdm, \"shannon\", 0, 100, 0.01 * train_set.size(), [1, 2])\n",
    "    tree.train(train_set)\n",
    "    avg_accuracy += tree.accuracy(test_set)\n",
    "    avg_leaves += tree.get_nb_leaves()\n",
    "    avg_depth += tree.get_depth()\n",
    "    avg_ratio += tree.get_ratio_non_monotone_pairs() \n",
    "    avg_pairs += tree.get_total_pairs()\n",
    "        \n",
    "avg_accuracy = avg_accuracy * (1.0/2)\n",
    "avg_leaves = avg_leaves * (1.0/2)\n",
    "avg_depth = avg_depth * (1.0/2)\n",
    "avg_ratio = avg_ratio * (1.0/2)\n",
    "avg_pairs = avg_pairs * (1.0/2)\n",
    "\n",
    "print(\"average accuracy : \", avg_accuracy)\n",
    "print(\"average depth : \", avg_depth)\n",
    "print(\"average number of leaves : \", avg_leaves)\n",
    "print(\"average ratio between number of pairwise non-monotone label comparisons and number of pairs : \", avg_ratio)\n",
    "print(\"average number of pairs used for ratio computing : \", avg_pairs)"
   ]
  },
  {
   "cell_type": "code",
   "execution_count": 27,
   "metadata": {
    "collapsed": false
   },
   "outputs": [
    {
     "name": "stdout",
     "output_type": "stream",
     "text": [
      "average accuracy :  0.530952380952381\n",
      "average depth :  9.0\n",
      "average number of leaves :  18.5\n",
      "average ratio between number of pairwise non-monotone label comparisons and number of pairs :  0.9425824175824176\n",
      "average number of pairs used for ratio computing :  4.0\n"
     ]
    }
   ],
   "source": [
    "# Shannon entropy \n",
    "\n",
    "avg_accuracy = 0\n",
    "avg_leaves = 0\n",
    "avg_depth = 0\n",
    "avg_ratio = 0\n",
    "avg_pairs = 0\n",
    "\n",
    "for i in range(2):\n",
    "    test_set = folds[i]\n",
    "    train_set = LabeledSet(7)\n",
    "    for j in range(0, 2):\n",
    "        if i != j:\n",
    "            train_set.addExamples(folds[j].x, folds[j].y)\n",
    "    tree = RDMT(sdm, \"shannon\", 0, 100, 0.01 * train_set.size(), [1, 2])\n",
    "    tree.train(train_set)\n",
    "    avg_accuracy += tree.accuracy(test_set)\n",
    "    avg_leaves += tree.get_nb_leaves()\n",
    "    avg_depth += tree.get_depth()\n",
    "    avg_ratio += tree.get_ratio_non_monotone_pairs() \n",
    "    avg_pairs += tree.get_total_pairs()\n",
    "        \n",
    "avg_accuracy = avg_accuracy * (1.0/2)\n",
    "avg_leaves = avg_leaves * (1.0/2)\n",
    "avg_depth = avg_depth * (1.0/2)\n",
    "avg_ratio = avg_ratio * (1.0/2)\n",
    "avg_pairs = avg_pairs * (1.0/2)\n",
    "\n",
    "print(\"average accuracy : \", avg_accuracy)\n",
    "print(\"average depth : \", avg_depth)\n",
    "print(\"average number of leaves : \", avg_leaves)\n",
    "print(\"average ratio between number of pairwise non-monotone label comparisons and number of pairs : \", avg_ratio)\n",
    "print(\"average number of pairs used for ratio computing : \", avg_pairs)"
   ]
  },
  {
   "cell_type": "code",
   "execution_count": 29,
   "metadata": {
    "collapsed": false
   },
   "outputs": [
    {
     "name": "stdout",
     "output_type": "stream",
     "text": [
      "average accuracy :  0.5550366300366301\n",
      "average depth :  11.0\n",
      "average number of leaves :  25.5\n",
      "average ratio between number of pairwise non-monotone label comparisons and number of pairs :  0.8728296703296704\n",
      "average number of pairs used for ratio computing :  5.0\n"
     ]
    }
   ],
   "source": [
    "# Pessimistic rank discrimination measure\n",
    "\n",
    "avg_accuracy = 0\n",
    "avg_leaves = 0\n",
    "avg_depth = 0\n",
    "avg_ratio = 0\n",
    "avg_pairs = 0\n",
    "\n",
    "for i in range(2):\n",
    "    test_set = folds[i]\n",
    "    train_set = LabeledSet(7)\n",
    "    for j in range(0, 2):\n",
    "        if i != j:\n",
    "            train_set.addExamples(folds[j].x, folds[j].y)\n",
    "    tree = RDMT(prdm, \"shannon\", 0, 100, 0.01 * train_set.size(), [1, 2])\n",
    "    tree.train(train_set)\n",
    "    avg_accuracy += tree.accuracy(test_set)\n",
    "    avg_leaves += tree.get_nb_leaves()\n",
    "    avg_depth += tree.get_depth()\n",
    "    avg_ratio += tree.get_ratio_non_monotone_pairs() \n",
    "    avg_pairs += tree.get_total_pairs()\n",
    "        \n",
    "avg_accuracy = avg_accuracy * (1.0/2)\n",
    "avg_leaves = avg_leaves * (1.0/2)\n",
    "avg_depth = avg_depth * (1.0/2)\n",
    "avg_ratio = avg_ratio * (1.0/2)\n",
    "avg_pairs = avg_pairs * (1.0/2)\n",
    "\n",
    "print(\"average accuracy : \", avg_accuracy)\n",
    "print(\"average depth : \", avg_depth)\n",
    "print(\"average number of leaves : \", avg_leaves)\n",
    "print(\"average ratio between number of pairwise non-monotone label comparisons and number of pairs : \", avg_ratio)\n",
    "print(\"average number of pairs used for ratio computing : \", avg_pairs)"
   ]
  },
  {
   "cell_type": "code",
   "execution_count": 30,
   "metadata": {
    "collapsed": false
   },
   "outputs": [
    {
     "name": "stdout",
     "output_type": "stream",
     "text": [
      "average accuracy :  0.5213369963369964\n",
      "average depth :  10.0\n",
      "average number of leaves :  25.0\n",
      "average ratio between number of pairwise non-monotone label comparisons and number of pairs :  0.8946428571428571\n",
      "average number of pairs used for ratio computing :  6.0\n"
     ]
    }
   ],
   "source": [
    "# Rank Gini discrimination measure\n",
    "avg_accuracy = 0\n",
    "avg_leaves = 0\n",
    "avg_depth = 0\n",
    "avg_ratio = 0\n",
    "avg_pairs = 0\n",
    "\n",
    "for i in range(2):\n",
    "    test_set = folds[i]\n",
    "    train_set = LabeledSet(7)\n",
    "    for j in range(0, 2):\n",
    "        if i != j:\n",
    "            train_set.addExamples(folds[j].x, folds[j].y)\n",
    "    tree = RDMT(rgdm, \"shannon\", 0, 100, 0.01 * train_set.size(), [1, 2])\n",
    "    tree.train(train_set)\n",
    "    avg_accuracy += tree.accuracy(test_set)\n",
    "    avg_leaves += tree.get_nb_leaves()\n",
    "    avg_depth += tree.get_depth()\n",
    "    avg_ratio += tree.get_ratio_non_monotone_pairs() \n",
    "    avg_pairs += tree.get_total_pairs()\n",
    "        \n",
    "avg_accuracy = avg_accuracy * (1.0/2)\n",
    "avg_leaves = avg_leaves * (1.0/2)\n",
    "avg_depth = avg_depth * (1.0/2)\n",
    "avg_ratio = avg_ratio * (1.0/2)\n",
    "avg_pairs = avg_pairs * (1.0/2)\n",
    "\n",
    "print(\"average accuracy : \", avg_accuracy)\n",
    "print(\"average depth : \", avg_depth)\n",
    "print(\"average number of leaves : \", avg_leaves)\n",
    "print(\"average ratio between number of pairwise non-monotone label comparisons and number of pairs : \", avg_ratio)\n",
    "print(\"average number of pairs used for ratio computing : \", avg_pairs)"
   ]
  },
  {
   "cell_type": "code",
   "execution_count": 33,
   "metadata": {
    "collapsed": false
   },
   "outputs": [
    {
     "name": "stdout",
     "output_type": "stream",
     "text": [
      "average accuracy :  0.5500915750915751\n",
      "average depth :  8.5\n",
      "average number of leaves :  19.5\n",
      "average ratio between number of pairwise non-monotone label comparisons and number of pairs :  0.9090201465201466\n",
      "average number of pairs used for ratio computing :  5.0\n"
     ]
    }
   ],
   "source": [
    "# Gini discrimination measure\n",
    "avg_accuracy = 0\n",
    "avg_leaves = 0\n",
    "avg_depth = 0\n",
    "avg_ratio = 0\n",
    "avg_pairs = 0\n",
    "\n",
    "for i in range(2):\n",
    "    test_set = folds[i]\n",
    "    train_set = LabeledSet(7)\n",
    "    for j in range(0, 2):\n",
    "        if i != j:\n",
    "            train_set.addExamples(folds[j].x, folds[j].y)\n",
    "    tree = RDMT(gdm, \"shannon\", 0, 100, 0.01 * train_set.size(), [1, 2])\n",
    "    tree.train(train_set)\n",
    "    avg_accuracy += tree.accuracy(test_set)\n",
    "    avg_leaves += tree.get_nb_leaves()\n",
    "    avg_depth += tree.get_depth()\n",
    "    avg_ratio += tree.get_ratio_non_monotone_pairs() \n",
    "    avg_pairs += tree.get_total_pairs()\n",
    "        \n",
    "avg_accuracy = avg_accuracy * (1.0/2)\n",
    "avg_leaves = avg_leaves * (1.0/2)\n",
    "avg_depth = avg_depth * (1.0/2)\n",
    "avg_ratio = avg_ratio * (1.0/2)\n",
    "avg_pairs = avg_pairs * (1.0/2)\n",
    "\n",
    "print(\"average accuracy : \", avg_accuracy)\n",
    "print(\"average depth : \", avg_depth)\n",
    "print(\"average number of leaves : \", avg_leaves)\n",
    "print(\"average ratio between number of pairwise non-monotone label comparisons and number of pairs : \", avg_ratio)\n",
    "print(\"average number of pairs used for ratio computing : \", avg_pairs)"
   ]
  },
  {
   "cell_type": "code",
   "execution_count": 35,
   "metadata": {
    "collapsed": false
   },
   "outputs": [
    {
     "name": "stdout",
     "output_type": "stream",
     "text": [
      "average accuracy :  0.545467032967033\n",
      "average depth :  14.5\n",
      "average number of leaves :  31.5\n",
      "average ratio between number of pairwise non-monotone label comparisons and number of pairs :  0.8494276556776557\n",
      "average number of pairs used for ratio computing :  6.0\n"
     ]
    }
   ],
   "source": [
    "# H_M\n",
    "avg_accuracy = 0\n",
    "avg_leaves = 0\n",
    "avg_depth = 0\n",
    "avg_ratio = 0\n",
    "avg_pairs = 0\n",
    "\n",
    "for i in range(2):\n",
    "    test_set = folds[i]\n",
    "    train_set = LabeledSet(7)\n",
    "    for j in range(0, 2):\n",
    "        if i != j:\n",
    "            train_set.addExamples(folds[j].x, folds[j].y)\n",
    "    tree = RDMT(H_m, \"shannon\", 0, 100, 0.01 * train_set.size(), [1, 2])\n",
    "    tree.train(train_set)\n",
    "    avg_accuracy += tree.accuracy(test_set)\n",
    "    avg_leaves += tree.get_nb_leaves()\n",
    "    avg_depth += tree.get_depth()\n",
    "    avg_ratio += tree.get_ratio_non_monotone_pairs() \n",
    "    avg_pairs += tree.get_total_pairs()\n",
    "        \n",
    "avg_accuracy = avg_accuracy * (1.0/2)\n",
    "avg_leaves = avg_leaves * (1.0/2)\n",
    "avg_depth = avg_depth * (1.0/2)\n",
    "avg_ratio = avg_ratio * (1.0/2)\n",
    "avg_pairs = avg_pairs * (1.0/2)\n",
    "\n",
    "print(\"average accuracy : \", avg_accuracy)\n",
    "print(\"average depth : \", avg_depth)\n",
    "print(\"average number of leaves : \", avg_leaves)\n",
    "print(\"average ratio between number of pairwise non-monotone label comparisons and number of pairs : \", avg_ratio)\n",
    "print(\"average number of pairs used for ratio computing : \", avg_pairs)"
   ]
  },
  {
   "cell_type": "code",
   "execution_count": 36,
   "metadata": {
    "collapsed": false
   },
   "outputs": [
    {
     "name": "stdout",
     "output_type": "stream",
     "text": [
      "average accuracy :  0.5403846153846154\n",
      "average depth :  11.0\n",
      "average number of leaves :  28.0\n",
      "average ratio between number of pairwise non-monotone label comparisons and number of pairs :  0.6313553113553114\n",
      "average number of pairs used for ratio computing :  8.0\n"
     ]
    }
   ],
   "source": [
    "# H_Q\n",
    "avg_accuracy = 0\n",
    "avg_leaves = 0\n",
    "avg_depth = 0\n",
    "avg_ratio = 0\n",
    "avg_pairs = 0\n",
    "\n",
    "for i in range(2):\n",
    "    test_set = folds[i]\n",
    "    train_set = LabeledSet(7)\n",
    "    for j in range(0, 2):\n",
    "        if i != j:\n",
    "            train_set.addExamples(folds[j].x, folds[j].y)\n",
    "    tree = RDMT(H_q, \"shannon\", 0, 100, 0.01 * train_set.size(), [1, 2])\n",
    "    tree.train(train_set)\n",
    "    avg_accuracy += tree.accuracy(test_set)\n",
    "    avg_leaves += tree.get_nb_leaves()\n",
    "    avg_depth += tree.get_depth()\n",
    "    avg_ratio += tree.get_ratio_non_monotone_pairs() \n",
    "    avg_pairs += tree.get_total_pairs()\n",
    "        \n",
    "avg_accuracy = avg_accuracy * (1.0/2)\n",
    "avg_leaves = avg_leaves * (1.0/2)\n",
    "avg_depth = avg_depth * (1.0/2)\n",
    "avg_ratio = avg_ratio * (1.0/2)\n",
    "avg_pairs = avg_pairs * (1.0/2)\n",
    "\n",
    "print(\"average accuracy : \", avg_accuracy)\n",
    "print(\"average depth : \", avg_depth)\n",
    "print(\"average number of leaves : \", avg_leaves)\n",
    "print(\"average ratio between number of pairwise non-monotone label comparisons and number of pairs : \", avg_ratio)\n",
    "print(\"average number of pairs used for ratio computing : \", avg_pairs)"
   ]
  }
 ],
 "metadata": {
  "kernelspec": {
   "display_name": "Python 3",
   "language": "python",
   "name": "python3"
  },
  "language_info": {
   "codemirror_mode": {
    "name": "ipython",
    "version": 3
   },
   "file_extension": ".py",
   "mimetype": "text/x-python",
   "name": "python",
   "nbconvert_exporter": "python",
   "pygments_lexer": "ipython3",
   "version": "3.6.3"
  }
 },
 "nbformat": 4,
 "nbformat_minor": 2
}
