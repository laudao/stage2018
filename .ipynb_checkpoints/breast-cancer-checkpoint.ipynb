{
 "cells": [
  {
   "cell_type": "code",
   "execution_count": 65,
   "metadata": {},
   "outputs": [
    {
     "name": "stdout",
     "output_type": "stream",
     "text": [
      "The autoreload extension is already loaded. To reload it, use:\n",
      "  %reload_ext autoreload\n"
     ]
    }
   ],
   "source": [
    "%load_ext autoreload\n",
    "%autoreload 2\n",
    "from utils import *"
   ]
  },
  {
   "cell_type": "code",
   "execution_count": 26,
   "metadata": {},
   "outputs": [],
   "source": [
    "df = pd.read_csv(\"breast_cancer.csv\")"
   ]
  },
  {
   "cell_type": "code",
   "execution_count": 27,
   "metadata": {},
   "outputs": [
    {
     "data": {
      "text/html": [
       "<div>\n",
       "<style scoped>\n",
       "    .dataframe tbody tr th:only-of-type {\n",
       "        vertical-align: middle;\n",
       "    }\n",
       "\n",
       "    .dataframe tbody tr th {\n",
       "        vertical-align: top;\n",
       "    }\n",
       "\n",
       "    .dataframe thead th {\n",
       "        text-align: right;\n",
       "    }\n",
       "</style>\n",
       "<table border=\"1\" class=\"dataframe\">\n",
       "  <thead>\n",
       "    <tr style=\"text-align: right;\">\n",
       "      <th></th>\n",
       "      <th>class</th>\n",
       "      <th>age</th>\n",
       "      <th>menopause</th>\n",
       "      <th>tumor-size</th>\n",
       "      <th>inv-nodes</th>\n",
       "      <th>node-caps</th>\n",
       "      <th>deg-malig</th>\n",
       "      <th>breast</th>\n",
       "      <th>breast-quad</th>\n",
       "      <th>irradiat</th>\n",
       "    </tr>\n",
       "  </thead>\n",
       "  <tbody>\n",
       "    <tr>\n",
       "      <th>50</th>\n",
       "      <td>no-recurrence-events</td>\n",
       "      <td>50-59</td>\n",
       "      <td>lt40</td>\n",
       "      <td>15-19</td>\n",
       "      <td>0-2</td>\n",
       "      <td>no</td>\n",
       "      <td>2</td>\n",
       "      <td>left</td>\n",
       "      <td>left_low</td>\n",
       "      <td>no</td>\n",
       "    </tr>\n",
       "    <tr>\n",
       "      <th>80</th>\n",
       "      <td>no-recurrence-events</td>\n",
       "      <td>50-59</td>\n",
       "      <td>ge40</td>\n",
       "      <td>10-14</td>\n",
       "      <td>0-2</td>\n",
       "      <td>no</td>\n",
       "      <td>2</td>\n",
       "      <td>right</td>\n",
       "      <td>left_low</td>\n",
       "      <td>no</td>\n",
       "    </tr>\n",
       "    <tr>\n",
       "      <th>235</th>\n",
       "      <td>recurrence-events</td>\n",
       "      <td>50-59</td>\n",
       "      <td>premeno</td>\n",
       "      <td>25-29</td>\n",
       "      <td>3-5</td>\n",
       "      <td>yes</td>\n",
       "      <td>3</td>\n",
       "      <td>left</td>\n",
       "      <td>left_low</td>\n",
       "      <td>yes</td>\n",
       "    </tr>\n",
       "    <tr>\n",
       "      <th>101</th>\n",
       "      <td>no-recurrence-events</td>\n",
       "      <td>50-59</td>\n",
       "      <td>ge40</td>\n",
       "      <td>30-34</td>\n",
       "      <td>0-2</td>\n",
       "      <td>no</td>\n",
       "      <td>3</td>\n",
       "      <td>right</td>\n",
       "      <td>left_low</td>\n",
       "      <td>no</td>\n",
       "    </tr>\n",
       "    <tr>\n",
       "      <th>261</th>\n",
       "      <td>recurrence-events</td>\n",
       "      <td>40-49</td>\n",
       "      <td>ge40</td>\n",
       "      <td>25-29</td>\n",
       "      <td>12-14</td>\n",
       "      <td>yes</td>\n",
       "      <td>3</td>\n",
       "      <td>left</td>\n",
       "      <td>right_low</td>\n",
       "      <td>yes</td>\n",
       "    </tr>\n",
       "  </tbody>\n",
       "</table>\n",
       "</div>"
      ],
      "text/plain": [
       "                    class    age menopause tumor-size inv-nodes node-caps  \\\n",
       "50   no-recurrence-events  50-59      lt40      15-19       0-2        no   \n",
       "80   no-recurrence-events  50-59      ge40      10-14       0-2        no   \n",
       "235     recurrence-events  50-59   premeno      25-29       3-5       yes   \n",
       "101  no-recurrence-events  50-59      ge40      30-34       0-2        no   \n",
       "261     recurrence-events  40-49      ge40      25-29     12-14       yes   \n",
       "\n",
       "     deg-malig breast breast-quad irradiat  \n",
       "50           2   left    left_low       no  \n",
       "80           2  right    left_low       no  \n",
       "235          3   left    left_low      yes  \n",
       "101          3  right    left_low       no  \n",
       "261          3   left   right_low      yes  "
      ]
     },
     "execution_count": 27,
     "metadata": {},
     "output_type": "execute_result"
    }
   ],
   "source": [
    "df.sample(5)"
   ]
  },
  {
   "cell_type": "code",
   "execution_count": 28,
   "metadata": {},
   "outputs": [
    {
     "data": {
      "text/plain": [
       "(286, 10)"
      ]
     },
     "execution_count": 28,
     "metadata": {},
     "output_type": "execute_result"
    }
   ],
   "source": [
    "df.shape"
   ]
  },
  {
   "cell_type": "code",
   "execution_count": 29,
   "metadata": {},
   "outputs": [
    {
     "name": "stdout",
     "output_type": "stream",
     "text": [
      "class :  ['no-recurrence-events' 'recurrence-events']\n",
      "age :  ['20-29' '30-39' '40-49' '50-59' '60-69' '70-79']\n",
      "menopause :  ['ge40' 'lt40' 'premeno']\n",
      "tumor-size :  ['0-4' '10-14' '15-19' '20-24' '25-29' '30-34' '35-39' '40-44' '45-49'\n",
      " '5-9' '50-54']\n",
      "inv-nodes :  ['0-2' '12-14' '15-17' '24-26' '3-5' '6-8' '9-11']\n",
      "node-caps :  ['?' 'no' 'yes']\n",
      "deg-malig :  [1 2 3]\n",
      "breast :  ['left' 'right']\n",
      "breast-quad :  ['?' 'central' 'left_low' 'left_up' 'right_low' 'right_up']\n",
      "irradiat :  ['no' 'yes']\n"
     ]
    }
   ],
   "source": [
    "print(\"class : \", np.unique(df['class'].values))\n",
    "print(\"age : \", np.unique(df['age'].values))\n",
    "print(\"menopause : \", np.unique(df['menopause'].values))\n",
    "print(\"tumor-size : \", np.unique(df['tumor-size'].values))\n",
    "print(\"inv-nodes : \", np.unique(df['inv-nodes'].values))\n",
    "print(\"node-caps : \", np.unique(df['node-caps'].values))\n",
    "print(\"deg-malig : \", np.unique(df['deg-malig'].values))\n",
    "print(\"breast : \", np.unique(df['breast'].values))\n",
    "print(\"breast-quad : \", np.unique(df['breast-quad'].values))\n",
    "print(\"irradiat : \", np.unique(df['irradiat'].values))"
   ]
  },
  {
   "cell_type": "code",
   "execution_count": 30,
   "metadata": {},
   "outputs": [
    {
     "data": {
      "text/plain": [
       "(277, 10)"
      ]
     },
     "execution_count": 30,
     "metadata": {},
     "output_type": "execute_result"
    }
   ],
   "source": [
    "df = df[(df['node-caps'] != '?') & (df['breast-quad'] != '?')]\n",
    "df.shape"
   ]
  },
  {
   "cell_type": "code",
   "execution_count": 31,
   "metadata": {},
   "outputs": [],
   "source": [
    "df.loc[df['class'] == 'recurrence-events','class'] = 1\n",
    "df.loc[df['class'] == 'no-recurrence-events','class'] = 2"
   ]
  },
  {
   "cell_type": "code",
   "execution_count": 32,
   "metadata": {},
   "outputs": [],
   "source": [
    "df.loc[df['age'] == '20-29','age'] = 1\n",
    "df.loc[df['age'] == '30-39','age'] = 2\n",
    "df.loc[df['age'] == '40-49','age'] = 3\n",
    "df.loc[df['age'] == '50-59','age'] = 4\n",
    "df.loc[df['age'] == '60-69','age'] = 5\n",
    "df.loc[df['age'] == '70-79','age'] = 6"
   ]
  },
  {
   "cell_type": "code",
   "execution_count": 33,
   "metadata": {},
   "outputs": [],
   "source": [
    "df.loc[df['menopause'] == 'lt40','menopause'] = 1\n",
    "df.loc[df['menopause'] == 'ge40','menopause'] = 2\n",
    "df.loc[df['menopause'] == 'premeno','menopause'] = 3"
   ]
  },
  {
   "cell_type": "code",
   "execution_count": 34,
   "metadata": {},
   "outputs": [],
   "source": [
    "tumorsize_values = np.array(['0-4', '5-9', '10-14', '15-19', '20-24', '25-29', '30-34', '35-39', '40-44', '45-49', '50-54'])\n",
    "\n",
    "for i in range(len(tumorsize_values)):\n",
    "    tumorsize = tumorsize_values[i]\n",
    "    df.loc[df['tumor-size'] == tumorsize, 'tumor-size'] = i+1"
   ]
  },
  {
   "cell_type": "code",
   "execution_count": 35,
   "metadata": {},
   "outputs": [],
   "source": [
    "invnodes_values = np.array(['0-2', '3-5', '6-8', '9-11', '12-14', '15-17', '24-26'])\n",
    "\n",
    "for i in range(len(invnodes_values)):\n",
    "    invnode = invnodes_values[i]\n",
    "    df.loc[df['inv-nodes'] == invnode, 'inv-nodes'] = i+1"
   ]
  },
  {
   "cell_type": "code",
   "execution_count": 36,
   "metadata": {},
   "outputs": [],
   "source": [
    "df.loc[df['node-caps'] == 'no','node-caps'] = 0\n",
    "df.loc[df['node-caps'] == 'yes','node-caps'] = 1"
   ]
  },
  {
   "cell_type": "code",
   "execution_count": 37,
   "metadata": {},
   "outputs": [],
   "source": [
    "df.loc[df['irradiat'] == 'no','irradiat'] = 0\n",
    "df.loc[df['irradiat'] == 'yes','irradiat'] = 1"
   ]
  },
  {
   "cell_type": "code",
   "execution_count": 38,
   "metadata": {},
   "outputs": [
    {
     "data": {
      "text/html": [
       "<div>\n",
       "<style scoped>\n",
       "    .dataframe tbody tr th:only-of-type {\n",
       "        vertical-align: middle;\n",
       "    }\n",
       "\n",
       "    .dataframe tbody tr th {\n",
       "        vertical-align: top;\n",
       "    }\n",
       "\n",
       "    .dataframe thead th {\n",
       "        text-align: right;\n",
       "    }\n",
       "</style>\n",
       "<table border=\"1\" class=\"dataframe\">\n",
       "  <thead>\n",
       "    <tr style=\"text-align: right;\">\n",
       "      <th></th>\n",
       "      <th>class</th>\n",
       "      <th>age</th>\n",
       "      <th>menopause</th>\n",
       "      <th>tumor-size</th>\n",
       "      <th>inv-nodes</th>\n",
       "      <th>node-caps</th>\n",
       "      <th>deg-malig</th>\n",
       "      <th>irradiat</th>\n",
       "    </tr>\n",
       "  </thead>\n",
       "  <tbody>\n",
       "    <tr>\n",
       "      <th>102</th>\n",
       "      <td>2</td>\n",
       "      <td>4</td>\n",
       "      <td>3</td>\n",
       "      <td>6</td>\n",
       "      <td>1</td>\n",
       "      <td>0</td>\n",
       "      <td>2</td>\n",
       "      <td>0</td>\n",
       "    </tr>\n",
       "    <tr>\n",
       "      <th>65</th>\n",
       "      <td>2</td>\n",
       "      <td>3</td>\n",
       "      <td>3</td>\n",
       "      <td>3</td>\n",
       "      <td>1</td>\n",
       "      <td>0</td>\n",
       "      <td>1</td>\n",
       "      <td>0</td>\n",
       "    </tr>\n",
       "    <tr>\n",
       "      <th>140</th>\n",
       "      <td>2</td>\n",
       "      <td>4</td>\n",
       "      <td>2</td>\n",
       "      <td>9</td>\n",
       "      <td>2</td>\n",
       "      <td>1</td>\n",
       "      <td>2</td>\n",
       "      <td>0</td>\n",
       "    </tr>\n",
       "    <tr>\n",
       "      <th>0</th>\n",
       "      <td>2</td>\n",
       "      <td>2</td>\n",
       "      <td>3</td>\n",
       "      <td>7</td>\n",
       "      <td>1</td>\n",
       "      <td>0</td>\n",
       "      <td>3</td>\n",
       "      <td>0</td>\n",
       "    </tr>\n",
       "    <tr>\n",
       "      <th>132</th>\n",
       "      <td>2</td>\n",
       "      <td>3</td>\n",
       "      <td>3</td>\n",
       "      <td>7</td>\n",
       "      <td>3</td>\n",
       "      <td>0</td>\n",
       "      <td>2</td>\n",
       "      <td>0</td>\n",
       "    </tr>\n",
       "  </tbody>\n",
       "</table>\n",
       "</div>"
      ],
      "text/plain": [
       "     class  age  menopause  tumor-size  inv-nodes  node-caps  deg-malig  \\\n",
       "102      2    4          3           6          1          0          2   \n",
       "65       2    3          3           3          1          0          1   \n",
       "140      2    4          2           9          2          1          2   \n",
       "0        2    2          3           7          1          0          3   \n",
       "132      2    3          3           7          3          0          2   \n",
       "\n",
       "     irradiat  \n",
       "102         0  \n",
       "65          0  \n",
       "140         0  \n",
       "0           0  \n",
       "132         0  "
      ]
     },
     "execution_count": 38,
     "metadata": {},
     "output_type": "execute_result"
    }
   ],
   "source": [
    "df.drop(['breast', 'breast-quad'], axis=1, inplace=True) # keep ordinal values only\n",
    "df.sample(5)"
   ]
  },
  {
   "cell_type": "code",
   "execution_count": 39,
   "metadata": {},
   "outputs": [],
   "source": [
    "vectors = df.values"
   ]
  },
  {
   "cell_type": "code",
   "execution_count": 40,
   "metadata": {},
   "outputs": [
    {
     "data": {
      "text/plain": [
       "(277, 8)"
      ]
     },
     "execution_count": 40,
     "metadata": {},
     "output_type": "execute_result"
    }
   ],
   "source": [
    "vectors.shape"
   ]
  },
  {
   "cell_type": "code",
   "execution_count": 41,
   "metadata": {},
   "outputs": [
    {
     "data": {
      "text/plain": [
       "array([[2, 3, 7, ..., 0, 3, 0],\n",
       "       [3, 3, 5, ..., 0, 2, 0],\n",
       "       [3, 3, 5, ..., 0, 2, 0],\n",
       "       ...,\n",
       "       [5, 2, 5, ..., 0, 1, 0],\n",
       "       [3, 2, 7, ..., 0, 3, 0],\n",
       "       [4, 2, 7, ..., 0, 3, 0]])"
      ]
     },
     "execution_count": 41,
     "metadata": {},
     "output_type": "execute_result"
    }
   ],
   "source": [
    "vectors[:,1:]"
   ]
  },
  {
   "cell_type": "code",
   "execution_count": 42,
   "metadata": {},
   "outputs": [],
   "source": [
    "dataset = LabeledSet(7)\n",
    "dataset.addExamples(vectors[:,1:], vectors[:,0:1])"
   ]
  },
  {
   "cell_type": "code",
   "execution_count": 43,
   "metadata": {},
   "outputs": [],
   "source": [
    "g = Log()\n",
    "h = Sum()\n",
    "\n",
    "# rank Shannon discrimination measure\n",
    "f_r = Dsr()\n",
    "rsdm = Gdm(h, g, f_r)\n",
    "\n",
    "# conditional Shannon entropy\n",
    "f = Ds()\n",
    "sdm = Gdm(h, g, f)\n",
    "\n",
    "# pessimistic rank discrimination measure\n",
    "f_p = Mindsr()\n",
    "g_p = Frac() \n",
    "prdm = Gdm(h, g_p, f_p)"
   ]
  },
  {
   "cell_type": "code",
   "execution_count": 44,
   "metadata": {},
   "outputs": [],
   "source": [
    "train_set, test_set = split_dataset(dataset, 80)"
   ]
  },
  {
   "cell_type": "code",
   "execution_count": 70,
   "metadata": {},
   "outputs": [
    {
     "data": {
      "text/plain": [
       "array([1, 1, 0, 0, 0, 1, 0, 1, 1, 1, 0, 0, 0, 1, 0, 0, 0, 0, 1, 0, 0, 1,\n",
       "       1, 0, 1, 0, 1, 0, 0, 1, 1, 0, 0, 0, 1, 1, 0, 1, 1, 1, 0, 1, 0, 1,\n",
       "       1, 1, 1, 0, 0, 0, 0, 1, 0, 0, 1, 0, 1, 1, 0, 1, 0, 0, 0, 0, 0, 0,\n",
       "       1, 0, 0, 0, 0, 0, 0, 0, 0, 0, 0, 0, 0, 0, 0, 1, 0, 0, 0, 0, 1, 1,\n",
       "       0, 0, 0, 0, 0, 0, 0, 0, 0, 0, 0, 0, 0, 0, 0, 0, 1, 0, 1, 0, 1, 0,\n",
       "       0, 0, 0, 0, 0, 0, 0, 0, 0, 0, 0, 0, 0, 0, 0, 0, 0, 0, 0, 0, 0, 1,\n",
       "       1, 0, 0, 0, 0, 1, 0, 1, 0, 1, 0, 0, 0, 0, 0, 0, 0, 1, 1, 0, 0, 1,\n",
       "       0, 0, 0, 0, 0, 0, 0, 0, 0, 0, 0, 0, 0, 0, 0, 0, 0, 0, 0, 0, 0, 0,\n",
       "       1, 0, 0, 0, 0, 0, 1, 0, 0, 0, 0, 0, 0, 1, 0, 0, 0, 0, 0, 0, 0, 0,\n",
       "       0, 0, 0, 0, 0, 0, 0, 0, 1, 0, 0, 0, 0, 0, 0, 0, 0, 0, 0, 1, 0, 0])"
      ]
     },
     "execution_count": 70,
     "metadata": {},
     "output_type": "execute_result"
    }
   ],
   "source": [
    "train_set.x[:,4]"
   ]
  },
  {
   "cell_type": "code",
   "execution_count": 80,
   "metadata": {},
   "outputs": [
    {
     "data": {
      "text/plain": [
       "array([[1, 3, 1, 1],\n",
       "       [1, 3, 1, 1],\n",
       "       [0, 2, 1, 1],\n",
       "       [0, 3, 1, 1],\n",
       "       [0, 1, 1, 1],\n",
       "       [1, 3, 0, 1],\n",
       "       [0, 1, 0, 1],\n",
       "       [1, 3, 1, 1],\n",
       "       [1, 3, 0, 1],\n",
       "       [1, 3, 0, 1],\n",
       "       [0, 2, 0, 1],\n",
       "       [0, 3, 0, 1],\n",
       "       [0, 2, 1, 1],\n",
       "       [1, 3, 1, 1],\n",
       "       [0, 3, 0, 1],\n",
       "       [0, 2, 0, 1],\n",
       "       [0, 3, 0, 1],\n",
       "       [0, 2, 0, 1],\n",
       "       [1, 3, 1, 1],\n",
       "       [0, 3, 0, 1],\n",
       "       [0, 3, 0, 1],\n",
       "       [1, 3, 0, 1],\n",
       "       [1, 2, 1, 1],\n",
       "       [0, 3, 0, 1],\n",
       "       [1, 3, 1, 1],\n",
       "       [0, 3, 0, 1],\n",
       "       [1, 3, 1, 1],\n",
       "       [0, 3, 1, 1],\n",
       "       [0, 1, 0, 1],\n",
       "       [1, 3, 0, 1],\n",
       "       [1, 3, 1, 1],\n",
       "       [0, 3, 0, 1],\n",
       "       [0, 2, 0, 1],\n",
       "       [0, 2, 1, 1],\n",
       "       [1, 3, 1, 1],\n",
       "       [1, 2, 0, 1],\n",
       "       [0, 1, 1, 1],\n",
       "       [1, 3, 0, 1],\n",
       "       [1, 3, 1, 1],\n",
       "       [1, 3, 0, 1],\n",
       "       [0, 1, 0, 1],\n",
       "       [1, 2, 1, 1],\n",
       "       [0, 1, 0, 1],\n",
       "       [1, 2, 1, 1],\n",
       "       [1, 3, 0, 1],\n",
       "       [1, 3, 0, 1],\n",
       "       [1, 2, 0, 1],\n",
       "       [0, 3, 1, 1],\n",
       "       [0, 2, 0, 1],\n",
       "       [0, 1, 0, 1],\n",
       "       [0, 1, 0, 1],\n",
       "       [1, 2, 1, 1],\n",
       "       [0, 2, 0, 1],\n",
       "       [0, 3, 0, 1],\n",
       "       [1, 2, 1, 1],\n",
       "       [0, 2, 0, 1],\n",
       "       [1, 3, 0, 1],\n",
       "       [1, 3, 1, 1],\n",
       "       [0, 2, 0, 1],\n",
       "       [1, 3, 0, 1],\n",
       "       [0, 3, 1, 1],\n",
       "       [0, 2, 0, 1],\n",
       "       [0, 2, 0, 1],\n",
       "       [0, 2, 1, 1],\n",
       "       [0, 2, 0, 2],\n",
       "       [0, 1, 0, 2],\n",
       "       [1, 3, 0, 2],\n",
       "       [0, 1, 0, 2],\n",
       "       [0, 3, 1, 2],\n",
       "       [0, 2, 0, 2],\n",
       "       [0, 2, 0, 2],\n",
       "       [0, 1, 0, 2],\n",
       "       [0, 3, 1, 2],\n",
       "       [0, 1, 0, 2],\n",
       "       [0, 2, 0, 2],\n",
       "       [0, 2, 0, 2],\n",
       "       [0, 2, 0, 2],\n",
       "       [0, 2, 0, 2],\n",
       "       [0, 1, 0, 2],\n",
       "       [0, 2, 0, 2],\n",
       "       [0, 1, 0, 2],\n",
       "       [1, 3, 0, 2],\n",
       "       [0, 1, 0, 2],\n",
       "       [0, 3, 0, 2],\n",
       "       [0, 1, 0, 2],\n",
       "       [0, 2, 0, 2],\n",
       "       [1, 3, 1, 2],\n",
       "       [1, 2, 1, 2],\n",
       "       [0, 2, 0, 2],\n",
       "       [0, 2, 0, 2],\n",
       "       [0, 2, 0, 2],\n",
       "       [0, 2, 1, 2],\n",
       "       [0, 1, 0, 2],\n",
       "       [0, 1, 0, 2],\n",
       "       [0, 2, 1, 2],\n",
       "       [0, 3, 0, 2],\n",
       "       [0, 1, 0, 2],\n",
       "       [0, 2, 0, 2],\n",
       "       [0, 2, 0, 2],\n",
       "       [0, 1, 0, 2],\n",
       "       [0, 2, 0, 2],\n",
       "       [0, 3, 1, 2],\n",
       "       [0, 1, 0, 2],\n",
       "       [0, 1, 0, 2],\n",
       "       [1, 2, 0, 2],\n",
       "       [0, 2, 0, 2],\n",
       "       [1, 2, 1, 2],\n",
       "       [0, 2, 1, 2],\n",
       "       [1, 2, 0, 2],\n",
       "       [0, 2, 0, 2],\n",
       "       [0, 2, 0, 2],\n",
       "       [0, 2, 1, 2],\n",
       "       [0, 1, 0, 2],\n",
       "       [0, 1, 0, 2],\n",
       "       [0, 2, 0, 2],\n",
       "       [0, 2, 1, 2],\n",
       "       [0, 3, 0, 2],\n",
       "       [0, 1, 0, 2],\n",
       "       [0, 3, 0, 2],\n",
       "       [0, 2, 0, 2],\n",
       "       [0, 1, 0, 2],\n",
       "       [0, 2, 0, 2],\n",
       "       [0, 3, 0, 2],\n",
       "       [0, 2, 0, 2],\n",
       "       [0, 1, 0, 2],\n",
       "       [0, 1, 0, 2],\n",
       "       [0, 2, 0, 2],\n",
       "       [0, 1, 0, 2],\n",
       "       [0, 3, 0, 2],\n",
       "       [0, 2, 0, 2],\n",
       "       [0, 2, 1, 2],\n",
       "       [1, 3, 1, 2],\n",
       "       [1, 2, 1, 2],\n",
       "       [0, 1, 0, 2],\n",
       "       [0, 1, 0, 2],\n",
       "       [0, 2, 0, 2],\n",
       "       [0, 2, 0, 2],\n",
       "       [1, 2, 1, 2],\n",
       "       [0, 1, 0, 2],\n",
       "       [1, 2, 0, 2],\n",
       "       [0, 3, 0, 2],\n",
       "       [1, 2, 0, 2],\n",
       "       [0, 2, 0, 2],\n",
       "       [0, 2, 0, 2],\n",
       "       [0, 2, 0, 2],\n",
       "       [0, 1, 0, 2],\n",
       "       [0, 1, 0, 2],\n",
       "       [0, 2, 0, 2],\n",
       "       [0, 2, 0, 2],\n",
       "       [1, 2, 1, 2],\n",
       "       [1, 2, 0, 2],\n",
       "       [0, 2, 1, 2],\n",
       "       [0, 2, 0, 2],\n",
       "       [1, 3, 0, 2],\n",
       "       [0, 2, 0, 2],\n",
       "       [0, 1, 0, 2],\n",
       "       [0, 3, 1, 2],\n",
       "       [0, 1, 0, 2],\n",
       "       [0, 2, 0, 2],\n",
       "       [0, 1, 0, 2],\n",
       "       [0, 3, 0, 2],\n",
       "       [0, 3, 0, 2],\n",
       "       [0, 2, 0, 2],\n",
       "       [0, 1, 0, 2],\n",
       "       [0, 3, 0, 2],\n",
       "       [0, 1, 0, 2],\n",
       "       [0, 2, 0, 2],\n",
       "       [0, 2, 0, 2],\n",
       "       [0, 3, 0, 2],\n",
       "       [0, 2, 1, 2],\n",
       "       [0, 2, 0, 2],\n",
       "       [0, 2, 1, 2],\n",
       "       [0, 2, 0, 2],\n",
       "       [0, 2, 0, 2],\n",
       "       [0, 3, 0, 2],\n",
       "       [0, 1, 0, 2],\n",
       "       [1, 3, 0, 2],\n",
       "       [0, 3, 0, 2],\n",
       "       [0, 2, 0, 2],\n",
       "       [0, 3, 0, 2],\n",
       "       [0, 3, 0, 2],\n",
       "       [0, 1, 0, 2],\n",
       "       [1, 2, 0, 2],\n",
       "       [0, 2, 0, 2],\n",
       "       [0, 3, 1, 2],\n",
       "       [0, 1, 0, 2],\n",
       "       [0, 3, 0, 2],\n",
       "       [0, 1, 0, 2],\n",
       "       [0, 1, 0, 2],\n",
       "       [1, 2, 1, 2],\n",
       "       [0, 1, 0, 2],\n",
       "       [0, 2, 0, 2],\n",
       "       [0, 2, 0, 2],\n",
       "       [0, 3, 0, 2],\n",
       "       [0, 2, 0, 2],\n",
       "       [0, 1, 1, 2],\n",
       "       [0, 3, 0, 2],\n",
       "       [0, 2, 0, 2],\n",
       "       [0, 2, 0, 2],\n",
       "       [0, 1, 0, 2],\n",
       "       [0, 2, 0, 2],\n",
       "       [0, 2, 0, 2],\n",
       "       [0, 2, 0, 2],\n",
       "       [0, 1, 0, 2],\n",
       "       [0, 3, 0, 2],\n",
       "       [0, 2, 0, 2],\n",
       "       [1, 2, 0, 2],\n",
       "       [0, 2, 0, 2],\n",
       "       [0, 1, 0, 2],\n",
       "       [0, 3, 0, 2],\n",
       "       [0, 2, 0, 2],\n",
       "       [0, 2, 0, 2],\n",
       "       [0, 2, 0, 2],\n",
       "       [0, 1, 0, 2],\n",
       "       [0, 2, 1, 2],\n",
       "       [0, 1, 0, 2],\n",
       "       [0, 3, 0, 2],\n",
       "       [1, 2, 1, 2],\n",
       "       [0, 2, 0, 2],\n",
       "       [0, 2, 0, 2]])"
      ]
     },
     "execution_count": 80,
     "metadata": {},
     "output_type": "execute_result"
    }
   ],
   "source": [
    "np.hstack((train_set.x, train_set.y))[:,4:]"
   ]
  },
  {
   "cell_type": "code",
   "execution_count": 109,
   "metadata": {},
   "outputs": [
    {
     "data": {
      "text/plain": [
       "array([[0, 1],\n",
       "       [0, 1],\n",
       "       [0, 1],\n",
       "       [0, 1],\n",
       "       [0, 1],\n",
       "       [0, 1],\n",
       "       [0, 1],\n",
       "       [0, 1],\n",
       "       [0, 1],\n",
       "       [0, 1],\n",
       "       [0, 1],\n",
       "       [1, 1],\n",
       "       [0, 1],\n",
       "       [0, 1],\n",
       "       [0, 1],\n",
       "       [0, 1],\n",
       "       [1, 1],\n",
       "       [0, 2],\n",
       "       [0, 2],\n",
       "       [0, 2],\n",
       "       [0, 2],\n",
       "       [0, 2],\n",
       "       [1, 2],\n",
       "       [1, 2],\n",
       "       [0, 2],\n",
       "       [0, 2],\n",
       "       [1, 2],\n",
       "       [1, 2],\n",
       "       [0, 2],\n",
       "       [0, 2],\n",
       "       [0, 2],\n",
       "       [0, 2],\n",
       "       [0, 2],\n",
       "       [0, 2],\n",
       "       [0, 2],\n",
       "       [0, 2],\n",
       "       [0, 2],\n",
       "       [0, 2],\n",
       "       [0, 2],\n",
       "       [0, 2],\n",
       "       [0, 2],\n",
       "       [0, 2],\n",
       "       [0, 2],\n",
       "       [0, 2],\n",
       "       [0, 2],\n",
       "       [0, 2],\n",
       "       [0, 2],\n",
       "       [0, 2],\n",
       "       [0, 2],\n",
       "       [0, 2],\n",
       "       [0, 2],\n",
       "       [0, 2],\n",
       "       [0, 2],\n",
       "       [0, 2],\n",
       "       [0, 2],\n",
       "       [1, 2],\n",
       "       [0, 2]])"
      ]
     },
     "execution_count": 109,
     "metadata": {},
     "output_type": "execute_result"
    }
   ],
   "source": [
    "data = np.hstack((test_set.x, test_set.y))[:,[4,7]]\n",
    "data"
   ]
  },
  {
   "cell_type": "code",
   "execution_count": 91,
   "metadata": {},
   "outputs": [
    {
     "data": {
      "text/plain": [
       "(array([  0,   1,   2,   3,   4,   5,   6,   7,   8,   9,  10,  11,  12,\n",
       "         13,  14,  15,  16,  17,  18,  19,  20,  21,  22,  23,  24,  25,\n",
       "         26,  27,  28,  29,  30,  31,  32,  33,  34,  35,  36,  37,  38,\n",
       "         39,  40,  41,  42,  43,  44,  45,  46,  47,  48,  49,  50,  51,\n",
       "         52,  53,  54,  55,  56,  57,  58,  59,  60,  61,  62,  63,  64,\n",
       "         65,  66,  67,  68,  69,  70,  71,  72,  73,  74,  75,  76,  77,\n",
       "         78,  79,  80,  81,  82,  83,  84,  85,  86,  87,  88,  89,  90,\n",
       "         91,  92,  93,  94,  95,  96,  97,  98,  99, 100, 101, 102, 103,\n",
       "        104, 105, 106, 107, 108, 109, 110, 111, 112, 113, 114, 115, 116,\n",
       "        117, 118, 119, 120, 121, 122, 123, 124, 125, 126, 127, 128, 129,\n",
       "        130, 131, 132, 133, 134, 135, 136, 137, 138, 139, 140, 141, 142,\n",
       "        143, 144, 145, 146, 147, 148, 149, 150, 151, 152, 153, 154, 155,\n",
       "        156, 157, 158, 159, 160, 161, 162, 163, 164, 165, 166, 167, 168,\n",
       "        169, 170]),)"
      ]
     },
     "execution_count": 91,
     "metadata": {},
     "output_type": "execute_result"
    }
   ],
   "source": [
    "np.where(np.sort(train_set.x[:,4],axis=0) == 0)"
   ]
  },
  {
   "cell_type": "code",
   "execution_count": 96,
   "metadata": {},
   "outputs": [
    {
     "data": {
      "text/plain": [
       "139"
      ]
     },
     "execution_count": 96,
     "metadata": {},
     "output_type": "execute_result"
    }
   ],
   "source": [
    "np.argsort(train_set.x[:,4],axis=0)[171]"
   ]
  },
  {
   "cell_type": "code",
   "execution_count": 95,
   "metadata": {},
   "outputs": [
    {
     "name": "stdout",
     "output_type": "stream",
     "text": [
      "0 [2]\n"
     ]
    }
   ],
   "source": [
    "print(train_set.x[75][4], train_set.y[75])"
   ]
  },
  {
   "cell_type": "code",
   "execution_count": 97,
   "metadata": {},
   "outputs": [
    {
     "name": "stdout",
     "output_type": "stream",
     "text": [
      "1 [2]\n"
     ]
    }
   ],
   "source": [
    "print(train_set.x[139][4], train_set.y[139])"
   ]
  },
  {
   "cell_type": "code",
   "execution_count": 85,
   "metadata": {
    "scrolled": true
   },
   "outputs": [
    {
     "ename": "TypeError",
     "evalue": "unorderable types: int() <= NoneType()",
     "output_type": "error",
     "traceback": [
      "\u001b[0;31m---------------------------------------------------------------------------\u001b[0m",
      "\u001b[0;31mTypeError\u001b[0m                                 Traceback (most recent call last)",
      "\u001b[0;32m<ipython-input-85-8c885d4a8c35>\u001b[0m in \u001b[0;36m<module>\u001b[0;34m()\u001b[0m\n\u001b[1;32m      1\u001b[0m \u001b[0mtree1\u001b[0m \u001b[0;34m=\u001b[0m \u001b[0mRDMT\u001b[0m\u001b[0;34m(\u001b[0m\u001b[0mrsdm\u001b[0m\u001b[0;34m,\u001b[0m \u001b[0;34m\"shannon\"\u001b[0m\u001b[0;34m,\u001b[0m \u001b[0;36m0\u001b[0m\u001b[0;34m,\u001b[0m \u001b[0;36m100\u001b[0m\u001b[0;34m,\u001b[0m \u001b[0;36m0.01\u001b[0m\u001b[0;34m,\u001b[0m \u001b[0;34m[\u001b[0m\u001b[0;36m1\u001b[0m\u001b[0;34m,\u001b[0m \u001b[0;36m2\u001b[0m\u001b[0;34m]\u001b[0m\u001b[0;34m)\u001b[0m\u001b[0;34m\u001b[0m\u001b[0m\n\u001b[0;32m----> 2\u001b[0;31m \u001b[0mtree1\u001b[0m\u001b[0;34m.\u001b[0m\u001b[0mtrain\u001b[0m\u001b[0;34m(\u001b[0m\u001b[0mtrain_set\u001b[0m\u001b[0;34m)\u001b[0m\u001b[0;34m\u001b[0m\u001b[0m\n\u001b[0m\u001b[1;32m      3\u001b[0m \u001b[0mtree1\u001b[0m\u001b[0;34m.\u001b[0m\u001b[0maccuracy\u001b[0m\u001b[0;34m(\u001b[0m\u001b[0mtest_set\u001b[0m\u001b[0;34m)\u001b[0m\u001b[0;34m\u001b[0m\u001b[0m\n",
      "\u001b[0;32m~/Documents/stage2018/code/utils.py\u001b[0m in \u001b[0;36mtrain\u001b[0;34m(self, labeled_set)\u001b[0m\n\u001b[1;32m    789\u001b[0m         '''\n\u001b[1;32m    790\u001b[0m         \u001b[0mself\u001b[0m\u001b[0;34m.\u001b[0m\u001b[0mlabeled_set\u001b[0m \u001b[0;34m=\u001b[0m \u001b[0mlabeled_set\u001b[0m\u001b[0;34m\u001b[0m\u001b[0m\n\u001b[0;32m--> 791\u001b[0;31m         \u001b[0mself\u001b[0m\u001b[0;34m.\u001b[0m\u001b[0mroot\u001b[0m \u001b[0;34m=\u001b[0m \u001b[0mbuild_DT\u001b[0m\u001b[0;34m(\u001b[0m\u001b[0mlabeled_set\u001b[0m\u001b[0;34m,\u001b[0m\u001b[0mself\u001b[0m\u001b[0;34m.\u001b[0m\u001b[0mH\u001b[0m\u001b[0;34m,\u001b[0m \u001b[0mself\u001b[0m\u001b[0;34m.\u001b[0m\u001b[0mH_stop\u001b[0m\u001b[0;34m,\u001b[0m \u001b[0mself\u001b[0m\u001b[0;34m.\u001b[0m\u001b[0mmeasureThreshold\u001b[0m\u001b[0;34m,\u001b[0m \u001b[0mself\u001b[0m\u001b[0;34m.\u001b[0m\u001b[0mmaxDepth\u001b[0m\u001b[0;34m,\u001b[0m \u001b[0mself\u001b[0m\u001b[0;34m.\u001b[0m\u001b[0mpercMinSize\u001b[0m\u001b[0;34m,\u001b[0m \u001b[0mself\u001b[0m\u001b[0;34m.\u001b[0m\u001b[0mlabels\u001b[0m\u001b[0;34m,\u001b[0m \u001b[0;36m0\u001b[0m\u001b[0;34m)\u001b[0m\u001b[0;34m\u001b[0m\u001b[0m\n\u001b[0m\u001b[1;32m    792\u001b[0m \u001b[0;34m\u001b[0m\u001b[0m\n\u001b[1;32m    793\u001b[0m     \u001b[0;32mdef\u001b[0m \u001b[0mplot\u001b[0m\u001b[0;34m(\u001b[0m\u001b[0mself\u001b[0m\u001b[0;34m)\u001b[0m\u001b[0;34m:\u001b[0m\u001b[0;34m\u001b[0m\u001b[0m\n",
      "\u001b[0;32m~/Documents/stage2018/code/utils.py\u001b[0m in \u001b[0;36mbuild_DT\u001b[0;34m(labeled_set, H, H_stop, measureThreshold, maxDepth, percMinSize, labels, current_depth)\u001b[0m\n\u001b[1;32m    716\u001b[0m         \u001b[0;32mreturn\u001b[0m \u001b[0mbt\u001b[0m\u001b[0;34m\u001b[0m\u001b[0m\n\u001b[1;32m    717\u001b[0m \u001b[0;34m\u001b[0m\u001b[0m\n\u001b[0;32m--> 718\u001b[0;31m     \u001b[0minf_bt\u001b[0m \u001b[0;34m=\u001b[0m \u001b[0mbuild_DT\u001b[0m\u001b[0;34m(\u001b[0m\u001b[0minf_set\u001b[0m\u001b[0;34m,\u001b[0m \u001b[0mH\u001b[0m\u001b[0;34m,\u001b[0m \u001b[0mH_stop\u001b[0m\u001b[0;34m,\u001b[0m \u001b[0mmeasureThreshold\u001b[0m\u001b[0;34m,\u001b[0m \u001b[0mmaxDepth\u001b[0m\u001b[0;34m,\u001b[0m \u001b[0mpercMinSize\u001b[0m\u001b[0;34m,\u001b[0m \u001b[0mlabels\u001b[0m\u001b[0;34m,\u001b[0m \u001b[0mcurrent_depth\u001b[0m\u001b[0;34m+\u001b[0m\u001b[0;36m1\u001b[0m\u001b[0;34m)\u001b[0m\u001b[0;34m\u001b[0m\u001b[0m\n\u001b[0m\u001b[1;32m    719\u001b[0m     \u001b[0msup_bt\u001b[0m \u001b[0;34m=\u001b[0m \u001b[0mbuild_DT\u001b[0m\u001b[0;34m(\u001b[0m\u001b[0msup_set\u001b[0m\u001b[0;34m,\u001b[0m \u001b[0mH\u001b[0m\u001b[0;34m,\u001b[0m \u001b[0mH_stop\u001b[0m\u001b[0;34m,\u001b[0m \u001b[0mmeasureThreshold\u001b[0m\u001b[0;34m,\u001b[0m \u001b[0mmaxDepth\u001b[0m\u001b[0;34m,\u001b[0m \u001b[0mpercMinSize\u001b[0m\u001b[0;34m,\u001b[0m \u001b[0mlabels\u001b[0m\u001b[0;34m,\u001b[0m \u001b[0mcurrent_depth\u001b[0m\u001b[0;34m+\u001b[0m\u001b[0;36m1\u001b[0m\u001b[0;34m)\u001b[0m\u001b[0;34m\u001b[0m\u001b[0m\n\u001b[1;32m    720\u001b[0m     \u001b[0mbt\u001b[0m\u001b[0;34m.\u001b[0m\u001b[0madd_children\u001b[0m\u001b[0;34m(\u001b[0m\u001b[0minf_bt\u001b[0m\u001b[0;34m,\u001b[0m \u001b[0msup_bt\u001b[0m\u001b[0;34m,\u001b[0m \u001b[0mmin_attribute\u001b[0m\u001b[0;34m,\u001b[0m \u001b[0mmin_threshold\u001b[0m\u001b[0;34m)\u001b[0m\u001b[0;34m\u001b[0m\u001b[0m\n",
      "\u001b[0;32m~/Documents/stage2018/code/utils.py\u001b[0m in \u001b[0;36mbuild_DT\u001b[0;34m(labeled_set, H, H_stop, measureThreshold, maxDepth, percMinSize, labels, current_depth)\u001b[0m\n\u001b[1;32m    716\u001b[0m         \u001b[0;32mreturn\u001b[0m \u001b[0mbt\u001b[0m\u001b[0;34m\u001b[0m\u001b[0m\n\u001b[1;32m    717\u001b[0m \u001b[0;34m\u001b[0m\u001b[0m\n\u001b[0;32m--> 718\u001b[0;31m     \u001b[0minf_bt\u001b[0m \u001b[0;34m=\u001b[0m \u001b[0mbuild_DT\u001b[0m\u001b[0;34m(\u001b[0m\u001b[0minf_set\u001b[0m\u001b[0;34m,\u001b[0m \u001b[0mH\u001b[0m\u001b[0;34m,\u001b[0m \u001b[0mH_stop\u001b[0m\u001b[0;34m,\u001b[0m \u001b[0mmeasureThreshold\u001b[0m\u001b[0;34m,\u001b[0m \u001b[0mmaxDepth\u001b[0m\u001b[0;34m,\u001b[0m \u001b[0mpercMinSize\u001b[0m\u001b[0;34m,\u001b[0m \u001b[0mlabels\u001b[0m\u001b[0;34m,\u001b[0m \u001b[0mcurrent_depth\u001b[0m\u001b[0;34m+\u001b[0m\u001b[0;36m1\u001b[0m\u001b[0;34m)\u001b[0m\u001b[0;34m\u001b[0m\u001b[0m\n\u001b[0m\u001b[1;32m    719\u001b[0m     \u001b[0msup_bt\u001b[0m \u001b[0;34m=\u001b[0m \u001b[0mbuild_DT\u001b[0m\u001b[0;34m(\u001b[0m\u001b[0msup_set\u001b[0m\u001b[0;34m,\u001b[0m \u001b[0mH\u001b[0m\u001b[0;34m,\u001b[0m \u001b[0mH_stop\u001b[0m\u001b[0;34m,\u001b[0m \u001b[0mmeasureThreshold\u001b[0m\u001b[0;34m,\u001b[0m \u001b[0mmaxDepth\u001b[0m\u001b[0;34m,\u001b[0m \u001b[0mpercMinSize\u001b[0m\u001b[0;34m,\u001b[0m \u001b[0mlabels\u001b[0m\u001b[0;34m,\u001b[0m \u001b[0mcurrent_depth\u001b[0m\u001b[0;34m+\u001b[0m\u001b[0;36m1\u001b[0m\u001b[0;34m)\u001b[0m\u001b[0;34m\u001b[0m\u001b[0m\n\u001b[1;32m    720\u001b[0m     \u001b[0mbt\u001b[0m\u001b[0;34m.\u001b[0m\u001b[0madd_children\u001b[0m\u001b[0;34m(\u001b[0m\u001b[0minf_bt\u001b[0m\u001b[0;34m,\u001b[0m \u001b[0msup_bt\u001b[0m\u001b[0;34m,\u001b[0m \u001b[0mmin_attribute\u001b[0m\u001b[0;34m,\u001b[0m \u001b[0mmin_threshold\u001b[0m\u001b[0;34m)\u001b[0m\u001b[0;34m\u001b[0m\u001b[0m\n",
      "\u001b[0;32m~/Documents/stage2018/code/utils.py\u001b[0m in \u001b[0;36mbuild_DT\u001b[0;34m(labeled_set, H, H_stop, measureThreshold, maxDepth, percMinSize, labels, current_depth)\u001b[0m\n\u001b[1;32m    716\u001b[0m         \u001b[0;32mreturn\u001b[0m \u001b[0mbt\u001b[0m\u001b[0;34m\u001b[0m\u001b[0m\n\u001b[1;32m    717\u001b[0m \u001b[0;34m\u001b[0m\u001b[0m\n\u001b[0;32m--> 718\u001b[0;31m     \u001b[0minf_bt\u001b[0m \u001b[0;34m=\u001b[0m \u001b[0mbuild_DT\u001b[0m\u001b[0;34m(\u001b[0m\u001b[0minf_set\u001b[0m\u001b[0;34m,\u001b[0m \u001b[0mH\u001b[0m\u001b[0;34m,\u001b[0m \u001b[0mH_stop\u001b[0m\u001b[0;34m,\u001b[0m \u001b[0mmeasureThreshold\u001b[0m\u001b[0;34m,\u001b[0m \u001b[0mmaxDepth\u001b[0m\u001b[0;34m,\u001b[0m \u001b[0mpercMinSize\u001b[0m\u001b[0;34m,\u001b[0m \u001b[0mlabels\u001b[0m\u001b[0;34m,\u001b[0m \u001b[0mcurrent_depth\u001b[0m\u001b[0;34m+\u001b[0m\u001b[0;36m1\u001b[0m\u001b[0;34m)\u001b[0m\u001b[0;34m\u001b[0m\u001b[0m\n\u001b[0m\u001b[1;32m    719\u001b[0m     \u001b[0msup_bt\u001b[0m \u001b[0;34m=\u001b[0m \u001b[0mbuild_DT\u001b[0m\u001b[0;34m(\u001b[0m\u001b[0msup_set\u001b[0m\u001b[0;34m,\u001b[0m \u001b[0mH\u001b[0m\u001b[0;34m,\u001b[0m \u001b[0mH_stop\u001b[0m\u001b[0;34m,\u001b[0m \u001b[0mmeasureThreshold\u001b[0m\u001b[0;34m,\u001b[0m \u001b[0mmaxDepth\u001b[0m\u001b[0;34m,\u001b[0m \u001b[0mpercMinSize\u001b[0m\u001b[0;34m,\u001b[0m \u001b[0mlabels\u001b[0m\u001b[0;34m,\u001b[0m \u001b[0mcurrent_depth\u001b[0m\u001b[0;34m+\u001b[0m\u001b[0;36m1\u001b[0m\u001b[0;34m)\u001b[0m\u001b[0;34m\u001b[0m\u001b[0m\n\u001b[1;32m    720\u001b[0m     \u001b[0mbt\u001b[0m\u001b[0;34m.\u001b[0m\u001b[0madd_children\u001b[0m\u001b[0;34m(\u001b[0m\u001b[0minf_bt\u001b[0m\u001b[0;34m,\u001b[0m \u001b[0msup_bt\u001b[0m\u001b[0;34m,\u001b[0m \u001b[0mmin_attribute\u001b[0m\u001b[0;34m,\u001b[0m \u001b[0mmin_threshold\u001b[0m\u001b[0;34m)\u001b[0m\u001b[0;34m\u001b[0m\u001b[0m\n",
      "\u001b[0;32m~/Documents/stage2018/code/utils.py\u001b[0m in \u001b[0;36mbuild_DT\u001b[0;34m(labeled_set, H, H_stop, measureThreshold, maxDepth, percMinSize, labels, current_depth)\u001b[0m\n\u001b[1;32m    716\u001b[0m         \u001b[0;32mreturn\u001b[0m \u001b[0mbt\u001b[0m\u001b[0;34m\u001b[0m\u001b[0m\n\u001b[1;32m    717\u001b[0m \u001b[0;34m\u001b[0m\u001b[0m\n\u001b[0;32m--> 718\u001b[0;31m     \u001b[0minf_bt\u001b[0m \u001b[0;34m=\u001b[0m \u001b[0mbuild_DT\u001b[0m\u001b[0;34m(\u001b[0m\u001b[0minf_set\u001b[0m\u001b[0;34m,\u001b[0m \u001b[0mH\u001b[0m\u001b[0;34m,\u001b[0m \u001b[0mH_stop\u001b[0m\u001b[0;34m,\u001b[0m \u001b[0mmeasureThreshold\u001b[0m\u001b[0;34m,\u001b[0m \u001b[0mmaxDepth\u001b[0m\u001b[0;34m,\u001b[0m \u001b[0mpercMinSize\u001b[0m\u001b[0;34m,\u001b[0m \u001b[0mlabels\u001b[0m\u001b[0;34m,\u001b[0m \u001b[0mcurrent_depth\u001b[0m\u001b[0;34m+\u001b[0m\u001b[0;36m1\u001b[0m\u001b[0;34m)\u001b[0m\u001b[0;34m\u001b[0m\u001b[0m\n\u001b[0m\u001b[1;32m    719\u001b[0m     \u001b[0msup_bt\u001b[0m \u001b[0;34m=\u001b[0m \u001b[0mbuild_DT\u001b[0m\u001b[0;34m(\u001b[0m\u001b[0msup_set\u001b[0m\u001b[0;34m,\u001b[0m \u001b[0mH\u001b[0m\u001b[0;34m,\u001b[0m \u001b[0mH_stop\u001b[0m\u001b[0;34m,\u001b[0m \u001b[0mmeasureThreshold\u001b[0m\u001b[0;34m,\u001b[0m \u001b[0mmaxDepth\u001b[0m\u001b[0;34m,\u001b[0m \u001b[0mpercMinSize\u001b[0m\u001b[0;34m,\u001b[0m \u001b[0mlabels\u001b[0m\u001b[0;34m,\u001b[0m \u001b[0mcurrent_depth\u001b[0m\u001b[0;34m+\u001b[0m\u001b[0;36m1\u001b[0m\u001b[0;34m)\u001b[0m\u001b[0;34m\u001b[0m\u001b[0m\n\u001b[1;32m    720\u001b[0m     \u001b[0mbt\u001b[0m\u001b[0;34m.\u001b[0m\u001b[0madd_children\u001b[0m\u001b[0;34m(\u001b[0m\u001b[0minf_bt\u001b[0m\u001b[0;34m,\u001b[0m \u001b[0msup_bt\u001b[0m\u001b[0;34m,\u001b[0m \u001b[0mmin_attribute\u001b[0m\u001b[0;34m,\u001b[0m \u001b[0mmin_threshold\u001b[0m\u001b[0;34m)\u001b[0m\u001b[0;34m\u001b[0m\u001b[0m\n",
      "\u001b[0;32m~/Documents/stage2018/code/utils.py\u001b[0m in \u001b[0;36mbuild_DT\u001b[0;34m(labeled_set, H, H_stop, measureThreshold, maxDepth, percMinSize, labels, current_depth)\u001b[0m\n\u001b[1;32m    716\u001b[0m         \u001b[0;32mreturn\u001b[0m \u001b[0mbt\u001b[0m\u001b[0;34m\u001b[0m\u001b[0m\n\u001b[1;32m    717\u001b[0m \u001b[0;34m\u001b[0m\u001b[0m\n\u001b[0;32m--> 718\u001b[0;31m     \u001b[0minf_bt\u001b[0m \u001b[0;34m=\u001b[0m \u001b[0mbuild_DT\u001b[0m\u001b[0;34m(\u001b[0m\u001b[0minf_set\u001b[0m\u001b[0;34m,\u001b[0m \u001b[0mH\u001b[0m\u001b[0;34m,\u001b[0m \u001b[0mH_stop\u001b[0m\u001b[0;34m,\u001b[0m \u001b[0mmeasureThreshold\u001b[0m\u001b[0;34m,\u001b[0m \u001b[0mmaxDepth\u001b[0m\u001b[0;34m,\u001b[0m \u001b[0mpercMinSize\u001b[0m\u001b[0;34m,\u001b[0m \u001b[0mlabels\u001b[0m\u001b[0;34m,\u001b[0m \u001b[0mcurrent_depth\u001b[0m\u001b[0;34m+\u001b[0m\u001b[0;36m1\u001b[0m\u001b[0;34m)\u001b[0m\u001b[0;34m\u001b[0m\u001b[0m\n\u001b[0m\u001b[1;32m    719\u001b[0m     \u001b[0msup_bt\u001b[0m \u001b[0;34m=\u001b[0m \u001b[0mbuild_DT\u001b[0m\u001b[0;34m(\u001b[0m\u001b[0msup_set\u001b[0m\u001b[0;34m,\u001b[0m \u001b[0mH\u001b[0m\u001b[0;34m,\u001b[0m \u001b[0mH_stop\u001b[0m\u001b[0;34m,\u001b[0m \u001b[0mmeasureThreshold\u001b[0m\u001b[0;34m,\u001b[0m \u001b[0mmaxDepth\u001b[0m\u001b[0;34m,\u001b[0m \u001b[0mpercMinSize\u001b[0m\u001b[0;34m,\u001b[0m \u001b[0mlabels\u001b[0m\u001b[0;34m,\u001b[0m \u001b[0mcurrent_depth\u001b[0m\u001b[0;34m+\u001b[0m\u001b[0;36m1\u001b[0m\u001b[0;34m)\u001b[0m\u001b[0;34m\u001b[0m\u001b[0m\n\u001b[1;32m    720\u001b[0m     \u001b[0mbt\u001b[0m\u001b[0;34m.\u001b[0m\u001b[0madd_children\u001b[0m\u001b[0;34m(\u001b[0m\u001b[0minf_bt\u001b[0m\u001b[0;34m,\u001b[0m \u001b[0msup_bt\u001b[0m\u001b[0;34m,\u001b[0m \u001b[0mmin_attribute\u001b[0m\u001b[0;34m,\u001b[0m \u001b[0mmin_threshold\u001b[0m\u001b[0;34m)\u001b[0m\u001b[0;34m\u001b[0m\u001b[0m\n",
      "\u001b[0;32m~/Documents/stage2018/code/utils.py\u001b[0m in \u001b[0;36mbuild_DT\u001b[0;34m(labeled_set, H, H_stop, measureThreshold, maxDepth, percMinSize, labels, current_depth)\u001b[0m\n\u001b[1;32m    716\u001b[0m         \u001b[0;32mreturn\u001b[0m \u001b[0mbt\u001b[0m\u001b[0;34m\u001b[0m\u001b[0m\n\u001b[1;32m    717\u001b[0m \u001b[0;34m\u001b[0m\u001b[0m\n\u001b[0;32m--> 718\u001b[0;31m     \u001b[0minf_bt\u001b[0m \u001b[0;34m=\u001b[0m \u001b[0mbuild_DT\u001b[0m\u001b[0;34m(\u001b[0m\u001b[0minf_set\u001b[0m\u001b[0;34m,\u001b[0m \u001b[0mH\u001b[0m\u001b[0;34m,\u001b[0m \u001b[0mH_stop\u001b[0m\u001b[0;34m,\u001b[0m \u001b[0mmeasureThreshold\u001b[0m\u001b[0;34m,\u001b[0m \u001b[0mmaxDepth\u001b[0m\u001b[0;34m,\u001b[0m \u001b[0mpercMinSize\u001b[0m\u001b[0;34m,\u001b[0m \u001b[0mlabels\u001b[0m\u001b[0;34m,\u001b[0m \u001b[0mcurrent_depth\u001b[0m\u001b[0;34m+\u001b[0m\u001b[0;36m1\u001b[0m\u001b[0;34m)\u001b[0m\u001b[0;34m\u001b[0m\u001b[0m\n\u001b[0m\u001b[1;32m    719\u001b[0m     \u001b[0msup_bt\u001b[0m \u001b[0;34m=\u001b[0m \u001b[0mbuild_DT\u001b[0m\u001b[0;34m(\u001b[0m\u001b[0msup_set\u001b[0m\u001b[0;34m,\u001b[0m \u001b[0mH\u001b[0m\u001b[0;34m,\u001b[0m \u001b[0mH_stop\u001b[0m\u001b[0;34m,\u001b[0m \u001b[0mmeasureThreshold\u001b[0m\u001b[0;34m,\u001b[0m \u001b[0mmaxDepth\u001b[0m\u001b[0;34m,\u001b[0m \u001b[0mpercMinSize\u001b[0m\u001b[0;34m,\u001b[0m \u001b[0mlabels\u001b[0m\u001b[0;34m,\u001b[0m \u001b[0mcurrent_depth\u001b[0m\u001b[0;34m+\u001b[0m\u001b[0;36m1\u001b[0m\u001b[0;34m)\u001b[0m\u001b[0;34m\u001b[0m\u001b[0m\n\u001b[1;32m    720\u001b[0m     \u001b[0mbt\u001b[0m\u001b[0;34m.\u001b[0m\u001b[0madd_children\u001b[0m\u001b[0;34m(\u001b[0m\u001b[0minf_bt\u001b[0m\u001b[0;34m,\u001b[0m \u001b[0msup_bt\u001b[0m\u001b[0;34m,\u001b[0m \u001b[0mmin_attribute\u001b[0m\u001b[0;34m,\u001b[0m \u001b[0mmin_threshold\u001b[0m\u001b[0;34m)\u001b[0m\u001b[0;34m\u001b[0m\u001b[0m\n",
      "\u001b[0;32m~/Documents/stage2018/code/utils.py\u001b[0m in \u001b[0;36mbuild_DT\u001b[0;34m(labeled_set, H, H_stop, measureThreshold, maxDepth, percMinSize, labels, current_depth)\u001b[0m\n\u001b[1;32m    716\u001b[0m         \u001b[0;32mreturn\u001b[0m \u001b[0mbt\u001b[0m\u001b[0;34m\u001b[0m\u001b[0m\n\u001b[1;32m    717\u001b[0m \u001b[0;34m\u001b[0m\u001b[0m\n\u001b[0;32m--> 718\u001b[0;31m     \u001b[0minf_bt\u001b[0m \u001b[0;34m=\u001b[0m \u001b[0mbuild_DT\u001b[0m\u001b[0;34m(\u001b[0m\u001b[0minf_set\u001b[0m\u001b[0;34m,\u001b[0m \u001b[0mH\u001b[0m\u001b[0;34m,\u001b[0m \u001b[0mH_stop\u001b[0m\u001b[0;34m,\u001b[0m \u001b[0mmeasureThreshold\u001b[0m\u001b[0;34m,\u001b[0m \u001b[0mmaxDepth\u001b[0m\u001b[0;34m,\u001b[0m \u001b[0mpercMinSize\u001b[0m\u001b[0;34m,\u001b[0m \u001b[0mlabels\u001b[0m\u001b[0;34m,\u001b[0m \u001b[0mcurrent_depth\u001b[0m\u001b[0;34m+\u001b[0m\u001b[0;36m1\u001b[0m\u001b[0;34m)\u001b[0m\u001b[0;34m\u001b[0m\u001b[0m\n\u001b[0m\u001b[1;32m    719\u001b[0m     \u001b[0msup_bt\u001b[0m \u001b[0;34m=\u001b[0m \u001b[0mbuild_DT\u001b[0m\u001b[0;34m(\u001b[0m\u001b[0msup_set\u001b[0m\u001b[0;34m,\u001b[0m \u001b[0mH\u001b[0m\u001b[0;34m,\u001b[0m \u001b[0mH_stop\u001b[0m\u001b[0;34m,\u001b[0m \u001b[0mmeasureThreshold\u001b[0m\u001b[0;34m,\u001b[0m \u001b[0mmaxDepth\u001b[0m\u001b[0;34m,\u001b[0m \u001b[0mpercMinSize\u001b[0m\u001b[0;34m,\u001b[0m \u001b[0mlabels\u001b[0m\u001b[0;34m,\u001b[0m \u001b[0mcurrent_depth\u001b[0m\u001b[0;34m+\u001b[0m\u001b[0;36m1\u001b[0m\u001b[0;34m)\u001b[0m\u001b[0;34m\u001b[0m\u001b[0m\n\u001b[1;32m    720\u001b[0m     \u001b[0mbt\u001b[0m\u001b[0;34m.\u001b[0m\u001b[0madd_children\u001b[0m\u001b[0;34m(\u001b[0m\u001b[0minf_bt\u001b[0m\u001b[0;34m,\u001b[0m \u001b[0msup_bt\u001b[0m\u001b[0;34m,\u001b[0m \u001b[0mmin_attribute\u001b[0m\u001b[0;34m,\u001b[0m \u001b[0mmin_threshold\u001b[0m\u001b[0;34m)\u001b[0m\u001b[0;34m\u001b[0m\u001b[0m\n",
      "\u001b[0;32m~/Documents/stage2018/code/utils.py\u001b[0m in \u001b[0;36mbuild_DT\u001b[0;34m(labeled_set, H, H_stop, measureThreshold, maxDepth, percMinSize, labels, current_depth)\u001b[0m\n\u001b[1;32m    716\u001b[0m         \u001b[0;32mreturn\u001b[0m \u001b[0mbt\u001b[0m\u001b[0;34m\u001b[0m\u001b[0m\n\u001b[1;32m    717\u001b[0m \u001b[0;34m\u001b[0m\u001b[0m\n\u001b[0;32m--> 718\u001b[0;31m     \u001b[0minf_bt\u001b[0m \u001b[0;34m=\u001b[0m \u001b[0mbuild_DT\u001b[0m\u001b[0;34m(\u001b[0m\u001b[0minf_set\u001b[0m\u001b[0;34m,\u001b[0m \u001b[0mH\u001b[0m\u001b[0;34m,\u001b[0m \u001b[0mH_stop\u001b[0m\u001b[0;34m,\u001b[0m \u001b[0mmeasureThreshold\u001b[0m\u001b[0;34m,\u001b[0m \u001b[0mmaxDepth\u001b[0m\u001b[0;34m,\u001b[0m \u001b[0mpercMinSize\u001b[0m\u001b[0;34m,\u001b[0m \u001b[0mlabels\u001b[0m\u001b[0;34m,\u001b[0m \u001b[0mcurrent_depth\u001b[0m\u001b[0;34m+\u001b[0m\u001b[0;36m1\u001b[0m\u001b[0;34m)\u001b[0m\u001b[0;34m\u001b[0m\u001b[0m\n\u001b[0m\u001b[1;32m    719\u001b[0m     \u001b[0msup_bt\u001b[0m \u001b[0;34m=\u001b[0m \u001b[0mbuild_DT\u001b[0m\u001b[0;34m(\u001b[0m\u001b[0msup_set\u001b[0m\u001b[0;34m,\u001b[0m \u001b[0mH\u001b[0m\u001b[0;34m,\u001b[0m \u001b[0mH_stop\u001b[0m\u001b[0;34m,\u001b[0m \u001b[0mmeasureThreshold\u001b[0m\u001b[0;34m,\u001b[0m \u001b[0mmaxDepth\u001b[0m\u001b[0;34m,\u001b[0m \u001b[0mpercMinSize\u001b[0m\u001b[0;34m,\u001b[0m \u001b[0mlabels\u001b[0m\u001b[0;34m,\u001b[0m \u001b[0mcurrent_depth\u001b[0m\u001b[0;34m+\u001b[0m\u001b[0;36m1\u001b[0m\u001b[0;34m)\u001b[0m\u001b[0;34m\u001b[0m\u001b[0m\n\u001b[1;32m    720\u001b[0m     \u001b[0mbt\u001b[0m\u001b[0;34m.\u001b[0m\u001b[0madd_children\u001b[0m\u001b[0;34m(\u001b[0m\u001b[0minf_bt\u001b[0m\u001b[0;34m,\u001b[0m \u001b[0msup_bt\u001b[0m\u001b[0;34m,\u001b[0m \u001b[0mmin_attribute\u001b[0m\u001b[0;34m,\u001b[0m \u001b[0mmin_threshold\u001b[0m\u001b[0;34m)\u001b[0m\u001b[0;34m\u001b[0m\u001b[0m\n",
      "\u001b[0;32m~/Documents/stage2018/code/utils.py\u001b[0m in \u001b[0;36mbuild_DT\u001b[0;34m(labeled_set, H, H_stop, measureThreshold, maxDepth, percMinSize, labels, current_depth)\u001b[0m\n\u001b[1;32m    706\u001b[0m     \u001b[0mmin_attribute\u001b[0m \u001b[0;34m=\u001b[0m \u001b[0mnp\u001b[0m\u001b[0;34m.\u001b[0m\u001b[0margmin\u001b[0m\u001b[0;34m(\u001b[0m\u001b[0mh_values\u001b[0m\u001b[0;34m)\u001b[0m\u001b[0;34m\u001b[0m\u001b[0m\n\u001b[1;32m    707\u001b[0m \u001b[0;34m\u001b[0m\u001b[0m\n\u001b[0;32m--> 708\u001b[0;31m     \u001b[0minf_set\u001b[0m\u001b[0;34m,\u001b[0m \u001b[0msup_set\u001b[0m \u001b[0;34m=\u001b[0m \u001b[0mdivide\u001b[0m\u001b[0;34m(\u001b[0m\u001b[0mlabeled_set\u001b[0m\u001b[0;34m,\u001b[0m \u001b[0mmin_attribute\u001b[0m\u001b[0;34m,\u001b[0m \u001b[0mmin_threshold\u001b[0m\u001b[0;34m)\u001b[0m\u001b[0;34m\u001b[0m\u001b[0m\n\u001b[0m\u001b[1;32m    709\u001b[0m     \u001b[0mbt\u001b[0m \u001b[0;34m=\u001b[0m \u001b[0mBinaryTree\u001b[0m\u001b[0;34m(\u001b[0m\u001b[0;34m)\u001b[0m\u001b[0;34m\u001b[0m\u001b[0m\n\u001b[1;32m    710\u001b[0m \u001b[0;34m\u001b[0m\u001b[0m\n",
      "\u001b[0;32m~/Documents/stage2018/code/utils.py\u001b[0m in \u001b[0;36mdivide\u001b[0;34m(Lset, att, threshold)\u001b[0m\n\u001b[1;32m    513\u001b[0m     \u001b[0;31m# Separate data according to threshold\u001b[0m\u001b[0;34m\u001b[0m\u001b[0;34m\u001b[0m\u001b[0m\n\u001b[1;32m    514\u001b[0m     \u001b[0;32mfor\u001b[0m \u001b[0mi\u001b[0m \u001b[0;32min\u001b[0m \u001b[0mrange\u001b[0m\u001b[0;34m(\u001b[0m\u001b[0mLset\u001b[0m\u001b[0;34m.\u001b[0m\u001b[0msize\u001b[0m\u001b[0;34m(\u001b[0m\u001b[0;34m)\u001b[0m\u001b[0;34m)\u001b[0m\u001b[0;34m:\u001b[0m\u001b[0;34m\u001b[0m\u001b[0m\n\u001b[0;32m--> 515\u001b[0;31m         \u001b[0;32mif\u001b[0m \u001b[0mLset\u001b[0m\u001b[0;34m.\u001b[0m\u001b[0mgetX\u001b[0m\u001b[0;34m(\u001b[0m\u001b[0mi\u001b[0m\u001b[0;34m)\u001b[0m\u001b[0;34m[\u001b[0m\u001b[0matt\u001b[0m\u001b[0;34m]\u001b[0m \u001b[0;34m<=\u001b[0m \u001b[0mthreshold\u001b[0m\u001b[0;34m:\u001b[0m\u001b[0;34m\u001b[0m\u001b[0m\n\u001b[0m\u001b[1;32m    516\u001b[0m             \u001b[0mE1\u001b[0m\u001b[0;34m.\u001b[0m\u001b[0maddExample\u001b[0m\u001b[0;34m(\u001b[0m\u001b[0mLset\u001b[0m\u001b[0;34m.\u001b[0m\u001b[0mgetX\u001b[0m\u001b[0;34m(\u001b[0m\u001b[0mi\u001b[0m\u001b[0;34m)\u001b[0m\u001b[0;34m,\u001b[0m \u001b[0mLset\u001b[0m\u001b[0;34m.\u001b[0m\u001b[0mgetY\u001b[0m\u001b[0;34m(\u001b[0m\u001b[0mi\u001b[0m\u001b[0;34m)\u001b[0m\u001b[0;34m)\u001b[0m\u001b[0;34m\u001b[0m\u001b[0m\n\u001b[1;32m    517\u001b[0m         \u001b[0;32melse\u001b[0m\u001b[0;34m:\u001b[0m\u001b[0;34m\u001b[0m\u001b[0m\n",
      "\u001b[0;31mTypeError\u001b[0m: unorderable types: int() <= NoneType()"
     ]
    }
   ],
   "source": [
    "tree1 = RDMT(rsdm, \"shannon\", 0, 100, 0.01, [1, 2])\n",
    "tree1.train(train_set)\n",
    "tree1.accuracy(test_set)"
   ]
  }
 ],
 "metadata": {
  "kernelspec": {
   "display_name": "Python 3",
   "language": "python",
   "name": "python3"
  },
  "language_info": {
   "codemirror_mode": {
    "name": "ipython",
    "version": 3
   },
   "file_extension": ".py",
   "mimetype": "text/x-python",
   "name": "python",
   "nbconvert_exporter": "python",
   "pygments_lexer": "ipython3",
   "version": "3.5.4"
  }
 },
 "nbformat": 4,
 "nbformat_minor": 2
}
