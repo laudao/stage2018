{
 "cells": [
  {
   "cell_type": "code",
   "execution_count": 2,
   "metadata": {
    "collapsed": false
   },
   "outputs": [],
   "source": [
    "%load_ext autoreload\n",
    "%autoreload 2\n",
    "from utils import *"
   ]
  },
  {
   "cell_type": "code",
   "execution_count": 3,
   "metadata": {
    "collapsed": true
   },
   "outputs": [],
   "source": [
    "df = pd.read_csv(\"breast_cancer.csv\")"
   ]
  },
  {
   "cell_type": "code",
   "execution_count": 4,
   "metadata": {
    "collapsed": false
   },
   "outputs": [
    {
     "data": {
      "text/html": [
       "<div>\n",
       "<style scoped>\n",
       "    .dataframe tbody tr th:only-of-type {\n",
       "        vertical-align: middle;\n",
       "    }\n",
       "\n",
       "    .dataframe tbody tr th {\n",
       "        vertical-align: top;\n",
       "    }\n",
       "\n",
       "    .dataframe thead th {\n",
       "        text-align: right;\n",
       "    }\n",
       "</style>\n",
       "<table border=\"1\" class=\"dataframe\">\n",
       "  <thead>\n",
       "    <tr style=\"text-align: right;\">\n",
       "      <th></th>\n",
       "      <th>class</th>\n",
       "      <th>age</th>\n",
       "      <th>menopause</th>\n",
       "      <th>tumor-size</th>\n",
       "      <th>inv-nodes</th>\n",
       "      <th>node-caps</th>\n",
       "      <th>deg-malig</th>\n",
       "      <th>breast</th>\n",
       "      <th>breast-quad</th>\n",
       "      <th>irradiat</th>\n",
       "    </tr>\n",
       "  </thead>\n",
       "  <tbody>\n",
       "    <tr>\n",
       "      <th>156</th>\n",
       "      <td>no-recurrence-events</td>\n",
       "      <td>50-59</td>\n",
       "      <td>ge40</td>\n",
       "      <td>25-29</td>\n",
       "      <td>3-5</td>\n",
       "      <td>yes</td>\n",
       "      <td>3</td>\n",
       "      <td>right</td>\n",
       "      <td>left_up</td>\n",
       "      <td>no</td>\n",
       "    </tr>\n",
       "    <tr>\n",
       "      <th>86</th>\n",
       "      <td>no-recurrence-events</td>\n",
       "      <td>60-69</td>\n",
       "      <td>ge40</td>\n",
       "      <td>25-29</td>\n",
       "      <td>0-2</td>\n",
       "      <td>no</td>\n",
       "      <td>2</td>\n",
       "      <td>right</td>\n",
       "      <td>left_low</td>\n",
       "      <td>no</td>\n",
       "    </tr>\n",
       "    <tr>\n",
       "      <th>178</th>\n",
       "      <td>no-recurrence-events</td>\n",
       "      <td>50-59</td>\n",
       "      <td>premeno</td>\n",
       "      <td>25-29</td>\n",
       "      <td>3-5</td>\n",
       "      <td>no</td>\n",
       "      <td>2</td>\n",
       "      <td>right</td>\n",
       "      <td>left_up</td>\n",
       "      <td>yes</td>\n",
       "    </tr>\n",
       "    <tr>\n",
       "      <th>31</th>\n",
       "      <td>no-recurrence-events</td>\n",
       "      <td>50-59</td>\n",
       "      <td>premeno</td>\n",
       "      <td>15-19</td>\n",
       "      <td>0-2</td>\n",
       "      <td>no</td>\n",
       "      <td>2</td>\n",
       "      <td>right</td>\n",
       "      <td>left_low</td>\n",
       "      <td>no</td>\n",
       "    </tr>\n",
       "    <tr>\n",
       "      <th>230</th>\n",
       "      <td>recurrence-events</td>\n",
       "      <td>50-59</td>\n",
       "      <td>premeno</td>\n",
       "      <td>50-54</td>\n",
       "      <td>9-11</td>\n",
       "      <td>yes</td>\n",
       "      <td>2</td>\n",
       "      <td>right</td>\n",
       "      <td>left_up</td>\n",
       "      <td>no</td>\n",
       "    </tr>\n",
       "  </tbody>\n",
       "</table>\n",
       "</div>"
      ],
      "text/plain": [
       "                    class    age menopause tumor-size inv-nodes node-caps  \\\n",
       "156  no-recurrence-events  50-59      ge40      25-29       3-5       yes   \n",
       "86   no-recurrence-events  60-69      ge40      25-29       0-2        no   \n",
       "178  no-recurrence-events  50-59   premeno      25-29       3-5        no   \n",
       "31   no-recurrence-events  50-59   premeno      15-19       0-2        no   \n",
       "230     recurrence-events  50-59   premeno      50-54      9-11       yes   \n",
       "\n",
       "     deg-malig breast breast-quad irradiat  \n",
       "156          3  right     left_up       no  \n",
       "86           2  right    left_low       no  \n",
       "178          2  right     left_up      yes  \n",
       "31           2  right    left_low       no  \n",
       "230          2  right     left_up       no  "
      ]
     },
     "execution_count": 4,
     "metadata": {},
     "output_type": "execute_result"
    }
   ],
   "source": [
    "df.sample(5)"
   ]
  },
  {
   "cell_type": "code",
   "execution_count": 5,
   "metadata": {
    "collapsed": false
   },
   "outputs": [
    {
     "data": {
      "text/plain": [
       "(286, 10)"
      ]
     },
     "execution_count": 5,
     "metadata": {},
     "output_type": "execute_result"
    }
   ],
   "source": [
    "df.shape"
   ]
  },
  {
   "cell_type": "code",
   "execution_count": 6,
   "metadata": {
    "collapsed": false
   },
   "outputs": [
    {
     "name": "stdout",
     "output_type": "stream",
     "text": [
      "class :  ['no-recurrence-events' 'recurrence-events']\n",
      "age :  ['20-29' '30-39' '40-49' '50-59' '60-69' '70-79']\n",
      "menopause :  ['ge40' 'lt40' 'premeno']\n",
      "tumor-size :  ['0-4' '10-14' '15-19' '20-24' '25-29' '30-34' '35-39' '40-44' '45-49'\n",
      " '5-9' '50-54']\n",
      "inv-nodes :  ['0-2' '12-14' '15-17' '24-26' '3-5' '6-8' '9-11']\n",
      "node-caps :  ['?' 'no' 'yes']\n",
      "deg-malig :  [1 2 3]\n",
      "breast :  ['left' 'right']\n",
      "breast-quad :  ['?' 'central' 'left_low' 'left_up' 'right_low' 'right_up']\n",
      "irradiat :  ['no' 'yes']\n"
     ]
    }
   ],
   "source": [
    "print(\"class : \", np.unique(df['class'].values))\n",
    "print(\"age : \", np.unique(df['age'].values))\n",
    "print(\"menopause : \", np.unique(df['menopause'].values))\n",
    "print(\"tumor-size : \", np.unique(df['tumor-size'].values))\n",
    "print(\"inv-nodes : \", np.unique(df['inv-nodes'].values))\n",
    "print(\"node-caps : \", np.unique(df['node-caps'].values))\n",
    "print(\"deg-malig : \", np.unique(df['deg-malig'].values))\n",
    "print(\"breast : \", np.unique(df['breast'].values))\n",
    "print(\"breast-quad : \", np.unique(df['breast-quad'].values))\n",
    "print(\"irradiat : \", np.unique(df['irradiat'].values))"
   ]
  },
  {
   "cell_type": "code",
   "execution_count": 7,
   "metadata": {
    "collapsed": false
   },
   "outputs": [
    {
     "data": {
      "text/plain": [
       "(277, 10)"
      ]
     },
     "execution_count": 7,
     "metadata": {},
     "output_type": "execute_result"
    }
   ],
   "source": [
    "df = df[(df['node-caps'] != '?') & (df['breast-quad'] != '?')]\n",
    "df.shape"
   ]
  },
  {
   "cell_type": "code",
   "execution_count": 8,
   "metadata": {
    "collapsed": true
   },
   "outputs": [],
   "source": [
    "df.loc[df['class'] == 'recurrence-events','class'] = 1\n",
    "df.loc[df['class'] == 'no-recurrence-events','class'] = 2"
   ]
  },
  {
   "cell_type": "code",
   "execution_count": 9,
   "metadata": {
    "collapsed": true
   },
   "outputs": [],
   "source": [
    "df.loc[df['age'] == '20-29','age'] = 1\n",
    "df.loc[df['age'] == '30-39','age'] = 2\n",
    "df.loc[df['age'] == '40-49','age'] = 3\n",
    "df.loc[df['age'] == '50-59','age'] = 4\n",
    "df.loc[df['age'] == '60-69','age'] = 5\n",
    "df.loc[df['age'] == '70-79','age'] = 6"
   ]
  },
  {
   "cell_type": "code",
   "execution_count": 10,
   "metadata": {
    "collapsed": true
   },
   "outputs": [],
   "source": [
    "df.loc[df['menopause'] == 'lt40','menopause'] = 1\n",
    "df.loc[df['menopause'] == 'ge40','menopause'] = 2\n",
    "df.loc[df['menopause'] == 'premeno','menopause'] = 3"
   ]
  },
  {
   "cell_type": "code",
   "execution_count": 11,
   "metadata": {
    "collapsed": true
   },
   "outputs": [],
   "source": [
    "tumorsize_values = np.array(['0-4', '5-9', '10-14', '15-19', '20-24', '25-29', '30-34', '35-39', '40-44', '45-49', '50-54'])\n",
    "\n",
    "for i in range(len(tumorsize_values)):\n",
    "    tumorsize = tumorsize_values[i]\n",
    "    df.loc[df['tumor-size'] == tumorsize, 'tumor-size'] = i+1"
   ]
  },
  {
   "cell_type": "code",
   "execution_count": 12,
   "metadata": {
    "collapsed": true
   },
   "outputs": [],
   "source": [
    "invnodes_values = np.array(['0-2', '3-5', '6-8', '9-11', '12-14', '15-17', '24-26'])\n",
    "\n",
    "for i in range(len(invnodes_values)):\n",
    "    invnode = invnodes_values[i]\n",
    "    df.loc[df['inv-nodes'] == invnode, 'inv-nodes'] = i+1"
   ]
  },
  {
   "cell_type": "code",
   "execution_count": 13,
   "metadata": {
    "collapsed": true
   },
   "outputs": [],
   "source": [
    "df.loc[df['node-caps'] == 'no','node-caps'] = 0\n",
    "df.loc[df['node-caps'] == 'yes','node-caps'] = 1"
   ]
  },
  {
   "cell_type": "code",
   "execution_count": 14,
   "metadata": {
    "collapsed": true
   },
   "outputs": [],
   "source": [
    "df.loc[df['irradiat'] == 'no','irradiat'] = 0\n",
    "df.loc[df['irradiat'] == 'yes','irradiat'] = 1"
   ]
  },
  {
   "cell_type": "code",
   "execution_count": 15,
   "metadata": {
    "collapsed": false
   },
   "outputs": [
    {
     "data": {
      "text/html": [
       "<div>\n",
       "<style scoped>\n",
       "    .dataframe tbody tr th:only-of-type {\n",
       "        vertical-align: middle;\n",
       "    }\n",
       "\n",
       "    .dataframe tbody tr th {\n",
       "        vertical-align: top;\n",
       "    }\n",
       "\n",
       "    .dataframe thead th {\n",
       "        text-align: right;\n",
       "    }\n",
       "</style>\n",
       "<table border=\"1\" class=\"dataframe\">\n",
       "  <thead>\n",
       "    <tr style=\"text-align: right;\">\n",
       "      <th></th>\n",
       "      <th>class</th>\n",
       "      <th>age</th>\n",
       "      <th>menopause</th>\n",
       "      <th>tumor-size</th>\n",
       "      <th>inv-nodes</th>\n",
       "      <th>node-caps</th>\n",
       "      <th>deg-malig</th>\n",
       "      <th>irradiat</th>\n",
       "    </tr>\n",
       "  </thead>\n",
       "  <tbody>\n",
       "    <tr>\n",
       "      <th>67</th>\n",
       "      <td>2</td>\n",
       "      <td>4</td>\n",
       "      <td>2</td>\n",
       "      <td>5</td>\n",
       "      <td>1</td>\n",
       "      <td>0</td>\n",
       "      <td>3</td>\n",
       "      <td>0</td>\n",
       "    </tr>\n",
       "    <tr>\n",
       "      <th>135</th>\n",
       "      <td>2</td>\n",
       "      <td>2</td>\n",
       "      <td>3</td>\n",
       "      <td>5</td>\n",
       "      <td>2</td>\n",
       "      <td>0</td>\n",
       "      <td>2</td>\n",
       "      <td>0</td>\n",
       "    </tr>\n",
       "    <tr>\n",
       "      <th>165</th>\n",
       "      <td>2</td>\n",
       "      <td>3</td>\n",
       "      <td>3</td>\n",
       "      <td>5</td>\n",
       "      <td>2</td>\n",
       "      <td>0</td>\n",
       "      <td>2</td>\n",
       "      <td>0</td>\n",
       "    </tr>\n",
       "    <tr>\n",
       "      <th>214</th>\n",
       "      <td>1</td>\n",
       "      <td>5</td>\n",
       "      <td>2</td>\n",
       "      <td>9</td>\n",
       "      <td>1</td>\n",
       "      <td>0</td>\n",
       "      <td>2</td>\n",
       "      <td>0</td>\n",
       "    </tr>\n",
       "    <tr>\n",
       "      <th>232</th>\n",
       "      <td>1</td>\n",
       "      <td>2</td>\n",
       "      <td>3</td>\n",
       "      <td>7</td>\n",
       "      <td>2</td>\n",
       "      <td>0</td>\n",
       "      <td>3</td>\n",
       "      <td>1</td>\n",
       "    </tr>\n",
       "  </tbody>\n",
       "</table>\n",
       "</div>"
      ],
      "text/plain": [
       "     class  age  menopause  tumor-size  inv-nodes  node-caps  deg-malig  \\\n",
       "67       2    4          2           5          1          0          3   \n",
       "135      2    2          3           5          2          0          2   \n",
       "165      2    3          3           5          2          0          2   \n",
       "214      1    5          2           9          1          0          2   \n",
       "232      1    2          3           7          2          0          3   \n",
       "\n",
       "     irradiat  \n",
       "67          0  \n",
       "135         0  \n",
       "165         0  \n",
       "214         0  \n",
       "232         1  "
      ]
     },
     "execution_count": 15,
     "metadata": {},
     "output_type": "execute_result"
    }
   ],
   "source": [
    "df.drop(['breast', 'breast-quad'], axis=1, inplace=True) # keep ordinal values only\n",
    "df.sample(5)"
   ]
  },
  {
   "cell_type": "code",
   "execution_count": 16,
   "metadata": {
    "collapsed": true
   },
   "outputs": [],
   "source": [
    "vectors = df.values"
   ]
  },
  {
   "cell_type": "code",
   "execution_count": 17,
   "metadata": {
    "collapsed": false
   },
   "outputs": [
    {
     "data": {
      "text/plain": [
       "(277, 8)"
      ]
     },
     "execution_count": 17,
     "metadata": {},
     "output_type": "execute_result"
    }
   ],
   "source": [
    "vectors.shape"
   ]
  },
  {
   "cell_type": "code",
   "execution_count": 18,
   "metadata": {
    "collapsed": false
   },
   "outputs": [
    {
     "data": {
      "text/plain": [
       "array([[2, 3, 7, ..., 0, 3, 0],\n",
       "       [3, 3, 5, ..., 0, 2, 0],\n",
       "       [3, 3, 5, ..., 0, 2, 0],\n",
       "       ...,\n",
       "       [5, 2, 5, ..., 0, 1, 0],\n",
       "       [3, 2, 7, ..., 0, 3, 0],\n",
       "       [4, 2, 7, ..., 0, 3, 0]])"
      ]
     },
     "execution_count": 18,
     "metadata": {},
     "output_type": "execute_result"
    }
   ],
   "source": [
    "vectors[:,1:]"
   ]
  },
  {
   "cell_type": "code",
   "execution_count": 19,
   "metadata": {
    "collapsed": true
   },
   "outputs": [],
   "source": [
    "dataset = LabeledSet(7)\n",
    "dataset.addExamples(vectors[:,1:], vectors[:,0:1])"
   ]
  },
  {
   "cell_type": "code",
   "execution_count": 20,
   "metadata": {
    "collapsed": true
   },
   "outputs": [],
   "source": [
    "g = Log()\n",
    "h = Sum()\n",
    "\n",
    "# rank Shannon discrimination measure\n",
    "f_r = Dsr()\n",
    "rsdm = Gdm(h, g, f_r)\n",
    "\n",
    "# conditional Shannon entropy\n",
    "f = Ds()\n",
    "sdm = Gdm(h, g, f)\n",
    "\n",
    "# pessimistic rank discrimination measure\n",
    "f_p = Mindsr()\n",
    "g_p = Frac() \n",
    "prdm = Gdm(h, g_p, f_p)"
   ]
  },
  {
   "cell_type": "code",
   "execution_count": 85,
   "metadata": {
    "collapsed": true
   },
   "outputs": [],
   "source": [
    "train_set, test_set = split_dataset(dataset, 80)"
   ]
  },
  {
   "cell_type": "code",
   "execution_count": 93,
   "metadata": {
    "collapsed": false
   },
   "outputs": [],
   "source": [
    "a = np.hstack((test_set.x[:,[4]], test_set.y))"
   ]
  },
  {
   "cell_type": "code",
   "execution_count": 111,
   "metadata": {
    "collapsed": false
   },
   "outputs": [
    {
     "data": {
      "text/plain": [
       "array([ 0,  1,  2,  3,  4,  5,  6,  7,  8,  9, 10, 11, 12, 13, 14, 15, 16,\n",
       "       17, 18, 19, 20, 21, 22, 23, 24, 25, 26, 27, 28, 29, 30, 31, 32, 33,\n",
       "       34, 35, 36, 37, 38, 39, 40, 41, 42, 43, 44, 45, 46, 47, 48, 49, 50,\n",
       "       51, 52, 53, 54, 55, 56])"
      ]
     },
     "execution_count": 111,
     "metadata": {},
     "output_type": "execute_result"
    }
   ],
   "source": [
    "np.arange(test_set.size())"
   ]
  },
  {
   "cell_type": "code",
   "execution_count": 112,
   "metadata": {
    "collapsed": false
   },
   "outputs": [
    {
     "data": {
      "text/plain": [
       "array([[ 0],\n",
       "       [ 1],\n",
       "       [ 2],\n",
       "       [ 3],\n",
       "       [ 4],\n",
       "       [ 5],\n",
       "       [ 6],\n",
       "       [ 7],\n",
       "       [ 8],\n",
       "       [ 9],\n",
       "       [10],\n",
       "       [11],\n",
       "       [12],\n",
       "       [13],\n",
       "       [14],\n",
       "       [15],\n",
       "       [16],\n",
       "       [17],\n",
       "       [18],\n",
       "       [19],\n",
       "       [20],\n",
       "       [21],\n",
       "       [22],\n",
       "       [23],\n",
       "       [24],\n",
       "       [25],\n",
       "       [26],\n",
       "       [27],\n",
       "       [28],\n",
       "       [29],\n",
       "       [30],\n",
       "       [31],\n",
       "       [32],\n",
       "       [33],\n",
       "       [34],\n",
       "       [35],\n",
       "       [36],\n",
       "       [37],\n",
       "       [38],\n",
       "       [39],\n",
       "       [40],\n",
       "       [41],\n",
       "       [42],\n",
       "       [43],\n",
       "       [44],\n",
       "       [45],\n",
       "       [46],\n",
       "       [47],\n",
       "       [48],\n",
       "       [49],\n",
       "       [50],\n",
       "       [51],\n",
       "       [52],\n",
       "       [53],\n",
       "       [54],\n",
       "       [55],\n",
       "       [56]])"
      ]
     },
     "execution_count": 112,
     "metadata": {},
     "output_type": "execute_result"
    }
   ],
   "source": [
    "np.reshape(np.arange(test_set.size()), (57,1))"
   ]
  },
  {
   "cell_type": "code",
   "execution_count": 113,
   "metadata": {
    "collapsed": false
   },
   "outputs": [],
   "source": [
    "a = np.hstack((a, np.reshape(np.arange(test_set.size()), (57,1))))"
   ]
  },
  {
   "cell_type": "code",
   "execution_count": 114,
   "metadata": {
    "collapsed": false
   },
   "outputs": [
    {
     "data": {
      "text/plain": [
       "array([[ 0,  1,  0],\n",
       "       [ 0,  1,  1],\n",
       "       [ 1,  1,  2],\n",
       "       [ 1,  1,  3],\n",
       "       [ 0,  1,  4],\n",
       "       [ 0,  1,  5],\n",
       "       [ 1,  1,  6],\n",
       "       [ 1,  1,  7],\n",
       "       [ 0,  1,  8],\n",
       "       [ 0,  1,  9],\n",
       "       [ 0,  1, 10],\n",
       "       [ 1,  1, 11],\n",
       "       [ 0,  1, 12],\n",
       "       [ 0,  1, 13],\n",
       "       [ 0,  1, 14],\n",
       "       [ 0,  1, 15],\n",
       "       [ 0,  1, 16],\n",
       "       [ 0,  2, 17],\n",
       "       [ 0,  2, 18],\n",
       "       [ 0,  2, 19],\n",
       "       [ 1,  2, 20],\n",
       "       [ 0,  2, 21],\n",
       "       [ 0,  2, 22],\n",
       "       [ 0,  2, 23],\n",
       "       [ 0,  2, 24],\n",
       "       [ 0,  2, 25],\n",
       "       [ 0,  2, 26],\n",
       "       [ 0,  2, 27],\n",
       "       [ 0,  2, 28],\n",
       "       [ 0,  2, 29],\n",
       "       [ 0,  2, 30],\n",
       "       [ 0,  2, 31],\n",
       "       [ 0,  2, 32],\n",
       "       [ 0,  2, 33],\n",
       "       [ 0,  2, 34],\n",
       "       [ 0,  2, 35],\n",
       "       [ 0,  2, 36],\n",
       "       [ 1,  2, 37],\n",
       "       [ 0,  2, 38],\n",
       "       [ 0,  2, 39],\n",
       "       [ 0,  2, 40],\n",
       "       [ 0,  2, 41],\n",
       "       [ 0,  2, 42],\n",
       "       [ 0,  2, 43],\n",
       "       [ 0,  2, 44],\n",
       "       [ 1,  2, 45],\n",
       "       [ 1,  2, 46],\n",
       "       [ 0,  2, 47],\n",
       "       [ 0,  2, 48],\n",
       "       [ 0,  2, 49],\n",
       "       [ 0,  2, 50],\n",
       "       [ 0,  2, 51],\n",
       "       [ 1,  2, 52],\n",
       "       [ 0,  2, 53],\n",
       "       [ 0,  2, 54],\n",
       "       [ 0,  2, 55],\n",
       "       [ 1,  2, 56]])"
      ]
     },
     "execution_count": 114,
     "metadata": {},
     "output_type": "execute_result"
    }
   ],
   "source": [
    "a"
   ]
  },
  {
   "cell_type": "code",
   "execution_count": 115,
   "metadata": {
    "collapsed": false
   },
   "outputs": [],
   "source": [
    "tmp = np.sort(a.view([('',a.dtype)]*a.shape[1]),0).view(a.dtype) "
   ]
  },
  {
   "cell_type": "code",
   "execution_count": 118,
   "metadata": {
    "collapsed": false
   },
   "outputs": [
    {
     "data": {
      "text/plain": [
       "array([0, 1, 4, 5, 8])"
      ]
     },
     "execution_count": 118,
     "metadata": {},
     "output_type": "execute_result"
    }
   ],
   "source": [
    "tmp[:5, 2]"
   ]
  },
  {
   "cell_type": "code",
   "execution_count": null,
   "metadata": {
    "collapsed": true
   },
   "outputs": [],
   "source": []
  },
  {
   "cell_type": "code",
   "execution_count": 153,
   "metadata": {
    "collapsed": false,
    "scrolled": true
   },
   "outputs": [
    {
     "name": "stdout",
     "output_type": "stream",
     "text": [
      "0.5 3\n",
      "[1 1 3 1 1 1 2 4 1 1 1 2 3 1 1 1 3 3 6 1 2 2 3 1 3 2 1 6 2 1 1 2 1 5 1 2 2\n",
      " 1 1 1 1 1 1 3 1 1 1 4 2 1 1 3 2 3 5 2 3 1 1 4 1 2 2 1 1 6 1 1 1 1 4 1 1 1\n",
      " 3 1 1 1 1 1 1 1 1 1 1 1 2 1 2 1 1 2 1 1 1 1 5 1 2 1 1 1 1 1 3 1 1 1 1 2 1\n",
      " 1 1 1 1 1 1 1 1 1 1 1 1 4 1 1 1 1 1 1 1 1 3 1 1 1 1 1 1 1 1 1 1 1 3 1 1 1\n",
      " 1 1 1 2 1 1 1 1 2 1 1 1 1 1 1 3 1 2 2 1 1 1 1 3 1 1 1 1 1 1 1 1 1 1 1 1 1\n",
      " 1 1 1 2 1 1 1 1 1 1 1 6 1 1 1 1 1 3 2 1 1 1 1 1 1 1 1 1 1 1 1 1 1 6 1]\n",
      "[1 1 3 1 1 1 2 4 1 1 1 2 3 1 1 1 3 3 6 1 2 2 3 1 3 2 1 6 2 1 1 2 1 5 1 2 2\n",
      " 1 1 1 1 1 1 3 1 1 1 4 2 1 1 3 2 3 5 2 3 1 1 4 1 2 2 1 1 6 1 1 1 1 4 1 1 1\n",
      " 3 1 1 1 1 1 1 1 1 1 1 1 2 1 2 1 1 2 1 1 1 1 5 1 2 1 1 1 1 1 3 1 1 1 1 2 1\n",
      " 1 1 1 1 1 1 1 1 1 1 1 1 4 1 1 1 1 1 1 1 1 3 1 1 1 1 1 1 1 1 1 1 1 3 1 1 1\n",
      " 1 1 1 2 1 1 1 1 2 1 1 1 1 1 1 3 1 2 2 1 1 1 1 3 1 1 1 1 1 1 1 1 1 1 1 1 1\n",
      " 1 1 1 2 1 1 1 1 1 1 1 6 1 1 1 1 1 3 2 1 1 1 1 1 1 1 1 1 1 1 1 1 1 6 1]\n",
      "0.5\n",
      "220\n"
     ]
    },
    {
     "data": {
      "text/plain": [
       "0.7017543859649122"
      ]
     },
     "execution_count": 153,
     "metadata": {},
     "output_type": "execute_result"
    }
   ],
   "source": [
    "tree1 = RDMT(rsdm, \"shannon\", 0, 100, 0.01, [1, 2])\n",
    "tree1.train(train_set)\n",
    "tree1.accuracy(test_set)"
   ]
  },
  {
   "cell_type": "code",
   "execution_count": 142,
   "metadata": {
    "collapsed": false
   },
   "outputs": [
    {
     "data": {
      "text/plain": [
       "array([3, 2, 2, 2, 2, 3, 2, 3, 2, 3, 3, 3, 3, 3, 3, 2, 2, 2, 3, 3, 3, 2,\n",
       "       2, 3, 2, 2, 3, 3, 3, 2, 2, 3, 3, 2, 3, 3, 2, 3, 3, 2, 3, 3, 3, 2,\n",
       "       3, 3, 2, 2, 2, 3, 3, 2, 2, 3, 3, 2, 3, 2, 2, 3, 3, 3, 3, 3, 3, 2,\n",
       "       3, 3, 2, 3, 3, 2, 3, 2, 3, 3, 3, 1, 2, 3, 3, 3, 2, 1, 2, 3, 3, 3,\n",
       "       2, 3, 3, 3, 2, 3, 3, 3, 3, 2, 3, 3, 3, 3, 2, 3, 2, 2, 3, 3, 3, 3,\n",
       "       3, 2, 3, 3, 2, 2, 3, 3, 3, 3, 2, 2, 3, 3, 3, 2, 2, 3, 3, 2, 2, 3,\n",
       "       3, 3, 3, 3, 2, 2, 1, 2, 2, 3, 2, 2, 2, 3, 2, 2, 3, 2, 2, 3, 2, 2,\n",
       "       2, 1, 2, 2, 3, 2, 2, 2, 2, 3, 2, 2, 3, 2, 3, 2, 3, 3, 3, 3, 2, 2,\n",
       "       3, 2, 3, 2, 3, 3, 3, 2, 3, 3, 2, 3, 3, 2, 2, 3, 3, 3, 3, 3, 2, 2,\n",
       "       2, 2, 3, 3, 2, 2, 3, 2, 3, 2, 2, 2, 2, 2, 2, 2, 2, 2, 2, 3, 2, 2])"
      ]
     },
     "execution_count": 142,
     "metadata": {},
     "output_type": "execute_result"
    }
   ],
   "source": [
    "train_set.x[:,1]"
   ]
  },
  {
   "cell_type": "code",
   "execution_count": 140,
   "metadata": {
    "collapsed": false
   },
   "outputs": [
    {
     "data": {
      "text/plain": [
       "220"
      ]
     },
     "execution_count": 140,
     "metadata": {},
     "output_type": "execute_result"
    }
   ],
   "source": [
    "train_set.size()"
   ]
  },
  {
   "cell_type": "code",
   "execution_count": 135,
   "metadata": {
    "collapsed": false
   },
   "outputs": [
    {
     "data": {
      "text/plain": [
       "array([1, 1, 3, 1, 1, 1, 2, 4, 1, 1, 1, 2, 3, 1, 1, 1, 3, 3, 6, 1, 2, 2,\n",
       "       3, 1, 3, 2, 1, 6, 2, 1, 1, 2, 1, 5, 1, 2, 2, 1, 1, 1, 1, 1, 1, 3,\n",
       "       1, 1, 1, 4, 2, 1, 1, 3, 2, 3, 5, 2, 3, 1, 1, 4, 1, 2, 2, 1, 1, 6,\n",
       "       1, 1, 1, 1, 4, 1, 1, 1, 3, 1, 1, 1, 1, 1, 1, 1, 1, 1, 1, 1, 2, 1,\n",
       "       2, 1, 1, 2, 1, 1, 1, 1, 5, 1, 2, 1, 1, 1, 1, 1, 3, 1, 1, 1, 1, 2,\n",
       "       1, 1, 1, 1, 1, 1, 1, 1, 1, 1, 1, 1, 1, 4, 1, 1, 1, 1, 1, 1, 1, 1,\n",
       "       3, 1, 1, 1, 1, 1, 1, 1, 1, 1, 1, 1, 3, 1, 1, 1, 1, 1, 1, 2, 1, 1,\n",
       "       1, 1, 2, 1, 1, 1, 1, 1, 1, 3, 1, 2, 2, 1, 1, 1, 1, 3, 1, 1, 1, 1,\n",
       "       1, 1, 1, 1, 1, 1, 1, 1, 1, 1, 1, 1, 2, 1, 1, 1, 1, 1, 1, 1, 6, 1,\n",
       "       1, 1, 1, 1, 3, 2, 1, 1, 1, 1, 1, 1, 1, 1, 1, 1, 1, 1, 1, 1, 6, 1])"
      ]
     },
     "execution_count": 135,
     "metadata": {},
     "output_type": "execute_result"
    }
   ],
   "source": [
    "train_set.x[:,3]"
   ]
  },
  {
   "cell_type": "code",
   "execution_count": 145,
   "metadata": {
    "collapsed": false
   },
   "outputs": [
    {
     "data": {
      "text/plain": [
       "2"
      ]
     },
     "execution_count": 145,
     "metadata": {},
     "output_type": "execute_result"
    }
   ],
   "source": [
    "tree1.root.label"
   ]
  },
  {
   "cell_type": "code",
   "execution_count": 146,
   "metadata": {
    "collapsed": false
   },
   "outputs": [
    {
     "data": {
      "image/svg+xml": [
       "<?xml version=\"1.0\" encoding=\"UTF-8\" standalone=\"no\"?>\n",
       "<!DOCTYPE svg PUBLIC \"-//W3C//DTD SVG 1.1//EN\"\n",
       " \"http://www.w3.org/Graphics/SVG/1.1/DTD/svg11.dtd\">\n",
       "<!-- Generated by graphviz version 2.38.0 (20140413.2041)\n",
       " -->\n",
       "<!-- Title: %3 Pages: 1 -->\n",
       "<svg width=\"62pt\" height=\"44pt\"\n",
       " viewBox=\"0.00 0.00 62.00 44.00\" xmlns=\"http://www.w3.org/2000/svg\" xmlns:xlink=\"http://www.w3.org/1999/xlink\">\n",
       "<g id=\"graph0\" class=\"graph\" transform=\"scale(1 1) rotate(0) translate(4 40)\">\n",
       "<title>%3</title>\n",
       "<polygon fill=\"white\" stroke=\"none\" points=\"-4,4 -4,-40 58,-40 58,4 -4,4\"/>\n",
       "<!-- A -->\n",
       "<g id=\"node1\" class=\"node\"><title>A</title>\n",
       "<polygon fill=\"none\" stroke=\"black\" points=\"54,-36 0,-36 0,-0 54,-0 54,-36\"/>\n",
       "<text text-anchor=\"middle\" x=\"27\" y=\"-14.3\" font-family=\"Times,serif\" font-size=\"14.00\">2</text>\n",
       "</g>\n",
       "</g>\n",
       "</svg>\n"
      ],
      "text/plain": [
       "<graphviz.dot.Digraph at 0x7f6e91d93a20>"
      ]
     },
     "execution_count": 146,
     "metadata": {},
     "output_type": "execute_result"
    }
   ],
   "source": [
    "tree1.plot()"
   ]
  }
 ],
 "metadata": {
  "kernelspec": {
   "display_name": "Python 3",
   "language": "python",
   "name": "python3"
  },
  "language_info": {
   "codemirror_mode": {
    "name": "ipython",
    "version": 3
   },
   "file_extension": ".py",
   "mimetype": "text/x-python",
   "name": "python",
   "nbconvert_exporter": "python",
   "pygments_lexer": "ipython3",
   "version": "3.6.3"
  }
 },
 "nbformat": 4,
 "nbformat_minor": 2
}
