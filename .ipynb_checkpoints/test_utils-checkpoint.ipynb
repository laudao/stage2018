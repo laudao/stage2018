{
 "cells": [
  {
   "cell_type": "code",
   "execution_count": 1,
   "metadata": {
    "collapsed": true
   },
   "outputs": [],
   "source": [
    "from utils import *"
   ]
  },
  {
   "cell_type": "code",
   "execution_count": 2,
   "metadata": {
    "collapsed": true
   },
   "outputs": [],
   "source": [
    "f = Dsr()\n",
    "g = Log()\n",
    "h = Sum()\n",
    "\n",
    "rsdm = Gdm(h, g, f)"
   ]
  },
  {
   "cell_type": "code",
   "execution_count": 9,
   "metadata": {
    "collapsed": true
   },
   "outputs": [],
   "source": [
    "def discretize(H, labeled_set, a_j):\n",
    "    '''\n",
    "        H : discrimation measure\n",
    "        labeled_set : labeled set\n",
    "        a_j : attribute to discretize\n",
    "        return threshold which minimizes the entropy function H for given feature a_j, \n",
    "            along with minimum entropy value\n",
    "    '''\n",
    "    \n",
    "    n = labeled_set.size()\n",
    "    ind = np.argsort(labeled_set.x[:,a_j],axis=0) # sort values according to attribute a_j\n",
    "    \n",
    "    # binary set : for each object w_i taken in ascending order of a_j value,\n",
    "    # a_j(w_h) = 0 if a_j(w_h) <= a_j(w_i), 1 otherwise\n",
    "    binary_set = LabeledSet(labeled_set.getInputDimension())\n",
    "    binary_set.nb_examples = labeled_set.size()\n",
    "    binary_set.x = np.ones(labeled_set.size())\n",
    "    binary_set.y = labeled_set.y\n",
    "    \n",
    "    thresholds = []\n",
    "    H_values = []\n",
    "        \n",
    "    dsa = np.ones((n, n))\n",
    "    dsl = H.f.dominant_sets_label(binary_set)\n",
    "    esa = np.ones((n, n))\n",
    "    esl = H.f.equal_sets_label(binary_set)\n",
    "    \n",
    "    last = 0\n",
    "    \n",
    "    for i in range(n-1):\n",
    "        current = labeled_set.getX(ind[i])[a_j]\n",
    "        current_label = labeled_set.getY(ind[i])\n",
    "        lookahead = labeled_set.getX(ind[i+1])[a_j]\n",
    "        lookahead_label = labeled_set.getY(ind[i+1])\n",
    "        binary_set.x[ind[i]] = 0\n",
    "        \n",
    "        if current == lookahead or current_label == lookahead_label:\n",
    "            continue\n",
    "        else:\n",
    "            a = np.zeros((n,))\n",
    "            a[ind[:i+1]] = 1\n",
    "            dsa[ind[last:i+1]] = np.ones((n,))\n",
    "            esa[ind[:i+1]] = a\n",
    "            \n",
    "            a = np.zeros((n,))\n",
    "            a[ind[i+1:]] = 1\n",
    "            \n",
    "            dsa[ind[i+1:]] = a\n",
    "            esa[ind[i+1:]] = a\n",
    "\n",
    "        thresholds.append((current + lookahead) / 2.0)\n",
    "        H_values.append(H.value(binary_set, a_j, dsa, dsl, esa, esl))\n",
    "        last = ind[i+1]\n",
    "      \n",
    "    min_entropy = min(H_values)\n",
    "    min_threshold = thresholds[np.argmin(H_values)]\n",
    "    return (min_threshold, min_entropy)"
   ]
  },
  {
   "cell_type": "code",
   "execution_count": 10,
   "metadata": {
    "collapsed": false
   },
   "outputs": [
    {
     "name": "stdout",
     "output_type": "stream",
     "text": [
      "running time :  22.1731960773468\n"
     ]
    }
   ],
   "source": [
    "start = time.time()\n",
    "set2, t = generate_2Ddataset(0, 2, 1000, 0.6, 0.1, [[-10, 10], [-10, 10]])\n",
    "\n",
    "t1, h1 = discretize(rsdm, set2, 0)\n",
    "\n",
    "print(\"running time : \", format(time.time() - start))"
   ]
  }
 ],
 "metadata": {
  "kernelspec": {
   "display_name": "Python 3",
   "language": "python",
   "name": "python3"
  },
  "language_info": {
   "codemirror_mode": {
    "name": "ipython",
    "version": 3
   },
   "file_extension": ".py",
   "mimetype": "text/x-python",
   "name": "python",
   "nbconvert_exporter": "python",
   "pygments_lexer": "ipython3",
   "version": "3.6.3"
  }
 },
 "nbformat": 4,
 "nbformat_minor": 2
}
