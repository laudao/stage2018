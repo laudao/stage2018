{
 "cells": [
  {
   "cell_type": "code",
   "execution_count": 131,
   "metadata": {
    "collapsed": false
   },
   "outputs": [
    {
     "name": "stdout",
     "output_type": "stream",
     "text": [
      "The autoreload extension is already loaded. To reload it, use:\n",
      "  %reload_ext autoreload\n"
     ]
    }
   ],
   "source": [
    "%load_ext autoreload\n",
    "%autoreload 2\n",
    "from utils import *"
   ]
  },
  {
   "cell_type": "code",
   "execution_count": 132,
   "metadata": {
    "collapsed": true
   },
   "outputs": [],
   "source": [
    "df = pd.read_csv(\"cars.csv\")"
   ]
  },
  {
   "cell_type": "code",
   "execution_count": 133,
   "metadata": {
    "collapsed": false
   },
   "outputs": [
    {
     "data": {
      "text/html": [
       "<div>\n",
       "<style scoped>\n",
       "    .dataframe tbody tr th:only-of-type {\n",
       "        vertical-align: middle;\n",
       "    }\n",
       "\n",
       "    .dataframe tbody tr th {\n",
       "        vertical-align: top;\n",
       "    }\n",
       "\n",
       "    .dataframe thead th {\n",
       "        text-align: right;\n",
       "    }\n",
       "</style>\n",
       "<table border=\"1\" class=\"dataframe\">\n",
       "  <thead>\n",
       "    <tr style=\"text-align: right;\">\n",
       "      <th></th>\n",
       "      <th>buying</th>\n",
       "      <th>maint</th>\n",
       "      <th>doors</th>\n",
       "      <th>persons</th>\n",
       "      <th>lug_boot</th>\n",
       "      <th>safety</th>\n",
       "      <th>class</th>\n",
       "    </tr>\n",
       "  </thead>\n",
       "  <tbody>\n",
       "    <tr>\n",
       "      <th>1191</th>\n",
       "      <td>med</td>\n",
       "      <td>low</td>\n",
       "      <td>2</td>\n",
       "      <td>2</td>\n",
       "      <td>med</td>\n",
       "      <td>low</td>\n",
       "      <td>unacc</td>\n",
       "    </tr>\n",
       "    <tr>\n",
       "      <th>30</th>\n",
       "      <td>vhigh</td>\n",
       "      <td>vhigh</td>\n",
       "      <td>3</td>\n",
       "      <td>2</td>\n",
       "      <td>med</td>\n",
       "      <td>low</td>\n",
       "      <td>unacc</td>\n",
       "    </tr>\n",
       "    <tr>\n",
       "      <th>1407</th>\n",
       "      <td>low</td>\n",
       "      <td>high</td>\n",
       "      <td>2</td>\n",
       "      <td>2</td>\n",
       "      <td>med</td>\n",
       "      <td>low</td>\n",
       "      <td>unacc</td>\n",
       "    </tr>\n",
       "    <tr>\n",
       "      <th>151</th>\n",
       "      <td>vhigh</td>\n",
       "      <td>high</td>\n",
       "      <td>3</td>\n",
       "      <td>4</td>\n",
       "      <td>big</td>\n",
       "      <td>med</td>\n",
       "      <td>unacc</td>\n",
       "    </tr>\n",
       "    <tr>\n",
       "      <th>405</th>\n",
       "      <td>vhigh</td>\n",
       "      <td>low</td>\n",
       "      <td>5more</td>\n",
       "      <td>2</td>\n",
       "      <td>small</td>\n",
       "      <td>low</td>\n",
       "      <td>unacc</td>\n",
       "    </tr>\n",
       "  </tbody>\n",
       "</table>\n",
       "</div>"
      ],
      "text/plain": [
       "     buying  maint  doors persons lug_boot safety  class\n",
       "1191    med    low      2       2      med    low  unacc\n",
       "30    vhigh  vhigh      3       2      med    low  unacc\n",
       "1407    low   high      2       2      med    low  unacc\n",
       "151   vhigh   high      3       4      big    med  unacc\n",
       "405   vhigh    low  5more       2    small    low  unacc"
      ]
     },
     "execution_count": 133,
     "metadata": {},
     "output_type": "execute_result"
    }
   ],
   "source": [
    "df.sample(5)"
   ]
  },
  {
   "cell_type": "code",
   "execution_count": 134,
   "metadata": {
    "collapsed": false
   },
   "outputs": [
    {
     "data": {
      "text/plain": [
       "Index(['buying', 'maint', 'doors', 'persons', 'lug_boot', 'safety', 'class'], dtype='object')"
      ]
     },
     "execution_count": 134,
     "metadata": {},
     "output_type": "execute_result"
    }
   ],
   "source": [
    "df.columns"
   ]
  },
  {
   "cell_type": "code",
   "execution_count": 135,
   "metadata": {
    "collapsed": false
   },
   "outputs": [
    {
     "name": "stdout",
     "output_type": "stream",
     "text": [
      "buying :  ['high' 'low' 'med' 'vhigh']\n",
      "maint :  ['high' 'low' 'med' 'vhigh']\n",
      "doors :  ['2' '3' '4' '5more']\n",
      "persons :  ['2' '4' 'more']\n",
      "lug_boot :  ['big' 'med' 'small']\n",
      "safety :  ['high' 'low' 'med']\n",
      "class :  ['acc' 'good' 'unacc' 'vgood']\n"
     ]
    }
   ],
   "source": [
    "print(\"buying : \", np.unique(df['buying'].values))\n",
    "print(\"maint : \", np.unique(df['maint'].values))\n",
    "print(\"doors : \", np.unique(df['doors'].values))\n",
    "print(\"persons : \", np.unique(df['persons'].values))\n",
    "print(\"lug_boot : \", np.unique(df['lug_boot'].values))\n",
    "print(\"safety : \", np.unique(df['safety'].values))\n",
    "print(\"class : \", np.unique(df['class'].values))"
   ]
  },
  {
   "cell_type": "code",
   "execution_count": 136,
   "metadata": {
    "collapsed": true
   },
   "outputs": [],
   "source": [
    "df.loc[df['class'] == 'unacc','class'] = 1\n",
    "df.loc[df['class'] == 'acc','class'] = 2\n",
    "df.loc[df['class'] == 'good','class'] = 3\n",
    "df.loc[df['class'] == 'vgood','class'] = 4"
   ]
  },
  {
   "cell_type": "code",
   "execution_count": 137,
   "metadata": {
    "collapsed": true
   },
   "outputs": [],
   "source": [
    "df.loc[df['buying'] == 'low','buying'] = 1\n",
    "df.loc[df['buying'] == 'med','buying'] = 2\n",
    "df.loc[df['buying'] == 'high','buying'] = 3\n",
    "df.loc[df['buying'] == 'vhigh','buying'] = 4"
   ]
  },
  {
   "cell_type": "code",
   "execution_count": 138,
   "metadata": {
    "collapsed": true
   },
   "outputs": [],
   "source": [
    "df.loc[df['maint'] == 'low','maint'] = 1\n",
    "df.loc[df['maint'] == 'med','maint'] = 2\n",
    "df.loc[df['maint'] == 'high','maint'] = 3\n",
    "df.loc[df['maint'] == 'vhigh','maint'] = 4"
   ]
  },
  {
   "cell_type": "code",
   "execution_count": 140,
   "metadata": {
    "collapsed": true
   },
   "outputs": [],
   "source": [
    "df.loc[df['doors'] == '2','doors'] = 1\n",
    "df.loc[df['doors'] == '3','doors'] = 2\n",
    "df.loc[df['doors'] == '4','doors'] = 3\n",
    "df.loc[df['doors'] == '5more','doors'] = 4"
   ]
  },
  {
   "cell_type": "code",
   "execution_count": 141,
   "metadata": {
    "collapsed": true
   },
   "outputs": [],
   "source": [
    "df.loc[df['persons'] == '2','persons'] = 1\n",
    "df.loc[df['persons'] == '4','persons'] = 2\n",
    "df.loc[df['persons'] == 'more','persons'] = 3"
   ]
  },
  {
   "cell_type": "code",
   "execution_count": 142,
   "metadata": {
    "collapsed": true
   },
   "outputs": [],
   "source": [
    "df.loc[df['lug_boot'] == 'small','lug_boot'] = 1\n",
    "df.loc[df['lug_boot'] == 'med','lug_boot'] = 2\n",
    "df.loc[df['lug_boot'] == 'big','lug_boot'] = 3"
   ]
  },
  {
   "cell_type": "code",
   "execution_count": 143,
   "metadata": {
    "collapsed": false
   },
   "outputs": [],
   "source": [
    "df.loc[df['safety'] == 'low','safety'] = 1\n",
    "df.loc[df['safety'] == 'med','safety'] = 2\n",
    "df.loc[df['safety'] == 'high','safety'] = 3"
   ]
  },
  {
   "cell_type": "code",
   "execution_count": 144,
   "metadata": {
    "collapsed": false
   },
   "outputs": [
    {
     "name": "stdout",
     "output_type": "stream",
     "text": [
      "buying :  [1 2 3 4]\n",
      "maint :  [1 2 3 4]\n",
      "doors :  [1 2 3 4]\n",
      "persons :  [1 2 3]\n",
      "lug_boot :  [1 2 3]\n",
      "safety :  [1 2 3]\n",
      "class :  [1 2 3 4]\n"
     ]
    }
   ],
   "source": [
    "print(\"buying : \", np.unique(df['buying'].values))\n",
    "print(\"maint : \", np.unique(df['maint'].values))\n",
    "print(\"doors : \", np.unique(df['doors'].values))\n",
    "print(\"persons : \", np.unique(df['persons'].values))\n",
    "print(\"lug_boot : \", np.unique(df['lug_boot'].values))\n",
    "print(\"safety : \", np.unique(df['safety'].values))\n",
    "print(\"class : \", np.unique(df['class'].values))"
   ]
  },
  {
   "cell_type": "code",
   "execution_count": 145,
   "metadata": {
    "collapsed": true
   },
   "outputs": [],
   "source": [
    "g = Log()\n",
    "h = Sum()\n",
    "\n",
    "# rank Shannon discrimination measure\n",
    "f_r = Dsr()\n",
    "rsdm = Gdm(h, g, f_r)\n",
    "\n",
    "# conditional Shannon entropy\n",
    "f = Ds()\n",
    "sdm = Gdm(h, g, f)\n",
    "\n",
    "# pessimistic rank discrimination measure\n",
    "f_p = Mindsr()\n",
    "g_p = Frac() \n",
    "prdm = Gdm(h, g_p, f_p)\n",
    "\n",
    "# rank Gini discrimination measure \n",
    "g_g = One_minus()\n",
    "rgdm = Gdm(h, g_g, f_r)\n",
    "\n",
    "# H_M\n",
    "h_m = Max()\n",
    "g_m = One_minus_square()\n",
    "H_m = Gdm(h_m, g_m, f_r)\n",
    "\n",
    "# H_Q\n",
    "f_q = Avgdsr()\n",
    "h_q = Square_root()\n",
    "H_q = Gdm(h_q, g_g, f_q)"
   ]
  },
  {
   "cell_type": "code",
   "execution_count": 146,
   "metadata": {
    "collapsed": true
   },
   "outputs": [],
   "source": [
    "vectors = df.values"
   ]
  },
  {
   "cell_type": "code",
   "execution_count": 157,
   "metadata": {
    "collapsed": true
   },
   "outputs": [],
   "source": [
    "dataset = LabeledSet(6)\n",
    "dataset.addExamples(vectors[:,0:6], vectors[:,6:])"
   ]
  },
  {
   "cell_type": "code",
   "execution_count": 158,
   "metadata": {
    "collapsed": false
   },
   "outputs": [
    {
     "data": {
      "text/plain": [
       "0.01403699950674473"
      ]
     },
     "execution_count": 158,
     "metadata": {},
     "output_type": "execute_result"
    }
   ],
   "source": [
    "NMI1(dataset)"
   ]
  },
  {
   "cell_type": "code",
   "execution_count": 162,
   "metadata": {
    "collapsed": false
   },
   "outputs": [
    {
     "name": "stdout",
     "output_type": "stream",
     "text": [
      "average accuracy :  0.8318992248062016\n",
      "average depth :  9.9\n",
      "average number of leaves :  52.0\n",
      "average ratio between number of pairwise non-monotone label comparisons and number of pairs :  0.9093529479450446\n",
      "average number of pairs used for ratio computing :  21.200000000000003\n"
     ]
    }
   ],
   "source": [
    "# Rank Shannon discrimination measure\n",
    "avg_accuracy = 0\n",
    "avg_leaves = 0\n",
    "avg_depth = 0\n",
    "avg_ratio = 0\n",
    "avg_pairs = 0\n",
    "\n",
    "for i in range(10):\n",
    "    test_set = folds[i]\n",
    "    train_set = LabeledSet(6)\n",
    "    for j in range(0, 10):\n",
    "        if i != j:\n",
    "            train_set.addExamples(folds[j].x, folds[j].y)\n",
    "    tree = RDMT(rsdm, \"shannon\", 0, 100, 0.01 * train_set.size(), [1, 2])\n",
    "    tree.train(train_set)\n",
    "    avg_accuracy += tree.accuracy(test_set)\n",
    "    avg_leaves += tree.get_nb_leaves()\n",
    "    avg_depth += tree.get_depth()\n",
    "    avg_ratio += tree.get_ratio_non_monotone_pairs() \n",
    "    avg_pairs += tree.get_total_pairs()\n",
    "        \n",
    "avg_accuracy = avg_accuracy * (1.0/10)\n",
    "avg_leaves = avg_leaves * (1.0/10)\n",
    "avg_depth = avg_depth * (1.0/10)\n",
    "avg_ratio = avg_ratio * (1.0/10)\n",
    "avg_pairs = avg_pairs * (1.0/10)\n",
    "\n",
    "print(\"average accuracy : \", avg_accuracy)\n",
    "print(\"average depth : \", avg_depth)\n",
    "print(\"average number of leaves : \", avg_leaves)\n",
    "print(\"average ratio between number of pairwise non-monotone label comparisons and number of pairs : \", avg_ratio)\n",
    "print(\"average number of pairs used for ratio computing : \", avg_pairs)"
   ]
  },
  {
   "cell_type": "code",
   "execution_count": null,
   "metadata": {
    "collapsed": false
   },
   "outputs": [
    {
     "name": "stdout",
     "output_type": "stream",
     "text": [
      "average accuracy :  0.8174418604651162\n",
      "average depth :  10.4\n",
      "average number of leaves :  39.900000000000006\n",
      "average ratio between number of pairwise non-monotone label comparisons and number of pairs :  0.9328121173587709\n",
      "average number of pairs used for ratio computing :  12.600000000000001\n"
     ]
    }
   ],
   "source": [
    "# Shannon entropy\n",
    "avg_accuracy = 0\n",
    "avg_leaves = 0\n",
    "avg_depth = 0\n",
    "avg_ratio = 0\n",
    "avg_pairs = 0\n",
    "\n",
    "for i in range(10):\n",
    "    test_set = folds[i]\n",
    "    train_set = LabeledSet(6)\n",
    "    for j in range(0, 10):\n",
    "        if i != j:\n",
    "            train_set.addExamples(folds[j].x, folds[j].y)\n",
    "    tree = RDMT(sdm, \"shannon\", 0, 100, 0.01 * train_set.size(), [1, 2])\n",
    "    tree.train(train_set)\n",
    "    avg_accuracy += tree.accuracy(test_set)\n",
    "    avg_leaves += tree.get_nb_leaves()\n",
    "    avg_depth += tree.get_depth()\n",
    "    avg_ratio += tree.get_ratio_non_monotone_pairs() \n",
    "    avg_pairs += tree.get_total_pairs()\n",
    "        \n",
    "avg_accuracy = avg_accuracy * (1.0/10)\n",
    "avg_leaves = avg_leaves * (1.0/10)\n",
    "avg_depth = avg_depth * (1.0/10)\n",
    "avg_ratio = avg_ratio * (1.0/10)\n",
    "avg_pairs = avg_pairs * (1.0/10)\n",
    "\n",
    "print(\"average accuracy : \", avg_accuracy)\n",
    "print(\"average depth : \", avg_depth)\n",
    "print(\"average number of leaves : \", avg_leaves)\n",
    "print(\"average ratio between number of pairwise non-monotone label comparisons and number of pairs : \", avg_ratio)\n",
    "print(\"average number of pairs used for ratio computing : \", avg_pairs)"
   ]
  },
  {
   "cell_type": "code",
   "execution_count": null,
   "metadata": {
    "collapsed": false
   },
   "outputs": [],
   "source": [
    "# Pessimistic rank discrimination measure\n",
    "avg_accuracy = 0\n",
    "avg_leaves = 0\n",
    "avg_depth = 0\n",
    "avg_ratio = 0\n",
    "avg_pairs = 0\n",
    "\n",
    "for i in range(10):\n",
    "    test_set = folds[i]\n",
    "    train_set = LabeledSet(6)\n",
    "    for j in range(0, 10):\n",
    "        if i != j:\n",
    "            train_set.addExamples(folds[j].x, folds[j].y)\n",
    "    tree = RDMT(prdm, \"shannon\", 0, 100, 0.01 * train_set.size(), [1, 2])\n",
    "    tree.train(train_set)\n",
    "    avg_accuracy += tree.accuracy(test_set)\n",
    "    avg_leaves += tree.get_nb_leaves()\n",
    "    avg_depth += tree.get_depth()\n",
    "    avg_ratio += tree.get_ratio_non_monotone_pairs() \n",
    "    avg_pairs += tree.get_total_pairs()\n",
    "        \n",
    "avg_accuracy = avg_accuracy * (1.0/10)\n",
    "avg_leaves = avg_leaves * (1.0/10)\n",
    "avg_depth = avg_depth * (1.0/10)\n",
    "avg_ratio = avg_ratio * (1.0/10)\n",
    "avg_pairs = avg_pairs * (1.0/10)\n",
    "\n",
    "print(\"average accuracy : \", avg_accuracy)\n",
    "print(\"average depth : \", avg_depth)\n",
    "print(\"average number of leaves : \", avg_leaves)\n",
    "print(\"average ratio between number of pairwise non-monotone label comparisons and number of pairs : \", avg_ratio)\n",
    "print(\"average number of pairs used for ratio computing : \", avg_pairs)"
   ]
  },
  {
   "cell_type": "code",
   "execution_count": null,
   "metadata": {
    "collapsed": false
   },
   "outputs": [],
   "source": [
    "# Rank Gini discrimination measure\n",
    "avg_accuracy = 0\n",
    "avg_leaves = 0\n",
    "avg_depth = 0\n",
    "avg_ratio = 0\n",
    "avg_pairs = 0\n",
    "\n",
    "for i in range(10):\n",
    "    test_set = folds[i]\n",
    "    train_set = LabeledSet(6)\n",
    "    for j in range(0, 10):\n",
    "        if i != j:\n",
    "            train_set.addExamples(folds[j].x, folds[j].y)\n",
    "    tree = RDMT(rgdm, \"shannon\", 0, 100, 0.01 * train_set.size(), [1, 2])\n",
    "    tree.train(train_set)\n",
    "    avg_accuracy += tree.accuracy(test_set)\n",
    "    avg_leaves += tree.get_nb_leaves()\n",
    "    avg_depth += tree.get_depth()\n",
    "    avg_ratio += tree.get_ratio_non_monotone_pairs() \n",
    "    avg_pairs += tree.get_total_pairs()\n",
    "        \n",
    "avg_accuracy = avg_accuracy * (1.0/10)\n",
    "avg_leaves = avg_leaves * (1.0/10)\n",
    "avg_depth = avg_depth * (1.0/10)\n",
    "avg_ratio = avg_ratio * (1.0/10)\n",
    "avg_pairs = avg_pairs * (1.0/10)\n",
    "\n",
    "print(\"average accuracy : \", avg_accuracy)\n",
    "print(\"average depth : \", avg_depth)\n",
    "print(\"average number of leaves : \", avg_leaves)\n",
    "print(\"average ratio between number of pairwise non-monotone label comparisons and number of pairs : \", avg_ratio)\n",
    "print(\"average number of pairs used for ratio computing : \", avg_pairs)"
   ]
  },
  {
   "cell_type": "code",
   "execution_count": null,
   "metadata": {
    "collapsed": true
   },
   "outputs": [],
   "source": [
    "# Gini discrimination measure\n",
    "avg_accuracy = 0\n",
    "avg_leaves = 0\n",
    "avg_depth = 0\n",
    "avg_ratio = 0\n",
    "avg_pairs = 0\n",
    "\n",
    "for i in range(10):\n",
    "    test_set = folds[i]\n",
    "    train_set = LabeledSet(7)\n",
    "    for j in range(0, 10):\n",
    "        if i != j:\n",
    "            train_set.addExamples(folds[j].x, folds[j].y)\n",
    "    tree = RDMT(gdm, \"shannon\", 0, 100, 0.01 * train_set.size(), [1, 2])\n",
    "    tree.train(train_set)\n",
    "    avg_accuracy += tree.accuracy(test_set)\n",
    "    avg_leaves += tree.get_nb_leaves()\n",
    "    avg_depth += tree.get_depth()\n",
    "    avg_ratio += tree.get_ratio_non_monotone_pairs() \n",
    "    avg_pairs += tree.get_total_pairs()\n",
    "        \n",
    "avg_accuracy = avg_accuracy * (1.0/10)\n",
    "avg_leaves = avg_leaves * (1.0/10)\n",
    "avg_depth = avg_depth * (1.0/10)\n",
    "avg_ratio = avg_ratio * (1.0/10)\n",
    "avg_pairs = avg_pairs * (1.0/10)\n",
    "\n",
    "print(\"average accuracy : \", avg_accuracy)\n",
    "print(\"average depth : \", avg_depth)\n",
    "print(\"average number of leaves : \", avg_leaves)\n",
    "print(\"average ratio between number of pairwise non-monotone label comparisons and number of pairs : \", avg_ratio)\n",
    "print(\"average number of pairs used for ratio computing : \", avg_pairs)"
   ]
  },
  {
   "cell_type": "code",
   "execution_count": null,
   "metadata": {
    "collapsed": true
   },
   "outputs": [],
   "source": [
    "# H_M\n",
    "avg_accuracy = 0\n",
    "avg_leaves = 0\n",
    "avg_depth = 0\n",
    "avg_ratio = 0\n",
    "avg_pairs = 0\n",
    "\n",
    "for i in range(10):\n",
    "    test_set = folds[i]\n",
    "    train_set = LabeledSet(7)\n",
    "    for j in range(0, 10):\n",
    "        if i != j:\n",
    "            train_set.addExamples(folds[j].x, folds[j].y)\n",
    "    tree = RDMT(H_m, \"shannon\", 0, 100, 0.01 * train_set.size(), [1, 2])\n",
    "    tree.train(train_set)\n",
    "    avg_accuracy += tree.accuracy(test_set)\n",
    "    avg_leaves += tree.get_nb_leaves()\n",
    "    avg_depth += tree.get_depth()\n",
    "    avg_ratio += tree.get_ratio_non_monotone_pairs() \n",
    "    avg_pairs += tree.get_total_pairs()\n",
    "        \n",
    "avg_accuracy = avg_accuracy * (1.0/10)\n",
    "avg_leaves = avg_leaves * (1.0/10)\n",
    "avg_depth = avg_depth * (1.0/10)\n",
    "avg_ratio = avg_ratio * (1.0/10)\n",
    "avg_pairs = avg_pairs * (1.0/10)\n",
    "\n",
    "print(\"average accuracy : \", avg_accuracy)\n",
    "print(\"average depth : \", avg_depth)\n",
    "print(\"average number of leaves : \", avg_leaves)\n",
    "print(\"average ratio between number of pairwise non-monotone label comparisons and number of pairs : \", avg_ratio)\n",
    "print(\"average number of pairs used for ratio computing : \", avg_pairs)"
   ]
  },
  {
   "cell_type": "code",
   "execution_count": null,
   "metadata": {
    "collapsed": true
   },
   "outputs": [],
   "source": [
    "# H_Q\n",
    "avg_accuracy = 0\n",
    "avg_leaves = 0\n",
    "avg_depth = 0\n",
    "avg_ratio = 0\n",
    "avg_pairs = 0\n",
    "\n",
    "for i in range(10):\n",
    "    test_set = folds[i]\n",
    "    train_set = LabeledSet(7)\n",
    "    for j in range(0, 10):\n",
    "        if i != j:\n",
    "            train_set.addExamples(folds[j].x, folds[j].y)\n",
    "    tree = RDMT(H_q, \"shannon\", 0, 100, 0.01 * train_set.size(), [1, 2])\n",
    "    tree.train(train_set)\n",
    "    avg_accuracy += tree.accuracy(test_set)\n",
    "    avg_leaves += tree.get_nb_leaves()\n",
    "    avg_depth += tree.get_depth()\n",
    "    avg_ratio += tree.get_ratio_non_monotone_pairs() \n",
    "    avg_pairs += tree.get_total_pairs()\n",
    "        \n",
    "avg_accuracy = avg_accuracy * (1.0/10)\n",
    "avg_leaves = avg_leaves * (1.0/10)\n",
    "avg_depth = avg_depth * (1.0/10)\n",
    "avg_ratio = avg_ratio * (1.0/10)\n",
    "avg_pairs = avg_pairs * (1.0/10)\n",
    "\n",
    "print(\"average accuracy : \", avg_accuracy)\n",
    "print(\"average depth : \", avg_depth)\n",
    "print(\"average number of leaves : \", avg_leaves)\n",
    "print(\"average ratio between number of pairwise non-monotone label comparisons and number of pairs : \", avg_ratio)\n",
    "print(\"average number of pairs used for ratio computing : \", avg_pairs)"
   ]
  }
 ],
 "metadata": {
  "kernelspec": {
   "display_name": "Python 3",
   "language": "python",
   "name": "python3"
  },
  "language_info": {
   "codemirror_mode": {
    "name": "ipython",
    "version": 3
   },
   "file_extension": ".py",
   "mimetype": "text/x-python",
   "name": "python",
   "nbconvert_exporter": "python",
   "pygments_lexer": "ipython3",
   "version": "3.6.3"
  }
 },
 "nbformat": 4,
 "nbformat_minor": 2
}
