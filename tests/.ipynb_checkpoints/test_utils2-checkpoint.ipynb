{
 "cells": [
  {
   "cell_type": "code",
   "execution_count": 1,
   "metadata": {
    "collapsed": false
   },
   "outputs": [],
   "source": [
    "%load_ext autoreload\n",
    "%autoreload 2\n",
    "import sys\n",
    "sys.path.insert(0, '/home/laura/Documents/stage2018')\n",
    "from utils2 import *"
   ]
  },
  {
   "cell_type": "code",
   "execution_count": 2,
   "metadata": {
    "collapsed": false
   },
   "outputs": [],
   "source": [
    "training_set = LabeledSet(2)\n",
    "\n",
    "training_set.addExamples(np.array([[1, 3], [1, 4], [1, 8]]), 1)\n",
    "training_set.addExamples(np.array([[5, 3], [3, 0], [3, 6]]), 2)\n",
    "training_set.addExamples(np.array([[9, 6], [9, 7], [6, 0], [6, 3]]), 3)"
   ]
  },
  {
   "cell_type": "code",
   "execution_count": 3,
   "metadata": {
    "collapsed": false
   },
   "outputs": [
    {
     "data": {
      "text/html": [
       "<div>\n",
       "<style scoped>\n",
       "    .dataframe tbody tr th:only-of-type {\n",
       "        vertical-align: middle;\n",
       "    }\n",
       "\n",
       "    .dataframe tbody tr th {\n",
       "        vertical-align: top;\n",
       "    }\n",
       "\n",
       "    .dataframe thead th {\n",
       "        text-align: right;\n",
       "    }\n",
       "</style>\n",
       "<table border=\"1\" class=\"dataframe\">\n",
       "  <thead>\n",
       "    <tr style=\"text-align: right;\">\n",
       "      <th></th>\n",
       "      <th>0</th>\n",
       "      <th>1</th>\n",
       "      <th>2</th>\n",
       "    </tr>\n",
       "  </thead>\n",
       "  <tbody>\n",
       "    <tr>\n",
       "      <th>0</th>\n",
       "      <td>1</td>\n",
       "      <td>3</td>\n",
       "      <td>1</td>\n",
       "    </tr>\n",
       "    <tr>\n",
       "      <th>1</th>\n",
       "      <td>1</td>\n",
       "      <td>4</td>\n",
       "      <td>1</td>\n",
       "    </tr>\n",
       "    <tr>\n",
       "      <th>2</th>\n",
       "      <td>1</td>\n",
       "      <td>8</td>\n",
       "      <td>1</td>\n",
       "    </tr>\n",
       "    <tr>\n",
       "      <th>3</th>\n",
       "      <td>5</td>\n",
       "      <td>3</td>\n",
       "      <td>2</td>\n",
       "    </tr>\n",
       "    <tr>\n",
       "      <th>4</th>\n",
       "      <td>3</td>\n",
       "      <td>0</td>\n",
       "      <td>2</td>\n",
       "    </tr>\n",
       "    <tr>\n",
       "      <th>5</th>\n",
       "      <td>3</td>\n",
       "      <td>6</td>\n",
       "      <td>2</td>\n",
       "    </tr>\n",
       "    <tr>\n",
       "      <th>6</th>\n",
       "      <td>9</td>\n",
       "      <td>6</td>\n",
       "      <td>3</td>\n",
       "    </tr>\n",
       "    <tr>\n",
       "      <th>7</th>\n",
       "      <td>9</td>\n",
       "      <td>7</td>\n",
       "      <td>3</td>\n",
       "    </tr>\n",
       "    <tr>\n",
       "      <th>8</th>\n",
       "      <td>6</td>\n",
       "      <td>0</td>\n",
       "      <td>3</td>\n",
       "    </tr>\n",
       "    <tr>\n",
       "      <th>9</th>\n",
       "      <td>6</td>\n",
       "      <td>3</td>\n",
       "      <td>3</td>\n",
       "    </tr>\n",
       "  </tbody>\n",
       "</table>\n",
       "</div>"
      ],
      "text/plain": [
       "   0  1  2\n",
       "0  1  3  1\n",
       "1  1  4  1\n",
       "2  1  8  1\n",
       "3  5  3  2\n",
       "4  3  0  2\n",
       "5  3  6  2\n",
       "6  9  6  3\n",
       "7  9  7  3\n",
       "8  6  0  3\n",
       "9  6  3  3"
      ]
     },
     "execution_count": 3,
     "metadata": {},
     "output_type": "execute_result"
    }
   ],
   "source": [
    "df =training_set.get_df()\n",
    "df"
   ]
  },
  {
   "cell_type": "code",
   "execution_count": 4,
   "metadata": {
    "collapsed": false
   },
   "outputs": [],
   "source": [
    "training_set.addExample([9,0], 5)"
   ]
  },
  {
   "cell_type": "code",
   "execution_count": 5,
   "metadata": {
    "collapsed": false
   },
   "outputs": [
    {
     "data": {
      "text/plain": [
       "array([[0.88930804, 3.37904984],\n",
       "       [0.87225166, 3.49239156],\n",
       "       [0.90572165, 4.63401008]])"
      ]
     },
     "execution_count": 5,
     "metadata": {},
     "output_type": "execute_result"
    }
   ],
   "source": [
    "monotone_values = np.random.uniform(0, 10, size=(3,1))\n",
    "random_values = np.random.uniform(0, 1, size=(3, 1))\n",
    "values = np.hstack((random_values, monotone_values))\n",
    "values"
   ]
  },
  {
   "cell_type": "code",
   "execution_count": 6,
   "metadata": {
    "collapsed": false
   },
   "outputs": [],
   "source": [
    "for i in range(3):\n",
    "    training_set.addExample(values[i].tolist(), 9)"
   ]
  },
  {
   "cell_type": "code",
   "execution_count": 7,
   "metadata": {
    "collapsed": false
   },
   "outputs": [
    {
     "name": "stdout",
     "output_type": "stream",
     "text": [
      "0.7575757575757575\n",
      "1.0\n",
      "1.0\n",
      "0.7575757575757575\n",
      "0.5476190476190476\n",
      "0.625\n",
      "0.625\n",
      "0.5\n",
      "0.5476190476190476\n",
      "0.7575757575757575\n",
      "0.5476190476190476\n",
      "0.375\n",
      "0.2857142857142857\n",
      "0.2\n"
     ]
    }
   ],
   "source": [
    "f = Avgdsr()\n",
    "\n",
    "for i in range(training_set.size()):\n",
    "    print(f.value(i, df[1], df[2]))"
   ]
  },
  {
   "cell_type": "code",
   "execution_count": 8,
   "metadata": {
    "collapsed": false
   },
   "outputs": [
    {
     "name": "stdout",
     "output_type": "stream",
     "text": [
      "Int64Index([0, 1, 2, 3, 5, 6, 7, 9, 11, 12, 13], dtype='int64')\n",
      "Int64Index([1, 2, 5, 6, 7, 13], dtype='int64')\n",
      "Int64Index([2], dtype='int64')\n",
      "Int64Index([0, 1, 2, 3, 5, 6, 7, 9, 11, 12, 13], dtype='int64')\n",
      "Int64Index([0, 1, 2, 3, 4, 5, 6, 7, 8, 9, 10, 11, 12, 13], dtype='int64')\n",
      "Int64Index([2, 5, 6, 7], dtype='int64')\n",
      "Int64Index([2, 5, 6, 7], dtype='int64')\n",
      "Int64Index([2, 7], dtype='int64')\n",
      "Int64Index([0, 1, 2, 3, 4, 5, 6, 7, 8, 9, 10, 11, 12, 13], dtype='int64')\n",
      "Int64Index([0, 1, 2, 3, 5, 6, 7, 9, 11, 12, 13], dtype='int64')\n",
      "Int64Index([0, 1, 2, 3, 4, 5, 6, 7, 8, 9, 10, 11, 12, 13], dtype='int64')\n",
      "Int64Index([1, 2, 5, 6, 7, 11, 12, 13], dtype='int64')\n",
      "Int64Index([1, 2, 5, 6, 7, 12, 13], dtype='int64')\n",
      "Int64Index([2, 5, 6, 7, 13], dtype='int64')\n"
     ]
    }
   ],
   "source": [
    "f = Dsr()\n",
    "for i in range(training_set.size()):\n",
    "    print(f.dominant_set(df[1], df[1][i]))"
   ]
  },
  {
   "cell_type": "code",
   "execution_count": 9,
   "metadata": {
    "collapsed": false
   },
   "outputs": [
    {
     "name": "stdout",
     "output_type": "stream",
     "text": [
      "1.0\n",
      "1.0\n",
      "1.0\n",
      "1.0\n",
      "1.0\n",
      "1.0\n",
      "0.3333333333333333\n",
      "0.3333333333333333\n",
      "1.0\n",
      "1.0\n",
      "0.3333333333333333\n",
      "0.15384615384615385\n",
      "0.21428571428571427\n",
      "0.08333333333333333\n"
     ]
    }
   ],
   "source": [
    "minf = Mindsr()\n",
    "for i in range(training_set.size()):\n",
    "    print(minf.value(i, df[0], df[2]))"
   ]
  },
  {
   "cell_type": "code",
   "execution_count": 10,
   "metadata": {
    "collapsed": false
   },
   "outputs": [
    {
     "name": "stdout",
     "output_type": "stream",
     "text": [
      "0.5454545454545454\n",
      "1.0\n",
      "1.0\n",
      "0.5454545454545454\n",
      "0.2857142857142857\n",
      "0.5\n",
      "0.5\n",
      "0.5\n",
      "0.2857142857142857\n",
      "0.5454545454545454\n",
      "0.2857142857142857\n",
      "0.375\n",
      "0.2857142857142857\n",
      "0.2\n"
     ]
    }
   ],
   "source": [
    "minf = Mindsr()\n",
    "for i in range(training_set.size()):\n",
    "    print(minf.value(i, df[1], df[2]))"
   ]
  },
  {
   "cell_type": "code",
   "execution_count": 11,
   "metadata": {
    "collapsed": false
   },
   "outputs": [
    {
     "name": "stdout",
     "output_type": "stream",
     "text": [
      "Rank Shannon discrimination measure generated by second attribute :  0.875420849970829\n"
     ]
    }
   ],
   "source": [
    "f_layer = Dsr()\n",
    "g_layer_shannon = Log()\n",
    "h_layer = Sum()\n",
    "\n",
    "rsdm = Gdm(h_layer, g_layer_shannon, f_layer)\n",
    "\n",
    "print(\"Rank Shannon discrimination measure generated by second attribute : \" , rsdm.value(df[1], df[2]))"
   ]
  },
  {
   "cell_type": "code",
   "execution_count": 12,
   "metadata": {
    "collapsed": false
   },
   "outputs": [
    {
     "data": {
      "text/plain": [
       "1.0"
      ]
     },
     "execution_count": 12,
     "metadata": {},
     "output_type": "execute_result"
    }
   ],
   "source": [
    "df[2][0]"
   ]
  },
  {
   "cell_type": "code",
   "execution_count": 13,
   "metadata": {
    "collapsed": false
   },
   "outputs": [
    {
     "name": "stdout",
     "output_type": "stream",
     "text": [
      "splitting value generated by rsdm on axis 0 :  5.5\n",
      "corresponding entropy :  0.7166339477969733\n",
      "splitting value generated by sdm on axis 0 :  2.0\n",
      "corresponding entropy :  1.2317937498454663\n"
     ]
    },
    {
     "data": {
      "image/png": "[encoded data removed]",
      "text/plain": [
       "<matplotlib.figure.Figure at 0x7f0837cf1a20>"
      ]
     },
     "metadata": {},
     "output_type": "display_data"
    },
    {
     "data": {
      "image/png": "[encoded data removed]",
      "text/plain": [
       "<matplotlib.figure.Figure at 0x7f0837cf1978>"
      ]
     },
     "metadata": {},
     "output_type": "display_data"
    }
   ],
   "source": [
    "# rsdm \n",
    "f = Dsr()\n",
    "g = Log()\n",
    "h = Sum()\n",
    "\n",
    "rsdm = Gdm(h, g, f)\n",
    "\n",
    "# sdm\n",
    "f = Ds()\n",
    "g = Log()\n",
    "h = Sum()\n",
    "\n",
    "sdm = Gdm(h, g, f)\n",
    "\n",
    "threshold_r, entropy_r = discretize(rsdm, df[0], df[2])\n",
    "print(\"splitting value generated by rsdm on axis 0 : \", threshold_r)\n",
    "print(\"corresponding entropy : \", entropy_r)\n",
    "\n",
    "threshold_nr, entropy_nr = discretize(sdm, df[0], df[2])\n",
    "print(\"splitting value generated by sdm on axis 0 : \", threshold_nr)\n",
    "print(\"corresponding entropy : \", entropy_nr)\n",
    "\n",
    "display_discretization(training_set, threshold_r, 0, \"splitting boundary generated by rsdm with attribute 0\")\n",
    "display_discretization(training_set, threshold_nr, 0, \"splitting boundary generated by sdm with attribute 0\")"
   ]
  },
  {
   "cell_type": "code",
   "execution_count": 14,
   "metadata": {
    "collapsed": false
   },
   "outputs": [
    {
     "name": "stdout",
     "output_type": "stream",
     "text": [
      "splitting value generated by rsdm on axis 0 :  3.1895249204923046\n",
      "corresponding entropy :  0.7238717985967198\n",
      "splitting value generated by sdm on axis 0 :  1.5\n",
      "corresponding entropy :  1.8959980571916673\n"
     ]
    },
    {
     "data": {
      "image/png": "[encoded data removed]",
      "text/plain": [
       "<matplotlib.figure.Figure at 0x7f0837cf17b8>"
      ]
     },
     "metadata": {},
     "output_type": "display_data"
    },
    {
     "data": {
      "image/png": "[encoded data removed]",
      "text/plain": [
       "<matplotlib.figure.Figure at 0x7f0836a46da0>"
      ]
     },
     "metadata": {},
     "output_type": "display_data"
    }
   ],
   "source": [
    "# rsdm \n",
    "f = Dsr()\n",
    "g = Log()\n",
    "h = Sum()\n",
    "\n",
    "rsdm = Gdm(h, g, f)\n",
    "\n",
    "# sdm\n",
    "f = Ds()\n",
    "g = Log()\n",
    "h = Sum()\n",
    "\n",
    "sdm = Gdm(h, g, f)\n",
    "\n",
    "threshold_r, entropy_r = discretize(rsdm, df[1], df[2])\n",
    "print(\"splitting value generated by rsdm on axis 0 : \", threshold_r)\n",
    "print(\"corresponding entropy : \", entropy_r)\n",
    "\n",
    "threshold_nr, entropy_nr = discretize(sdm, df[1], df[2])\n",
    "print(\"splitting value generated by sdm on axis 0 : \", threshold_nr)\n",
    "print(\"corresponding entropy : \", entropy_nr)\n",
    "\n",
    "display_discretization(training_set, threshold_r, 1, \"splitting boundary generated by rsdm with attribute 0\")\n",
    "display_discretization(training_set, threshold_nr, 1, \"splitting boundary generated by sdm with attribute 0\")"
   ]
  },
  {
   "cell_type": "code",
   "execution_count": 15,
   "metadata": {
    "collapsed": true
   },
   "outputs": [],
   "source": [
    "set2, t = generate_2Ddataset(0, 2, 1000, 0.4, 0.1, [[-10, 10], [-10, 10]])\n",
    "df2 = set2.get_df()"
   ]
  },
  {
   "cell_type": "code",
   "execution_count": 16,
   "metadata": {
    "collapsed": false
   },
   "outputs": [
    {
     "data": {
      "text/html": [
       "<div>\n",
       "<style scoped>\n",
       "    .dataframe tbody tr th:only-of-type {\n",
       "        vertical-align: middle;\n",
       "    }\n",
       "\n",
       "    .dataframe tbody tr th {\n",
       "        vertical-align: top;\n",
       "    }\n",
       "\n",
       "    .dataframe thead th {\n",
       "        text-align: right;\n",
       "    }\n",
       "</style>\n",
       "<table border=\"1\" class=\"dataframe\">\n",
       "  <thead>\n",
       "    <tr style=\"text-align: right;\">\n",
       "      <th></th>\n",
       "      <th>0</th>\n",
       "      <th>1</th>\n",
       "      <th>2</th>\n",
       "    </tr>\n",
       "  </thead>\n",
       "  <tbody>\n",
       "    <tr>\n",
       "      <th>0</th>\n",
       "      <td>-10.000000</td>\n",
       "      <td>-0.317251</td>\n",
       "      <td>1.0</td>\n",
       "    </tr>\n",
       "    <tr>\n",
       "      <th>1</th>\n",
       "      <td>-8.162720</td>\n",
       "      <td>-7.711049</td>\n",
       "      <td>1.0</td>\n",
       "    </tr>\n",
       "    <tr>\n",
       "      <th>2</th>\n",
       "      <td>-10.000000</td>\n",
       "      <td>-8.567275</td>\n",
       "      <td>1.0</td>\n",
       "    </tr>\n",
       "    <tr>\n",
       "      <th>3</th>\n",
       "      <td>0.527396</td>\n",
       "      <td>-9.486879</td>\n",
       "      <td>1.0</td>\n",
       "    </tr>\n",
       "    <tr>\n",
       "      <th>4</th>\n",
       "      <td>-0.031912</td>\n",
       "      <td>-7.178806</td>\n",
       "      <td>1.0</td>\n",
       "    </tr>\n",
       "    <tr>\n",
       "      <th>5</th>\n",
       "      <td>-10.000000</td>\n",
       "      <td>1.322748</td>\n",
       "      <td>1.0</td>\n",
       "    </tr>\n",
       "    <tr>\n",
       "      <th>6</th>\n",
       "      <td>-10.000000</td>\n",
       "      <td>0.898516</td>\n",
       "      <td>1.0</td>\n",
       "    </tr>\n",
       "    <tr>\n",
       "      <th>7</th>\n",
       "      <td>-9.351083</td>\n",
       "      <td>2.745446</td>\n",
       "      <td>1.0</td>\n",
       "    </tr>\n",
       "    <tr>\n",
       "      <th>8</th>\n",
       "      <td>-4.819887</td>\n",
       "      <td>0.564257</td>\n",
       "      <td>1.0</td>\n",
       "    </tr>\n",
       "    <tr>\n",
       "      <th>9</th>\n",
       "      <td>-10.000000</td>\n",
       "      <td>6.109425</td>\n",
       "      <td>1.0</td>\n",
       "    </tr>\n",
       "    <tr>\n",
       "      <th>10</th>\n",
       "      <td>-9.587278</td>\n",
       "      <td>-4.170136</td>\n",
       "      <td>1.0</td>\n",
       "    </tr>\n",
       "    <tr>\n",
       "      <th>11</th>\n",
       "      <td>-6.920815</td>\n",
       "      <td>-9.619177</td>\n",
       "      <td>1.0</td>\n",
       "    </tr>\n",
       "    <tr>\n",
       "      <th>12</th>\n",
       "      <td>-8.070909</td>\n",
       "      <td>8.612157</td>\n",
       "      <td>1.0</td>\n",
       "    </tr>\n",
       "    <tr>\n",
       "      <th>13</th>\n",
       "      <td>-10.000000</td>\n",
       "      <td>-0.774809</td>\n",
       "      <td>1.0</td>\n",
       "    </tr>\n",
       "    <tr>\n",
       "      <th>14</th>\n",
       "      <td>-0.982963</td>\n",
       "      <td>7.151377</td>\n",
       "      <td>1.0</td>\n",
       "    </tr>\n",
       "    <tr>\n",
       "      <th>15</th>\n",
       "      <td>-4.167388</td>\n",
       "      <td>1.550816</td>\n",
       "      <td>1.0</td>\n",
       "    </tr>\n",
       "    <tr>\n",
       "      <th>16</th>\n",
       "      <td>-9.794554</td>\n",
       "      <td>4.364974</td>\n",
       "      <td>1.0</td>\n",
       "    </tr>\n",
       "    <tr>\n",
       "      <th>17</th>\n",
       "      <td>0.279200</td>\n",
       "      <td>-7.033249</td>\n",
       "      <td>1.0</td>\n",
       "    </tr>\n",
       "    <tr>\n",
       "      <th>18</th>\n",
       "      <td>-3.915927</td>\n",
       "      <td>8.605338</td>\n",
       "      <td>1.0</td>\n",
       "    </tr>\n",
       "    <tr>\n",
       "      <th>19</th>\n",
       "      <td>-2.243621</td>\n",
       "      <td>-4.093221</td>\n",
       "      <td>1.0</td>\n",
       "    </tr>\n",
       "    <tr>\n",
       "      <th>20</th>\n",
       "      <td>-10.000000</td>\n",
       "      <td>-4.360241</td>\n",
       "      <td>1.0</td>\n",
       "    </tr>\n",
       "    <tr>\n",
       "      <th>21</th>\n",
       "      <td>-10.000000</td>\n",
       "      <td>9.542079</td>\n",
       "      <td>1.0</td>\n",
       "    </tr>\n",
       "    <tr>\n",
       "      <th>22</th>\n",
       "      <td>-3.292397</td>\n",
       "      <td>1.094710</td>\n",
       "      <td>1.0</td>\n",
       "    </tr>\n",
       "    <tr>\n",
       "      <th>23</th>\n",
       "      <td>-10.000000</td>\n",
       "      <td>-6.643067</td>\n",
       "      <td>1.0</td>\n",
       "    </tr>\n",
       "    <tr>\n",
       "      <th>24</th>\n",
       "      <td>-10.000000</td>\n",
       "      <td>-2.423213</td>\n",
       "      <td>1.0</td>\n",
       "    </tr>\n",
       "    <tr>\n",
       "      <th>25</th>\n",
       "      <td>1.115265</td>\n",
       "      <td>3.928827</td>\n",
       "      <td>1.0</td>\n",
       "    </tr>\n",
       "    <tr>\n",
       "      <th>26</th>\n",
       "      <td>-4.863756</td>\n",
       "      <td>-1.996929</td>\n",
       "      <td>1.0</td>\n",
       "    </tr>\n",
       "    <tr>\n",
       "      <th>27</th>\n",
       "      <td>-7.324473</td>\n",
       "      <td>-2.200305</td>\n",
       "      <td>1.0</td>\n",
       "    </tr>\n",
       "    <tr>\n",
       "      <th>28</th>\n",
       "      <td>-3.369731</td>\n",
       "      <td>5.541019</td>\n",
       "      <td>1.0</td>\n",
       "    </tr>\n",
       "    <tr>\n",
       "      <th>29</th>\n",
       "      <td>-10.000000</td>\n",
       "      <td>7.995101</td>\n",
       "      <td>1.0</td>\n",
       "    </tr>\n",
       "    <tr>\n",
       "      <th>...</th>\n",
       "      <td>...</td>\n",
       "      <td>...</td>\n",
       "      <td>...</td>\n",
       "    </tr>\n",
       "    <tr>\n",
       "      <th>970</th>\n",
       "      <td>-1.212826</td>\n",
       "      <td>7.721178</td>\n",
       "      <td>2.0</td>\n",
       "    </tr>\n",
       "    <tr>\n",
       "      <th>971</th>\n",
       "      <td>-0.146444</td>\n",
       "      <td>-2.861347</td>\n",
       "      <td>2.0</td>\n",
       "    </tr>\n",
       "    <tr>\n",
       "      <th>972</th>\n",
       "      <td>6.478767</td>\n",
       "      <td>0.591444</td>\n",
       "      <td>2.0</td>\n",
       "    </tr>\n",
       "    <tr>\n",
       "      <th>973</th>\n",
       "      <td>2.818155</td>\n",
       "      <td>-4.378242</td>\n",
       "      <td>2.0</td>\n",
       "    </tr>\n",
       "    <tr>\n",
       "      <th>974</th>\n",
       "      <td>10.000000</td>\n",
       "      <td>-9.644416</td>\n",
       "      <td>2.0</td>\n",
       "    </tr>\n",
       "    <tr>\n",
       "      <th>975</th>\n",
       "      <td>2.276130</td>\n",
       "      <td>-0.264334</td>\n",
       "      <td>2.0</td>\n",
       "    </tr>\n",
       "    <tr>\n",
       "      <th>976</th>\n",
       "      <td>10.000000</td>\n",
       "      <td>8.158217</td>\n",
       "      <td>2.0</td>\n",
       "    </tr>\n",
       "    <tr>\n",
       "      <th>977</th>\n",
       "      <td>10.000000</td>\n",
       "      <td>-0.402259</td>\n",
       "      <td>2.0</td>\n",
       "    </tr>\n",
       "    <tr>\n",
       "      <th>978</th>\n",
       "      <td>7.282256</td>\n",
       "      <td>9.459153</td>\n",
       "      <td>2.0</td>\n",
       "    </tr>\n",
       "    <tr>\n",
       "      <th>979</th>\n",
       "      <td>8.117583</td>\n",
       "      <td>7.835800</td>\n",
       "      <td>2.0</td>\n",
       "    </tr>\n",
       "    <tr>\n",
       "      <th>980</th>\n",
       "      <td>10.000000</td>\n",
       "      <td>-0.115947</td>\n",
       "      <td>2.0</td>\n",
       "    </tr>\n",
       "    <tr>\n",
       "      <th>981</th>\n",
       "      <td>10.000000</td>\n",
       "      <td>-0.940025</td>\n",
       "      <td>2.0</td>\n",
       "    </tr>\n",
       "    <tr>\n",
       "      <th>982</th>\n",
       "      <td>10.000000</td>\n",
       "      <td>-0.648675</td>\n",
       "      <td>2.0</td>\n",
       "    </tr>\n",
       "    <tr>\n",
       "      <th>983</th>\n",
       "      <td>3.362836</td>\n",
       "      <td>4.080653</td>\n",
       "      <td>2.0</td>\n",
       "    </tr>\n",
       "    <tr>\n",
       "      <th>984</th>\n",
       "      <td>0.516010</td>\n",
       "      <td>-7.608830</td>\n",
       "      <td>2.0</td>\n",
       "    </tr>\n",
       "    <tr>\n",
       "      <th>985</th>\n",
       "      <td>7.867489</td>\n",
       "      <td>3.532084</td>\n",
       "      <td>2.0</td>\n",
       "    </tr>\n",
       "    <tr>\n",
       "      <th>986</th>\n",
       "      <td>8.917997</td>\n",
       "      <td>6.596652</td>\n",
       "      <td>2.0</td>\n",
       "    </tr>\n",
       "    <tr>\n",
       "      <th>987</th>\n",
       "      <td>7.958598</td>\n",
       "      <td>-6.708794</td>\n",
       "      <td>2.0</td>\n",
       "    </tr>\n",
       "    <tr>\n",
       "      <th>988</th>\n",
       "      <td>6.926194</td>\n",
       "      <td>-8.634942</td>\n",
       "      <td>2.0</td>\n",
       "    </tr>\n",
       "    <tr>\n",
       "      <th>989</th>\n",
       "      <td>-1.707931</td>\n",
       "      <td>-5.088219</td>\n",
       "      <td>2.0</td>\n",
       "    </tr>\n",
       "    <tr>\n",
       "      <th>990</th>\n",
       "      <td>-0.498325</td>\n",
       "      <td>4.307842</td>\n",
       "      <td>2.0</td>\n",
       "    </tr>\n",
       "    <tr>\n",
       "      <th>991</th>\n",
       "      <td>9.823618</td>\n",
       "      <td>3.020047</td>\n",
       "      <td>2.0</td>\n",
       "    </tr>\n",
       "    <tr>\n",
       "      <th>992</th>\n",
       "      <td>-1.891421</td>\n",
       "      <td>-8.152405</td>\n",
       "      <td>2.0</td>\n",
       "    </tr>\n",
       "    <tr>\n",
       "      <th>993</th>\n",
       "      <td>1.086037</td>\n",
       "      <td>7.955799</td>\n",
       "      <td>2.0</td>\n",
       "    </tr>\n",
       "    <tr>\n",
       "      <th>994</th>\n",
       "      <td>3.732262</td>\n",
       "      <td>8.302538</td>\n",
       "      <td>2.0</td>\n",
       "    </tr>\n",
       "    <tr>\n",
       "      <th>995</th>\n",
       "      <td>6.082807</td>\n",
       "      <td>0.778895</td>\n",
       "      <td>2.0</td>\n",
       "    </tr>\n",
       "    <tr>\n",
       "      <th>996</th>\n",
       "      <td>-1.990487</td>\n",
       "      <td>1.098485</td>\n",
       "      <td>2.0</td>\n",
       "    </tr>\n",
       "    <tr>\n",
       "      <th>997</th>\n",
       "      <td>6.907374</td>\n",
       "      <td>7.954485</td>\n",
       "      <td>2.0</td>\n",
       "    </tr>\n",
       "    <tr>\n",
       "      <th>998</th>\n",
       "      <td>8.157862</td>\n",
       "      <td>-6.485288</td>\n",
       "      <td>2.0</td>\n",
       "    </tr>\n",
       "    <tr>\n",
       "      <th>999</th>\n",
       "      <td>8.916950</td>\n",
       "      <td>1.472444</td>\n",
       "      <td>2.0</td>\n",
       "    </tr>\n",
       "  </tbody>\n",
       "</table>\n",
       "<p>1000 rows × 3 columns</p>\n",
       "</div>"
      ],
      "text/plain": [
       "             0         1    2\n",
       "0   -10.000000 -0.317251  1.0\n",
       "1    -8.162720 -7.711049  1.0\n",
       "2   -10.000000 -8.567275  1.0\n",
       "3     0.527396 -9.486879  1.0\n",
       "4    -0.031912 -7.178806  1.0\n",
       "5   -10.000000  1.322748  1.0\n",
       "6   -10.000000  0.898516  1.0\n",
       "7    -9.351083  2.745446  1.0\n",
       "8    -4.819887  0.564257  1.0\n",
       "9   -10.000000  6.109425  1.0\n",
       "10   -9.587278 -4.170136  1.0\n",
       "11   -6.920815 -9.619177  1.0\n",
       "12   -8.070909  8.612157  1.0\n",
       "13  -10.000000 -0.774809  1.0\n",
       "14   -0.982963  7.151377  1.0\n",
       "15   -4.167388  1.550816  1.0\n",
       "16   -9.794554  4.364974  1.0\n",
       "17    0.279200 -7.033249  1.0\n",
       "18   -3.915927  8.605338  1.0\n",
       "19   -2.243621 -4.093221  1.0\n",
       "20  -10.000000 -4.360241  1.0\n",
       "21  -10.000000  9.542079  1.0\n",
       "22   -3.292397  1.094710  1.0\n",
       "23  -10.000000 -6.643067  1.0\n",
       "24  -10.000000 -2.423213  1.0\n",
       "25    1.115265  3.928827  1.0\n",
       "26   -4.863756 -1.996929  1.0\n",
       "27   -7.324473 -2.200305  1.0\n",
       "28   -3.369731  5.541019  1.0\n",
       "29  -10.000000  7.995101  1.0\n",
       "..         ...       ...  ...\n",
       "970  -1.212826  7.721178  2.0\n",
       "971  -0.146444 -2.861347  2.0\n",
       "972   6.478767  0.591444  2.0\n",
       "973   2.818155 -4.378242  2.0\n",
       "974  10.000000 -9.644416  2.0\n",
       "975   2.276130 -0.264334  2.0\n",
       "976  10.000000  8.158217  2.0\n",
       "977  10.000000 -0.402259  2.0\n",
       "978   7.282256  9.459153  2.0\n",
       "979   8.117583  7.835800  2.0\n",
       "980  10.000000 -0.115947  2.0\n",
       "981  10.000000 -0.940025  2.0\n",
       "982  10.000000 -0.648675  2.0\n",
       "983   3.362836  4.080653  2.0\n",
       "984   0.516010 -7.608830  2.0\n",
       "985   7.867489  3.532084  2.0\n",
       "986   8.917997  6.596652  2.0\n",
       "987   7.958598 -6.708794  2.0\n",
       "988   6.926194 -8.634942  2.0\n",
       "989  -1.707931 -5.088219  2.0\n",
       "990  -0.498325  4.307842  2.0\n",
       "991   9.823618  3.020047  2.0\n",
       "992  -1.891421 -8.152405  2.0\n",
       "993   1.086037  7.955799  2.0\n",
       "994   3.732262  8.302538  2.0\n",
       "995   6.082807  0.778895  2.0\n",
       "996  -1.990487  1.098485  2.0\n",
       "997   6.907374  7.954485  2.0\n",
       "998   8.157862 -6.485288  2.0\n",
       "999   8.916950  1.472444  2.0\n",
       "\n",
       "[1000 rows x 3 columns]"
      ]
     },
     "execution_count": 16,
     "metadata": {},
     "output_type": "execute_result"
    }
   ],
   "source": [
    "df2"
   ]
  },
  {
   "cell_type": "code",
   "execution_count": 25,
   "metadata": {
    "collapsed": false
   },
   "outputs": [
    {
     "name": "stdout",
     "output_type": "stream",
     "text": [
      "running time :  107.3410439491272\n"
     ]
    }
   ],
   "source": [
    "start = time.time()\n",
    "set2, t = generate_2Ddataset(0, 2, 1000, 0.6, 0.1, [[-10, 10], [-10, 10]])\n",
    "df2 = set2.get_df()\n",
    "t1, h1 = discretize(rsdm, df2[0], df2[2])\n",
    "\n",
    "print(\"running time : \", format(time.time() - start))"
   ]
  }
 ],
 "metadata": {
  "kernelspec": {
   "display_name": "Python 3",
   "language": "python",
   "name": "python3"
  },
  "language_info": {
   "codemirror_mode": {
    "name": "ipython",
    "version": 3
   },
   "file_extension": ".py",
   "mimetype": "text/x-python",
   "name": "python",
   "nbconvert_exporter": "python",
   "pygments_lexer": "ipython3",
   "version": "3.6.3"
  }
 },
 "nbformat": 4,
 "nbformat_minor": 2
}
