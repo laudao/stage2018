{
 "cells": [
  {
   "cell_type": "code",
   "execution_count": 1,
   "metadata": {
    "collapsed": true
   },
   "outputs": [],
   "source": [
    "import sys\n",
    "sys.path.insert(0, '/home/laura/Documents/stage2018')\n",
    "from utils import *"
   ]
  },
  {
   "cell_type": "code",
   "execution_count": 9,
   "metadata": {
    "collapsed": false
   },
   "outputs": [],
   "source": [
    "a = np.random.rand(3, 2)\n",
    "b = np.random.rand(4, 2)"
   ]
  },
  {
   "cell_type": "code",
   "execution_count": 10,
   "metadata": {
    "collapsed": false
   },
   "outputs": [
    {
     "data": {
      "text/plain": [
       "array([[0.75196557, 0.27046303, 1.        ],\n",
       "       [0.15803349, 0.42504083, 2.        ],\n",
       "       [0.52854706, 0.62704325, 2.        ]])"
      ]
     },
     "execution_count": 10,
     "metadata": {},
     "output_type": "execute_result"
    }
   ],
   "source": [
    "a = np.hstack((a, np.array([[1], [2], [2]])))\n",
    "a"
   ]
  },
  {
   "cell_type": "code",
   "execution_count": 13,
   "metadata": {
    "collapsed": false
   },
   "outputs": [
    {
     "data": {
      "text/plain": [
       "array([[0.29828396, 0.80840269, 1.        ],\n",
       "       [0.92027047, 0.12301267, 1.        ],\n",
       "       [0.55144727, 0.94063892, 2.        ],\n",
       "       [0.37904276, 0.48622241, 1.        ]])"
      ]
     },
     "execution_count": 13,
     "metadata": {},
     "output_type": "execute_result"
    }
   ],
   "source": [
    "b = np.hstack((b, np.array([[1], [1], [2], [1]])))\n",
    "b"
   ]
  },
  {
   "cell_type": "code",
   "execution_count": 16,
   "metadata": {
    "collapsed": false
   },
   "outputs": [],
   "source": [
    "set1 = LabeledSet(2)\n",
    "set2 = LabeledSet(2)\n",
    "set1.addExamples(a[:,:2], a[:,2:])\n",
    "set2.addExamples(b[:,:2], b[:,2:])"
   ]
  },
  {
   "cell_type": "code",
   "execution_count": 21,
   "metadata": {
    "collapsed": false
   },
   "outputs": [
    {
     "data": {
      "text/plain": [
       "array([[0.75196557, 0.27046303],\n",
       "       [0.15803349, 0.42504083],\n",
       "       [0.52854706, 0.62704325],\n",
       "       [0.29828396, 0.80840269],\n",
       "       [0.92027047, 0.12301267],\n",
       "       [0.55144727, 0.94063892],\n",
       "       [0.37904276, 0.48622241]])"
      ]
     },
     "execution_count": 21,
     "metadata": {},
     "output_type": "execute_result"
    }
   ],
   "source": [
    "set3 = LabeledSet(2)\n",
    "set3.addExamples(set1.x, set1.y)\n",
    "set3.addExamples(set2.x, set2.y)\n",
    "set3.x"
   ]
  },
  {
   "cell_type": "code",
   "execution_count": 22,
   "metadata": {
    "collapsed": false
   },
   "outputs": [
    {
     "data": {
      "text/plain": [
       "array([[1.],\n",
       "       [2.],\n",
       "       [2.],\n",
       "       [1.],\n",
       "       [1.],\n",
       "       [2.],\n",
       "       [1.]])"
      ]
     },
     "execution_count": 22,
     "metadata": {},
     "output_type": "execute_result"
    }
   ],
   "source": [
    "set3.y"
   ]
  },
  {
   "cell_type": "code",
   "execution_count": 2,
   "metadata": {
    "collapsed": true
   },
   "outputs": [],
   "source": [
    "f = Dsr()\n",
    "g = Log()\n",
    "h = Sum()\n",
    "\n",
    "rsdm = Gdm(h, g, f)"
   ]
  },
  {
   "cell_type": "code",
   "execution_count": 9,
   "metadata": {
    "collapsed": true
   },
   "outputs": [],
   "source": [
    "def discretize(H, labeled_set, a_j):\n",
    "    '''\n",
    "        H : discrimation measure\n",
    "        labeled_set : labeled set\n",
    "        a_j : attribute to discretize\n",
    "        return threshold which minimizes the entropy function H for given feature a_j, \n",
    "            along with minimum entropy value\n",
    "    '''\n",
    "    \n",
    "    n = labeled_set.size()\n",
    "    ind = np.argsort(labeled_set.x[:,a_j],axis=0) # sort values according to attribute a_j\n",
    "    \n",
    "    # binary set : for each object w_i taken in ascending order of a_j value,\n",
    "    # a_j(w_h) = 0 if a_j(w_h) <= a_j(w_i), 1 otherwise\n",
    "    binary_set = LabeledSet(labeled_set.getInputDimension())\n",
    "    binary_set.nb_examples = labeled_set.size()\n",
    "    binary_set.x = np.ones(labeled_set.size())\n",
    "    binary_set.y = labeled_set.y\n",
    "    \n",
    "    thresholds = []\n",
    "    H_values = []\n",
    "        \n",
    "    dsa = np.ones((n, n))\n",
    "    dsl = H.f.dominant_sets_label(binary_set)\n",
    "    esa = np.ones((n, n))\n",
    "    esl = H.f.equal_sets_label(binary_set)\n",
    "    \n",
    "    last = 0\n",
    "    \n",
    "    for i in range(n-1):\n",
    "        current = labeled_set.getX(ind[i])[a_j]\n",
    "        current_label = labeled_set.getY(ind[i])\n",
    "        lookahead = labeled_set.getX(ind[i+1])[a_j]\n",
    "        lookahead_label = labeled_set.getY(ind[i+1])\n",
    "        binary_set.x[ind[i]] = 0\n",
    "        \n",
    "        if current == lookahead or current_label == lookahead_label:\n",
    "            continue\n",
    "        else:\n",
    "            a = np.zeros((n,))\n",
    "            a[ind[:i+1]] = 1\n",
    "            dsa[ind[last:i+1]] = np.ones((n,))\n",
    "            esa[ind[:i+1]] = a\n",
    "            \n",
    "            a = np.zeros((n,))\n",
    "            a[ind[i+1:]] = 1\n",
    "            \n",
    "            dsa[ind[i+1:]] = a\n",
    "            esa[ind[i+1:]] = a\n",
    "\n",
    "        thresholds.append((current + lookahead) / 2.0)\n",
    "        H_values.append(H.value(binary_set, a_j, dsa, dsl, esa, esl))\n",
    "        last = ind[i+1]\n",
    "      \n",
    "    min_entropy = min(H_values)\n",
    "    min_threshold = thresholds[np.argmin(H_values)]\n",
    "    return (min_threshold, min_entropy)"
   ]
  },
  {
   "cell_type": "code",
   "execution_count": 10,
   "metadata": {
    "collapsed": false
   },
   "outputs": [
    {
     "name": "stdout",
     "output_type": "stream",
     "text": [
      "running time :  22.1731960773468\n"
     ]
    }
   ],
   "source": [
    "start = time.time()\n",
    "set2, t = generate_2Ddataset(0, 2, 1000, 0.6, 0.1, [[-10, 10], [-10, 10]])\n",
    "\n",
    "t1, h1 = discretize(rsdm, set2, 0)\n",
    "\n",
    "print(\"running time : \", format(time.time() - start))"
   ]
  }
 ],
 "metadata": {
  "kernelspec": {
   "display_name": "Python 3",
   "language": "python",
   "name": "python3"
  },
  "language_info": {
   "codemirror_mode": {
    "name": "ipython",
    "version": 3
   },
   "file_extension": ".py",
   "mimetype": "text/x-python",
   "name": "python",
   "nbconvert_exporter": "python",
   "pygments_lexer": "ipython3",
   "version": "3.6.3"
  }
 },
 "nbformat": 4,
 "nbformat_minor": 2
}
