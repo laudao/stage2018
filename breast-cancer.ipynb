{
 "cells": [
  {
   "cell_type": "code",
   "execution_count": 1,
   "metadata": {},
   "outputs": [],
   "source": [
    "%load_ext autoreload\n",
    "%autoreload 2\n",
    "from utils import *"
   ]
  },
  {
   "cell_type": "code",
   "execution_count": 2,
   "metadata": {},
   "outputs": [],
   "source": [
    "df = pd.read_csv(\"breast_cancer.csv\")"
   ]
  },
  {
   "cell_type": "code",
   "execution_count": 3,
   "metadata": {},
   "outputs": [
    {
     "data": {
      "text/html": [
       "<div>\n",
       "<style scoped>\n",
       "    .dataframe tbody tr th:only-of-type {\n",
       "        vertical-align: middle;\n",
       "    }\n",
       "\n",
       "    .dataframe tbody tr th {\n",
       "        vertical-align: top;\n",
       "    }\n",
       "\n",
       "    .dataframe thead th {\n",
       "        text-align: right;\n",
       "    }\n",
       "</style>\n",
       "<table border=\"1\" class=\"dataframe\">\n",
       "  <thead>\n",
       "    <tr style=\"text-align: right;\">\n",
       "      <th></th>\n",
       "      <th>class</th>\n",
       "      <th>age</th>\n",
       "      <th>menopause</th>\n",
       "      <th>tumor-size</th>\n",
       "      <th>inv-nodes</th>\n",
       "      <th>node-caps</th>\n",
       "      <th>deg-malig</th>\n",
       "      <th>breast</th>\n",
       "      <th>breast-quad</th>\n",
       "      <th>irradiat</th>\n",
       "    </tr>\n",
       "  </thead>\n",
       "  <tbody>\n",
       "    <tr>\n",
       "      <th>55</th>\n",
       "      <td>no-recurrence-events</td>\n",
       "      <td>70-79</td>\n",
       "      <td>ge40</td>\n",
       "      <td>40-44</td>\n",
       "      <td>0-2</td>\n",
       "      <td>no</td>\n",
       "      <td>1</td>\n",
       "      <td>right</td>\n",
       "      <td>right_up</td>\n",
       "      <td>no</td>\n",
       "    </tr>\n",
       "    <tr>\n",
       "      <th>133</th>\n",
       "      <td>no-recurrence-events</td>\n",
       "      <td>50-59</td>\n",
       "      <td>ge40</td>\n",
       "      <td>40-44</td>\n",
       "      <td>0-2</td>\n",
       "      <td>no</td>\n",
       "      <td>3</td>\n",
       "      <td>left</td>\n",
       "      <td>right_up</td>\n",
       "      <td>no</td>\n",
       "    </tr>\n",
       "    <tr>\n",
       "      <th>43</th>\n",
       "      <td>no-recurrence-events</td>\n",
       "      <td>40-49</td>\n",
       "      <td>premeno</td>\n",
       "      <td>10-14</td>\n",
       "      <td>0-2</td>\n",
       "      <td>no</td>\n",
       "      <td>2</td>\n",
       "      <td>left</td>\n",
       "      <td>left_up</td>\n",
       "      <td>no</td>\n",
       "    </tr>\n",
       "    <tr>\n",
       "      <th>8</th>\n",
       "      <td>no-recurrence-events</td>\n",
       "      <td>40-49</td>\n",
       "      <td>premeno</td>\n",
       "      <td>50-54</td>\n",
       "      <td>0-2</td>\n",
       "      <td>no</td>\n",
       "      <td>2</td>\n",
       "      <td>left</td>\n",
       "      <td>left_low</td>\n",
       "      <td>no</td>\n",
       "    </tr>\n",
       "    <tr>\n",
       "      <th>128</th>\n",
       "      <td>no-recurrence-events</td>\n",
       "      <td>50-59</td>\n",
       "      <td>premeno</td>\n",
       "      <td>25-29</td>\n",
       "      <td>0-2</td>\n",
       "      <td>yes</td>\n",
       "      <td>2</td>\n",
       "      <td>left</td>\n",
       "      <td>left_up</td>\n",
       "      <td>no</td>\n",
       "    </tr>\n",
       "  </tbody>\n",
       "</table>\n",
       "</div>"
      ],
      "text/plain": [
       "                    class    age menopause tumor-size inv-nodes node-caps  \\\n",
       "55   no-recurrence-events  70-79      ge40      40-44       0-2        no   \n",
       "133  no-recurrence-events  50-59      ge40      40-44       0-2        no   \n",
       "43   no-recurrence-events  40-49   premeno      10-14       0-2        no   \n",
       "8    no-recurrence-events  40-49   premeno      50-54       0-2        no   \n",
       "128  no-recurrence-events  50-59   premeno      25-29       0-2       yes   \n",
       "\n",
       "     deg-malig breast breast-quad irradiat  \n",
       "55           1  right    right_up       no  \n",
       "133          3   left    right_up       no  \n",
       "43           2   left     left_up       no  \n",
       "8            2   left    left_low       no  \n",
       "128          2   left     left_up       no  "
      ]
     },
     "execution_count": 3,
     "metadata": {},
     "output_type": "execute_result"
    }
   ],
   "source": [
    "df.sample(5)"
   ]
  },
  {
   "cell_type": "code",
   "execution_count": 4,
   "metadata": {},
   "outputs": [
    {
     "data": {
      "text/plain": [
       "(286, 10)"
      ]
     },
     "execution_count": 4,
     "metadata": {},
     "output_type": "execute_result"
    }
   ],
   "source": [
    "df.shape"
   ]
  },
  {
   "cell_type": "code",
   "execution_count": 5,
   "metadata": {},
   "outputs": [
    {
     "name": "stdout",
     "output_type": "stream",
     "text": [
      "class :  ['no-recurrence-events' 'recurrence-events']\n",
      "age :  ['20-29' '30-39' '40-49' '50-59' '60-69' '70-79']\n",
      "menopause :  ['ge40' 'lt40' 'premeno']\n",
      "tumor-size :  ['0-4' '10-14' '15-19' '20-24' '25-29' '30-34' '35-39' '40-44' '45-49'\n",
      " '5-9' '50-54']\n",
      "inv-nodes :  ['0-2' '12-14' '15-17' '24-26' '3-5' '6-8' '9-11']\n",
      "node-caps :  ['?' 'no' 'yes']\n",
      "deg-malig :  [1 2 3]\n",
      "breast :  ['left' 'right']\n",
      "breast-quad :  ['?' 'central' 'left_low' 'left_up' 'right_low' 'right_up']\n",
      "irradiat :  ['no' 'yes']\n"
     ]
    }
   ],
   "source": [
    "print(\"class : \", np.unique(df['class'].values))\n",
    "print(\"age : \", np.unique(df['age'].values))\n",
    "print(\"menopause : \", np.unique(df['menopause'].values))\n",
    "print(\"tumor-size : \", np.unique(df['tumor-size'].values))\n",
    "print(\"inv-nodes : \", np.unique(df['inv-nodes'].values))\n",
    "print(\"node-caps : \", np.unique(df['node-caps'].values))\n",
    "print(\"deg-malig : \", np.unique(df['deg-malig'].values))\n",
    "print(\"breast : \", np.unique(df['breast'].values))\n",
    "print(\"breast-quad : \", np.unique(df['breast-quad'].values))\n",
    "print(\"irradiat : \", np.unique(df['irradiat'].values))"
   ]
  },
  {
   "cell_type": "code",
   "execution_count": 6,
   "metadata": {},
   "outputs": [
    {
     "data": {
      "text/plain": [
       "(277, 10)"
      ]
     },
     "execution_count": 6,
     "metadata": {},
     "output_type": "execute_result"
    }
   ],
   "source": [
    "df = df[(df['node-caps'] != '?') & (df['breast-quad'] != '?')]\n",
    "df.shape"
   ]
  },
  {
   "cell_type": "code",
   "execution_count": 7,
   "metadata": {
    "collapsed": true
   },
   "outputs": [],
   "source": [
    "df.loc[df['class'] == 'recurrence-events','class'] = 1\n",
    "df.loc[df['class'] == 'no-recurrence-events','class'] = 2"
   ]
  },
  {
   "cell_type": "code",
   "execution_count": 8,
   "metadata": {
    "collapsed": true
   },
   "outputs": [],
   "source": [
    "df.loc[df['age'] == '20-29','age'] = 1\n",
    "df.loc[df['age'] == '30-39','age'] = 2\n",
    "df.loc[df['age'] == '40-49','age'] = 3\n",
    "df.loc[df['age'] == '50-59','age'] = 4\n",
    "df.loc[df['age'] == '60-69','age'] = 5\n",
    "df.loc[df['age'] == '70-79','age'] = 6"
   ]
  },
  {
   "cell_type": "code",
   "execution_count": 9,
   "metadata": {
    "collapsed": true
   },
   "outputs": [],
   "source": [
    "df.loc[df['menopause'] == 'lt40','menopause'] = 1\n",
    "df.loc[df['menopause'] == 'ge40','menopause'] = 2\n",
    "df.loc[df['menopause'] == 'premeno','menopause'] = 3"
   ]
  },
  {
   "cell_type": "code",
   "execution_count": 10,
   "metadata": {
    "collapsed": true
   },
   "outputs": [],
   "source": [
    "tumorsize_values = np.array(['0-4', '5-9', '10-14', '15-19', '20-24', '25-29', '30-34', '35-39', '40-44', '45-49', '50-54'])\n",
    "\n",
    "for i in range(len(tumorsize_values)):\n",
    "    tumorsize = tumorsize_values[i]\n",
    "    df.loc[df['tumor-size'] == tumorsize, 'tumor-size'] = i+1"
   ]
  },
  {
   "cell_type": "code",
   "execution_count": 11,
   "metadata": {
    "collapsed": true
   },
   "outputs": [],
   "source": [
    "invnodes_values = np.array(['0-2', '3-5', '6-8', '9-11', '12-14', '15-17', '24-26'])\n",
    "\n",
    "for i in range(len(invnodes_values)):\n",
    "    invnode = invnodes_values[i]\n",
    "    df.loc[df['inv-nodes'] == invnode, 'inv-nodes'] = i+1"
   ]
  },
  {
   "cell_type": "code",
   "execution_count": 12,
   "metadata": {
    "collapsed": true
   },
   "outputs": [],
   "source": [
    "df.loc[df['node-caps'] == 'no','node-caps'] = 0\n",
    "df.loc[df['node-caps'] == 'yes','node-caps'] = 1"
   ]
  },
  {
   "cell_type": "code",
   "execution_count": 13,
   "metadata": {
    "collapsed": true
   },
   "outputs": [],
   "source": [
    "df.loc[df['irradiat'] == 'no','irradiat'] = 0\n",
    "df.loc[df['irradiat'] == 'yes','irradiat'] = 1"
   ]
  },
  {
   "cell_type": "code",
   "execution_count": 14,
   "metadata": {},
   "outputs": [
    {
     "data": {
      "text/html": [
       "<div>\n",
       "<style scoped>\n",
       "    .dataframe tbody tr th:only-of-type {\n",
       "        vertical-align: middle;\n",
       "    }\n",
       "\n",
       "    .dataframe tbody tr th {\n",
       "        vertical-align: top;\n",
       "    }\n",
       "\n",
       "    .dataframe thead th {\n",
       "        text-align: right;\n",
       "    }\n",
       "</style>\n",
       "<table border=\"1\" class=\"dataframe\">\n",
       "  <thead>\n",
       "    <tr style=\"text-align: right;\">\n",
       "      <th></th>\n",
       "      <th>class</th>\n",
       "      <th>age</th>\n",
       "      <th>menopause</th>\n",
       "      <th>tumor-size</th>\n",
       "      <th>inv-nodes</th>\n",
       "      <th>node-caps</th>\n",
       "      <th>deg-malig</th>\n",
       "      <th>irradiat</th>\n",
       "    </tr>\n",
       "  </thead>\n",
       "  <tbody>\n",
       "    <tr>\n",
       "      <th>119</th>\n",
       "      <td>2</td>\n",
       "      <td>5</td>\n",
       "      <td>2</td>\n",
       "      <td>4</td>\n",
       "      <td>1</td>\n",
       "      <td>0</td>\n",
       "      <td>1</td>\n",
       "      <td>0</td>\n",
       "    </tr>\n",
       "    <tr>\n",
       "      <th>201</th>\n",
       "      <td>1</td>\n",
       "      <td>4</td>\n",
       "      <td>3</td>\n",
       "      <td>4</td>\n",
       "      <td>1</td>\n",
       "      <td>0</td>\n",
       "      <td>2</td>\n",
       "      <td>0</td>\n",
       "    </tr>\n",
       "    <tr>\n",
       "      <th>55</th>\n",
       "      <td>2</td>\n",
       "      <td>6</td>\n",
       "      <td>2</td>\n",
       "      <td>9</td>\n",
       "      <td>1</td>\n",
       "      <td>0</td>\n",
       "      <td>1</td>\n",
       "      <td>0</td>\n",
       "    </tr>\n",
       "    <tr>\n",
       "      <th>166</th>\n",
       "      <td>2</td>\n",
       "      <td>3</td>\n",
       "      <td>3</td>\n",
       "      <td>5</td>\n",
       "      <td>2</td>\n",
       "      <td>0</td>\n",
       "      <td>2</td>\n",
       "      <td>0</td>\n",
       "    </tr>\n",
       "    <tr>\n",
       "      <th>277</th>\n",
       "      <td>1</td>\n",
       "      <td>5</td>\n",
       "      <td>2</td>\n",
       "      <td>3</td>\n",
       "      <td>3</td>\n",
       "      <td>1</td>\n",
       "      <td>3</td>\n",
       "      <td>1</td>\n",
       "    </tr>\n",
       "  </tbody>\n",
       "</table>\n",
       "</div>"
      ],
      "text/plain": [
       "     class  age  menopause  tumor-size  inv-nodes  node-caps  deg-malig  \\\n",
       "119      2    5          2           4          1          0          1   \n",
       "201      1    4          3           4          1          0          2   \n",
       "55       2    6          2           9          1          0          1   \n",
       "166      2    3          3           5          2          0          2   \n",
       "277      1    5          2           3          3          1          3   \n",
       "\n",
       "     irradiat  \n",
       "119         0  \n",
       "201         0  \n",
       "55          0  \n",
       "166         0  \n",
       "277         1  "
      ]
     },
     "execution_count": 14,
     "metadata": {},
     "output_type": "execute_result"
    }
   ],
   "source": [
    "df.drop(['breast', 'breast-quad'], axis=1, inplace=True) # keep ordinal values only\n",
    "df.sample(5)"
   ]
  },
  {
   "cell_type": "code",
   "execution_count": 15,
   "metadata": {
    "collapsed": true
   },
   "outputs": [],
   "source": [
    "vectors = df.values"
   ]
  },
  {
   "cell_type": "code",
   "execution_count": 16,
   "metadata": {
    "collapsed": true
   },
   "outputs": [],
   "source": [
    "dataset = LabeledSet(7)\n",
    "dataset.addExamples(vectors[:,1:], vectors[:,0:1])"
   ]
  },
  {
   "cell_type": "code",
   "execution_count": 46,
   "metadata": {
    "scrolled": true
   },
   "outputs": [
    {
     "data": {
      "text/plain": [
       "0.07854601580076388"
      ]
     },
     "execution_count": 46,
     "metadata": {},
     "output_type": "execute_result"
    }
   ],
   "source": [
    "NMI1(dataset)"
   ]
  },
  {
   "cell_type": "code",
   "execution_count": 51,
   "metadata": {},
   "outputs": [
    {
     "data": {
      "text/plain": [
       "True"
      ]
     },
     "execution_count": 51,
     "metadata": {},
     "output_type": "execute_result"
    }
   ],
   "source": [
    "a = np.array([1, 1, 3])\n",
    "b = np.array([1, 2, 3])\n",
    "np.all(np.greater_equal(b, a))"
   ]
  },
  {
   "cell_type": "code",
   "execution_count": 18,
   "metadata": {},
   "outputs": [],
   "source": [
    "g = Log()\n",
    "h = Sum()\n",
    "\n",
    "# rank Shannon discrimination measure\n",
    "f_r = Dsr()\n",
    "rsdm = Gdm(h, g, f_r)\n",
    "\n",
    "# conditional Shannon entropy\n",
    "f = Ds()\n",
    "sdm = Gdm(h, g, f)\n",
    "\n",
    "# pessimistic rank discrimination measure\n",
    "f_p = Mindsr()\n",
    "g_p = Frac() \n",
    "prdm = Gdm(h, g_p, f_p)\n",
    "\n",
    "# rank Gini discrimination measure \n",
    "g_g = One_minus()\n",
    "rgdm = Gdm(h, g_g, f_r)\n",
    "\n",
    "# Gini discrimination measure\n",
    "gdm = Gdm(h, g_g, f)\n",
    "\n",
    "# H_M\n",
    "h_m = Max()\n",
    "g_m = One_minus_square()\n",
    "H_m = Gdm(h_m, g_m, f_r)\n",
    "\n",
    "# H_Q\n",
    "f_q = Avgdsr()\n",
    "h_q = Square_root()\n",
    "H_q = Gdm(h_q, g_g, f_q)"
   ]
  },
  {
   "cell_type": "code",
   "execution_count": 19,
   "metadata": {
    "collapsed": true
   },
   "outputs": [],
   "source": [
    "train_set, test_set = split_dataset(dataset, 80)"
   ]
  },
  {
   "cell_type": "code",
   "execution_count": 23,
   "metadata": {
    "collapsed": true
   },
   "outputs": [],
   "source": [
    "folds = get_ten_folds(dataset)"
   ]
  },
  {
   "cell_type": "code",
   "execution_count": 24,
   "metadata": {},
   "outputs": [
    {
     "name": "stdout",
     "output_type": "stream",
     "text": [
      "average accuracy :  0.5882857142857143\n",
      "average depth :  21.5\n",
      "average number of leaves :  109.5\n",
      "average ratio between number of pairwise non-monotone label comparisons and number of pairs :  0.935841461082425\n",
      "average number of pairs used for ratio computing :  31.900000000000002\n"
     ]
    }
   ],
   "source": [
    "# Rank Shannon discrimination measure\n",
    "avg_accuracy = 0\n",
    "avg_leaves = 0\n",
    "avg_depth = 0\n",
    "avg_ratio = 0\n",
    "avg_pairs = 0\n",
    "\n",
    "for i in range(10):\n",
    "    test_set = folds[i]\n",
    "    train_set = LabeledSet(7)\n",
    "    for j in range(0, 10):\n",
    "        if i != j:\n",
    "            train_set.addExamples(folds[j].x, folds[j].y)\n",
    "    tree = RDMT(rsdm, \"shannon\", 0, 100, 0.01 * train_set.size(), [1, 2])\n",
    "    tree.train(train_set)\n",
    "    avg_accuracy += tree.accuracy(test_set)\n",
    "    avg_leaves += tree.get_nb_leaves()\n",
    "    avg_depth += tree.get_depth()\n",
    "    avg_ratio += tree.get_ratio_non_monotone_pairs() \n",
    "    avg_pairs += tree.get_total_pairs()\n",
    "        \n",
    "avg_accuracy = avg_accuracy * (1.0/10)\n",
    "avg_leaves = avg_leaves * (1.0/10)\n",
    "avg_depth = avg_depth * (1.0/10)\n",
    "avg_ratio = avg_ratio * (1.0/10)\n",
    "avg_pairs = avg_pairs * (1.0/10)\n",
    "\n",
    "print(\"average accuracy : \", avg_accuracy)\n",
    "print(\"average depth : \", avg_depth)\n",
    "print(\"average number of leaves : \", avg_leaves)\n",
    "print(\"average ratio between number of pairwise non-monotone label comparisons and number of pairs : \", avg_ratio)\n",
    "print(\"average number of pairs used for ratio computing : \", avg_pairs)"
   ]
  },
  {
   "cell_type": "code",
   "execution_count": 25,
   "metadata": {},
   "outputs": [
    {
     "name": "stdout",
     "output_type": "stream",
     "text": [
      "average accuracy :  0.566857142857143\n",
      "average depth :  21.900000000000002\n",
      "average number of leaves :  108.80000000000001\n",
      "average ratio between number of pairwise non-monotone label comparisons and number of pairs :  0.9334389940715243\n",
      "average number of pairs used for ratio computing :  32.300000000000004\n"
     ]
    }
   ],
   "source": [
    "# Rank Gini discrimination measure\n",
    "avg_accuracy = 0\n",
    "avg_leaves = 0\n",
    "avg_depth = 0\n",
    "avg_ratio = 0\n",
    "avg_pairs = 0\n",
    "\n",
    "for i in range(10):\n",
    "    test_set = folds[i]\n",
    "    train_set = LabeledSet(7)\n",
    "    for j in range(0, 10):\n",
    "        if i != j:\n",
    "            train_set.addExamples(folds[j].x, folds[j].y)\n",
    "    tree = RDMT(rgdm, \"shannon\", 0, 100, 0.01 * train_set.size(), [1, 2])\n",
    "    tree.train(train_set)\n",
    "    avg_accuracy += tree.accuracy(test_set)\n",
    "    avg_leaves += tree.get_nb_leaves()\n",
    "    avg_depth += tree.get_depth()\n",
    "    avg_ratio += tree.get_ratio_non_monotone_pairs() \n",
    "    avg_pairs += tree.get_total_pairs()\n",
    "        \n",
    "avg_accuracy = avg_accuracy * (1.0/10)\n",
    "avg_leaves = avg_leaves * (1.0/10)\n",
    "avg_depth = avg_depth * (1.0/10)\n",
    "avg_ratio = avg_ratio * (1.0/10)\n",
    "avg_pairs = avg_pairs * (1.0/10)\n",
    "\n",
    "print(\"average accuracy : \", avg_accuracy)\n",
    "print(\"average depth : \", avg_depth)\n",
    "print(\"average number of leaves : \", avg_leaves)\n",
    "print(\"average ratio between number of pairwise non-monotone label comparisons and number of pairs : \", avg_ratio)\n",
    "print(\"average number of pairs used for ratio computing : \", avg_pairs)"
   ]
  },
  {
   "cell_type": "code",
   "execution_count": 26,
   "metadata": {},
   "outputs": [
    {
     "name": "stdout",
     "output_type": "stream",
     "text": [
      "average accuracy :  0.5851428571428573\n",
      "average depth :  21.0\n",
      "average number of leaves :  108.60000000000001\n",
      "average ratio between number of pairwise non-monotone label comparisons and number of pairs :  0.9447050105182635\n",
      "average number of pairs used for ratio computing :  30.5\n"
     ]
    }
   ],
   "source": [
    "# Pessimistic rank discrimination measure\n",
    "avg_accuracy = 0\n",
    "avg_leaves = 0\n",
    "avg_depth = 0\n",
    "avg_ratio = 0\n",
    "avg_pairs = 0\n",
    "\n",
    "for i in range(10):\n",
    "    test_set = folds[i]\n",
    "    train_set = LabeledSet(7)\n",
    "    for j in range(0, 10):\n",
    "        if i != j:\n",
    "            train_set.addExamples(folds[j].x, folds[j].y)\n",
    "    tree = RDMT(prdm, \"shannon\", 0, 100, 0.01 * train_set.size(), [1, 2])\n",
    "    tree.train(train_set)\n",
    "    avg_accuracy += tree.accuracy(test_set)\n",
    "    avg_leaves += tree.get_nb_leaves()\n",
    "    avg_depth += tree.get_depth()\n",
    "    avg_ratio += tree.get_ratio_non_monotone_pairs() \n",
    "    avg_pairs += tree.get_total_pairs()\n",
    "        \n",
    "avg_accuracy = avg_accuracy * (1.0/10)\n",
    "avg_leaves = avg_leaves * (1.0/10)\n",
    "avg_depth = avg_depth * (1.0/10)\n",
    "avg_ratio = avg_ratio * (1.0/10)\n",
    "avg_pairs = avg_pairs * (1.0/10)\n",
    "\n",
    "print(\"average accuracy : \", avg_accuracy)\n",
    "print(\"average depth : \", avg_depth)\n",
    "print(\"average number of leaves : \", avg_leaves)\n",
    "print(\"average ratio between number of pairwise non-monotone label comparisons and number of pairs : \", avg_ratio)\n",
    "print(\"average number of pairs used for ratio computing : \", avg_pairs)"
   ]
  },
  {
   "cell_type": "code",
   "execution_count": 27,
   "metadata": {},
   "outputs": [
    {
     "name": "stdout",
     "output_type": "stream",
     "text": [
      "average accuracy :  0.578857142857143\n",
      "average depth :  21.6\n",
      "average number of leaves :  116.7\n",
      "average ratio between number of pairwise non-monotone label comparisons and number of pairs :  0.9306390641932811\n",
      "average number of pairs used for ratio computing :  32.300000000000004\n"
     ]
    }
   ],
   "source": [
    "# H_M\n",
    "avg_accuracy = 0\n",
    "avg_leaves = 0\n",
    "avg_depth = 0\n",
    "avg_ratio = 0\n",
    "avg_pairs = 0\n",
    "\n",
    "for i in range(10):\n",
    "    test_set = folds[i]\n",
    "    train_set = LabeledSet(7)\n",
    "    for j in range(0, 10):\n",
    "        if i != j:\n",
    "            train_set.addExamples(folds[j].x, folds[j].y)\n",
    "    tree = RDMT(H_m, \"shannon\", 0, 100, 0.01 * train_set.size(), [1, 2])\n",
    "    tree.train(train_set)\n",
    "    avg_accuracy += tree.accuracy(test_set)\n",
    "    avg_leaves += tree.get_nb_leaves()\n",
    "    avg_depth += tree.get_depth()\n",
    "    avg_ratio += tree.get_ratio_non_monotone_pairs() \n",
    "    avg_pairs += tree.get_total_pairs()\n",
    "        \n",
    "avg_accuracy = avg_accuracy * (1.0/10)\n",
    "avg_leaves = avg_leaves * (1.0/10)\n",
    "avg_depth = avg_depth * (1.0/10)\n",
    "avg_ratio = avg_ratio * (1.0/10)\n",
    "avg_pairs = avg_pairs * (1.0/10)\n",
    "\n",
    "print(\"average accuracy : \", avg_accuracy)\n",
    "print(\"average depth : \", avg_depth)\n",
    "print(\"average number of leaves : \", avg_leaves)\n",
    "print(\"average ratio between number of pairwise non-monotone label comparisons and number of pairs : \", avg_ratio)\n",
    "print(\"average number of pairs used for ratio computing : \", avg_pairs)"
   ]
  },
  {
   "cell_type": "code",
   "execution_count": 28,
   "metadata": {},
   "outputs": [
    {
     "name": "stdout",
     "output_type": "stream",
     "text": [
      "average accuracy :  0.5597142857142858\n",
      "average depth :  21.8\n",
      "average number of leaves :  110.4\n",
      "average ratio between number of pairwise non-monotone label comparisons and number of pairs :  0.9324373685217062\n",
      "average number of pairs used for ratio computing :  33.4\n"
     ]
    }
   ],
   "source": [
    "# H_Q\n",
    "avg_accuracy = 0\n",
    "avg_leaves = 0\n",
    "avg_depth = 0\n",
    "avg_ratio = 0\n",
    "avg_pairs = 0\n",
    "\n",
    "for i in range(10):\n",
    "    test_set = folds[i]\n",
    "    train_set = LabeledSet(7)\n",
    "    for j in range(0, 10):\n",
    "        if i != j:\n",
    "            train_set.addExamples(folds[j].x, folds[j].y)\n",
    "    tree = RDMT(H_q, \"shannon\", 0, 100, 0.01 * train_set.size(), [1, 2])\n",
    "    tree.train(train_set)\n",
    "    avg_accuracy += tree.accuracy(test_set)\n",
    "    avg_leaves += tree.get_nb_leaves()\n",
    "    avg_depth += tree.get_depth()\n",
    "    avg_ratio += tree.get_ratio_non_monotone_pairs() \n",
    "    avg_pairs += tree.get_total_pairs()\n",
    "        \n",
    "avg_accuracy = avg_accuracy * (1.0/10)\n",
    "avg_leaves = avg_leaves * (1.0/10)\n",
    "avg_depth = avg_depth * (1.0/10)\n",
    "avg_ratio = avg_ratio * (1.0/10)\n",
    "avg_pairs = avg_pairs * (1.0/10)\n",
    "\n",
    "print(\"average accuracy : \", avg_accuracy)\n",
    "print(\"average depth : \", avg_depth)\n",
    "print(\"average number of leaves : \", avg_leaves)\n",
    "print(\"average ratio between number of pairwise non-monotone label comparisons and number of pairs : \", avg_ratio)\n",
    "print(\"average number of pairs used for ratio computing : \", avg_pairs)"
   ]
  },
  {
   "cell_type": "code",
   "execution_count": 29,
   "metadata": {},
   "outputs": [
    {
     "name": "stdout",
     "output_type": "stream",
     "text": [
      "average accuracy :  0.5935714285714286\n",
      "average depth :  14.200000000000001\n",
      "average number of leaves :  80.4\n",
      "average ratio between number of pairwise non-monotone label comparisons and number of pairs :  0.8980724485242558\n",
      "average number of pairs used for ratio computing :  21.400000000000002\n"
     ]
    }
   ],
   "source": [
    "# Gini discrimination measure\n",
    "avg_accuracy = 0\n",
    "avg_leaves = 0\n",
    "avg_depth = 0\n",
    "avg_ratio = 0\n",
    "avg_pairs = 0\n",
    "\n",
    "for i in range(10):\n",
    "    test_set = folds[i]\n",
    "    train_set = LabeledSet(7)\n",
    "    for j in range(0, 10):\n",
    "        if i != j:\n",
    "            train_set.addExamples(folds[j].x, folds[j].y)\n",
    "    tree = RDMT(gdm, \"shannon\", 0, 100, 0.01 * train_set.size(), [1, 2])\n",
    "    tree.train(train_set)\n",
    "    avg_accuracy += tree.accuracy(test_set)\n",
    "    avg_leaves += tree.get_nb_leaves()\n",
    "    avg_depth += tree.get_depth()\n",
    "    avg_ratio += tree.get_ratio_non_monotone_pairs() \n",
    "    avg_pairs += tree.get_total_pairs()\n",
    "        \n",
    "avg_accuracy = avg_accuracy * (1.0/10)\n",
    "avg_leaves = avg_leaves * (1.0/10)\n",
    "avg_depth = avg_depth * (1.0/10)\n",
    "avg_ratio = avg_ratio * (1.0/10)\n",
    "avg_pairs = avg_pairs * (1.0/10)\n",
    "\n",
    "print(\"average accuracy : \", avg_accuracy)\n",
    "print(\"average depth : \", avg_depth)\n",
    "print(\"average number of leaves : \", avg_leaves)\n",
    "print(\"average ratio between number of pairwise non-monotone label comparisons and number of pairs : \", avg_ratio)\n",
    "print(\"average number of pairs used for ratio computing : \", avg_pairs)"
   ]
  }
 ],
 "metadata": {
  "kernelspec": {
   "display_name": "Python 3",
   "language": "python",
   "name": "python3"
  },
  "language_info": {
   "codemirror_mode": {
    "name": "ipython",
    "version": 3
   },
   "file_extension": ".py",
   "mimetype": "text/x-python",
   "name": "python",
   "nbconvert_exporter": "python",
   "pygments_lexer": "ipython3",
   "version": "3.5.4"
  }
 },
 "nbformat": 4,
 "nbformat_minor": 2
}
