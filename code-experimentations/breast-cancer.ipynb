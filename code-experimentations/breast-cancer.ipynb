{
 "cells": [
  {
   "cell_type": "code",
   "execution_count": 1,
   "metadata": {},
   "outputs": [],
   "source": [
    "%load_ext autoreload\n",
    "%autoreload 2\n",
    "from utils import *"
   ]
  },
  {
   "cell_type": "code",
   "execution_count": 2,
   "metadata": {},
   "outputs": [],
   "source": [
    "import sklearn\n",
    "import seaborn as sns\n",
    "%matplotlib inline"
   ]
  },
  {
   "cell_type": "code",
   "execution_count": 3,
   "metadata": {},
   "outputs": [],
   "source": [
    "df = pd.read_csv(\"csv/breast_cancer.csv\")"
   ]
  },
  {
   "cell_type": "code",
   "execution_count": 4,
   "metadata": {},
   "outputs": [
    {
     "data": {
      "text/html": [
       "<div>\n",
       "<style scoped>\n",
       "    .dataframe tbody tr th:only-of-type {\n",
       "        vertical-align: middle;\n",
       "    }\n",
       "\n",
       "    .dataframe tbody tr th {\n",
       "        vertical-align: top;\n",
       "    }\n",
       "\n",
       "    .dataframe thead th {\n",
       "        text-align: right;\n",
       "    }\n",
       "</style>\n",
       "<table border=\"1\" class=\"dataframe\">\n",
       "  <thead>\n",
       "    <tr style=\"text-align: right;\">\n",
       "      <th></th>\n",
       "      <th>class</th>\n",
       "      <th>age</th>\n",
       "      <th>menopause</th>\n",
       "      <th>tumor-size</th>\n",
       "      <th>inv-nodes</th>\n",
       "      <th>node-caps</th>\n",
       "      <th>deg-malig</th>\n",
       "      <th>breast</th>\n",
       "      <th>breast-quad</th>\n",
       "      <th>irradiat</th>\n",
       "    </tr>\n",
       "  </thead>\n",
       "  <tbody>\n",
       "    <tr>\n",
       "      <th>17</th>\n",
       "      <td>no-recurrence-events</td>\n",
       "      <td>50-59</td>\n",
       "      <td>premeno</td>\n",
       "      <td>30-34</td>\n",
       "      <td>0-2</td>\n",
       "      <td>no</td>\n",
       "      <td>3</td>\n",
       "      <td>left</td>\n",
       "      <td>left_low</td>\n",
       "      <td>no</td>\n",
       "    </tr>\n",
       "    <tr>\n",
       "      <th>145</th>\n",
       "      <td>no-recurrence-events</td>\n",
       "      <td>40-49</td>\n",
       "      <td>premeno</td>\n",
       "      <td>25-29</td>\n",
       "      <td>0-2</td>\n",
       "      <td>?</td>\n",
       "      <td>2</td>\n",
       "      <td>left</td>\n",
       "      <td>right_low</td>\n",
       "      <td>yes</td>\n",
       "    </tr>\n",
       "    <tr>\n",
       "      <th>245</th>\n",
       "      <td>recurrence-events</td>\n",
       "      <td>30-39</td>\n",
       "      <td>premeno</td>\n",
       "      <td>30-34</td>\n",
       "      <td>9-11</td>\n",
       "      <td>no</td>\n",
       "      <td>2</td>\n",
       "      <td>right</td>\n",
       "      <td>left_up</td>\n",
       "      <td>yes</td>\n",
       "    </tr>\n",
       "    <tr>\n",
       "      <th>143</th>\n",
       "      <td>no-recurrence-events</td>\n",
       "      <td>40-49</td>\n",
       "      <td>premeno</td>\n",
       "      <td>45-49</td>\n",
       "      <td>0-2</td>\n",
       "      <td>no</td>\n",
       "      <td>2</td>\n",
       "      <td>left</td>\n",
       "      <td>left_low</td>\n",
       "      <td>yes</td>\n",
       "    </tr>\n",
       "    <tr>\n",
       "      <th>50</th>\n",
       "      <td>no-recurrence-events</td>\n",
       "      <td>50-59</td>\n",
       "      <td>lt40</td>\n",
       "      <td>15-19</td>\n",
       "      <td>0-2</td>\n",
       "      <td>no</td>\n",
       "      <td>2</td>\n",
       "      <td>left</td>\n",
       "      <td>left_low</td>\n",
       "      <td>no</td>\n",
       "    </tr>\n",
       "  </tbody>\n",
       "</table>\n",
       "</div>"
      ],
      "text/plain": [
       "                    class    age menopause tumor-size inv-nodes node-caps  \\\n",
       "17   no-recurrence-events  50-59   premeno      30-34       0-2        no   \n",
       "145  no-recurrence-events  40-49   premeno      25-29       0-2         ?   \n",
       "245     recurrence-events  30-39   premeno      30-34      9-11        no   \n",
       "143  no-recurrence-events  40-49   premeno      45-49       0-2        no   \n",
       "50   no-recurrence-events  50-59      lt40      15-19       0-2        no   \n",
       "\n",
       "     deg-malig breast breast-quad irradiat  \n",
       "17           3   left    left_low       no  \n",
       "145          2   left   right_low      yes  \n",
       "245          2  right     left_up      yes  \n",
       "143          2   left    left_low      yes  \n",
       "50           2   left    left_low       no  "
      ]
     },
     "execution_count": 4,
     "metadata": {},
     "output_type": "execute_result"
    }
   ],
   "source": [
    "df.sample(5)"
   ]
  },
  {
   "cell_type": "code",
   "execution_count": 5,
   "metadata": {},
   "outputs": [
    {
     "data": {
      "text/plain": [
       "(286, 10)"
      ]
     },
     "execution_count": 5,
     "metadata": {},
     "output_type": "execute_result"
    }
   ],
   "source": [
    "df.shape"
   ]
  },
  {
   "cell_type": "code",
   "execution_count": 6,
   "metadata": {},
   "outputs": [
    {
     "name": "stdout",
     "output_type": "stream",
     "text": [
      "class :  ['no-recurrence-events' 'recurrence-events']\n",
      "age :  ['20-29' '30-39' '40-49' '50-59' '60-69' '70-79']\n",
      "menopause :  ['ge40' 'lt40' 'premeno']\n",
      "tumor-size :  ['0-4' '10-14' '15-19' '20-24' '25-29' '30-34' '35-39' '40-44' '45-49'\n",
      " '5-9' '50-54']\n",
      "inv-nodes :  ['0-2' '12-14' '15-17' '24-26' '3-5' '6-8' '9-11']\n",
      "node-caps :  ['?' 'no' 'yes']\n",
      "deg-malig :  [1 2 3]\n",
      "breast :  ['left' 'right']\n",
      "breast-quad :  ['?' 'central' 'left_low' 'left_up' 'right_low' 'right_up']\n",
      "irradiat :  ['no' 'yes']\n"
     ]
    }
   ],
   "source": [
    "print(\"class : \", np.unique(df['class'].values))\n",
    "print(\"age : \", np.unique(df['age'].values))\n",
    "print(\"menopause : \", np.unique(df['menopause'].values))\n",
    "print(\"tumor-size : \", np.unique(df['tumor-size'].values))\n",
    "print(\"inv-nodes : \", np.unique(df['inv-nodes'].values))\n",
    "print(\"node-caps : \", np.unique(df['node-caps'].values))\n",
    "print(\"deg-malig : \", np.unique(df['deg-malig'].values))\n",
    "print(\"breast : \", np.unique(df['breast'].values))\n",
    "print(\"breast-quad : \", np.unique(df['breast-quad'].values))\n",
    "print(\"irradiat : \", np.unique(df['irradiat'].values))"
   ]
  },
  {
   "cell_type": "code",
   "execution_count": 7,
   "metadata": {},
   "outputs": [
    {
     "data": {
      "text/plain": [
       "(277, 10)"
      ]
     },
     "execution_count": 7,
     "metadata": {},
     "output_type": "execute_result"
    }
   ],
   "source": [
    "df = df[(df['node-caps'] != '?') & (df['breast-quad'] != '?')]\n",
    "df.shape"
   ]
  },
  {
   "cell_type": "code",
   "execution_count": 8,
   "metadata": {},
   "outputs": [],
   "source": [
    "df.loc[df['class'] == 'recurrence-events','class'] = 1\n",
    "df.loc[df['class'] == 'no-recurrence-events','class'] = 2"
   ]
  },
  {
   "cell_type": "code",
   "execution_count": 9,
   "metadata": {},
   "outputs": [],
   "source": [
    "df.loc[df['age'] == '20-29','age'] = 1\n",
    "df.loc[df['age'] == '30-39','age'] = 2\n",
    "df.loc[df['age'] == '40-49','age'] = 3\n",
    "df.loc[df['age'] == '50-59','age'] = 4\n",
    "df.loc[df['age'] == '60-69','age'] = 5\n",
    "df.loc[df['age'] == '70-79','age'] = 6"
   ]
  },
  {
   "cell_type": "code",
   "execution_count": 10,
   "metadata": {},
   "outputs": [],
   "source": [
    "df.loc[df['menopause'] == 'lt40','menopause'] = 1\n",
    "df.loc[df['menopause'] == 'ge40','menopause'] = 2\n",
    "df.loc[df['menopause'] == 'premeno','menopause'] = 3"
   ]
  },
  {
   "cell_type": "code",
   "execution_count": 11,
   "metadata": {},
   "outputs": [],
   "source": [
    "tumorsize_values = np.array(['0-4', '5-9', '10-14', '15-19', '20-24', '25-29', '30-34', '35-39', '40-44', '45-49', '50-54'])\n",
    "\n",
    "for i in range(len(tumorsize_values)):\n",
    "    tumorsize = tumorsize_values[i]\n",
    "    df.loc[df['tumor-size'] == tumorsize, 'tumor-size'] = i+1"
   ]
  },
  {
   "cell_type": "code",
   "execution_count": 12,
   "metadata": {},
   "outputs": [],
   "source": [
    "invnodes_values = np.array(['0-2', '3-5', '6-8', '9-11', '12-14', '15-17', '24-26'])\n",
    "\n",
    "for i in range(len(invnodes_values)):\n",
    "    invnode = invnodes_values[i]\n",
    "    df.loc[df['inv-nodes'] == invnode, 'inv-nodes'] = i+1"
   ]
  },
  {
   "cell_type": "code",
   "execution_count": 13,
   "metadata": {},
   "outputs": [],
   "source": [
    "df.loc[df['node-caps'] == 'no','node-caps'] = 0\n",
    "df.loc[df['node-caps'] == 'yes','node-caps'] = 1"
   ]
  },
  {
   "cell_type": "code",
   "execution_count": 14,
   "metadata": {},
   "outputs": [],
   "source": [
    "df.loc[df['irradiat'] == 'no','irradiat'] = 0\n",
    "df.loc[df['irradiat'] == 'yes','irradiat'] = 1"
   ]
  },
  {
   "cell_type": "code",
   "execution_count": 15,
   "metadata": {},
   "outputs": [],
   "source": [
    "df.loc[df['breast'] == 'left','breast'] = 0\n",
    "df.loc[df['breast'] == 'right','breast'] = 1"
   ]
  },
  {
   "cell_type": "code",
   "execution_count": 16,
   "metadata": {},
   "outputs": [],
   "source": [
    "df.loc[df['breast-quad'] == 'left_up','breast-quad'] = 1\n",
    "df.loc[df['breast-quad'] == 'left_low','breast-quad'] = 2\n",
    "df.loc[df['breast-quad'] == 'right_up','breast-quad'] = 3\n",
    "df.loc[df['breast-quad'] == 'right_low','breast-quad'] = 4\n",
    "df.loc[df['breast-quad'] == 'central','breast-quad'] = 5"
   ]
  },
  {
   "cell_type": "code",
   "execution_count": 17,
   "metadata": {},
   "outputs": [
    {
     "data": {
      "text/html": [
       "<div>\n",
       "<style scoped>\n",
       "    .dataframe tbody tr th:only-of-type {\n",
       "        vertical-align: middle;\n",
       "    }\n",
       "\n",
       "    .dataframe tbody tr th {\n",
       "        vertical-align: top;\n",
       "    }\n",
       "\n",
       "    .dataframe thead th {\n",
       "        text-align: right;\n",
       "    }\n",
       "</style>\n",
       "<table border=\"1\" class=\"dataframe\">\n",
       "  <thead>\n",
       "    <tr style=\"text-align: right;\">\n",
       "      <th></th>\n",
       "      <th>class</th>\n",
       "      <th>age</th>\n",
       "      <th>menopause</th>\n",
       "      <th>tumor-size</th>\n",
       "      <th>inv-nodes</th>\n",
       "      <th>node-caps</th>\n",
       "      <th>deg-malig</th>\n",
       "      <th>breast</th>\n",
       "      <th>breast-quad</th>\n",
       "      <th>irradiat</th>\n",
       "    </tr>\n",
       "  </thead>\n",
       "  <tbody>\n",
       "    <tr>\n",
       "      <th>189</th>\n",
       "      <td>2</td>\n",
       "      <td>4</td>\n",
       "      <td>2</td>\n",
       "      <td>5</td>\n",
       "      <td>1</td>\n",
       "      <td>1</td>\n",
       "      <td>2</td>\n",
       "      <td>1</td>\n",
       "      <td>1</td>\n",
       "      <td>0</td>\n",
       "    </tr>\n",
       "    <tr>\n",
       "      <th>246</th>\n",
       "      <td>1</td>\n",
       "      <td>2</td>\n",
       "      <td>3</td>\n",
       "      <td>4</td>\n",
       "      <td>3</td>\n",
       "      <td>1</td>\n",
       "      <td>3</td>\n",
       "      <td>0</td>\n",
       "      <td>2</td>\n",
       "      <td>1</td>\n",
       "    </tr>\n",
       "    <tr>\n",
       "      <th>200</th>\n",
       "      <td>2</td>\n",
       "      <td>5</td>\n",
       "      <td>2</td>\n",
       "      <td>6</td>\n",
       "      <td>1</td>\n",
       "      <td>0</td>\n",
       "      <td>3</td>\n",
       "      <td>1</td>\n",
       "      <td>2</td>\n",
       "      <td>0</td>\n",
       "    </tr>\n",
       "    <tr>\n",
       "      <th>105</th>\n",
       "      <td>2</td>\n",
       "      <td>3</td>\n",
       "      <td>3</td>\n",
       "      <td>7</td>\n",
       "      <td>1</td>\n",
       "      <td>0</td>\n",
       "      <td>1</td>\n",
       "      <td>1</td>\n",
       "      <td>1</td>\n",
       "      <td>0</td>\n",
       "    </tr>\n",
       "    <tr>\n",
       "      <th>195</th>\n",
       "      <td>2</td>\n",
       "      <td>4</td>\n",
       "      <td>2</td>\n",
       "      <td>8</td>\n",
       "      <td>1</td>\n",
       "      <td>0</td>\n",
       "      <td>2</td>\n",
       "      <td>0</td>\n",
       "      <td>1</td>\n",
       "      <td>0</td>\n",
       "    </tr>\n",
       "  </tbody>\n",
       "</table>\n",
       "</div>"
      ],
      "text/plain": [
       "     class  age  menopause  tumor-size  inv-nodes  node-caps  deg-malig  \\\n",
       "189      2    4          2           5          1          1          2   \n",
       "246      1    2          3           4          3          1          3   \n",
       "200      2    5          2           6          1          0          3   \n",
       "105      2    3          3           7          1          0          1   \n",
       "195      2    4          2           8          1          0          2   \n",
       "\n",
       "     breast  breast-quad  irradiat  \n",
       "189       1            1         0  \n",
       "246       0            2         1  \n",
       "200       1            2         0  \n",
       "105       1            1         0  \n",
       "195       0            1         0  "
      ]
     },
     "execution_count": 17,
     "metadata": {},
     "output_type": "execute_result"
    }
   ],
   "source": [
    "#df.drop(['breast', 'breast-quad'], axis=1, inplace=True) # keep ordinal values only\n",
    "df.sample(5)"
   ]
  },
  {
   "cell_type": "code",
   "execution_count": 40,
   "metadata": {},
   "outputs": [
    {
     "data": {
      "text/plain": [
       "<seaborn.axisgrid.PairGrid at 0x7f0f70d44278>"
      ]
     },
     "execution_count": 40,
     "metadata": {},
     "output_type": "execute_result"
    },
    {
     "data": {
      "image/png": "[encoded data removed]",
      "text/plain": [
       "<Figure size 1800x1800 with 110 Axes>"
      ]
     },
     "metadata": {},
     "output_type": "display_data"
    }
   ],
   "source": [
    "sns.pairplot(df)"
   ]
  },
  {
   "cell_type": "code",
   "execution_count": 18,
   "metadata": {},
   "outputs": [],
   "source": [
    "vectors = df.values"
   ]
  },
  {
   "cell_type": "code",
   "execution_count": 19,
   "metadata": {},
   "outputs": [],
   "source": [
    "m = 9"
   ]
  },
  {
   "cell_type": "code",
   "execution_count": 20,
   "metadata": {},
   "outputs": [],
   "source": [
    "dataset = LabeledSet(m)\n",
    "dataset.addExamples(vectors[:,1:], vectors[:,0:1])"
   ]
  },
  {
   "cell_type": "code",
   "execution_count": 44,
   "metadata": {
    "scrolled": true
   },
   "outputs": [
    {
     "data": {
      "text/plain": [
       "0.03523779626432271"
      ]
     },
     "execution_count": 44,
     "metadata": {},
     "output_type": "execute_result"
    }
   ],
   "source": [
    "NMI1(dataset)"
   ]
  },
  {
   "cell_type": "code",
   "execution_count": 21,
   "metadata": {},
   "outputs": [],
   "source": [
    "g = Log()\n",
    "h = Sum()\n",
    "\n",
    "# rank Shannon discrimination measure\n",
    "f_r = Dsr()\n",
    "rsdm = Gdm(h, g, f_r)\n",
    "\n",
    "# conditional Shannon entropy\n",
    "f = Ds()\n",
    "sdm = Gdm(h, g, f)\n",
    "\n",
    "# pessimistic rank discrimination measure\n",
    "f_p = Mindsr()\n",
    "g_p = Frac() \n",
    "prdm = Gdm(h, g_p, f_p)\n",
    "\n",
    "# rank Gini discrimination measure \n",
    "g_g = One_minus()\n",
    "rgdm = Gdm(h, g_g, f_r)\n",
    "\n",
    "# Gini discrimination measure\n",
    "gdm = Gdm(h, g_g, f)\n",
    "\n",
    "# H_M\n",
    "h_m = Max()\n",
    "g_m = One_minus_square()\n",
    "H_m = Gdm(h_m, g_m, f_r)\n",
    "\n",
    "# H_Q\n",
    "f_q = Avgdsr()\n",
    "h_q = Square_root()\n",
    "H_q = Gdm(h_q, g_g, f_q)"
   ]
  },
  {
   "cell_type": "code",
   "execution_count": 22,
   "metadata": {},
   "outputs": [],
   "source": [
    "folds = get_ten_folds(dataset)"
   ]
  },
  {
   "cell_type": "code",
   "execution_count": 23,
   "metadata": {},
   "outputs": [],
   "source": [
    "# Rank Shannon discrimination measure\n",
    "acc = []\n",
    "leaves = []\n",
    "depth = []\n",
    "ratio = []\n",
    "pairs = []\n",
    "evaluation = []\n",
    "p_ratio = []\n",
    "nb_examples = []\n",
    "\n",
    "for i in range(10):\n",
    "    test_set = folds[i]\n",
    "    train_set = LabeledSet(9)\n",
    "    for j in range(0, 10):\n",
    "        if i != j:\n",
    "            train_set.addExamples(folds[j].x, folds[j].y)\n",
    "    tree = RDMT(rsdm, \"shannon\", 0, 100, 0.01 * train_set.size(), [1, 2])\n",
    "    tree.train(train_set)\n",
    "    acc.append(tree.accuracy(test_set))\n",
    "    leaves.append(tree.get_nb_leaves())\n",
    "    depth.append(tree.get_depth())\n",
    "    ratio.append(tree.get_ratio_non_monotone_pairs())\n",
    "    pairs.append(tree.get_total_pairs())\n",
    "    evaluation.append(tree.evaluate_monotonicity())\n",
    "    p_ratio.append(tree.pairs_ratio())\n",
    "    nb_examples.append(tree.get_total_examples_ratio())    \n",
    "        \n",
    "avg_accuracy = np.mean(acc)\n",
    "std_accuracy = np.std(acc)\n",
    "avg_leaves = np.mean(leaves)\n",
    "std_leaves = np.std(leaves)\n",
    "avg_depth = np.mean(depth)\n",
    "std_depth = np.std(depth)\n",
    "avg_ratio = np.mean(ratio)\n",
    "std_ratio = np.std(ratio)\n",
    "avg_pairs = np.mean(pairs)\n",
    "std_pairs = np.std(pairs)\n",
    "avg_eval = np.mean(evaluation)\n",
    "std_eval = np.std(evaluation)\n",
    "avg_pratio = np.mean(p_ratio)\n",
    "std_pratio = np.std(p_ratio)\n",
    "avg_nb_examples = np.mean(nb_examples)\n",
    "std_nb_examples = np.std(nb_examples)"
   ]
  },
  {
   "cell_type": "code",
   "execution_count": 24,
   "metadata": {},
   "outputs": [],
   "source": [
    "acc1 = avg_accuracy\n",
    "std_acc1 = std_accuracy\n",
    "depth1 = avg_depth\n",
    "std_depth1 = std_depth\n",
    "leaves1 = avg_leaves\n",
    "std_leaves1 = std_leaves\n",
    "ratio1 = avg_ratio\n",
    "std_ratio1 = std_ratio\n",
    "pairs1 = avg_pairs\n",
    "std_pairs1 = std_pairs\n",
    "eval1 = avg_eval\n",
    "std_eval1 = std_eval\n",
    "pratio1 = avg_pratio\n",
    "std_pratio1 = std_pratio\n",
    "nb_examples1 = avg_nb_examples\n",
    "std_nb_examples1 = std_nb_examples"
   ]
  },
  {
   "cell_type": "code",
   "execution_count": 25,
   "metadata": {},
   "outputs": [],
   "source": [
    "# Shannon entropy\n",
    "acc = []\n",
    "leaves = []\n",
    "depth = []\n",
    "ratio = []\n",
    "pairs = []\n",
    "evaluation = []\n",
    "p_ratio = []\n",
    "nb_examples = []\n",
    "\n",
    "for i in range(10):\n",
    "    test_set = folds[i]\n",
    "    train_set = LabeledSet(9)\n",
    "    for j in range(0, 10):\n",
    "        if i != j:\n",
    "            train_set.addExamples(folds[j].x, folds[j].y)\n",
    "    tree = RDMT(sdm, \"shannon\", 0, 100, 0.01 * train_set.size(), [1, 2])\n",
    "    tree.train(train_set)\n",
    "    acc.append(tree.accuracy(test_set))\n",
    "    leaves.append(tree.get_nb_leaves())\n",
    "    depth.append(tree.get_depth())\n",
    "    ratio.append(tree.get_ratio_non_monotone_pairs())\n",
    "    pairs.append(tree.get_total_pairs())\n",
    "    evaluation.append(tree.evaluate_monotonicity())\n",
    "    p_ratio.append(tree.pairs_ratio())\n",
    "    nb_examples.append(tree.get_total_examples_ratio())    \n",
    "        \n",
    "avg_accuracy = np.mean(acc)\n",
    "std_accuracy = np.std(acc)\n",
    "avg_leaves = np.mean(leaves)\n",
    "std_leaves = np.std(leaves)\n",
    "avg_depth = np.mean(depth)\n",
    "std_depth = np.std(depth)\n",
    "avg_ratio = np.mean(ratio)\n",
    "std_ratio = np.std(ratio)\n",
    "avg_pairs = np.mean(pairs)\n",
    "std_pairs = np.std(pairs)\n",
    "avg_eval = np.mean(evaluation)\n",
    "std_eval = np.std(evaluation)\n",
    "avg_pratio = np.mean(p_ratio)\n",
    "std_pratio = np.std(p_ratio)\n",
    "avg_nb_examples = np.mean(nb_examples)\n",
    "std_nb_examples = np.std(nb_examples)"
   ]
  },
  {
   "cell_type": "code",
   "execution_count": 26,
   "metadata": {},
   "outputs": [],
   "source": [
    "acc2 = avg_accuracy\n",
    "std_acc2 = std_accuracy\n",
    "depth2 = avg_depth\n",
    "std_depth2 = std_depth\n",
    "leaves2 = avg_leaves\n",
    "std_leaves2 = std_leaves\n",
    "ratio2 = avg_ratio\n",
    "std_ratio2 = std_ratio\n",
    "pairs2 = avg_pairs\n",
    "std_pairs2 = std_pairs\n",
    "eval2 = avg_eval\n",
    "std_eval2 = std_eval\n",
    "pratio2 = avg_pratio\n",
    "std_pratio2 = std_pratio\n",
    "nb_examples2 = avg_nb_examples\n",
    "std_nb_examples2 = std_nb_examples"
   ]
  },
  {
   "cell_type": "code",
   "execution_count": 27,
   "metadata": {},
   "outputs": [
    {
     "name": "stdout",
     "output_type": "stream",
     "text": [
      "average accuracy :  0.5631428571428572\n",
      "standard deviation of accuracy:  0.14086293815954135\n",
      "average depth :  20.4\n",
      "standard deviation of depth:  1.3564659966250538\n",
      "average number of leaves :  129.8\n",
      "standard deviation of number of leaves:  4.643274706497559\n",
      "average ratio between number of pairwise non-monotone label comparisons and number of pairs :  0.8448524255753173\n",
      "standard deviation of ratio:  0.030718893971221396\n",
      "average number of pairs used for ratio computing :  31.6\n",
      "standard deviation of number of pairs:  3.1048349392520045\n",
      "average rank shannon evaluation :  0.010715581976505429\n",
      "standard deviation of evaluation :  0.0010739079781237819\n",
      "average pairs ratio :  0.2451302385082696\n",
      "standard deviation of pairs ratio :  0.01940812256410602\n"
     ]
    }
   ],
   "source": [
    "# Rank Gini discrimination measure\n",
    "acc = []\n",
    "leaves = []\n",
    "depth = []\n",
    "ratio = []\n",
    "pairs = []\n",
    "evaluation = []\n",
    "p_ratio = []\n",
    "nb_examples = []\n",
    "\n",
    "for i in range(10):\n",
    "    test_set = folds[i]\n",
    "    train_set = LabeledSet(9)\n",
    "    for j in range(0, 10):\n",
    "        if i != j:\n",
    "            train_set.addExamples(folds[j].x, folds[j].y)\n",
    "    tree = RDMT(rgdm, \"shannon\", 0, 100, 0.01 * train_set.size(), [1, 2])\n",
    "    tree.train(train_set)\n",
    "    acc.append(tree.accuracy(test_set))\n",
    "    leaves.append(tree.get_nb_leaves())\n",
    "    depth.append(tree.get_depth())\n",
    "    ratio.append(tree.get_ratio_non_monotone_pairs())\n",
    "    pairs.append(tree.get_total_pairs())\n",
    "    evaluation.append(tree.evaluate_monotonicity())\n",
    "    p_ratio.append(tree.pairs_ratio())\n",
    "    nb_examples.append(tree.get_total_examples_ratio())    \n",
    "        \n",
    "avg_accuracy = np.mean(acc)\n",
    "std_accuracy = np.std(acc)\n",
    "avg_leaves = np.mean(leaves)\n",
    "std_leaves = np.std(leaves)\n",
    "avg_depth = np.mean(depth)\n",
    "std_depth = np.std(depth)\n",
    "avg_ratio = np.mean(ratio)\n",
    "std_ratio = np.std(ratio)\n",
    "avg_pairs = np.mean(pairs)\n",
    "std_pairs = np.std(pairs)\n",
    "avg_eval = np.mean(evaluation)\n",
    "std_eval = np.std(evaluation)\n",
    "avg_pratio = np.mean(p_ratio)\n",
    "std_pratio = np.std(p_ratio)\n",
    "avg_nb_examples = np.mean(nb_examples)\n",
    "std_nb_examples = np.std(nb_examples)\n",
    "\n",
    "print(\"average accuracy : \", avg_accuracy)\n",
    "print(\"standard deviation of accuracy: \", std_accuracy)\n",
    "print(\"average depth : \", avg_depth)\n",
    "print(\"standard deviation of depth: \", std_depth)\n",
    "print(\"average number of leaves : \", avg_leaves)\n",
    "print(\"standard deviation of number of leaves: \", std_leaves)\n",
    "print(\"average ratio between number of pairwise non-monotone label comparisons and number of pairs : \", avg_ratio)\n",
    "print(\"standard deviation of ratio: \", std_ratio)\n",
    "print(\"average number of pairs used for ratio computing : \", avg_pairs)\n",
    "print(\"standard deviation of number of pairs: \", std_pairs)\n",
    "print(\"average rank shannon evaluation : \", avg_eval)\n",
    "print(\"standard deviation of evaluation : \", std_eval)\n",
    "print(\"average pairs ratio : \", avg_pratio)\n",
    "print(\"standard deviation of pairs ratio : \", std_pratio)"
   ]
  },
  {
   "cell_type": "code",
   "execution_count": 28,
   "metadata": {},
   "outputs": [],
   "source": [
    "acc3 = avg_accuracy\n",
    "std_acc3 = std_accuracy\n",
    "depth3 = avg_depth\n",
    "std_depth3 = std_depth\n",
    "leaves3 = avg_leaves\n",
    "std_leaves3 = std_leaves\n",
    "ratio3 = avg_ratio\n",
    "std_ratio3 = std_ratio\n",
    "pairs3 = avg_pairs\n",
    "std_pairs3 = std_pairs\n",
    "eval3 = avg_eval\n",
    "std_eval3 = std_eval\n",
    "pratio3 = avg_pratio\n",
    "std_pratio3 = std_pratio\n",
    "nb_examples3 = avg_nb_examples\n",
    "std_nb_examples3 = std_nb_examples"
   ]
  },
  {
   "cell_type": "code",
   "execution_count": 29,
   "metadata": {},
   "outputs": [
    {
     "name": "stdout",
     "output_type": "stream",
     "text": [
      "average accuracy :  0.6202857142857143\n",
      "standard deviation of accuracy:  0.0809605598109225\n",
      "average depth :  15.1\n",
      "standard deviation of depth:  1.445683229480096\n",
      "average number of leaves :  80.1\n",
      "standard deviation of number of leaves:  4.253234063627348\n",
      "average ratio between number of pairwise non-monotone label comparisons and number of pairs :  0.7844082679926052\n",
      "standard deviation of ratio:  0.03875207805224243\n",
      "average number of pairs used for ratio computing :  20.6\n",
      "standard deviation of number of pairs:  1.685229954635272\n",
      "average rank shannon evaluation :  0.013546737577153323\n",
      "standard deviation of evaluation :  0.0022884732748316996\n",
      "average pairs ratio :  0.260391181579752\n",
      "standard deviation of pairs ratio :  0.015876341957413234\n"
     ]
    }
   ],
   "source": [
    "# Gini discrimination measure\n",
    "acc = []\n",
    "leaves = []\n",
    "depth = []\n",
    "ratio = []\n",
    "pairs = []\n",
    "evaluation = []\n",
    "p_ratio = []\n",
    "nb_examples = []\n",
    "\n",
    "for i in range(10):\n",
    "    test_set = folds[i]\n",
    "    train_set = LabeledSet(9)\n",
    "    for j in range(0, 10):\n",
    "        if i != j:\n",
    "            train_set.addExamples(folds[j].x, folds[j].y)\n",
    "    tree = RDMT(gdm, \"shannon\", 0, 100, 0.01 * train_set.size(), [1, 2])\n",
    "    tree.train(train_set)\n",
    "    acc.append(tree.accuracy(test_set))\n",
    "    leaves.append(tree.get_nb_leaves())\n",
    "    depth.append(tree.get_depth())\n",
    "    ratio.append(tree.get_ratio_non_monotone_pairs())\n",
    "    pairs.append(tree.get_total_pairs())\n",
    "    evaluation.append(tree.evaluate_monotonicity())\n",
    "    p_ratio.append(tree.pairs_ratio())\n",
    "    nb_examples.append(tree.get_total_examples_ratio())    \n",
    "        \n",
    "avg_accuracy = np.mean(acc)\n",
    "std_accuracy = np.std(acc)\n",
    "avg_leaves = np.mean(leaves)\n",
    "std_leaves = np.std(leaves)\n",
    "avg_depth = np.mean(depth)\n",
    "std_depth = np.std(depth)\n",
    "avg_ratio = np.mean(ratio)\n",
    "std_ratio = np.std(ratio)\n",
    "avg_pairs = np.mean(pairs)\n",
    "std_pairs = np.std(pairs)\n",
    "avg_eval = np.mean(evaluation)\n",
    "std_eval = np.std(evaluation)\n",
    "avg_pratio = np.mean(p_ratio)\n",
    "std_pratio = np.std(p_ratio)\n",
    "avg_nb_examples = np.mean(nb_examples)\n",
    "std_nb_examples = np.std(nb_examples)\n",
    "\n",
    "print(\"average accuracy : \", avg_accuracy)\n",
    "print(\"standard deviation of accuracy: \", std_accuracy)\n",
    "print(\"average depth : \", avg_depth)\n",
    "print(\"standard deviation of depth: \", std_depth)\n",
    "print(\"average number of leaves : \", avg_leaves)\n",
    "print(\"standard deviation of number of leaves: \", std_leaves)\n",
    "print(\"average ratio between number of pairwise non-monotone label comparisons and number of pairs : \", avg_ratio)\n",
    "print(\"standard deviation of ratio: \", std_ratio)\n",
    "print(\"average number of pairs used for ratio computing : \", avg_pairs)\n",
    "print(\"standard deviation of number of pairs: \", std_pairs)\n",
    "print(\"average rank shannon evaluation : \", avg_eval)\n",
    "print(\"standard deviation of evaluation : \", std_eval)\n",
    "print(\"average pairs ratio : \", avg_pratio)\n",
    "print(\"standard deviation of pairs ratio : \", std_pratio)"
   ]
  },
  {
   "cell_type": "code",
   "execution_count": 30,
   "metadata": {},
   "outputs": [],
   "source": [
    "acc4 = avg_accuracy\n",
    "std_acc4 = std_accuracy\n",
    "depth4 = avg_depth\n",
    "std_depth4 = std_depth\n",
    "leaves4 = avg_leaves\n",
    "std_leaves4 = std_leaves\n",
    "ratio4 = avg_ratio\n",
    "std_ratio4 = std_ratio\n",
    "pairs4 = avg_pairs\n",
    "std_pairs4 = std_pairs\n",
    "eval4 = avg_eval\n",
    "std_eval4 = std_eval\n",
    "pratio4 = avg_pratio\n",
    "std_pratio4 = std_pratio\n",
    "nb_examples4 = avg_nb_examples\n",
    "std_nb_examples4 = std_nb_examples"
   ]
  },
  {
   "cell_type": "code",
   "execution_count": 31,
   "metadata": {},
   "outputs": [
    {
     "name": "stdout",
     "output_type": "stream",
     "text": [
      "average accuracy :  0.6032857142857143\n",
      "standard deviation of accuracy:  0.14756949245030568\n",
      "average depth :  19.7\n",
      "standard deviation of depth:  2.238302928559939\n",
      "average number of leaves :  114.9\n",
      "standard deviation of number of leaves:  5.337602458033007\n",
      "average ratio between number of pairwise non-monotone label comparisons and number of pairs :  0.8679830432842481\n",
      "standard deviation of ratio:  0.028623804940284717\n",
      "average number of pairs used for ratio computing :  28.3\n",
      "standard deviation of number of pairs:  2.0024984394500787\n",
      "average rank shannon evaluation :  0.01201176702423026\n",
      "standard deviation of evaluation :  0.0010873918349210956\n",
      "average pairs ratio :  0.2484990441863971\n",
      "standard deviation of pairs ratio :  0.013352556973233417\n"
     ]
    }
   ],
   "source": [
    "# Pessimistic rank discrimination measure\n",
    "acc = []\n",
    "leaves = []\n",
    "depth = []\n",
    "ratio = []\n",
    "pairs = []\n",
    "evaluation = []\n",
    "p_ratio = []\n",
    "nb_examples = []\n",
    "\n",
    "for i in range(10):\n",
    "    test_set = folds[i]\n",
    "    train_set = LabeledSet(9)\n",
    "    for j in range(0, 10):\n",
    "        if i != j:\n",
    "            train_set.addExamples(folds[j].x, folds[j].y)\n",
    "    tree = RDMT(prdm, \"shannon\", 0, 100, 0.01 * train_set.size(), [1, 2])\n",
    "    tree.train(train_set)\n",
    "    acc.append(tree.accuracy(test_set))\n",
    "    leaves.append(tree.get_nb_leaves())\n",
    "    depth.append(tree.get_depth())\n",
    "    ratio.append(tree.get_ratio_non_monotone_pairs())\n",
    "    pairs.append(tree.get_total_pairs())\n",
    "    evaluation.append(tree.evaluate_monotonicity())\n",
    "    p_ratio.append(tree.pairs_ratio())\n",
    "    nb_examples.append(tree.get_total_examples_ratio())    \n",
    "        \n",
    "avg_accuracy = np.mean(acc)\n",
    "std_accuracy = np.std(acc)\n",
    "avg_leaves = np.mean(leaves)\n",
    "std_leaves = np.std(leaves)\n",
    "avg_depth = np.mean(depth)\n",
    "std_depth = np.std(depth)\n",
    "avg_ratio = np.mean(ratio)\n",
    "std_ratio = np.std(ratio)\n",
    "avg_pairs = np.mean(pairs)\n",
    "std_pairs = np.std(pairs)\n",
    "avg_eval = np.mean(evaluation)\n",
    "std_eval = np.std(evaluation)\n",
    "avg_pratio = np.mean(p_ratio)\n",
    "std_pratio = np.std(p_ratio)\n",
    "avg_nb_examples = np.mean(nb_examples)\n",
    "std_nb_examples = np.std(nb_examples)\n",
    "\n",
    "print(\"average accuracy : \", avg_accuracy)\n",
    "print(\"standard deviation of accuracy: \", std_accuracy)\n",
    "print(\"average depth : \", avg_depth)\n",
    "print(\"standard deviation of depth: \", std_depth)\n",
    "print(\"average number of leaves : \", avg_leaves)\n",
    "print(\"standard deviation of number of leaves: \", std_leaves)\n",
    "print(\"average ratio between number of pairwise non-monotone label comparisons and number of pairs : \", avg_ratio)\n",
    "print(\"standard deviation of ratio: \", std_ratio)\n",
    "print(\"average number of pairs used for ratio computing : \", avg_pairs)\n",
    "print(\"standard deviation of number of pairs: \", std_pairs)\n",
    "print(\"average rank shannon evaluation : \", avg_eval)\n",
    "print(\"standard deviation of evaluation : \", std_eval)\n",
    "print(\"average pairs ratio : \", avg_pratio)\n",
    "print(\"standard deviation of pairs ratio : \", std_pratio)"
   ]
  },
  {
   "cell_type": "code",
   "execution_count": 32,
   "metadata": {},
   "outputs": [],
   "source": [
    "acc5 = avg_accuracy\n",
    "std_acc5 = std_accuracy\n",
    "depth5 = avg_depth\n",
    "std_depth5 = std_depth\n",
    "leaves5 = avg_leaves\n",
    "std_leaves5 = std_leaves\n",
    "ratio5 = avg_ratio\n",
    "std_ratio5 = std_ratio\n",
    "pairs5 = avg_pairs\n",
    "std_pairs5 = std_pairs\n",
    "eval5 = avg_eval\n",
    "std_eval5 = std_eval\n",
    "pratio5 = avg_pratio\n",
    "std_pratio5 = std_pratio\n",
    "nb_examples5 = avg_nb_examples\n",
    "std_nb_examples5 = std_nb_examples"
   ]
  },
  {
   "cell_type": "code",
   "execution_count": 33,
   "metadata": {},
   "outputs": [
    {
     "name": "stdout",
     "output_type": "stream",
     "text": [
      "average accuracy :  0.5801428571428572\n",
      "standard deviation of accuracy:  0.08817758056493565\n",
      "average depth :  20.8\n",
      "standard deviation of depth:  1.6\n",
      "average number of leaves :  127.1\n",
      "standard deviation of number of leaves:  5.448853090330111\n",
      "average ratio between number of pairwise non-monotone label comparisons and number of pairs :  0.8366744756804998\n",
      "standard deviation of ratio:  0.018024719133031563\n",
      "average number of pairs used for ratio computing :  32.4\n",
      "standard deviation of number of pairs:  1.6852299546352716\n",
      "average rank shannon evaluation :  0.00934407450702405\n",
      "standard deviation of evaluation :  0.0006518545022760916\n",
      "average pairs ratio :  0.25715387867445083\n",
      "standard deviation of pairs ratio :  0.012738339989374273\n"
     ]
    }
   ],
   "source": [
    "# H_M\n",
    "acc = []\n",
    "leaves = []\n",
    "depth = []\n",
    "ratio = []\n",
    "pairs = []\n",
    "evaluation = []\n",
    "p_ratio = []\n",
    "nb_examples = []\n",
    "\n",
    "for i in range(10):\n",
    "    test_set = folds[i]\n",
    "    train_set = LabeledSet(9)\n",
    "    for j in range(0, 10):\n",
    "        if i != j:\n",
    "            train_set.addExamples(folds[j].x, folds[j].y)\n",
    "    tree = RDMT(H_m, \"shannon\", 0, 100, 0.01 * train_set.size(), [1, 2])\n",
    "    tree.train(train_set)\n",
    "    acc.append(tree.accuracy(test_set))\n",
    "    leaves.append(tree.get_nb_leaves())\n",
    "    depth.append(tree.get_depth())\n",
    "    ratio.append(tree.get_ratio_non_monotone_pairs())\n",
    "    pairs.append(tree.get_total_pairs())\n",
    "    evaluation.append(tree.evaluate_monotonicity())\n",
    "    p_ratio.append(tree.pairs_ratio())\n",
    "    nb_examples.append(tree.get_total_examples_ratio())    \n",
    "        \n",
    "avg_accuracy = np.mean(acc)\n",
    "std_accuracy = np.std(acc)\n",
    "avg_leaves = np.mean(leaves)\n",
    "std_leaves = np.std(leaves)\n",
    "avg_depth = np.mean(depth)\n",
    "std_depth = np.std(depth)\n",
    "avg_ratio = np.mean(ratio)\n",
    "std_ratio = np.std(ratio)\n",
    "avg_pairs = np.mean(pairs)\n",
    "std_pairs = np.std(pairs)\n",
    "avg_eval = np.mean(evaluation)\n",
    "std_eval = np.std(evaluation)\n",
    "avg_pratio = np.mean(p_ratio)\n",
    "std_pratio = np.std(p_ratio)\n",
    "avg_nb_examples = np.mean(nb_examples)\n",
    "std_nb_examples = np.std(nb_examples)\n",
    "\n",
    "print(\"average accuracy : \", avg_accuracy)\n",
    "print(\"standard deviation of accuracy: \", std_accuracy)\n",
    "print(\"average depth : \", avg_depth)\n",
    "print(\"standard deviation of depth: \", std_depth)\n",
    "print(\"average number of leaves : \", avg_leaves)\n",
    "print(\"standard deviation of number of leaves: \", std_leaves)\n",
    "print(\"average ratio between number of pairwise non-monotone label comparisons and number of pairs : \", avg_ratio)\n",
    "print(\"standard deviation of ratio: \", std_ratio)\n",
    "print(\"average number of pairs used for ratio computing : \", avg_pairs)\n",
    "print(\"standard deviation of number of pairs: \", std_pairs)\n",
    "print(\"average rank shannon evaluation : \", avg_eval)\n",
    "print(\"standard deviation of evaluation : \", std_eval)\n",
    "print(\"average pairs ratio : \", avg_pratio)\n",
    "print(\"standard deviation of pairs ratio : \", std_pratio)"
   ]
  },
  {
   "cell_type": "code",
   "execution_count": 34,
   "metadata": {},
   "outputs": [],
   "source": [
    "acc6 = avg_accuracy\n",
    "std_acc6 = std_accuracy\n",
    "depth6 = avg_depth\n",
    "std_depth6 = std_depth\n",
    "leaves6 = avg_leaves\n",
    "std_leaves6 = std_leaves\n",
    "ratio6 = avg_ratio\n",
    "std_ratio6 = std_ratio\n",
    "pairs6 = avg_pairs\n",
    "std_pairs6 = std_pairs\n",
    "eval6 = avg_eval\n",
    "std_eval6 = std_eval\n",
    "pratio6 = avg_pratio\n",
    "std_pratio6 = std_pratio\n",
    "nb_examples6 = avg_nb_examples\n",
    "std_nb_examples6 = std_nb_examples"
   ]
  },
  {
   "cell_type": "code",
   "execution_count": 35,
   "metadata": {},
   "outputs": [
    {
     "name": "stdout",
     "output_type": "stream",
     "text": [
      "average accuracy :  0.5305714285714286\n",
      "standard deviation of accuracy:  0.12004794960382136\n",
      "average depth :  20.1\n",
      "standard deviation of depth:  1.5779733838059502\n",
      "average number of leaves :  134.9\n",
      "standard deviation of number of leaves:  5.664803615307418\n",
      "average ratio between number of pairwise non-monotone label comparisons and number of pairs :  0.8167997386370882\n",
      "standard deviation of ratio:  0.028054610148286727\n",
      "average number of pairs used for ratio computing :  36.3\n",
      "standard deviation of number of pairs:  2.609597670139978\n",
      "average rank shannon evaluation :  0.009581579308618894\n",
      "standard deviation of evaluation :  0.0010426231613106694\n",
      "average pairs ratio :  0.271300583485729\n",
      "standard deviation of pairs ratio :  0.018433547505678185\n"
     ]
    }
   ],
   "source": [
    "# H_Q\n",
    "acc = []\n",
    "leaves = []\n",
    "depth = []\n",
    "ratio = []\n",
    "pairs = []\n",
    "evaluation = []\n",
    "p_ratio = []\n",
    "nb_examples = []\n",
    "\n",
    "for i in range(10):\n",
    "    test_set = folds[i]\n",
    "    train_set = LabeledSet(9)\n",
    "    for j in range(0, 10):\n",
    "        if i != j:\n",
    "            train_set.addExamples(folds[j].x, folds[j].y)\n",
    "    tree = RDMT(H_q, \"shannon\", 0, 100, 0.01 * train_set.size(), [1, 2])\n",
    "    tree.train(train_set)\n",
    "    acc.append(tree.accuracy(test_set))\n",
    "    leaves.append(tree.get_nb_leaves())\n",
    "    depth.append(tree.get_depth())\n",
    "    ratio.append(tree.get_ratio_non_monotone_pairs())\n",
    "    pairs.append(tree.get_total_pairs())\n",
    "    evaluation.append(tree.evaluate_monotonicity())\n",
    "    p_ratio.append(tree.pairs_ratio())\n",
    "    nb_examples.append(tree.get_total_examples_ratio())    \n",
    "        \n",
    "avg_accuracy = np.mean(acc)\n",
    "std_accuracy = np.std(acc)\n",
    "avg_leaves = np.mean(leaves)\n",
    "std_leaves = np.std(leaves)\n",
    "avg_depth = np.mean(depth)\n",
    "std_depth = np.std(depth)\n",
    "avg_ratio = np.mean(ratio)\n",
    "std_ratio = np.std(ratio)\n",
    "avg_pairs = np.mean(pairs)\n",
    "std_pairs = np.std(pairs)\n",
    "avg_eval = np.mean(evaluation)\n",
    "std_eval = np.std(evaluation)\n",
    "avg_pratio = np.mean(p_ratio)\n",
    "std_pratio = np.std(p_ratio)\n",
    "avg_nb_examples = np.mean(nb_examples)\n",
    "std_nb_examples = np.std(nb_examples)\n",
    "\n",
    "\n",
    "print(\"average accuracy : \", avg_accuracy)\n",
    "print(\"standard deviation of accuracy: \", std_accuracy)\n",
    "print(\"average depth : \", avg_depth)\n",
    "print(\"standard deviation of depth: \", std_depth)\n",
    "print(\"average number of leaves : \", avg_leaves)\n",
    "print(\"standard deviation of number of leaves: \", std_leaves)\n",
    "print(\"average ratio between number of pairwise non-monotone label comparisons and number of pairs : \", avg_ratio)\n",
    "print(\"standard deviation of ratio: \", std_ratio)\n",
    "print(\"average number of pairs used for ratio computing : \", avg_pairs)\n",
    "print(\"standard deviation of number of pairs: \", std_pairs)\n",
    "print(\"average rank shannon evaluation : \", avg_eval)\n",
    "print(\"standard deviation of evaluation : \", std_eval)\n",
    "print(\"average pairs ratio : \", avg_pratio)\n",
    "print(\"standard deviation of pairs ratio : \", std_pratio)"
   ]
  },
  {
   "cell_type": "code",
   "execution_count": 36,
   "metadata": {},
   "outputs": [],
   "source": [
    "acc7 = avg_accuracy\n",
    "std_acc7 = std_accuracy\n",
    "depth7 = avg_depth\n",
    "std_depth7 = std_depth\n",
    "leaves7 = avg_leaves\n",
    "std_leaves7 = std_leaves\n",
    "ratio7 = avg_ratio\n",
    "std_ratio7 = std_ratio\n",
    "pairs7 = avg_pairs\n",
    "std_pairs7 = std_pairs\n",
    "eval7 = avg_eval\n",
    "std_eval7 = std_eval\n",
    "pratio7 = avg_pratio\n",
    "std_pratio7 = std_pratio\n",
    "nb_examples7 = avg_nb_examples\n",
    "std_nb_examples7 = std_nb_examples"
   ]
  },
  {
   "cell_type": "code",
   "execution_count": 37,
   "metadata": {},
   "outputs": [],
   "source": [
    "acc = [acc1, acc2, acc3, acc4, acc5, acc6, acc7]\n",
    "std_acc = [std_acc1, std_acc2, std_acc3,std_acc4, std_acc5, std_acc6, std_acc7]\n",
    "depth = [depth1, depth2, depth3, depth4, depth5, depth6, depth7]\n",
    "std_depth = [std_depth1, std_depth2, std_depth3, std_depth4, std_depth5, std_depth6, std_depth7]\n",
    "leaves = [leaves1, leaves2, leaves3, leaves4, leaves5, leaves6, leaves7]\n",
    "std_leaves = [std_leaves1, std_leaves2, std_leaves3, std_leaves4, std_leaves5, std_leaves6, std_leaves7]\n",
    "ratio = [ratio1, ratio2, ratio3, ratio4, ratio5, ratio6, ratio7]\n",
    "std_ratio = [std_ratio1, std_ratio2, std_ratio3, std_ratio4, std_ratio5, std_ratio6, std_ratio7]\n",
    "pairs = [pairs1, pairs2, pairs3, pairs4, pairs5, pairs6, pairs7]\n",
    "std_pairs = [std_pairs1, std_pairs2, std_pairs3, std_pairs4, std_pairs5, std_pairs6, std_pairs7]\n",
    "evaluations = [eval1, eval2, eval3, eval4, eval5, eval6, eval7]\n",
    "std_eval = [std_eval1, std_eval2, std_eval3, std_eval4, std_eval5, std_eval6, std_eval7]\n",
    "pratio = [pratio1, pratio2, pratio3, pratio4, pratio5, pratio6, pratio7]\n",
    "std_pratio = [std_pratio1, std_pratio2, std_pratio3, std_pratio4, std_pratio5, std_pratio6, std_pratio7]\n",
    "nb_examples = [nb_examples1, nb_examples2, nb_examples3, nb_examples4, nb_examples5, nb_examples6, nb_examples7]\n",
    "std_nb_examples = [std_nb_examples1, std_nb_examples2, std_nb_examples3, std_nb_examples4, std_nb_examples5, std_nb_examples6, std_nb_examples7]"
   ]
  },
  {
   "cell_type": "code",
   "execution_count": 38,
   "metadata": {},
   "outputs": [],
   "source": [
    "s_cci = \"\"\n",
    "for i in range(7):\n",
    "    s_cci += \"& \" + \"{0:.2f}\".format(acc[i] * 100) + \" \\% $\\pm$ \" + \"{0:.2f}\".format(std_acc[i]) + \" \\% \""
   ]
  },
  {
   "cell_type": "code",
   "execution_count": 39,
   "metadata": {},
   "outputs": [],
   "source": [
    "s_depth = \"\"\n",
    "for i in range(7):\n",
    "    s_depth += \"& \" + \"{0:.2f}\".format(depth[i]) + \" $\\pm$ \" + \"{0:.2f}\".format(std_depth[i]) + \"\""
   ]
  },
  {
   "cell_type": "code",
   "execution_count": 40,
   "metadata": {},
   "outputs": [],
   "source": [
    "s_leaves = \"\"\n",
    "for i in range(7):\n",
    "    s_leaves += \"& \" + \"{0:.2f}\".format(leaves[i]) + \" $\\pm$ \" + \"{0:.2f}\".format(std_leaves[i]) + \"\""
   ]
  },
  {
   "cell_type": "code",
   "execution_count": 41,
   "metadata": {},
   "outputs": [],
   "source": [
    "s_ratio = \"\"\n",
    "for i in range(7):\n",
    "    s_ratio += \"& \" + \"{0:.2f}\".format(ratio[i] * 100) + \" \\% $\\pm$ \" + \"{0:.2f}\".format(std_ratio[i] * 100) + \" \\%\""
   ]
  },
  {
   "cell_type": "code",
   "execution_count": 42,
   "metadata": {},
   "outputs": [],
   "source": [
    "s_pairs = \"\"\n",
    "for i in range(7):\n",
    "    s_pairs += \"& \" + \"{0:.2f}\".format(pairs[i]) + \" $\\pm$ \" + \"{0:.2f}\".format(std_pairs[i]) + \"\""
   ]
  },
  {
   "cell_type": "code",
   "execution_count": 43,
   "metadata": {},
   "outputs": [],
   "source": [
    "s_eval = \"\"\n",
    "for i in range(7):\n",
    "    s_eval += \"& \" + \"{0:.2f}\".format(evaluations[i]) + \" $\\pm$ \" + \"{0:.2f}\".format(std_eval[i]) + \"\""
   ]
  },
  {
   "cell_type": "code",
   "execution_count": 44,
   "metadata": {},
   "outputs": [],
   "source": [
    "s_pratio = \"\"\n",
    "for i in range(7):\n",
    "    s_pratio += \"& \" + \"{0:.2f}\".format(pratio[i]) + \" $\\pm$ \" + \"{0:.2f}\".format(std_pratio[i]) + \"\""
   ]
  },
  {
   "cell_type": "code",
   "execution_count": 45,
   "metadata": {},
   "outputs": [],
   "source": [
    "s_nb_examples = \"\"\n",
    "for i in range(7):\n",
    "    s_nb_examples += \"& \" + \"{0:.2f}\".format(nb_examples[i]) + \" $\\pm$ \" + \"{0:.2f}\".format(std_nb_examples[i]) + \"\""
   ]
  },
  {
   "cell_type": "code",
   "execution_count": 46,
   "metadata": {},
   "outputs": [
    {
     "name": "stdout",
     "output_type": "stream",
     "text": [
      "CCI  & 56.67 \\% $\\pm$ 0.15 \\% & 61.99 \\% $\\pm$ 0.11 \\% & 56.31 \\% $\\pm$ 0.14 \\% & 62.03 \\% $\\pm$ 0.08 \\% & 60.33 \\% $\\pm$ 0.15 \\% & 58.01 \\% $\\pm$ 0.09 \\% & 53.06 \\% $\\pm$ 0.12 \\% \n",
      "avgDepth  & 20.00 $\\pm$ 1.48& 16.60 $\\pm$ 1.74& 20.40 $\\pm$ 1.36& 15.10 $\\pm$ 1.45& 19.70 $\\pm$ 2.24& 20.80 $\\pm$ 1.60& 20.10 $\\pm$ 1.58\n",
      "avgLeaves  & 129.20 $\\pm$ 4.71& 81.60 $\\pm$ 5.99& 129.80 $\\pm$ 4.64& 80.10 $\\pm$ 4.25& 114.90 $\\pm$ 5.34& 127.10 $\\pm$ 5.45& 134.90 $\\pm$ 5.66\n",
      "avgRatio  & 84.51 \\% $\\pm$ 2.87 \\%& 80.15 \\% $\\pm$ 4.76 \\%& 84.49 \\% $\\pm$ 3.07 \\%& 78.44 \\% $\\pm$ 3.88 \\%& 86.80 \\% $\\pm$ 2.86 \\%& 83.67 \\% $\\pm$ 1.80 \\%& 81.68 \\% $\\pm$ 2.81 \\%\n",
      "avgNbPairs  & 31.90 $\\pm$ 2.91& 18.90 $\\pm$ 1.81& 31.60 $\\pm$ 3.10& 20.60 $\\pm$ 1.69& 28.30 $\\pm$ 2.00& 32.40 $\\pm$ 1.69& 36.30 $\\pm$ 2.61\n",
      "avgEval  & 0.01 $\\pm$ 0.00& 0.02 $\\pm$ 0.00& 0.01 $\\pm$ 0.00& 0.01 $\\pm$ 0.00& 0.01 $\\pm$ 0.00& 0.01 $\\pm$ 0.00& 0.01 $\\pm$ 0.00\n",
      "avgPairRatio  & 0.25 $\\pm$ 0.02& 0.23 $\\pm$ 0.02& 0.25 $\\pm$ 0.02& 0.26 $\\pm$ 0.02& 0.25 $\\pm$ 0.01& 0.26 $\\pm$ 0.01& 0.27 $\\pm$ 0.02\n",
      "avgNbExamples  & 125.60 $\\pm$ 9.68& 78.20 $\\pm$ 12.38& 124.90 $\\pm$ 10.13& 85.80 $\\pm$ 8.01& 122.00 $\\pm$ 5.51& 139.10 $\\pm$ 6.02& 139.10 $\\pm$ 8.94\n"
     ]
    }
   ],
   "source": [
    "print(\"CCI \", s_cci)\n",
    "print(\"avgDepth \", s_depth)\n",
    "print(\"avgLeaves \", s_leaves)\n",
    "print(\"avgRatio \", s_ratio)\n",
    "print(\"avgNbPairs \", s_pairs)\n",
    "print(\"avgEval \", s_eval)\n",
    "print(\"avgPairRatio \", s_pratio)\n",
    "print(\"avgNbExamples \", s_nb_examples)"
   ]
  }
 ],
 "metadata": {
  "kernelspec": {
   "display_name": "Python 3",
   "language": "python",
   "name": "python3"
  },
  "language_info": {
   "codemirror_mode": {
    "name": "ipython",
    "version": 3
   },
   "file_extension": ".py",
   "mimetype": "text/x-python",
   "name": "python",
   "nbconvert_exporter": "python",
   "pygments_lexer": "ipython3",
   "version": "3.6.6"
  }
 },
 "nbformat": 4,
 "nbformat_minor": 2
}
