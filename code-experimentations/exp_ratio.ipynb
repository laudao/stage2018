{
 "cells": [
  {
   "cell_type": "code",
   "execution_count": 33,
   "metadata": {},
   "outputs": [
    {
     "name": "stdout",
     "output_type": "stream",
     "text": [
      "The autoreload extension is already loaded. To reload it, use:\n",
      "  %reload_ext autoreload\n"
     ]
    }
   ],
   "source": [
    "%load_ext autoreload\n",
    "%autoreload 2"
   ]
  },
  {
   "cell_type": "code",
   "execution_count": 34,
   "metadata": {},
   "outputs": [],
   "source": [
    "%matplotlib inline"
   ]
  },
  {
   "cell_type": "code",
   "execution_count": 35,
   "metadata": {},
   "outputs": [],
   "source": [
    "from utils import *"
   ]
  },
  {
   "cell_type": "code",
   "execution_count": 48,
   "metadata": {},
   "outputs": [],
   "source": [
    "dataset = LabeledSet(1)\n",
    "\n",
    "for i in range(0, 50):\n",
    "    dataset.addExample([random.randint(0,4)],1)\n",
    "for i in range(0, 50):\n",
    "    dataset.addExample([random.randint(5, 9)], 2)"
   ]
  },
  {
   "cell_type": "code",
   "execution_count": 49,
   "metadata": {},
   "outputs": [
    {
     "data": {
      "text/plain": [
       "50"
      ]
     },
     "execution_count": 49,
     "metadata": {},
     "output_type": "execute_result"
    }
   ],
   "source": [
    "np.count_nonzero(dataset.y == 2)"
   ]
  },
  {
   "cell_type": "code",
   "execution_count": null,
   "metadata": {},
   "outputs": [],
   "source": [
    "dataset_inf = LabeledSet(1)\n",
    "dataset_sup = LabeledSet(1)\n",
    "\n",
    "dataset_inf.addExamples(dataset.x[:50],dataset.y[:50])\n",
    "dataset_sup.addExamples(dataset.x[50:],dataset.y[50:])"
   ]
  },
  {
   "cell_type": "code",
   "execution_count": 39,
   "metadata": {},
   "outputs": [],
   "source": [
    "g = Log()\n",
    "h = Sum()\n",
    "\n",
    "# rank Shannon discrimination measure\n",
    "f_r = Dsr()\n",
    "rsdm = Gdm(h, g, f_r)\n",
    "\n",
    "# conditional Shannon entropy\n",
    "f = Ds()\n",
    "sdm = Gdm(h, g, f)"
   ]
  },
  {
   "cell_type": "code",
   "execution_count": 40,
   "metadata": {},
   "outputs": [],
   "source": [
    "node = BinaryTree()\n",
    "node.attribute = 0\n",
    "node.threshold = 5\n",
    "\n",
    "inf_leaf = BinaryTree()\n",
    "inf_leaf.addLeaf(1, dataset_inf)\n",
    "sup_leaf = BinaryTree()\n",
    "sup_leaf.addLeaf(2, dataset_sup)\n",
    "\n",
    "node.inf = inf_leaf\n",
    "node.sup = sup_leaf\n",
    "\n",
    "t = RDMT(rsdm, \"shannon\", 0, 100, 0.1 * dataset.size(), [1, 2])\n",
    "t.root = node\n",
    "t.labeled_set = dataset"
   ]
  },
  {
   "cell_type": "code",
   "execution_count": 41,
   "metadata": {},
   "outputs": [
    {
     "data": {
      "text/plain": [
       "0.0"
      ]
     },
     "execution_count": 41,
     "metadata": {},
     "output_type": "execute_result"
    }
   ],
   "source": [
    "NMI1(t.labeled_set)"
   ]
  },
  {
   "cell_type": "code",
   "execution_count": 42,
   "metadata": {},
   "outputs": [
    {
     "data": {
      "text/plain": [
       "0.0"
      ]
     },
     "execution_count": 42,
     "metadata": {},
     "output_type": "execute_result"
    }
   ],
   "source": [
    "t.get_ratio_non_monotone_pairs()"
   ]
  },
  {
   "cell_type": "code",
   "execution_count": 43,
   "metadata": {},
   "outputs": [],
   "source": [
    "def swap_examples(node):\n",
    "    inf_set = node.inf.labeled_set\n",
    "    sup_set = node.sup.labeled_set\n",
    "    \n",
    "    while True:\n",
    "        r1 = np.random.choice(np.arange(0, 50))\n",
    "        r2 = np.random.choice(np.arange(0, 50))\n",
    "        y1 = inf_set.getY(r1)[0]\n",
    "        y2 = sup_set.getY(r2)[0]\n",
    "        if y1 < y2:\n",
    "            break\n",
    "    inf_set.y[r1] = y2\n",
    "    sup_set.y[r2] = y1\n",
    "    return inf_set, sup_set"
   ]
  },
  {
   "cell_type": "code",
   "execution_count": 44,
   "metadata": {},
   "outputs": [],
   "source": [
    "ratio = []\n",
    "nmi = []\n",
    "for i in range(0,50):\n",
    "    if i > 0:\n",
    "        inf_set, sup_set = swap_examples(t.root)\n",
    "        t.root.inf.labeled_set = inf_set\n",
    "        t.root.sup.labeled_set = sup_set\n",
    "    ratio.append(t.get_ratio_non_monotone_pairs())\n",
    "    #nmi.append(NMI1(t.labeled_set))"
   ]
  },
  {
   "cell_type": "code",
   "execution_count": 45,
   "metadata": {},
   "outputs": [
    {
     "data": {
      "text/plain": [
       "0.4917171717171717"
      ]
     },
     "execution_count": 45,
     "metadata": {},
     "output_type": "execute_result"
    }
   ],
   "source": [
    "NMI1(dataset)"
   ]
  },
  {
   "cell_type": "code",
   "execution_count": 47,
   "metadata": {},
   "outputs": [
    {
     "data": {
      "text/plain": [
       "array([[4],\n",
       "       [2],\n",
       "       [0],\n",
       "       [4],\n",
       "       [3],\n",
       "       [1],\n",
       "       [1],\n",
       "       [2],\n",
       "       [2],\n",
       "       [4],\n",
       "       [2],\n",
       "       [4],\n",
       "       [3],\n",
       "       [4],\n",
       "       [4],\n",
       "       [0],\n",
       "       [2],\n",
       "       [2],\n",
       "       [1],\n",
       "       [0],\n",
       "       [3],\n",
       "       [3],\n",
       "       [4],\n",
       "       [1],\n",
       "       [2],\n",
       "       [2],\n",
       "       [1],\n",
       "       [0],\n",
       "       [4],\n",
       "       [4],\n",
       "       [0],\n",
       "       [4],\n",
       "       [0],\n",
       "       [2],\n",
       "       [3],\n",
       "       [2],\n",
       "       [2],\n",
       "       [2],\n",
       "       [4],\n",
       "       [1],\n",
       "       [2],\n",
       "       [1],\n",
       "       [4],\n",
       "       [3],\n",
       "       [2],\n",
       "       [2],\n",
       "       [4],\n",
       "       [4],\n",
       "       [2],\n",
       "       [4],\n",
       "       [7],\n",
       "       [8],\n",
       "       [7],\n",
       "       [9],\n",
       "       [9],\n",
       "       [6],\n",
       "       [5],\n",
       "       [7],\n",
       "       [6],\n",
       "       [9],\n",
       "       [9],\n",
       "       [8],\n",
       "       [6],\n",
       "       [6],\n",
       "       [8],\n",
       "       [6],\n",
       "       [6],\n",
       "       [8],\n",
       "       [8],\n",
       "       [6],\n",
       "       [6],\n",
       "       [8],\n",
       "       [8],\n",
       "       [6],\n",
       "       [9],\n",
       "       [9],\n",
       "       [7],\n",
       "       [9],\n",
       "       [9],\n",
       "       [5],\n",
       "       [7],\n",
       "       [5],\n",
       "       [6],\n",
       "       [7],\n",
       "       [6],\n",
       "       [8],\n",
       "       [5],\n",
       "       [5],\n",
       "       [9],\n",
       "       [5],\n",
       "       [5],\n",
       "       [5],\n",
       "       [6],\n",
       "       [8],\n",
       "       [8],\n",
       "       [8],\n",
       "       [6],\n",
       "       [8],\n",
       "       [5],\n",
       "       [8]])"
      ]
     },
     "execution_count": 47,
     "metadata": {},
     "output_type": "execute_result"
    }
   ],
   "source": [
    "dataset.x"
   ]
  },
  {
   "cell_type": "code",
   "execution_count": 29,
   "metadata": {},
   "outputs": [
    {
     "data": {
      "text/plain": [
       "[<matplotlib.lines.Line2D at 0x7fbc60d08860>]"
      ]
     },
     "execution_count": 29,
     "metadata": {},
     "output_type": "execute_result"
    },
    {
     "data": {
      "image/png": "[encoded data removed]",
      "text/plain": [
       "<Figure size 432x288 with 1 Axes>"
      ]
     },
     "metadata": {},
     "output_type": "display_data"
    }
   ],
   "source": [
    "plt.plot(ratio)"
   ]
  }
 ],
 "metadata": {
  "kernelspec": {
   "display_name": "Python 3",
   "language": "python",
   "name": "python3"
  },
  "language_info": {
   "codemirror_mode": {
    "name": "ipython",
    "version": 3
   },
   "file_extension": ".py",
   "mimetype": "text/x-python",
   "name": "python",
   "nbconvert_exporter": "python",
   "pygments_lexer": "ipython3",
   "version": "3.6.6"
  }
 },
 "nbformat": 4,
 "nbformat_minor": 2
}
