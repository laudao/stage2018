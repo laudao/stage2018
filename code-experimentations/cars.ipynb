{
 "cells": [
  {
   "cell_type": "code",
   "execution_count": 1,
   "metadata": {},
   "outputs": [],
   "source": [
    "%load_ext autoreload\n",
    "%autoreload 2\n",
    "from utils import *"
   ]
  },
  {
   "cell_type": "code",
   "execution_count": 2,
   "metadata": {},
   "outputs": [],
   "source": [
    "df = pd.read_csv(\"csv/cars.csv\")"
   ]
  },
  {
   "cell_type": "code",
   "execution_count": 3,
   "metadata": {},
   "outputs": [
    {
     "data": {
      "text/html": [
       "<div>\n",
       "<style scoped>\n",
       "    .dataframe tbody tr th:only-of-type {\n",
       "        vertical-align: middle;\n",
       "    }\n",
       "\n",
       "    .dataframe tbody tr th {\n",
       "        vertical-align: top;\n",
       "    }\n",
       "\n",
       "    .dataframe thead th {\n",
       "        text-align: right;\n",
       "    }\n",
       "</style>\n",
       "<table border=\"1\" class=\"dataframe\">\n",
       "  <thead>\n",
       "    <tr style=\"text-align: right;\">\n",
       "      <th></th>\n",
       "      <th>buying</th>\n",
       "      <th>maint</th>\n",
       "      <th>doors</th>\n",
       "      <th>persons</th>\n",
       "      <th>lug_boot</th>\n",
       "      <th>safety</th>\n",
       "      <th>class</th>\n",
       "    </tr>\n",
       "  </thead>\n",
       "  <tbody>\n",
       "    <tr>\n",
       "      <th>1197</th>\n",
       "      <td>med</td>\n",
       "      <td>low</td>\n",
       "      <td>2</td>\n",
       "      <td>4</td>\n",
       "      <td>small</td>\n",
       "      <td>low</td>\n",
       "      <td>unacc</td>\n",
       "    </tr>\n",
       "    <tr>\n",
       "      <th>1324</th>\n",
       "      <td>low</td>\n",
       "      <td>vhigh</td>\n",
       "      <td>3</td>\n",
       "      <td>2</td>\n",
       "      <td>small</td>\n",
       "      <td>med</td>\n",
       "      <td>unacc</td>\n",
       "    </tr>\n",
       "    <tr>\n",
       "      <th>187</th>\n",
       "      <td>vhigh</td>\n",
       "      <td>high</td>\n",
       "      <td>4</td>\n",
       "      <td>more</td>\n",
       "      <td>big</td>\n",
       "      <td>med</td>\n",
       "      <td>unacc</td>\n",
       "    </tr>\n",
       "    <tr>\n",
       "      <th>1312</th>\n",
       "      <td>low</td>\n",
       "      <td>vhigh</td>\n",
       "      <td>2</td>\n",
       "      <td>4</td>\n",
       "      <td>big</td>\n",
       "      <td>med</td>\n",
       "      <td>acc</td>\n",
       "    </tr>\n",
       "    <tr>\n",
       "      <th>415</th>\n",
       "      <td>vhigh</td>\n",
       "      <td>low</td>\n",
       "      <td>5more</td>\n",
       "      <td>4</td>\n",
       "      <td>small</td>\n",
       "      <td>med</td>\n",
       "      <td>unacc</td>\n",
       "    </tr>\n",
       "  </tbody>\n",
       "</table>\n",
       "</div>"
      ],
      "text/plain": [
       "     buying  maint  doors persons lug_boot safety  class\n",
       "1197    med    low      2       4    small    low  unacc\n",
       "1324    low  vhigh      3       2    small    med  unacc\n",
       "187   vhigh   high      4    more      big    med  unacc\n",
       "1312    low  vhigh      2       4      big    med    acc\n",
       "415   vhigh    low  5more       4    small    med  unacc"
      ]
     },
     "execution_count": 3,
     "metadata": {},
     "output_type": "execute_result"
    }
   ],
   "source": [
    "df.sample(5)"
   ]
  },
  {
   "cell_type": "code",
   "execution_count": 4,
   "metadata": {},
   "outputs": [
    {
     "data": {
      "text/plain": [
       "Index(['buying', 'maint', 'doors', 'persons', 'lug_boot', 'safety', 'class'], dtype='object')"
      ]
     },
     "execution_count": 4,
     "metadata": {},
     "output_type": "execute_result"
    }
   ],
   "source": [
    "df.columns"
   ]
  },
  {
   "cell_type": "code",
   "execution_count": 5,
   "metadata": {},
   "outputs": [
    {
     "name": "stdout",
     "output_type": "stream",
     "text": [
      "buying :  ['high' 'low' 'med' 'vhigh']\n",
      "maint :  ['high' 'low' 'med' 'vhigh']\n",
      "doors :  ['2' '3' '4' '5more']\n",
      "persons :  ['2' '4' 'more']\n",
      "lug_boot :  ['big' 'med' 'small']\n",
      "safety :  ['high' 'low' 'med']\n",
      "class :  ['acc' 'good' 'unacc' 'vgood']\n"
     ]
    }
   ],
   "source": [
    "print(\"buying : \", np.unique(df['buying'].values))\n",
    "print(\"maint : \", np.unique(df['maint'].values))\n",
    "print(\"doors : \", np.unique(df['doors'].values))\n",
    "print(\"persons : \", np.unique(df['persons'].values))\n",
    "print(\"lug_boot : \", np.unique(df['lug_boot'].values))\n",
    "print(\"safety : \", np.unique(df['safety'].values))\n",
    "print(\"class : \", np.unique(df['class'].values))"
   ]
  },
  {
   "cell_type": "code",
   "execution_count": 6,
   "metadata": {},
   "outputs": [],
   "source": [
    "df.loc[df['class'] == 'unacc','class'] = 1\n",
    "df.loc[df['class'] == 'acc','class'] = 2\n",
    "df.loc[df['class'] == 'good','class'] = 3\n",
    "df.loc[df['class'] == 'vgood','class'] = 4"
   ]
  },
  {
   "cell_type": "code",
   "execution_count": 7,
   "metadata": {},
   "outputs": [],
   "source": [
    "df.loc[df['buying'] == 'low','buying'] = 1\n",
    "df.loc[df['buying'] == 'med','buying'] = 2\n",
    "df.loc[df['buying'] == 'high','buying'] = 3\n",
    "df.loc[df['buying'] == 'vhigh','buying'] = 4"
   ]
  },
  {
   "cell_type": "code",
   "execution_count": 8,
   "metadata": {},
   "outputs": [],
   "source": [
    "df.loc[df['maint'] == 'low','maint'] = 1\n",
    "df.loc[df['maint'] == 'med','maint'] = 2\n",
    "df.loc[df['maint'] == 'high','maint'] = 3\n",
    "df.loc[df['maint'] == 'vhigh','maint'] = 4"
   ]
  },
  {
   "cell_type": "code",
   "execution_count": 9,
   "metadata": {},
   "outputs": [],
   "source": [
    "df.loc[df['doors'] == '2','doors'] = 1\n",
    "df.loc[df['doors'] == '3','doors'] = 2\n",
    "df.loc[df['doors'] == '4','doors'] = 3\n",
    "df.loc[df['doors'] == '5more','doors'] = 4"
   ]
  },
  {
   "cell_type": "code",
   "execution_count": 10,
   "metadata": {},
   "outputs": [],
   "source": [
    "df.loc[df['persons'] == '2','persons'] = 1\n",
    "df.loc[df['persons'] == '4','persons'] = 2\n",
    "df.loc[df['persons'] == 'more','persons'] = 3"
   ]
  },
  {
   "cell_type": "code",
   "execution_count": 11,
   "metadata": {},
   "outputs": [],
   "source": [
    "df.loc[df['lug_boot'] == 'small','lug_boot'] = 1\n",
    "df.loc[df['lug_boot'] == 'med','lug_boot'] = 2\n",
    "df.loc[df['lug_boot'] == 'big','lug_boot'] = 3"
   ]
  },
  {
   "cell_type": "code",
   "execution_count": 12,
   "metadata": {},
   "outputs": [],
   "source": [
    "df.loc[df['safety'] == 'low','safety'] = 1\n",
    "df.loc[df['safety'] == 'med','safety'] = 2\n",
    "df.loc[df['safety'] == 'high','safety'] = 3"
   ]
  },
  {
   "cell_type": "code",
   "execution_count": 13,
   "metadata": {},
   "outputs": [
    {
     "name": "stdout",
     "output_type": "stream",
     "text": [
      "buying :  [1 2 3 4]\n",
      "maint :  [1 2 3 4]\n",
      "doors :  [1 2 3 4]\n",
      "persons :  [1 2 3]\n",
      "lug_boot :  [1 2 3]\n",
      "safety :  [1 2 3]\n",
      "class :  [1 2 3 4]\n"
     ]
    }
   ],
   "source": [
    "print(\"buying : \", np.unique(df['buying'].values))\n",
    "print(\"maint : \", np.unique(df['maint'].values))\n",
    "print(\"doors : \", np.unique(df['doors'].values))\n",
    "print(\"persons : \", np.unique(df['persons'].values))\n",
    "print(\"lug_boot : \", np.unique(df['lug_boot'].values))\n",
    "print(\"safety : \", np.unique(df['safety'].values))\n",
    "print(\"class : \", np.unique(df['class'].values))"
   ]
  },
  {
   "cell_type": "code",
   "execution_count": 14,
   "metadata": {},
   "outputs": [],
   "source": [
    "g = Log()\n",
    "h = Sum()\n",
    "\n",
    "# rank Shannon discrimination measure\n",
    "f_r = Dsr()\n",
    "rsdm = Gdm(h, g, f_r)\n",
    "\n",
    "# conditional Shannon entropy\n",
    "f = Ds()\n",
    "sdm = Gdm(h, g, f)\n",
    "\n",
    "# pessimistic rank discrimination measure\n",
    "f_p = Mindsr()\n",
    "g_p = Frac() \n",
    "prdm = Gdm(h, g_p, f_p)\n",
    "\n",
    "# rank Gini discrimination measure \n",
    "g_g = One_minus()\n",
    "rgdm = Gdm(h, g_g, f_r)\n",
    "\n",
    "# H_M\n",
    "h_m = Max()\n",
    "g_m = One_minus_square()\n",
    "H_m = Gdm(h_m, g_m, f_r)\n",
    "\n",
    "# Gini discrimination measure\n",
    "gdm = Gdm(h, g_g, f)\n",
    "\n",
    "# H_Q\n",
    "f_q = Avgdsr()\n",
    "h_q = Square_root()\n",
    "H_q = Gdm(h_q, g_g, f_q)"
   ]
  },
  {
   "cell_type": "code",
   "execution_count": 15,
   "metadata": {},
   "outputs": [],
   "source": [
    "vectors = df.values"
   ]
  },
  {
   "cell_type": "code",
   "execution_count": 16,
   "metadata": {},
   "outputs": [],
   "source": [
    "dataset = LabeledSet(6)\n",
    "dataset.addExamples(vectors[:,0:6], vectors[:,6:])"
   ]
  },
  {
   "cell_type": "code",
   "execution_count": 17,
   "metadata": {},
   "outputs": [
    {
     "data": {
      "text/plain": [
       "0.01403699950674473"
      ]
     },
     "execution_count": 17,
     "metadata": {},
     "output_type": "execute_result"
    }
   ],
   "source": [
    "NMI1(dataset)"
   ]
  },
  {
   "cell_type": "code",
   "execution_count": 18,
   "metadata": {},
   "outputs": [],
   "source": [
    "folds = get_folds(dataset, 4)"
   ]
  },
  {
   "cell_type": "code",
   "execution_count": 19,
   "metadata": {},
   "outputs": [],
   "source": [
    "nb_folds = 4"
   ]
  },
  {
   "cell_type": "code",
   "execution_count": 20,
   "metadata": {},
   "outputs": [],
   "source": [
    "acc_list = []\n",
    "std_acc_list = []\n",
    "depth_list = []\n",
    "std_depth_list = []\n",
    "leaves_list =  []\n",
    "std_leaves_list = []\n",
    "ratio_list = []\n",
    "std_ratio_list = []\n",
    "pairs_list = []\n",
    "std_pairs_list = []\n",
    "evaluations_list = []\n",
    "std_eval_list = []\n",
    "pratio_list = []\n",
    "std_pratio_list = []\n",
    "nb_examples_list = []\n",
    "std_nb_examples_list = []"
   ]
  },
  {
   "cell_type": "code",
   "execution_count": 21,
   "metadata": {},
   "outputs": [],
   "source": [
    "# Rank Shannon discrimination measure\n",
    "acc = []\n",
    "leaves = []\n",
    "depth = []\n",
    "ratio = []\n",
    "pairs = []\n",
    "evaluation = []\n",
    "p_ratio = []\n",
    "nb_examples = []\n",
    "\n",
    "for i in range(nb_folds):\n",
    "    test_set = folds[i]\n",
    "    train_set = LabeledSet(6)\n",
    "    for j in range(0, nb_folds):\n",
    "        if i != j:\n",
    "            train_set.addExamples(folds[j].x, folds[j].y)\n",
    "    tree = RDMT(rsdm, \"shannon\", 0, 100, 0.01 * train_set.size(), [1, 2, 3, 4])\n",
    "    tree.train(train_set)\n",
    "    acc.append(tree.accuracy(test_set))\n",
    "    leaves.append(tree.get_nb_leaves())\n",
    "    depth.append(tree.get_depth())\n",
    "    ratio.append(tree.get_ratio_non_monotone_pairs())\n",
    "    pairs.append(tree.get_total_pairs())\n",
    "    evaluation.append(tree.evaluate_monotonicity())\n",
    "    p_ratio.append(tree.pairs_ratio())\n",
    "    nb_examples.append(tree.get_total_examples_ratio())    \n",
    "    \n",
    "avg_accuracy = np.mean(acc)\n",
    "std_accuracy = np.std(acc)\n",
    "avg_leaves = np.mean(leaves)\n",
    "std_leaves = np.std(leaves)\n",
    "avg_depth = np.mean(depth)\n",
    "std_depth = np.std(depth)\n",
    "avg_ratio = np.mean(ratio)\n",
    "std_ratio = np.std(ratio)\n",
    "avg_pairs = np.mean(pairs)\n",
    "std_pairs = np.std(pairs)\n",
    "avg_eval = np.mean(evaluation)\n",
    "std_eval = np.std(evaluation)\n",
    "avg_pratio = np.mean(p_ratio)\n",
    "std_pratio = np.std(p_ratio)\n",
    "avg_nb_examples = np.mean(nb_examples)\n",
    "std_nb_examples = np.std(nb_examples)\n",
    "\n",
    "acc_list.append(avg_accuracy)\n",
    "std_acc_list.append(std_accuracy)\n",
    "\n",
    "depth_list.append(avg_depth)\n",
    "std_depth_list.append(std_depth)\n",
    "\n",
    "leaves_list.append(avg_leaves)\n",
    "std_leaves_list.append(std_leaves)\n",
    "\n",
    "ratio_list.append(avg_ratio)\n",
    "std_ratio_list.append(std_ratio)\n",
    "\n",
    "pairs_list.append(avg_pairs)\n",
    "std_pairs_list.append(std_pairs)\n",
    "\n",
    "evaluations_list.append(avg_eval)\n",
    "std_eval_list.append(std_eval)\n",
    "\n",
    "pratio_list.append(avg_pratio)\n",
    "std_pratio_list.append(std_pratio)\n",
    "\n",
    "nb_examples_list.append(avg_nb_examples)\n",
    "std_nb_examples_list.append(std_nb_examples)\n",
    "# print(\"average accuracy : \", avg_accuracy)\n",
    "# print(\"standard deviation of accuracy : \", std_accuracy)\n",
    "# print(\"average depth : \", avg_depth)\n",
    "# print(\"standard deviation of depth : \", std_depth)\n",
    "# print(\"average number of leaves : \", avg_leaves)\n",
    "# print(\"standard deviation of number of leaves : \", std_leaves)\n",
    "# print(\"average ratio between number of pairwise non-monotone label comparisons and number of pairs : \", avg_ratio)\n",
    "# print(\"standard deviation of ratio : \", std_ratio)\n",
    "# print(\"average number of pairs used for ratio computing : \", avg_pairs)\n",
    "# print(\"standard deviation of number of pairs : \", std_pairs)"
   ]
  },
  {
   "cell_type": "code",
   "execution_count": 22,
   "metadata": {},
   "outputs": [],
   "source": [
    "# Shannon entropy\n",
    "acc = []\n",
    "leaves = []\n",
    "depth = []\n",
    "ratio = []\n",
    "pairs = []\n",
    "evaluation = []\n",
    "p_ratio = []\n",
    "nb_examples = []\n",
    "\n",
    "for i in range(nb_folds):\n",
    "    test_set = folds[i]\n",
    "    train_set = LabeledSet(6)\n",
    "    for j in range(0, nb_folds):\n",
    "        if i != j:\n",
    "            train_set.addExamples(folds[j].x, folds[j].y)\n",
    "    tree = RDMT(sdm, \"shannon\", 0, 100, 0.01 * train_set.size(), [1, 2, 3, 4])\n",
    "    tree.train(train_set)\n",
    "    acc.append(tree.accuracy(test_set))\n",
    "    leaves.append(tree.get_nb_leaves())\n",
    "    depth.append(tree.get_depth())\n",
    "    ratio.append(tree.get_ratio_non_monotone_pairs())\n",
    "    pairs.append(tree.get_total_pairs())\n",
    "    evaluation.append(tree.evaluate_monotonicity())\n",
    "    p_ratio.append(tree.pairs_ratio())\n",
    "    nb_examples.append(tree.get_total_examples_ratio())    \n",
    "    \n",
    "avg_accuracy = np.mean(acc)\n",
    "std_accuracy = np.std(acc)\n",
    "avg_leaves = np.mean(leaves)\n",
    "std_leaves = np.std(leaves)\n",
    "avg_depth = np.mean(depth)\n",
    "std_depth = np.std(depth)\n",
    "avg_ratio = np.mean(ratio)\n",
    "std_ratio = np.std(ratio)\n",
    "avg_pairs = np.mean(pairs)\n",
    "std_pairs = np.std(pairs)\n",
    "avg_eval = np.mean(evaluation)\n",
    "std_eval = np.std(evaluation)\n",
    "avg_pratio = np.mean(p_ratio)\n",
    "std_pratio = np.std(p_ratio)\n",
    "avg_nb_examples = np.mean(nb_examples)\n",
    "std_nb_examples = np.std(nb_examples)\n",
    "\n",
    "acc_list.append(avg_accuracy)\n",
    "std_acc_list.append(std_accuracy)\n",
    "\n",
    "depth_list.append(avg_depth)\n",
    "std_depth_list.append(std_depth)\n",
    "\n",
    "leaves_list.append(avg_leaves)\n",
    "std_leaves_list.append(std_leaves)\n",
    "\n",
    "ratio_list.append(avg_ratio)\n",
    "std_ratio_list.append(std_ratio)\n",
    "\n",
    "pairs_list.append(avg_pairs)\n",
    "std_pairs_list.append(std_pairs)\n",
    "\n",
    "evaluations_list.append(avg_eval)\n",
    "std_eval_list.append(std_eval)\n",
    "\n",
    "pratio_list.append(avg_pratio)\n",
    "std_pratio_list.append(std_pratio)\n",
    "\n",
    "nb_examples_list.append(avg_nb_examples)\n",
    "std_nb_examples_list.append(std_nb_examples)"
   ]
  },
  {
   "cell_type": "code",
   "execution_count": 23,
   "metadata": {},
   "outputs": [],
   "source": [
    "# Rank Gini discrimination measure\n",
    "acc = []\n",
    "leaves = []\n",
    "depth = []\n",
    "ratio = []\n",
    "pairs = []\n",
    "evaluation = []\n",
    "p_ratio = []\n",
    "nb_examples = []\n",
    "\n",
    "for i in range(nb_folds):\n",
    "    test_set = folds[i]\n",
    "    train_set = LabeledSet(6)\n",
    "    for j in range(0, nb_folds):\n",
    "        if i != j:\n",
    "            train_set.addExamples(folds[j].x, folds[j].y)\n",
    "    tree = RDMT(rgdm, \"shannon\", 0, 100, 0.01 * train_set.size(), [1, 2, 3, 4])\n",
    "    tree.train(train_set)\n",
    "    acc.append(tree.accuracy(test_set))\n",
    "    leaves.append(tree.get_nb_leaves())\n",
    "    depth.append(tree.get_depth())\n",
    "    ratio.append(tree.get_ratio_non_monotone_pairs())\n",
    "    pairs.append(tree.get_total_pairs())\n",
    "    evaluation.append(tree.evaluate_monotonicity())\n",
    "    p_ratio.append(tree.pairs_ratio())\n",
    "    nb_examples.append(tree.get_total_examples_ratio())    \n",
    "    \n",
    "avg_accuracy = np.mean(acc)\n",
    "std_accuracy = np.std(acc)\n",
    "avg_leaves = np.mean(leaves)\n",
    "std_leaves = np.std(leaves)\n",
    "avg_depth = np.mean(depth)\n",
    "std_depth = np.std(depth)\n",
    "avg_ratio = np.mean(ratio)\n",
    "std_ratio = np.std(ratio)\n",
    "avg_pairs = np.mean(pairs)\n",
    "std_pairs = np.std(pairs)\n",
    "avg_eval = np.mean(evaluation)\n",
    "std_eval = np.std(evaluation)\n",
    "avg_pratio = np.mean(p_ratio)\n",
    "std_pratio = np.std(p_ratio)\n",
    "avg_nb_examples = np.mean(nb_examples)\n",
    "std_nb_examples = np.std(nb_examples)\n",
    "\n",
    "acc_list.append(avg_accuracy)\n",
    "std_acc_list.append(std_accuracy)\n",
    "\n",
    "depth_list.append(avg_depth)\n",
    "std_depth_list.append(std_depth)\n",
    "\n",
    "leaves_list.append(avg_leaves)\n",
    "std_leaves_list.append(std_leaves)\n",
    "\n",
    "ratio_list.append(avg_ratio)\n",
    "std_ratio_list.append(std_ratio)\n",
    "\n",
    "pairs_list.append(avg_pairs)\n",
    "std_pairs_list.append(std_pairs)\n",
    "\n",
    "evaluations_list.append(avg_eval)\n",
    "std_eval_list.append(std_eval)\n",
    "\n",
    "pratio_list.append(avg_pratio)\n",
    "std_pratio_list.append(std_pratio)\n",
    "\n",
    "nb_examples_list.append(avg_nb_examples)\n",
    "std_nb_examples_list.append(std_nb_examples)\n",
    "# print(\"average accuracy : \", avg_accuracy)\n",
    "# print(\"standard deviation of accuracy : \", std_accuracy)\n",
    "# print(\"average depth : \", avg_depth)\n",
    "# print(\"standard deviation of depth : \", std_depth)\n",
    "# print(\"average number of leaves : \", avg_leaves)\n",
    "# print(\"standard deviation of number of leaves : \", std_leaves)\n",
    "# print(\"average ratio between number of pairwise non-monotone label comparisons and number of pairs : \", avg_ratio)\n",
    "# print(\"standard deviation of ratio : \", std_ratio)\n",
    "# print(\"average number of pairs used for ratio computing : \", avg_pairs)\n",
    "# print(\"standard deviation of number of pairs : \", std_pairs)"
   ]
  },
  {
   "cell_type": "code",
   "execution_count": 24,
   "metadata": {},
   "outputs": [],
   "source": [
    "# Gini discrimination measure\n",
    "acc = []\n",
    "leaves = []\n",
    "depth = []\n",
    "ratio = []\n",
    "pairs = []\n",
    "evaluation = []\n",
    "p_ratio = []\n",
    "nb_examples = []\n",
    "\n",
    "for i in range(nb_folds):\n",
    "    test_set = folds[i]\n",
    "    train_set = LabeledSet(6)\n",
    "    for j in range(0, nb_folds):\n",
    "        if i != j:\n",
    "            train_set.addExamples(folds[j].x, folds[j].y)\n",
    "    tree = RDMT(gdm, \"shannon\", 0, 100, 0.01 * train_set.size(), [1, 2, 3, 4])\n",
    "    tree.train(train_set)\n",
    "    acc.append(tree.accuracy(test_set))\n",
    "    leaves.append(tree.get_nb_leaves())\n",
    "    depth.append(tree.get_depth())\n",
    "    ratio.append(tree.get_ratio_non_monotone_pairs())\n",
    "    pairs.append(tree.get_total_pairs())\n",
    "    evaluation.append(tree.evaluate_monotonicity())\n",
    "    p_ratio.append(tree.pairs_ratio())\n",
    "    nb_examples.append(tree.get_total_examples_ratio())    \n",
    "    \n",
    "avg_accuracy = np.mean(acc)\n",
    "std_accuracy = np.std(acc)\n",
    "avg_leaves = np.mean(leaves)\n",
    "std_leaves = np.std(leaves)\n",
    "avg_depth = np.mean(depth)\n",
    "std_depth = np.std(depth)\n",
    "avg_ratio = np.mean(ratio)\n",
    "std_ratio = np.std(ratio)\n",
    "avg_pairs = np.mean(pairs)\n",
    "std_pairs = np.std(pairs)\n",
    "avg_eval = np.mean(evaluation)\n",
    "std_eval = np.std(evaluation)\n",
    "avg_pratio = np.mean(p_ratio)\n",
    "std_pratio = np.std(p_ratio)\n",
    "avg_nb_examples = np.mean(nb_examples)\n",
    "std_nb_examples = np.std(nb_examples)\n",
    "\n",
    "acc_list.append(avg_accuracy)\n",
    "std_acc_list.append(std_accuracy)\n",
    "\n",
    "depth_list.append(avg_depth)\n",
    "std_depth_list.append(std_depth)\n",
    "\n",
    "leaves_list.append(avg_leaves)\n",
    "std_leaves_list.append(std_leaves)\n",
    "\n",
    "ratio_list.append(avg_ratio)\n",
    "std_ratio_list.append(std_ratio)\n",
    "\n",
    "pairs_list.append(avg_pairs)\n",
    "std_pairs_list.append(std_pairs)\n",
    "\n",
    "evaluations_list.append(avg_eval)\n",
    "std_eval_list.append(std_eval)\n",
    "\n",
    "pratio_list.append(avg_pratio)\n",
    "std_pratio_list.append(std_pratio)\n",
    "\n",
    "nb_examples_list.append(avg_nb_examples)\n",
    "std_nb_examples_list.append(std_nb_examples)\n",
    "# print(\"average accuracy : \", avg_accuracy)\n",
    "# print(\"standard deviation of accuracy : \", std_accuracy)\n",
    "# print(\"average depth : \", avg_depth)\n",
    "# print(\"standard deviation of depth : \", std_depth)\n",
    "# print(\"average number of leaves : \", avg_leaves)\n",
    "# print(\"standard deviation of number of leaves : \", std_leaves)\n",
    "# print(\"average ratio between number of pairwise non-monotone label comparisons and number of pairs : \", avg_ratio)\n",
    "# print(\"standard deviation of ratio : \", std_ratio)\n",
    "# print(\"average number of pairs used for ratio computing : \", avg_pairs)\n",
    "# print(\"standard deviation of number of pairs : \", std_pairs)"
   ]
  },
  {
   "cell_type": "code",
   "execution_count": 25,
   "metadata": {},
   "outputs": [],
   "source": [
    "# Pessimistic rank discrimination measure\n",
    "acc = []\n",
    "leaves = []\n",
    "depth = []\n",
    "ratio = []\n",
    "pairs = []\n",
    "evaluation = []\n",
    "p_ratio = []\n",
    "nb_examples = []\n",
    "\n",
    "for i in range(nb_folds):\n",
    "    test_set = folds[i]\n",
    "    train_set = LabeledSet(6)\n",
    "    for j in range(0, nb_folds):\n",
    "        if i != j:\n",
    "            train_set.addExamples(folds[j].x, folds[j].y)\n",
    "    tree = RDMT(prdm, \"shannon\", 0, 100, 0.01 * train_set.size(), [1, 2, 3, 4])\n",
    "    tree.train(train_set)\n",
    "    acc.append(tree.accuracy(test_set))\n",
    "    leaves.append(tree.get_nb_leaves())\n",
    "    depth.append(tree.get_depth())\n",
    "    ratio.append(tree.get_ratio_non_monotone_pairs())\n",
    "    pairs.append(tree.get_total_pairs())\n",
    "    evaluation.append(tree.evaluate_monotonicity())\n",
    "    p_ratio.append(tree.pairs_ratio())\n",
    "    nb_examples.append(tree.get_total_examples_ratio())    \n",
    "    \n",
    "avg_accuracy = np.mean(acc)\n",
    "std_accuracy = np.std(acc)\n",
    "avg_leaves = np.mean(leaves)\n",
    "std_leaves = np.std(leaves)\n",
    "avg_depth = np.mean(depth)\n",
    "std_depth = np.std(depth)\n",
    "avg_ratio = np.mean(ratio)\n",
    "std_ratio = np.std(ratio)\n",
    "avg_pairs = np.mean(pairs)\n",
    "std_pairs = np.std(pairs)\n",
    "avg_eval = np.mean(evaluation)\n",
    "std_eval = np.std(evaluation)\n",
    "avg_pratio = np.mean(p_ratio)\n",
    "std_pratio = np.std(p_ratio)\n",
    "avg_nb_examples = np.mean(nb_examples)\n",
    "std_nb_examples = np.std(nb_examples)\n",
    "\n",
    "acc_list.append(avg_accuracy)\n",
    "std_acc_list.append(std_accuracy)\n",
    "\n",
    "depth_list.append(avg_depth)\n",
    "std_depth_list.append(std_depth)\n",
    "\n",
    "leaves_list.append(avg_leaves)\n",
    "std_leaves_list.append(std_leaves)\n",
    "\n",
    "ratio_list.append(avg_ratio)\n",
    "std_ratio_list.append(std_ratio)\n",
    "\n",
    "pairs_list.append(avg_pairs)\n",
    "std_pairs_list.append(std_pairs)\n",
    "\n",
    "evaluations_list.append(avg_eval)\n",
    "std_eval_list.append(std_eval)\n",
    "\n",
    "pratio_list.append(avg_pratio)\n",
    "std_pratio_list.append(std_pratio)\n",
    "\n",
    "nb_examples_list.append(avg_nb_examples)\n",
    "std_nb_examples_list.append(std_nb_examples)\n",
    "# print(\"average accuracy : \", avg_accuracy)\n",
    "# print(\"standard deviation of accuracy : \", std_accuracy)\n",
    "# print(\"average depth : \", avg_depth)\n",
    "# print(\"standard deviation of depth : \", std_depth)\n",
    "# print(\"average number of leaves : \", avg_leaves)\n",
    "# print(\"standard deviation of number of leaves : \", std_leaves)\n",
    "# print(\"average ratio between number of pairwise non-monotone label comparisons and number of pairs : \", avg_ratio)\n",
    "# print(\"standard deviation of ratio : \", std_ratio)\n",
    "# print(\"average number of pairs used for ratio computing : \", avg_pairs)\n",
    "# print(\"standard deviation of number of pairs : \", std_pairs)"
   ]
  },
  {
   "cell_type": "code",
   "execution_count": 26,
   "metadata": {},
   "outputs": [],
   "source": [
    "# H_M\n",
    "acc = []\n",
    "leaves = []\n",
    "depth = []\n",
    "ratio = []\n",
    "pairs = []\n",
    "evaluation = []\n",
    "p_ratio = []\n",
    "nb_examples = []\n",
    "\n",
    "for i in range(nb_folds):\n",
    "    test_set = folds[i]\n",
    "    train_set = LabeledSet(6)\n",
    "    for j in range(0, nb_folds):\n",
    "        if i != j:\n",
    "            train_set.addExamples(folds[j].x, folds[j].y)\n",
    "    tree = RDMT(H_m, \"shannon\", 0, 100, 0.01 * train_set.size(), [1, 2, 3, 4])\n",
    "    tree.train(train_set)\n",
    "    acc.append(tree.accuracy(test_set))\n",
    "    leaves.append(tree.get_nb_leaves())\n",
    "    depth.append(tree.get_depth())\n",
    "    ratio.append(tree.get_ratio_non_monotone_pairs())\n",
    "    pairs.append(tree.get_total_pairs())\n",
    "    evaluation.append(tree.evaluate_monotonicity())\n",
    "    p_ratio.append(tree.pairs_ratio())\n",
    "    nb_examples.append(tree.get_total_examples_ratio())    \n",
    "    \n",
    "avg_accuracy = np.mean(acc)\n",
    "std_accuracy = np.std(acc)\n",
    "avg_leaves = np.mean(leaves)\n",
    "std_leaves = np.std(leaves)\n",
    "avg_depth = np.mean(depth)\n",
    "std_depth = np.std(depth)\n",
    "avg_ratio = np.mean(ratio)\n",
    "std_ratio = np.std(ratio)\n",
    "avg_pairs = np.mean(pairs)\n",
    "std_pairs = np.std(pairs)\n",
    "avg_eval = np.mean(evaluation)\n",
    "std_eval = np.std(evaluation)\n",
    "avg_pratio = np.mean(p_ratio)\n",
    "std_pratio = np.std(p_ratio)\n",
    "avg_nb_examples = np.mean(nb_examples)\n",
    "std_nb_examples = np.std(nb_examples)\n",
    "\n",
    "acc_list.append(avg_accuracy)\n",
    "std_acc_list.append(std_accuracy)\n",
    "\n",
    "depth_list.append(avg_depth)\n",
    "std_depth_list.append(std_depth)\n",
    "\n",
    "leaves_list.append(avg_leaves)\n",
    "std_leaves_list.append(std_leaves)\n",
    "\n",
    "ratio_list.append(avg_ratio)\n",
    "std_ratio_list.append(std_ratio)\n",
    "\n",
    "pairs_list.append(avg_pairs)\n",
    "std_pairs_list.append(std_pairs)\n",
    "\n",
    "evaluations_list.append(avg_eval)\n",
    "std_eval_list.append(std_eval)\n",
    "\n",
    "pratio_list.append(avg_pratio)\n",
    "std_pratio_list.append(std_pratio)\n",
    "\n",
    "nb_examples_list.append(avg_nb_examples)\n",
    "std_nb_examples_list.append(std_nb_examples)\n",
    "# print(\"average accuracy : \", avg_accuracy)\n",
    "# print(\"standard deviation of accuracy : \", std_accuracy)\n",
    "# print(\"average depth : \", avg_depth)\n",
    "# print(\"standard deviation of depth : \", std_depth)\n",
    "# print(\"average number of leaves : \", avg_leaves)\n",
    "# print(\"standard deviation of number of leaves : \", std_leaves)\n",
    "# print(\"average ratio between number of pairwise non-monotone label comparisons and number of pairs : \", avg_ratio)\n",
    "# print(\"standard deviation of ratio : \", std_ratio)\n",
    "# print(\"average number of pairs used for ratio computing : \", avg_pairs)\n",
    "# print(\"standard deviation of number of pairs : \", std_pairs)"
   ]
  },
  {
   "cell_type": "code",
   "execution_count": 27,
   "metadata": {},
   "outputs": [],
   "source": [
    "# H_Q\n",
    "acc = []\n",
    "leaves = []\n",
    "depth = []\n",
    "ratio = []\n",
    "pairs = []\n",
    "evaluation = []\n",
    "p_ratio = []\n",
    "nb_examples = []\n",
    "\n",
    "for i in range(nb_folds):\n",
    "    test_set = folds[i]\n",
    "    train_set = LabeledSet(6)\n",
    "    for j in range(0, nb_folds):\n",
    "        if i != j:\n",
    "            train_set.addExamples(folds[j].x, folds[j].y)\n",
    "    tree = RDMT(H_q, \"shannon\", 0, 100, 0.01 * train_set.size(), [1, 2, 3, 4])\n",
    "    tree.train(train_set)\n",
    "    acc.append(tree.accuracy(test_set))\n",
    "    leaves.append(tree.get_nb_leaves())\n",
    "    depth.append(tree.get_depth())\n",
    "    ratio.append(tree.get_ratio_non_monotone_pairs())\n",
    "    pairs.append(tree.get_total_pairs())\n",
    "    evaluation.append(tree.evaluate_monotonicity())\n",
    "    p_ratio.append(tree.pairs_ratio())\n",
    "    nb_examples.append(tree.get_total_examples_ratio())    \n",
    "    \n",
    "avg_accuracy = np.mean(acc)\n",
    "std_accuracy = np.std(acc)\n",
    "avg_leaves = np.mean(leaves)\n",
    "std_leaves = np.std(leaves)\n",
    "avg_depth = np.mean(depth)\n",
    "std_depth = np.std(depth)\n",
    "avg_ratio = np.mean(ratio)\n",
    "std_ratio = np.std(ratio)\n",
    "avg_pairs = np.mean(pairs)\n",
    "std_pairs = np.std(pairs)\n",
    "avg_eval = np.mean(evaluation)\n",
    "std_eval = np.std(evaluation)\n",
    "avg_pratio = np.mean(p_ratio)\n",
    "std_pratio = np.std(p_ratio)\n",
    "avg_nb_examples = np.mean(nb_examples)\n",
    "std_nb_examples = np.std(nb_examples)\n",
    "\n",
    "acc_list.append(avg_accuracy)\n",
    "std_acc_list.append(std_accuracy)\n",
    "\n",
    "depth_list.append(avg_depth)\n",
    "std_depth_list.append(std_depth)\n",
    "\n",
    "leaves_list.append(avg_leaves)\n",
    "std_leaves_list.append(std_leaves)\n",
    "\n",
    "ratio_list.append(avg_ratio)\n",
    "std_ratio_list.append(std_ratio)\n",
    "\n",
    "pairs_list.append(avg_pairs)\n",
    "std_pairs_list.append(std_pairs)\n",
    "\n",
    "evaluations_list.append(avg_eval)\n",
    "std_eval_list.append(std_eval)\n",
    "\n",
    "pratio_list.append(avg_pratio)\n",
    "std_pratio_list.append(std_pratio)\n",
    "\n",
    "nb_examples_list.append(avg_nb_examples)\n",
    "std_nb_examples_list.append(std_nb_examples)\n",
    "# print(\"average accuracy : \", avg_accuracy)\n",
    "# print(\"standard deviation of accuracy : \", std_accuracy)\n",
    "# print(\"average depth : \", avg_depth)\n",
    "# print(\"standard deviation of depth : \", std_depth)\n",
    "# print(\"average number of leaves : \", avg_leaves)\n",
    "# print(\"standard deviation of number of leaves : \", std_leaves)\n",
    "# print(\"average ratio between number of pairwise non-monotone label comparisons and number of pairs : \", avg_ratio)\n",
    "# print(\"standard deviation of ratio : \", std_ratio)\n",
    "# print(\"average number of pairs used for ratio computing : \", avg_pairs)\n",
    "# print(\"standard deviation of number of pairs : \", std_pairs)"
   ]
  },
  {
   "cell_type": "code",
   "execution_count": 28,
   "metadata": {},
   "outputs": [],
   "source": [
    "s_cci = \"\"\n",
    "for i in range(7):\n",
    "    s_cci += \"& \" + \"{0:.2f}\".format(acc_list[i] * 100) + \" \\% $\\pm$ \" + \"{0:.2f}\".format(std_acc_list[i]) + \" \\% \"\n",
    "\n",
    "s_depth = \"\"\n",
    "for i in range(7):\n",
    "    s_depth += \"& \" + \"{0:.2f}\".format(depth_list[i]) + \" $\\pm$ \" + \"{0:.2f}\".format(std_depth_list[i]) + \"\"\n",
    "\n",
    "s_leaves = \"\"\n",
    "for i in range(7):\n",
    "    s_leaves += \"& \" + \"{0:.2f}\".format(leaves_list[i]) + \" $\\pm$ \" + \"{0:.2f}\".format(std_leaves_list[i]) + \"\"\n",
    "\n",
    "s_ratio = \"\"\n",
    "for i in range(7):\n",
    "    s_ratio += \"& \" + \"{0:.2f}\".format(ratio_list[i] * 100) + \" \\% $\\pm$ \" + \"{0:.2f}\".format(std_ratio_list[i] * 100) + \" \\%\"\n",
    "    \n",
    "s_pairs = \"\"\n",
    "for i in range(7):\n",
    "    s_pairs += \"& \" + \"{0:.2f}\".format(pairs_list[i]) + \" $\\pm$ \" + \"{0:.2f}\".format(std_pairs_list[i]) + \"\"\n",
    "\n",
    "s_eval = \"\"\n",
    "for i in range(7):\n",
    "    s_eval += \"& \" + \"{0:.2f}\".format(evaluations_list[i]) + \" $\\pm$ \" + \"{0:.2f}\".format(std_eval_list[i]) + \"\"\n",
    "\n",
    "s_pratio = \"\"\n",
    "for i in range(7):\n",
    "    s_pratio += \"& \" + \"{0:.2f}\".format(pratio_list[i]) + \" $\\pm$ \" + \"{0:.2f}\".format(std_pratio_list[i]) + \"\"\n",
    "\n",
    "s_nb_examples = \"\"\n",
    "for i in range(7):\n",
    "    s_nb_examples += \"& \" + \"{0:.2f}\".format(nb_examples_list[i]) + \" $\\pm$ \" + \"{0:.2f}\".format(std_nb_examples_list[i]) + \"\""
   ]
  },
  {
   "cell_type": "code",
   "execution_count": 29,
   "metadata": {},
   "outputs": [
    {
     "name": "stdout",
     "output_type": "stream",
     "text": [
      "CCI  & 81.95 \\% $\\pm$ 0.05 \\% & 81.44 \\% $\\pm$ 0.06 \\% & 81.60 \\% $\\pm$ 0.05 \\% & 78.25 \\% $\\pm$ 0.09 \\% & 84.43 \\% $\\pm$ 0.02 \\% & 83.56 \\% $\\pm$ 0.03 \\% & 63.94 \\% $\\pm$ 0.05 \\% \n",
      "avgDepth  & 10.50 $\\pm$ 0.50& 10.75 $\\pm$ 0.43& 10.50 $\\pm$ 0.50& 10.25 $\\pm$ 0.43& 10.00 $\\pm$ 0.00& 11.00 $\\pm$ 0.00& 11.00 $\\pm$ 0.00\n",
      "avgLeaves  & 66.50 $\\pm$ 13.16& 37.25 $\\pm$ 1.30& 66.50 $\\pm$ 13.16& 38.00 $\\pm$ 1.58& 52.00 $\\pm$ 3.94& 54.00 $\\pm$ 3.74& 121.25 $\\pm$ 14.04\n",
      "avgRatio  & 82.17 \\% $\\pm$ 5.00 \\%& 83.82 \\% $\\pm$ 1.39 \\%& 82.76 \\% $\\pm$ 5.56 \\%& 84.68 \\% $\\pm$ 1.84 \\%& 79.25 \\% $\\pm$ 2.93 \\%& 77.33 \\% $\\pm$ 2.90 \\%& 52.19 \\% $\\pm$ 4.34 \\%\n",
      "avgNbPairs  & 27.75 $\\pm$ 7.36& 11.75 $\\pm$ 1.09& 27.75 $\\pm$ 7.36& 12.00 $\\pm$ 1.41& 18.25 $\\pm$ 1.92& 18.00 $\\pm$ 2.12& 46.75 $\\pm$ 8.79\n",
      "avgEval  & 0.03 $\\pm$ 0.00& 0.01 $\\pm$ 0.00& 0.03 $\\pm$ 0.00& 0.01 $\\pm$ 0.01& 0.02 $\\pm$ 0.00& 0.01 $\\pm$ 0.00& 0.01 $\\pm$ 0.00\n",
      "avgPairRatio  & 0.42 $\\pm$ 0.03& 0.32 $\\pm$ 0.02& 0.42 $\\pm$ 0.03& 0.32 $\\pm$ 0.03& 0.36 $\\pm$ 0.02& 0.34 $\\pm$ 0.03& 0.39 $\\pm$ 0.03\n",
      "avgNbExamples  & 462.00 $\\pm$ 57.47& 261.00 $\\pm$ 44.65& 460.75 $\\pm$ 57.85& 259.00 $\\pm$ 65.86& 355.75 $\\pm$ 33.24& 355.25 $\\pm$ 31.59& 806.50 $\\pm$ 86.62\n"
     ]
    }
   ],
   "source": [
    "print(\"CCI \", s_cci)\n",
    "print(\"avgDepth \", s_depth)\n",
    "print(\"avgLeaves \", s_leaves)\n",
    "print(\"avgRatio \", s_ratio)\n",
    "print(\"avgNbPairs \", s_pairs)\n",
    "print(\"avgEval \", s_eval)\n",
    "print(\"avgPairRatio \", s_pratio)\n",
    "print(\"avgNbExamples \", s_nb_examples)"
   ]
  },
  {
   "cell_type": "code",
   "execution_count": 30,
   "metadata": {},
   "outputs": [
    {
     "data": {
      "text/plain": [
       "'& 462.00 $\\\\pm$ 57.47& 261.00 $\\\\pm$ 44.65& 460.75 $\\\\pm$ 57.85& 259.00 $\\\\pm$ 65.86& 355.75 $\\\\pm$ 33.24& 355.25 $\\\\pm$ 31.59& 806.50 $\\\\pm$ 86.62'"
      ]
     },
     "execution_count": 30,
     "metadata": {},
     "output_type": "execute_result"
    }
   ],
   "source": [
    "s_nb_examples"
   ]
  },
  {
   "cell_type": "code",
   "execution_count": 31,
   "metadata": {},
   "outputs": [
    {
     "data": {
      "text/plain": [
       "'& 81.95 \\\\% $\\\\pm$ 0.05 \\\\% & 81.44 \\\\% $\\\\pm$ 0.06 \\\\% & 81.60 \\\\% $\\\\pm$ 0.05 \\\\% & 78.25 \\\\% $\\\\pm$ 0.09 \\\\% & 84.43 \\\\% $\\\\pm$ 0.02 \\\\% & 83.56 \\\\% $\\\\pm$ 0.03 \\\\% & 63.94 \\\\% $\\\\pm$ 0.05 \\\\% '"
      ]
     },
     "execution_count": 31,
     "metadata": {},
     "output_type": "execute_result"
    }
   ],
   "source": [
    "s_cci"
   ]
  },
  {
   "cell_type": "code",
   "execution_count": 32,
   "metadata": {},
   "outputs": [
    {
     "data": {
      "text/plain": [
       "'& 10.50 $\\\\pm$ 0.50& 10.75 $\\\\pm$ 0.43& 10.50 $\\\\pm$ 0.50& 10.25 $\\\\pm$ 0.43& 10.00 $\\\\pm$ 0.00& 11.00 $\\\\pm$ 0.00& 11.00 $\\\\pm$ 0.00'"
      ]
     },
     "execution_count": 32,
     "metadata": {},
     "output_type": "execute_result"
    }
   ],
   "source": [
    "s_depth"
   ]
  },
  {
   "cell_type": "code",
   "execution_count": 33,
   "metadata": {},
   "outputs": [
    {
     "data": {
      "text/plain": [
       "'& 66.50 $\\\\pm$ 13.16& 37.25 $\\\\pm$ 1.30& 66.50 $\\\\pm$ 13.16& 38.00 $\\\\pm$ 1.58& 52.00 $\\\\pm$ 3.94& 54.00 $\\\\pm$ 3.74& 121.25 $\\\\pm$ 14.04'"
      ]
     },
     "execution_count": 33,
     "metadata": {},
     "output_type": "execute_result"
    }
   ],
   "source": [
    "s_leaves"
   ]
  },
  {
   "cell_type": "code",
   "execution_count": 34,
   "metadata": {},
   "outputs": [
    {
     "data": {
      "text/plain": [
       "'& 82.17 \\\\% $\\\\pm$ 5.00 \\\\%& 83.82 \\\\% $\\\\pm$ 1.39 \\\\%& 82.76 \\\\% $\\\\pm$ 5.56 \\\\%& 84.68 \\\\% $\\\\pm$ 1.84 \\\\%& 79.25 \\\\% $\\\\pm$ 2.93 \\\\%& 77.33 \\\\% $\\\\pm$ 2.90 \\\\%& 52.19 \\\\% $\\\\pm$ 4.34 \\\\%'"
      ]
     },
     "execution_count": 34,
     "metadata": {},
     "output_type": "execute_result"
    }
   ],
   "source": [
    "s_ratio"
   ]
  },
  {
   "cell_type": "code",
   "execution_count": 35,
   "metadata": {},
   "outputs": [
    {
     "data": {
      "text/plain": [
       "'& 27.75 $\\\\pm$ 7.36& 11.75 $\\\\pm$ 1.09& 27.75 $\\\\pm$ 7.36& 12.00 $\\\\pm$ 1.41& 18.25 $\\\\pm$ 1.92& 18.00 $\\\\pm$ 2.12& 46.75 $\\\\pm$ 8.79'"
      ]
     },
     "execution_count": 35,
     "metadata": {},
     "output_type": "execute_result"
    }
   ],
   "source": [
    "s_pairs"
   ]
  },
  {
   "cell_type": "code",
   "execution_count": 36,
   "metadata": {},
   "outputs": [
    {
     "data": {
      "text/plain": [
       "'& 0.03 $\\\\pm$ 0.00& 0.01 $\\\\pm$ 0.00& 0.03 $\\\\pm$ 0.00& 0.01 $\\\\pm$ 0.01& 0.02 $\\\\pm$ 0.00& 0.01 $\\\\pm$ 0.00& 0.01 $\\\\pm$ 0.00'"
      ]
     },
     "execution_count": 36,
     "metadata": {},
     "output_type": "execute_result"
    }
   ],
   "source": [
    "s_eval"
   ]
  },
  {
   "cell_type": "code",
   "execution_count": 37,
   "metadata": {},
   "outputs": [
    {
     "data": {
      "text/plain": [
       "'& 0.42 $\\\\pm$ 0.03& 0.32 $\\\\pm$ 0.02& 0.42 $\\\\pm$ 0.03& 0.32 $\\\\pm$ 0.03& 0.36 $\\\\pm$ 0.02& 0.34 $\\\\pm$ 0.03& 0.39 $\\\\pm$ 0.03'"
      ]
     },
     "execution_count": 37,
     "metadata": {},
     "output_type": "execute_result"
    }
   ],
   "source": [
    "s_pratio"
   ]
  },
  {
   "cell_type": "code",
   "execution_count": 38,
   "metadata": {},
   "outputs": [
    {
     "data": {
      "text/plain": [
       "'& 462.00 $\\\\pm$ 57.47& 261.00 $\\\\pm$ 44.65& 460.75 $\\\\pm$ 57.85& 259.00 $\\\\pm$ 65.86& 355.75 $\\\\pm$ 33.24& 355.25 $\\\\pm$ 31.59& 806.50 $\\\\pm$ 86.62'"
      ]
     },
     "execution_count": 38,
     "metadata": {},
     "output_type": "execute_result"
    }
   ],
   "source": [
    "s_nb_examples"
   ]
  }
 ],
 "metadata": {
  "kernelspec": {
   "display_name": "Python 3",
   "language": "python",
   "name": "python3"
  },
  "language_info": {
   "codemirror_mode": {
    "name": "ipython",
    "version": 3
   },
   "file_extension": ".py",
   "mimetype": "text/x-python",
   "name": "python",
   "nbconvert_exporter": "python",
   "pygments_lexer": "ipython3",
   "version": "3.6.6"
  }
 },
 "nbformat": 4,
 "nbformat_minor": 2
}
