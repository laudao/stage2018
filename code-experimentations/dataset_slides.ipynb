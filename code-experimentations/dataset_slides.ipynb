{
 "cells": [
  {
   "cell_type": "code",
   "execution_count": 1,
   "metadata": {},
   "outputs": [],
   "source": [
    "%load_ext autoreload\n",
    "%autoreload 2"
   ]
  },
  {
   "cell_type": "code",
   "execution_count": 2,
   "metadata": {},
   "outputs": [],
   "source": [
    "%matplotlib inline"
   ]
  },
  {
   "cell_type": "code",
   "execution_count": 3,
   "metadata": {},
   "outputs": [],
   "source": [
    "from utils import *"
   ]
  },
  {
   "cell_type": "code",
   "execution_count": 29,
   "metadata": {},
   "outputs": [],
   "source": [
    "g = Log()\n",
    "h = Sum()\n",
    "\n",
    "# rank Shannon discrimination measure\n",
    "f_r = Dsr()\n",
    "rsdm = Gdm(h, g, f_r)\n",
    "\n",
    "# conditional Shannon entropy\n",
    "f = Ds()\n",
    "sdm = Gdm(h, g, f)"
   ]
  },
  {
   "cell_type": "code",
   "execution_count": 131,
   "metadata": {},
   "outputs": [],
   "source": [
    "dataset = LabeledSet(2)\n",
    "\n",
    "for i in range(0, 20):\n",
    "    dataset.addExample([random.uniform(0,4), random.uniform(10,14)],1)\n",
    "# dataset.addExample([3, 4],1)\n",
    "\n",
    "for i in range(0, 20):\n",
    "    dataset.addExample([random.uniform(5,9), random.uniform(0,4)],2)\n",
    "# dataset.addExample([8, 9],2)\n",
    "\n",
    "for i in range(0, 20):\n",
    "    dataset.addExample([random.uniform(10,14), random.uniform(5,9)],3)\n",
    "# dataset.addExample([12, 0],3)"
   ]
  },
  {
   "cell_type": "code",
   "execution_count": 132,
   "metadata": {},
   "outputs": [
    {
     "data": {
      "image/png": "[encoded data removed]",
      "text/plain": [
       "<Figure size 432x288 with 1 Axes>"
      ]
     },
     "metadata": {},
     "output_type": "display_data"
    }
   ],
   "source": [
    "plot2DSet(dataset, \"\")"
   ]
  },
  {
   "cell_type": "code",
   "execution_count": 136,
   "metadata": {},
   "outputs": [
    {
     "name": "stdout",
     "output_type": "stream",
     "text": [
      "entropy generated by rsdm on axis 0:  0.19498750024038541\n",
      "entropy generated by sdm on axis 0:  0.6666666666666666\n"
     ]
    }
   ],
   "source": [
    "threshold_r, entropy_r = discretize(rsdm, dataset, 0)\n",
    "print(\"entropy generated by rsdm on axis 0: \", entropy_r)\n",
    "\n",
    "threshold_nr, entropy_nr = discretize(sdm, dataset, 0)\n",
    "print(\"entropy generated by sdm on axis 0: \", entropy_nr)"
   ]
  },
  {
   "cell_type": "code",
   "execution_count": 138,
   "metadata": {},
   "outputs": [
    {
     "data": {
      "image/png": "[encoded data removed]",
      "text/plain": [
       "<Figure size 432x288 with 1 Axes>"
      ]
     },
     "metadata": {},
     "output_type": "display_data"
    }
   ],
   "source": [
    "display_discretization(dataset, threshold_r, 0, \"\")"
   ]
  },
  {
   "cell_type": "code",
   "execution_count": 134,
   "metadata": {},
   "outputs": [
    {
     "name": "stdout",
     "output_type": "stream",
     "text": [
      "entropy generated by rsdm on axis 1:  0.5283208335737188\n",
      "entropy generated by sdm on axis 1:  0.6666666666666666\n"
     ]
    }
   ],
   "source": [
    "threshold_r, entropy_r = discretize(rsdm, dataset, 1)\n",
    "print(\"entropy generated by rsdm on axis 1: \", entropy_r)\n",
    "\n",
    "threshold_nr, entropy_nr = discretize(sdm, dataset, 1)\n",
    "print(\"entropy generated by sdm on axis 1: \", entropy_nr)"
   ]
  },
  {
   "cell_type": "code",
   "execution_count": 135,
   "metadata": {},
   "outputs": [
    {
     "data": {
      "image/png": "[encoded data removed]",
      "text/plain": [
       "<Figure size 432x288 with 1 Axes>"
      ]
     },
     "metadata": {},
     "output_type": "display_data"
    }
   ],
   "source": [
    "display_discretization(dataset, threshold_nr, 1, \"\")"
   ]
  },
  {
   "cell_type": "code",
   "execution_count": 142,
   "metadata": {},
   "outputs": [],
   "source": [
    "train_set, test_set = split_dataset(dataset, 70)"
   ]
  },
  {
   "cell_type": "code",
   "execution_count": 143,
   "metadata": {},
   "outputs": [
    {
     "data": {
      "image/svg+xml": [
       "<?xml version=\"1.0\" encoding=\"UTF-8\" standalone=\"no\"?>\n",
       "<!DOCTYPE svg PUBLIC \"-//W3C//DTD SVG 1.1//EN\"\n",
       " \"http://www.w3.org/Graphics/SVG/1.1/DTD/svg11.dtd\">\n",
       "<!-- Generated by graphviz version 2.40.1 (20161225.0304)\n",
       " -->\n",
       "<!-- Title: %3 Pages: 1 -->\n",
       "<svg width=\"170pt\" height=\"218pt\"\n",
       " viewBox=\"0.00 0.00 170.00 218.00\" xmlns=\"http://www.w3.org/2000/svg\" xmlns:xlink=\"http://www.w3.org/1999/xlink\">\n",
       "<g id=\"graph0\" class=\"graph\" transform=\"scale(1 1) rotate(0) translate(4 214)\">\n",
       "<title>%3</title>\n",
       "<polygon fill=\"#ffffff\" stroke=\"transparent\" points=\"-4,4 -4,-214 166,-214 166,4 -4,4\"/>\n",
       "<!-- A -->\n",
       "<g id=\"node1\" class=\"node\">\n",
       "<title>A</title>\n",
       "<ellipse fill=\"none\" stroke=\"#000000\" cx=\"103\" cy=\"-192\" rx=\"27\" ry=\"18\"/>\n",
       "<text text-anchor=\"middle\" x=\"103\" y=\"-188.3\" font-family=\"Times,serif\" font-size=\"14.00\" fill=\"#000000\">0</text>\n",
       "</g>\n",
       "<!-- Al -->\n",
       "<g id=\"node2\" class=\"node\">\n",
       "<title>Al</title>\n",
       "<ellipse fill=\"none\" stroke=\"#000000\" cx=\"63\" cy=\"-105\" rx=\"27\" ry=\"18\"/>\n",
       "<text text-anchor=\"middle\" x=\"63\" y=\"-101.3\" font-family=\"Times,serif\" font-size=\"14.00\" fill=\"#000000\">0</text>\n",
       "</g>\n",
       "<!-- A&#45;&gt;Al -->\n",
       "<g id=\"edge3\" class=\"edge\">\n",
       "<title>A&#45;&gt;Al</title>\n",
       "<path fill=\"none\" stroke=\"#000000\" d=\"M87.0787,-177.194C81.4806,-171.1452 75.6753,-163.7506 72,-156 68.6629,-148.9627 66.5538,-140.8484 65.2236,-133.1918\"/>\n",
       "<polygon fill=\"#000000\" stroke=\"#000000\" points=\"68.6767,-132.6105 63.8504,-123.1788 61.7416,-133.5616 68.6767,-132.6105\"/>\n",
       "<text text-anchor=\"middle\" x=\"92.5\" y=\"-144.8\" font-family=\"Times,serif\" font-size=\"14.00\" fill=\"#000000\">&lt;=9.13</text>\n",
       "</g>\n",
       "<!-- Ar -->\n",
       "<g id=\"node5\" class=\"node\">\n",
       "<title>Ar</title>\n",
       "<polygon fill=\"none\" stroke=\"#000000\" points=\"162,-123 108,-123 108,-87 162,-87 162,-123\"/>\n",
       "<text text-anchor=\"middle\" x=\"135\" y=\"-101.3\" font-family=\"Times,serif\" font-size=\"14.00\" fill=\"#000000\">3</text>\n",
       "</g>\n",
       "<!-- A&#45;&gt;Ar -->\n",
       "<g id=\"edge4\" class=\"edge\">\n",
       "<title>A&#45;&gt;Ar</title>\n",
       "<path fill=\"none\" stroke=\"#000000\" d=\"M109.4757,-174.3943C113.8844,-162.408 119.81,-146.2978 124.842,-132.617\"/>\n",
       "<polygon fill=\"#000000\" stroke=\"#000000\" points=\"128.1464,-133.772 128.3137,-123.1785 121.5767,-131.3555 128.1464,-133.772\"/>\n",
       "<text text-anchor=\"middle\" x=\"136.5\" y=\"-144.8\" font-family=\"Times,serif\" font-size=\"14.00\" fill=\"#000000\">&gt;9.13</text>\n",
       "</g>\n",
       "<!-- All -->\n",
       "<g id=\"node3\" class=\"node\">\n",
       "<title>All</title>\n",
       "<polygon fill=\"none\" stroke=\"#000000\" points=\"54,-36 0,-36 0,0 54,0 54,-36\"/>\n",
       "<text text-anchor=\"middle\" x=\"27\" y=\"-14.3\" font-family=\"Times,serif\" font-size=\"14.00\" fill=\"#000000\">1</text>\n",
       "</g>\n",
       "<!-- Al&#45;&gt;All -->\n",
       "<g id=\"edge1\" class=\"edge\">\n",
       "<title>Al&#45;&gt;All</title>\n",
       "<path fill=\"none\" stroke=\"#000000\" d=\"M48.8845,-89.5283C44.0999,-83.5114 39.1697,-76.3112 36,-69 32.902,-61.8542 30.8701,-53.7049 29.5375,-46.0494\"/>\n",
       "<polygon fill=\"#000000\" stroke=\"#000000\" points=\"32.9898,-45.4657 28.1194,-36.0567 26.0593,-46.4493 32.9898,-45.4657\"/>\n",
       "<text text-anchor=\"middle\" x=\"56.5\" y=\"-57.8\" font-family=\"Times,serif\" font-size=\"14.00\" fill=\"#000000\">&lt;=4.45</text>\n",
       "</g>\n",
       "<!-- Alr -->\n",
       "<g id=\"node4\" class=\"node\">\n",
       "<title>Alr</title>\n",
       "<polygon fill=\"none\" stroke=\"#000000\" points=\"126,-36 72,-36 72,0 126,0 126,-36\"/>\n",
       "<text text-anchor=\"middle\" x=\"99\" y=\"-14.3\" font-family=\"Times,serif\" font-size=\"14.00\" fill=\"#000000\">2</text>\n",
       "</g>\n",
       "<!-- Al&#45;&gt;Alr -->\n",
       "<g id=\"edge2\" class=\"edge\">\n",
       "<title>Al&#45;&gt;Alr</title>\n",
       "<path fill=\"none\" stroke=\"#000000\" d=\"M70.2851,-87.3943C75.245,-75.408 81.9113,-59.2978 87.5723,-45.617\"/>\n",
       "<polygon fill=\"#000000\" stroke=\"#000000\" points=\"90.8884,-46.7569 91.4779,-36.1785 84.4202,-44.0804 90.8884,-46.7569\"/>\n",
       "<text text-anchor=\"middle\" x=\"99.5\" y=\"-57.8\" font-family=\"Times,serif\" font-size=\"14.00\" fill=\"#000000\">&gt;4.45</text>\n",
       "</g>\n",
       "</g>\n",
       "</svg>\n"
      ],
      "text/plain": [
       "<graphviz.dot.Digraph at 0x7fcf7097af60>"
      ]
     },
     "execution_count": 143,
     "metadata": {},
     "output_type": "execute_result"
    }
   ],
   "source": [
    "tree1 = RDMT(rsdm, \"shannon\", 0, 100, 0.05 * train_set.size(), [1, 2, 3])\n",
    "tree1.train(train_set)\n",
    "tree1.plot()"
   ]
  },
  {
   "cell_type": "code",
   "execution_count": 144,
   "metadata": {},
   "outputs": [
    {
     "data": {
      "image/svg+xml": [
       "<?xml version=\"1.0\" encoding=\"UTF-8\" standalone=\"no\"?>\n",
       "<!DOCTYPE svg PUBLIC \"-//W3C//DTD SVG 1.1//EN\"\n",
       " \"http://www.w3.org/Graphics/SVG/1.1/DTD/svg11.dtd\">\n",
       "<!-- Generated by graphviz version 2.40.1 (20161225.0304)\n",
       " -->\n",
       "<!-- Title: %3 Pages: 1 -->\n",
       "<svg width=\"170pt\" height=\"218pt\"\n",
       " viewBox=\"0.00 0.00 170.00 218.00\" xmlns=\"http://www.w3.org/2000/svg\" xmlns:xlink=\"http://www.w3.org/1999/xlink\">\n",
       "<g id=\"graph0\" class=\"graph\" transform=\"scale(1 1) rotate(0) translate(4 214)\">\n",
       "<title>%3</title>\n",
       "<polygon fill=\"#ffffff\" stroke=\"transparent\" points=\"-4,4 -4,-214 166,-214 166,4 -4,4\"/>\n",
       "<!-- A -->\n",
       "<g id=\"node1\" class=\"node\">\n",
       "<title>A</title>\n",
       "<ellipse fill=\"none\" stroke=\"#000000\" cx=\"61\" cy=\"-192\" rx=\"27\" ry=\"18\"/>\n",
       "<text text-anchor=\"middle\" x=\"61\" y=\"-188.3\" font-family=\"Times,serif\" font-size=\"14.00\" fill=\"#000000\">0</text>\n",
       "</g>\n",
       "<!-- Al -->\n",
       "<g id=\"node2\" class=\"node\">\n",
       "<title>Al</title>\n",
       "<polygon fill=\"none\" stroke=\"#000000\" points=\"54,-123 0,-123 0,-87 54,-87 54,-123\"/>\n",
       "<text text-anchor=\"middle\" x=\"27\" y=\"-101.3\" font-family=\"Times,serif\" font-size=\"14.00\" fill=\"#000000\">1</text>\n",
       "</g>\n",
       "<!-- A&#45;&gt;Al -->\n",
       "<g id=\"edge3\" class=\"edge\">\n",
       "<title>A&#45;&gt;Al</title>\n",
       "<path fill=\"none\" stroke=\"#000000\" d=\"M45.5045,-176.8179C40.3294,-170.8322 35.0965,-163.5779 32,-156 29.0848,-148.8659 27.57,-140.7204 26.8416,-133.0647\"/>\n",
       "<polygon fill=\"#000000\" stroke=\"#000000\" points=\"30.3356,-132.857 26.2782,-123.0699 23.3467,-133.2511 30.3356,-132.857\"/>\n",
       "<text text-anchor=\"middle\" x=\"52.5\" y=\"-144.8\" font-family=\"Times,serif\" font-size=\"14.00\" fill=\"#000000\">&lt;=4.45</text>\n",
       "</g>\n",
       "<!-- Ar -->\n",
       "<g id=\"node3\" class=\"node\">\n",
       "<title>Ar</title>\n",
       "<ellipse fill=\"none\" stroke=\"#000000\" cx=\"99\" cy=\"-105\" rx=\"27\" ry=\"18\"/>\n",
       "<text text-anchor=\"middle\" x=\"99\" y=\"-101.3\" font-family=\"Times,serif\" font-size=\"14.00\" fill=\"#000000\">0</text>\n",
       "</g>\n",
       "<!-- A&#45;&gt;Ar -->\n",
       "<g id=\"edge4\" class=\"edge\">\n",
       "<title>A&#45;&gt;Ar</title>\n",
       "<path fill=\"none\" stroke=\"#000000\" d=\"M68.6899,-174.3943C74.0299,-162.1683 81.2441,-145.6517 87.2946,-131.7992\"/>\n",
       "<polygon fill=\"#000000\" stroke=\"#000000\" points=\"90.6559,-132.8476 91.4513,-122.2827 84.2411,-130.0457 90.6559,-132.8476\"/>\n",
       "<text text-anchor=\"middle\" x=\"98.5\" y=\"-144.8\" font-family=\"Times,serif\" font-size=\"14.00\" fill=\"#000000\">&gt;4.45</text>\n",
       "</g>\n",
       "<!-- Arl -->\n",
       "<g id=\"node4\" class=\"node\">\n",
       "<title>Arl</title>\n",
       "<polygon fill=\"none\" stroke=\"#000000\" points=\"90,-36 36,-36 36,0 90,0 90,-36\"/>\n",
       "<text text-anchor=\"middle\" x=\"63\" y=\"-14.3\" font-family=\"Times,serif\" font-size=\"14.00\" fill=\"#000000\">2</text>\n",
       "</g>\n",
       "<!-- Ar&#45;&gt;Arl -->\n",
       "<g id=\"edge1\" class=\"edge\">\n",
       "<title>Ar&#45;&gt;Arl</title>\n",
       "<path fill=\"none\" stroke=\"#000000\" d=\"M84.8845,-89.5283C80.0999,-83.5114 75.1697,-76.3112 72,-69 68.902,-61.8542 66.8701,-53.7049 65.5375,-46.0494\"/>\n",
       "<polygon fill=\"#000000\" stroke=\"#000000\" points=\"68.9898,-45.4657 64.1194,-36.0567 62.0593,-46.4493 68.9898,-45.4657\"/>\n",
       "<text text-anchor=\"middle\" x=\"92.5\" y=\"-57.8\" font-family=\"Times,serif\" font-size=\"14.00\" fill=\"#000000\">&lt;=9.13</text>\n",
       "</g>\n",
       "<!-- Arr -->\n",
       "<g id=\"node5\" class=\"node\">\n",
       "<title>Arr</title>\n",
       "<polygon fill=\"none\" stroke=\"#000000\" points=\"162,-36 108,-36 108,0 162,0 162,-36\"/>\n",
       "<text text-anchor=\"middle\" x=\"135\" y=\"-14.3\" font-family=\"Times,serif\" font-size=\"14.00\" fill=\"#000000\">3</text>\n",
       "</g>\n",
       "<!-- Ar&#45;&gt;Arr -->\n",
       "<g id=\"edge2\" class=\"edge\">\n",
       "<title>Ar&#45;&gt;Arr</title>\n",
       "<path fill=\"none\" stroke=\"#000000\" d=\"M106.2851,-87.3943C111.245,-75.408 117.9113,-59.2978 123.5723,-45.617\"/>\n",
       "<polygon fill=\"#000000\" stroke=\"#000000\" points=\"126.8884,-46.7569 127.4779,-36.1785 120.4202,-44.0804 126.8884,-46.7569\"/>\n",
       "<text text-anchor=\"middle\" x=\"135.5\" y=\"-57.8\" font-family=\"Times,serif\" font-size=\"14.00\" fill=\"#000000\">&gt;9.13</text>\n",
       "</g>\n",
       "</g>\n",
       "</svg>\n"
      ],
      "text/plain": [
       "<graphviz.dot.Digraph at 0x7fcf70950a58>"
      ]
     },
     "execution_count": 144,
     "metadata": {},
     "output_type": "execute_result"
    }
   ],
   "source": [
    "tree2 = RDMT(sdm, \"shannon\", 0, 100, 0.05 * train_set.size(), [1, 2, 3])\n",
    "tree2.train(train_set)\n",
    "tree2.plot()"
   ]
  }
 ],
 "metadata": {
  "kernelspec": {
   "display_name": "Python 3",
   "language": "python",
   "name": "python3"
  },
  "language_info": {
   "codemirror_mode": {
    "name": "ipython",
    "version": 3
   },
   "file_extension": ".py",
   "mimetype": "text/x-python",
   "name": "python",
   "nbconvert_exporter": "python",
   "pygments_lexer": "ipython3",
   "version": "3.6.6"
  }
 },
 "nbformat": 4,
 "nbformat_minor": 2
}
