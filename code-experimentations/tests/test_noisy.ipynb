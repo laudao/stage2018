{
 "cells": [
  {
   "cell_type": "code",
   "execution_count": 121,
   "metadata": {
    "collapsed": true
   },
   "outputs": [],
   "source": [
    "%load_ext autoreload\n",
    "%autoreload 2\n",
    "from utils import *\n",
    "%matplotlib inline"
   ]
  },
  {
   "cell_type": "code",
   "execution_count": 161,
   "metadata": {
    "collapsed": false
   },
   "outputs": [
    {
     "name": "stdout",
     "output_type": "stream",
     "text": [
      "running time :  22.13535785675049\n"
     ]
    }
   ],
   "source": [
    "start = time.time()\n",
    "noisy_dataset = generate_noisy_monotone_dataset(1000,0.01, 0.005, 2, 2, lambda v: 1 + v[0] + (1/2) * (v[1]*v[1] - v[0]*v[0]))\n",
    "print(\"running time : \", format(time.time() - start))"
   ]
  },
  {
   "cell_type": "code",
   "execution_count": 163,
   "metadata": {
    "collapsed": false
   },
   "outputs": [
    {
     "data": {
      "image/png": "[encoded data removed]",
      "text/plain": [
       "<matplotlib.figure.Figure at 0x7f6b24c9c2b0>"
      ]
     },
     "metadata": {},
     "output_type": "display_data"
    }
   ],
   "source": [
    "plot2DSet(noisy_dataset, \"\")"
   ]
  },
  {
   "cell_type": "code",
   "execution_count": 153,
   "metadata": {
    "collapsed": true
   },
   "outputs": [],
   "source": [
    "g = Log()\n",
    "h = Sum()\n",
    "\n",
    "# rank Shannon discrimination measure\n",
    "f_r = Dsr()\n",
    "rsdm = Gdm(h, g, f_r)\n",
    "\n",
    "# conditional Shannon entropy\n",
    "f = Ds()\n",
    "sdm = Gdm(h, g, f)\n",
    "\n",
    "# pessimistic rank discrimination measure\n",
    "f_p = Mindsr()\n",
    "g_p = Frac() \n",
    "prdm = Gdm(h, g_p, f_p)"
   ]
  },
  {
   "cell_type": "code",
   "execution_count": null,
   "metadata": {
    "collapsed": false
   },
   "outputs": [],
   "source": [
    "y1 = []\n",
    "y2 = []\n",
    "y3 = []\n",
    "\n",
    "avg_leaves1 = []\n",
    "avg_leaves2 = []\n",
    "avg_leaves3 = []\n",
    "\n",
    "avg_depth1 = []\n",
    "avg_depth2 = []\n",
    "avg_depth3 = []\n",
    "\n",
    "avg_ratio1 = []\n",
    "avg_ratio2 = []\n",
    "avg_ratio3 = []\n",
    "\n",
    "avg_pairs1 = []\n",
    "avg_pairs2 = []\n",
    "avg_pairs3 = []\n",
    "\n",
    "monotone_f = lambda v: 1 + v[0] + (1/2) * (v[1]*v[1] - v[0]*v[0])\n",
    "noises = np.arange(0., 0.1, 0.01)\n",
    "\n",
    "start = time.time()\n",
    "\n",
    "for i in range(len(noises)):\n",
    "    upper = noises[i]\n",
    "    if noise > 0:\n",
    "        lower = (noises[i] + noises[i-1]) / 2\n",
    "    else:\n",
    "        lower = 0\n",
    "    dataset = generate_noisy_monotone_dataset(1000,lower, upper, 2, 2, monotone_f)\n",
    "    sets = get_ten_folds(dataset)\n",
    "    \n",
    "    acc1 = 0\n",
    "    leaves1 = 0\n",
    "    depth1 = 0\n",
    "    ratio1 = 0\n",
    "    pairs1 = 0\n",
    "    \n",
    "    acc2 = 0\n",
    "    leaves2 = 0\n",
    "    depth2 = 0\n",
    "    ratio2 = 0\n",
    "    pairs2 = 0\n",
    "    \n",
    "    acc3 = 0\n",
    "    leaves3 = 0\n",
    "    depth3 = 0\n",
    "    ratio3 = 0\n",
    "    pairs3 = 0\n",
    "    \n",
    "    \n",
    "    for i in range(10):\n",
    "        test_set = sets[i]\n",
    "        train_set = LabeledSet(2)\n",
    "        for j in range(0, 10):\n",
    "            if i != j:\n",
    "                train_set.addExamples(sets[j].x, sets[j].y)\n",
    "        \n",
    "        tree1 = RDMT(rsdm, \"shannon\", 0, 100, 0.01, [1, 2])\n",
    "        tree1.train(train_set)\n",
    "        acc1 += tree1.accuracy(test_set)\n",
    "        leaves1 += tree1.get_nb_leaves()\n",
    "        depth1 += tree1.get_depth()\n",
    "        ratio1 += tree1.get_ratio_non_monotone_pairs() \n",
    "        pairs1 += tree1.get_total_pairs()\n",
    "        \n",
    "        tree2 = RDMT(sdm, \"shannon\", 0, 100, 0.01, [1, 2])\n",
    "        tree2.train(train_set)\n",
    "        acc2 += tree2.accuracy(test_set)\n",
    "        leaves2 += tree2.get_nb_leaves()\n",
    "        depth2 += tree2.get_depth()\n",
    "        ratio2 += tree2.get_ratio_non_monotone_pairs() \n",
    "        pairs2 += tree2.get_total_pairs()\n",
    "        \n",
    "        tree3 = RDMT(prdm, \"shannon\", 0, 100, 0.01, [1, 2])\n",
    "        tree3.train(train_set)\n",
    "        acc3 += tree3.accuracy(test_set)\n",
    "        leaves3 += tree3.get_nb_leaves()\n",
    "        depth3 += tree3.get_depth()\n",
    "        ratio3 += tree3.get_ratio_non_monotone_pairs() \n",
    "        pairs3 += tree3.get_total_pairs()\n",
    "        \n",
    "    y1.append(acc1 * (1.0/10))    \n",
    "    avg_leaves1.append(leaves1 * (1.0/10))\n",
    "    avg_depth1.append(depth1 * (1.0/10))\n",
    "    avg_ratio1.append(ratio1 * (1.0/10))\n",
    "    avg_pairs1.append(pairs1 * (1.0/10))\n",
    "    \n",
    "    y2.append(acc2 * (1.0/10))    \n",
    "    avg_leaves2.append(leaves2 * (1.0/10))\n",
    "    avg_depth2.append(depth2 * (1.0/10))\n",
    "    avg_ratio2.append(ratio2 * (1.0/10))\n",
    "    avg_pairs2.append(pairs2 * (1.0/10))\n",
    "    \n",
    "    y3.append(acc3 * (1.0/10))    \n",
    "    avg_leaves3.append(leaves3 * (1.0/10))\n",
    "    avg_depth3.append(depth3 * (1.0/10))\n",
    "    avg_ratio3.append(ratio3 * (1.0/10))\n",
    "    avg_pairs3.append(pairs3 * (1.0/10))    \n",
    "    \n",
    "print(\"Running time : \", format(time.time() - start))"
   ]
  }
 ],
 "metadata": {
  "kernelspec": {
   "display_name": "Python 3",
   "language": "python",
   "name": "python3"
  },
  "language_info": {
   "codemirror_mode": {
    "name": "ipython",
    "version": 3
   },
   "file_extension": ".py",
   "mimetype": "text/x-python",
   "name": "python",
   "nbconvert_exporter": "python",
   "pygments_lexer": "ipython3",
   "version": "3.6.3"
  }
 },
 "nbformat": 4,
 "nbformat_minor": 2
}
