{
 "cells": [
  {
   "cell_type": "code",
   "execution_count": 1,
   "metadata": {},
   "outputs": [],
   "source": [
    "%load_ext autoreload\n",
    "%autoreload 2"
   ]
  },
  {
   "cell_type": "code",
   "execution_count": 2,
   "metadata": {},
   "outputs": [],
   "source": [
    "%matplotlib inline"
   ]
  },
  {
   "cell_type": "code",
   "execution_count": 59,
   "metadata": {},
   "outputs": [],
   "source": [
    "from utils import *"
   ]
  },
  {
   "cell_type": "markdown",
   "metadata": {},
   "source": [
    "# Expérimentations et analyses"
   ]
  },
  {
   "cell_type": "markdown",
   "metadata": {},
   "source": [
    "On cherche à comparer l'impact de la mesure de discrimination sur le classifieur en terme de taux de bonne classification et de monotonie, en testant les mesures sous les mêmes conditions expérimentales.\n",
    "\n",
    "Pour cela, on étudie l'impact du bruit non monotone sur les performances des différentes mesures. "
   ]
  },
  {
   "cell_type": "code",
   "execution_count": 4,
   "metadata": {},
   "outputs": [],
   "source": [
    "g = Log()\n",
    "h = Sum()\n",
    "\n",
    "# rank Shannon discrimination measure\n",
    "f_r = Dsr()\n",
    "rsdm = Gdm(h, g, f_r)\n",
    "\n",
    "# conditional Shannon entropy\n",
    "f = Ds()\n",
    "sdm = Gdm(h, g, f)\n",
    "\n",
    "# pessimistic rank discrimination measure\n",
    "f_p = Mindsr()\n",
    "g_p = Frac() \n",
    "prdm = Gdm(h, g_p, f_p)"
   ]
  },
  {
   "cell_type": "markdown",
   "metadata": {},
   "source": [
    "## Expérimentations sur des bases artificielles"
   ]
  },
  {
   "cell_type": "markdown",
   "metadata": {},
   "source": [
    "Dans un premier temps, on étudie l'effet du bruit non-monotone sur nos mesures en générant des datasets artificiels avec un degré de bruit non monotone croissant."
   ]
  },
  {
   "cell_type": "markdown",
   "metadata": {},
   "source": [
    "### Datasets à deux dimensions dont une seule est monotone"
   ]
  },
  {
   "cell_type": "markdown",
   "metadata": {},
   "source": [
    "### - 2 classes :"
   ]
  },
  {
   "cell_type": "markdown",
   "metadata": {},
   "source": [
    "- 10 exemples : "
   ]
  },
  {
   "cell_type": "markdown",
   "metadata": {},
   "source": [
    "-> pas de bruit :"
   ]
  },
  {
   "cell_type": "code",
   "execution_count": 101,
   "metadata": {},
   "outputs": [
    {
     "data": {
      "image/png": "[encoded data removed]",
      "text/plain": [
       "<Figure size 432x288 with 1 Axes>"
      ]
     },
     "metadata": {},
     "output_type": "display_data"
    }
   ],
   "source": [
    "set2_10_0, t = generate_2Ddataset(0, 2, 10, 0., 0.1, [[-10, 10], [-10, 10]])\n",
    "t1, h1 = discretize(rsdm, set2_10_0, 0)\n",
    "t2, h2 = discretize(sdm, set2_10_0, 0)\n",
    "display_discretizations_comparison(set2_10_0, t1, t2, [0], 0, \"splitting boundaries generated by rsdm and sdm with attribute 0, no noise\", \"rsdm threshold\", \"sdm threshold\")"
   ]
  },
  {
   "cell_type": "code",
   "execution_count": 102,
   "metadata": {},
   "outputs": [],
   "source": [
    "train_set2_10_0, test_set2_10_0 = split_dataset(set2_10_0, 80)"
   ]
  },
  {
   "cell_type": "code",
   "execution_count": 104,
   "metadata": {},
   "outputs": [
    {
     "name": "stdout",
     "output_type": "stream",
     "text": [
      "depth :  2\n",
      "number of leaves :  2\n",
      "rule monotone :  True\n",
      "accuracy :  0.5\n",
      "rank shannon evaluation :  0.0\n"
     ]
    },
    {
     "data": {
      "image/svg+xml": [
       "<?xml version=\"1.0\" encoding=\"UTF-8\" standalone=\"no\"?>\n",
       "<!DOCTYPE svg PUBLIC \"-//W3C//DTD SVG 1.1//EN\"\n",
       " \"http://www.w3.org/Graphics/SVG/1.1/DTD/svg11.dtd\">\n",
       "<!-- Generated by graphviz version 2.38.0 (20140413.2041)\n",
       " -->\n",
       "<!-- Title: %3 Pages: 1 -->\n",
       "<svg width=\"308pt\" height=\"131pt\"\n",
       " viewBox=\"0.00 0.00 308.00 131.00\" xmlns=\"http://www.w3.org/2000/svg\" xmlns:xlink=\"http://www.w3.org/1999/xlink\">\n",
       "<g id=\"graph0\" class=\"graph\" transform=\"scale(1 1) rotate(0) translate(4 127)\">\n",
       "<title>%3</title>\n",
       "<polygon fill=\"white\" stroke=\"none\" points=\"-4,4 -4,-127 304,-127 304,4 -4,4\"/>\n",
       "<!-- A -->\n",
       "<g id=\"node1\" class=\"node\"><title>A</title>\n",
       "<ellipse fill=\"none\" stroke=\"black\" cx=\"106\" cy=\"-105\" rx=\"27\" ry=\"18\"/>\n",
       "<text text-anchor=\"middle\" x=\"106\" y=\"-101.3\" font-family=\"Times,serif\" font-size=\"14.00\">0</text>\n",
       "</g>\n",
       "<!-- Al -->\n",
       "<g id=\"node2\" class=\"node\"><title>Al</title>\n",
       "<polygon fill=\"none\" stroke=\"black\" points=\"54,-36 0,-36 0,-0 54,-0 54,-36\"/>\n",
       "<text text-anchor=\"middle\" x=\"27\" y=\"-14.3\" font-family=\"Times,serif\" font-size=\"14.00\">1</text>\n",
       "</g>\n",
       "<!-- A&#45;&gt;Al -->\n",
       "<g id=\"edge1\" class=\"edge\"><title>A&#45;&gt;Al</title>\n",
       "<path fill=\"none\" stroke=\"black\" d=\"M79.9119,-99.7231C62.037,-95.2986 39.5477,-86.4536 28,-69 23.603,-62.3542 22.2303,-54.0469 22.2785,-46.1236\"/>\n",
       "<polygon fill=\"black\" stroke=\"black\" points=\"25.7725,-46.3336 23.0255,-36.101 18.7918,-45.8132 25.7725,-46.3336\"/>\n",
       "<text text-anchor=\"middle\" x=\"96\" y=\"-57.8\" font-family=\"Times,serif\" font-size=\"14.00\">&lt;=0.8851379917644894</text>\n",
       "</g>\n",
       "<!-- Ar -->\n",
       "<g id=\"node3\" class=\"node\"><title>Ar</title>\n",
       "<polygon fill=\"none\" stroke=\"black\" points=\"213,-36 159,-36 159,-0 213,-0 213,-36\"/>\n",
       "<text text-anchor=\"middle\" x=\"186\" y=\"-14.3\" font-family=\"Times,serif\" font-size=\"14.00\">2</text>\n",
       "</g>\n",
       "<!-- A&#45;&gt;Ar -->\n",
       "<g id=\"edge2\" class=\"edge\"><title>A&#45;&gt;Ar</title>\n",
       "<path fill=\"none\" stroke=\"black\" d=\"M128.394,-94.5582C140.238,-88.6443 154.293,-80.0409 164,-69 169.876,-62.316 174.401,-53.8134 177.775,-45.7238\"/>\n",
       "<polygon fill=\"black\" stroke=\"black\" points=\"181.108,-46.8035 181.333,-36.211 174.551,-44.3508 181.108,-46.8035\"/>\n",
       "<text text-anchor=\"middle\" x=\"236.5\" y=\"-57.8\" font-family=\"Times,serif\" font-size=\"14.00\">&gt;0.8851379917644894</text>\n",
       "</g>\n",
       "</g>\n",
       "</svg>\n"
      ],
      "text/plain": [
       "<graphviz.dot.Digraph at 0x7f82bcfc8780>"
      ]
     },
     "execution_count": 104,
     "metadata": {},
     "output_type": "execute_result"
    }
   ],
   "source": [
    "rdmt2_10 = RDMT(rsdm, \"shannon\", 0, 10, 0, [1, 2])\n",
    "rdmt2_10.train(train_set2_10_0)\n",
    "print(\"depth : \", rdmt2_10.get_depth())\n",
    "print(\"number of leaves : \", rdmt2_10.get_nb_leaves())\n",
    "print(\"rule monotone : \", rdmt2_10.is_rule_monotone())\n",
    "print(\"accuracy : \", rdmt2_10.accuracy(test_set2_10_0))\n",
    "#print(I_tree(rdmt2_10))\n",
    "print(\"rank shannon evaluation : \", rdmt2_10.evaluate_monotonicity())\n",
    "rdmt2_10.plot()"
   ]
  },
  {
   "cell_type": "code",
   "execution_count": 105,
   "metadata": {},
   "outputs": [
    {
     "name": "stdout",
     "output_type": "stream",
     "text": [
      "depth :  2\n",
      "number of leaves :  2\n",
      "rule monotone :  True\n",
      "accuracy :  0.5\n",
      "rank shannon evaluation :  0.0\n"
     ]
    },
    {
     "data": {
      "image/svg+xml": [
       "<?xml version=\"1.0\" encoding=\"UTF-8\" standalone=\"no\"?>\n",
       "<!DOCTYPE svg PUBLIC \"-//W3C//DTD SVG 1.1//EN\"\n",
       " \"http://www.w3.org/Graphics/SVG/1.1/DTD/svg11.dtd\">\n",
       "<!-- Generated by graphviz version 2.38.0 (20140413.2041)\n",
       " -->\n",
       "<!-- Title: %3 Pages: 1 -->\n",
       "<svg width=\"308pt\" height=\"131pt\"\n",
       " viewBox=\"0.00 0.00 308.00 131.00\" xmlns=\"http://www.w3.org/2000/svg\" xmlns:xlink=\"http://www.w3.org/1999/xlink\">\n",
       "<g id=\"graph0\" class=\"graph\" transform=\"scale(1 1) rotate(0) translate(4 127)\">\n",
       "<title>%3</title>\n",
       "<polygon fill=\"white\" stroke=\"none\" points=\"-4,4 -4,-127 304,-127 304,4 -4,4\"/>\n",
       "<!-- A -->\n",
       "<g id=\"node1\" class=\"node\"><title>A</title>\n",
       "<ellipse fill=\"none\" stroke=\"black\" cx=\"106\" cy=\"-105\" rx=\"27\" ry=\"18\"/>\n",
       "<text text-anchor=\"middle\" x=\"106\" y=\"-101.3\" font-family=\"Times,serif\" font-size=\"14.00\">0</text>\n",
       "</g>\n",
       "<!-- Al -->\n",
       "<g id=\"node2\" class=\"node\"><title>Al</title>\n",
       "<polygon fill=\"none\" stroke=\"black\" points=\"54,-36 0,-36 0,-0 54,-0 54,-36\"/>\n",
       "<text text-anchor=\"middle\" x=\"27\" y=\"-14.3\" font-family=\"Times,serif\" font-size=\"14.00\">1</text>\n",
       "</g>\n",
       "<!-- A&#45;&gt;Al -->\n",
       "<g id=\"edge1\" class=\"edge\"><title>A&#45;&gt;Al</title>\n",
       "<path fill=\"none\" stroke=\"black\" d=\"M79.9119,-99.7231C62.037,-95.2986 39.5477,-86.4536 28,-69 23.603,-62.3542 22.2303,-54.0469 22.2785,-46.1236\"/>\n",
       "<polygon fill=\"black\" stroke=\"black\" points=\"25.7725,-46.3336 23.0255,-36.101 18.7918,-45.8132 25.7725,-46.3336\"/>\n",
       "<text text-anchor=\"middle\" x=\"96\" y=\"-57.8\" font-family=\"Times,serif\" font-size=\"14.00\">&lt;=0.8851379917644894</text>\n",
       "</g>\n",
       "<!-- Ar -->\n",
       "<g id=\"node3\" class=\"node\"><title>Ar</title>\n",
       "<polygon fill=\"none\" stroke=\"black\" points=\"213,-36 159,-36 159,-0 213,-0 213,-36\"/>\n",
       "<text text-anchor=\"middle\" x=\"186\" y=\"-14.3\" font-family=\"Times,serif\" font-size=\"14.00\">2</text>\n",
       "</g>\n",
       "<!-- A&#45;&gt;Ar -->\n",
       "<g id=\"edge2\" class=\"edge\"><title>A&#45;&gt;Ar</title>\n",
       "<path fill=\"none\" stroke=\"black\" d=\"M128.394,-94.5582C140.238,-88.6443 154.293,-80.0409 164,-69 169.876,-62.316 174.401,-53.8134 177.775,-45.7238\"/>\n",
       "<polygon fill=\"black\" stroke=\"black\" points=\"181.108,-46.8035 181.333,-36.211 174.551,-44.3508 181.108,-46.8035\"/>\n",
       "<text text-anchor=\"middle\" x=\"236.5\" y=\"-57.8\" font-family=\"Times,serif\" font-size=\"14.00\">&gt;0.8851379917644894</text>\n",
       "</g>\n",
       "</g>\n",
       "</svg>\n"
      ],
      "text/plain": [
       "<graphviz.dot.Digraph at 0x7f82bcee2b00>"
      ]
     },
     "execution_count": 105,
     "metadata": {},
     "output_type": "execute_result"
    }
   ],
   "source": [
    "dmt2_10 = RDMT(sdm, \"shannon\", 0, 10, 0, [1, 2])\n",
    "dmt2_10.train(train_set2_10_0)\n",
    "print(\"depth : \", dmt2_10.get_depth())\n",
    "print(\"number of leaves : \", dmt2_10.get_nb_leaves())\n",
    "print(\"rule monotone : \", dmt2_10.is_rule_monotone())\n",
    "print(\"accuracy : \", dmt2_10.accuracy(test_set2_10_0))\n",
    "print(\"rank shannon evaluation : \", dmt2_10.evaluate_monotonicity())\n",
    "dmt2_10.plot()"
   ]
  },
  {
   "cell_type": "markdown",
   "metadata": {},
   "source": [
    "-> 30% de bruit :"
   ]
  },
  {
   "cell_type": "code",
   "execution_count": 106,
   "metadata": {},
   "outputs": [
    {
     "data": {
      "image/png": "[encoded data removed]",
      "text/plain": [
       "<Figure size 432x288 with 1 Axes>"
      ]
     },
     "metadata": {},
     "output_type": "display_data"
    }
   ],
   "source": [
    "set2_10_30, t = generate_2Ddataset(0, 2, 10, 0.3, 0.1, [[-10, 10], [-10, 10]])\n",
    "t1, h1 = discretize(rsdm, set2_10_30, 0)\n",
    "t2, h2 = discretize(sdm, set2_10_30, 0)\n",
    "display_discretizations_comparison(set2_10_30, t1, t2, [0], 0, \"splitting boundaries generated by rsdm and sdm with attribute 0, 30% of noise\", \"rsdm threshold\", \"sdm threshold\")"
   ]
  },
  {
   "cell_type": "code",
   "execution_count": 107,
   "metadata": {
    "collapsed": true
   },
   "outputs": [],
   "source": [
    "train_set2_10_30, test_set2_10_30 = split_dataset(set2_10_30, 80)"
   ]
  },
  {
   "cell_type": "code",
   "execution_count": 108,
   "metadata": {},
   "outputs": [
    {
     "name": "stdout",
     "output_type": "stream",
     "text": [
      "depth :  2\n",
      "number of leaves :  2\n",
      "rule monotone :  True\n",
      "accuracy :  0.5\n",
      "average ratio between number of pairwise non-monotone label comparisons and number of pairs :  0.0\n",
      "rank shannon evaluation :  0.0\n"
     ]
    },
    {
     "data": {
      "image/svg+xml": [
       "<?xml version=\"1.0\" encoding=\"UTF-8\" standalone=\"no\"?>\n",
       "<!DOCTYPE svg PUBLIC \"-//W3C//DTD SVG 1.1//EN\"\n",
       " \"http://www.w3.org/Graphics/SVG/1.1/DTD/svg11.dtd\">\n",
       "<!-- Generated by graphviz version 2.38.0 (20140413.2041)\n",
       " -->\n",
       "<!-- Title: %3 Pages: 1 -->\n",
       "<svg width=\"317pt\" height=\"131pt\"\n",
       " viewBox=\"0.00 0.00 317.00 131.00\" xmlns=\"http://www.w3.org/2000/svg\" xmlns:xlink=\"http://www.w3.org/1999/xlink\">\n",
       "<g id=\"graph0\" class=\"graph\" transform=\"scale(1 1) rotate(0) translate(4 127)\">\n",
       "<title>%3</title>\n",
       "<polygon fill=\"white\" stroke=\"none\" points=\"-4,4 -4,-127 313,-127 313,4 -4,4\"/>\n",
       "<!-- A -->\n",
       "<g id=\"node1\" class=\"node\"><title>A</title>\n",
       "<ellipse fill=\"none\" stroke=\"black\" cx=\"108\" cy=\"-105\" rx=\"27\" ry=\"18\"/>\n",
       "<text text-anchor=\"middle\" x=\"108\" y=\"-101.3\" font-family=\"Times,serif\" font-size=\"14.00\">0</text>\n",
       "</g>\n",
       "<!-- Al -->\n",
       "<g id=\"node2\" class=\"node\"><title>Al</title>\n",
       "<polygon fill=\"none\" stroke=\"black\" points=\"54,-36 0,-36 0,-0 54,-0 54,-36\"/>\n",
       "<text text-anchor=\"middle\" x=\"27\" y=\"-14.3\" font-family=\"Times,serif\" font-size=\"14.00\">1</text>\n",
       "</g>\n",
       "<!-- A&#45;&gt;Al -->\n",
       "<g id=\"edge1\" class=\"edge\"><title>A&#45;&gt;Al</title>\n",
       "<path fill=\"none\" stroke=\"black\" d=\"M81.6529,-100.007C63.2683,-95.7086 39.9624,-86.8974 28,-69 23.5719,-62.3749 22.1904,-54.0734 22.2401,-46.1492\"/>\n",
       "<polygon fill=\"black\" stroke=\"black\" points=\"25.7343,-46.3563 22.994,-36.122 18.754,-45.8314 25.7343,-46.3563\"/>\n",
       "<text text-anchor=\"middle\" x=\"98\" y=\"-57.8\" font-family=\"Times,serif\" font-size=\"14.00\">&lt;=&#45;1.6046517540971617</text>\n",
       "</g>\n",
       "<!-- Ar -->\n",
       "<g id=\"node3\" class=\"node\"><title>Ar</title>\n",
       "<polygon fill=\"none\" stroke=\"black\" points=\"217,-36 163,-36 163,-0 217,-0 217,-36\"/>\n",
       "<text text-anchor=\"middle\" x=\"190\" y=\"-14.3\" font-family=\"Times,serif\" font-size=\"14.00\">2</text>\n",
       "</g>\n",
       "<!-- A&#45;&gt;Ar -->\n",
       "<g id=\"edge2\" class=\"edge\"><title>A&#45;&gt;Ar</title>\n",
       "<path fill=\"none\" stroke=\"black\" d=\"M130.583,-94.9995C142.956,-89.1299 157.802,-80.4268 168,-69 173.926,-62.3598 178.463,-53.869 181.834,-45.7766\"/>\n",
       "<polygon fill=\"black\" stroke=\"black\" points=\"185.17,-46.8472 185.382,-36.2545 178.611,-44.4031 185.17,-46.8472\"/>\n",
       "<text text-anchor=\"middle\" x=\"243\" y=\"-57.8\" font-family=\"Times,serif\" font-size=\"14.00\">&gt;&#45;1.6046517540971617</text>\n",
       "</g>\n",
       "</g>\n",
       "</svg>\n"
      ],
      "text/plain": [
       "<graphviz.dot.Digraph at 0x7f82bc6c6eb8>"
      ]
     },
     "execution_count": 108,
     "metadata": {},
     "output_type": "execute_result"
    }
   ],
   "source": [
    "rdmt2_10 = RDMT(rsdm, \"shannon\", 0, 10, 0, [1, 2])\n",
    "rdmt2_10.train(train_set2_10_30)\n",
    "print(\"depth : \", rdmt2_10.get_depth())\n",
    "print(\"number of leaves : \", rdmt2_10.get_nb_leaves())\n",
    "print(\"rule monotone : \", rdmt2_10.is_rule_monotone())\n",
    "print(\"accuracy : \", rdmt2_10.accuracy(test_set2_10_30))\n",
    "print(\"average ratio between number of pairwise non-monotone label comparisons and number of pairs : \", rdmt2_10.get_ratio_non_monotone_pairs())\n",
    "print(\"rank shannon evaluation : \", rdmt2_10.evaluate_monotonicity())\n",
    "\n",
    "rdmt2_10.plot()"
   ]
  },
  {
   "cell_type": "code",
   "execution_count": 109,
   "metadata": {},
   "outputs": [
    {
     "name": "stdout",
     "output_type": "stream",
     "text": [
      "depth :  2\n",
      "number of leaves :  2\n",
      "rule monotone :  True\n",
      "accuracy :  0.5\n",
      "average ratio between number of pairwise non-monotone label comparisons and number of pairs :  0.0\n",
      "rank shannon evaluation :  0.0\n"
     ]
    },
    {
     "data": {
      "image/svg+xml": [
       "<?xml version=\"1.0\" encoding=\"UTF-8\" standalone=\"no\"?>\n",
       "<!DOCTYPE svg PUBLIC \"-//W3C//DTD SVG 1.1//EN\"\n",
       " \"http://www.w3.org/Graphics/SVG/1.1/DTD/svg11.dtd\">\n",
       "<!-- Generated by graphviz version 2.38.0 (20140413.2041)\n",
       " -->\n",
       "<!-- Title: %3 Pages: 1 -->\n",
       "<svg width=\"317pt\" height=\"131pt\"\n",
       " viewBox=\"0.00 0.00 317.00 131.00\" xmlns=\"http://www.w3.org/2000/svg\" xmlns:xlink=\"http://www.w3.org/1999/xlink\">\n",
       "<g id=\"graph0\" class=\"graph\" transform=\"scale(1 1) rotate(0) translate(4 127)\">\n",
       "<title>%3</title>\n",
       "<polygon fill=\"white\" stroke=\"none\" points=\"-4,4 -4,-127 313,-127 313,4 -4,4\"/>\n",
       "<!-- A -->\n",
       "<g id=\"node1\" class=\"node\"><title>A</title>\n",
       "<ellipse fill=\"none\" stroke=\"black\" cx=\"108\" cy=\"-105\" rx=\"27\" ry=\"18\"/>\n",
       "<text text-anchor=\"middle\" x=\"108\" y=\"-101.3\" font-family=\"Times,serif\" font-size=\"14.00\">0</text>\n",
       "</g>\n",
       "<!-- Al -->\n",
       "<g id=\"node2\" class=\"node\"><title>Al</title>\n",
       "<polygon fill=\"none\" stroke=\"black\" points=\"54,-36 0,-36 0,-0 54,-0 54,-36\"/>\n",
       "<text text-anchor=\"middle\" x=\"27\" y=\"-14.3\" font-family=\"Times,serif\" font-size=\"14.00\">1</text>\n",
       "</g>\n",
       "<!-- A&#45;&gt;Al -->\n",
       "<g id=\"edge1\" class=\"edge\"><title>A&#45;&gt;Al</title>\n",
       "<path fill=\"none\" stroke=\"black\" d=\"M81.6529,-100.007C63.2683,-95.7086 39.9624,-86.8974 28,-69 23.5719,-62.3749 22.1904,-54.0734 22.2401,-46.1492\"/>\n",
       "<polygon fill=\"black\" stroke=\"black\" points=\"25.7343,-46.3563 22.994,-36.122 18.754,-45.8314 25.7343,-46.3563\"/>\n",
       "<text text-anchor=\"middle\" x=\"98\" y=\"-57.8\" font-family=\"Times,serif\" font-size=\"14.00\">&lt;=&#45;1.6046517540971617</text>\n",
       "</g>\n",
       "<!-- Ar -->\n",
       "<g id=\"node3\" class=\"node\"><title>Ar</title>\n",
       "<polygon fill=\"none\" stroke=\"black\" points=\"217,-36 163,-36 163,-0 217,-0 217,-36\"/>\n",
       "<text text-anchor=\"middle\" x=\"190\" y=\"-14.3\" font-family=\"Times,serif\" font-size=\"14.00\">2</text>\n",
       "</g>\n",
       "<!-- A&#45;&gt;Ar -->\n",
       "<g id=\"edge2\" class=\"edge\"><title>A&#45;&gt;Ar</title>\n",
       "<path fill=\"none\" stroke=\"black\" d=\"M130.583,-94.9995C142.956,-89.1299 157.802,-80.4268 168,-69 173.926,-62.3598 178.463,-53.869 181.834,-45.7766\"/>\n",
       "<polygon fill=\"black\" stroke=\"black\" points=\"185.17,-46.8472 185.382,-36.2545 178.611,-44.4031 185.17,-46.8472\"/>\n",
       "<text text-anchor=\"middle\" x=\"243\" y=\"-57.8\" font-family=\"Times,serif\" font-size=\"14.00\">&gt;&#45;1.6046517540971617</text>\n",
       "</g>\n",
       "</g>\n",
       "</svg>\n"
      ],
      "text/plain": [
       "<graphviz.dot.Digraph at 0x7f82bc6c6080>"
      ]
     },
     "execution_count": 109,
     "metadata": {},
     "output_type": "execute_result"
    }
   ],
   "source": [
    "dmt2_10 = RDMT(sdm, \"shannon\", 0, 10, 0, [1, 2])\n",
    "dmt2_10.train(train_set2_10_30)\n",
    "print(\"depth : \", dmt2_10.get_depth())\n",
    "print(\"number of leaves : \", dmt2_10.get_nb_leaves())\n",
    "print(\"rule monotone : \", dmt2_10.is_rule_monotone())\n",
    "print(\"accuracy : \", dmt2_10.accuracy(test_set2_10_30))\n",
    "print(\"average ratio between number of pairwise non-monotone label comparisons and number of pairs : \", dmt2_10.get_ratio_non_monotone_pairs())\n",
    "print(\"rank shannon evaluation : \", dmt2_10.evaluate_monotonicity())\n",
    "\n",
    "dmt2_10.plot()"
   ]
  },
  {
   "cell_type": "markdown",
   "metadata": {},
   "source": [
    "-> 70% de bruit :"
   ]
  },
  {
   "cell_type": "code",
   "execution_count": 5,
   "metadata": {},
   "outputs": [
    {
     "data": {
      "image/png": "[encoded data removed]",
      "text/plain": [
       "<Figure size 432x288 with 1 Axes>"
      ]
     },
     "metadata": {},
     "output_type": "display_data"
    }
   ],
   "source": [
    "set2_10_70, t = generate_2Ddataset(0, 2, 10, 0.7, 0.1, [[-10, 10], [-10, 10]])\n",
    "t1, h1 = discretize(rsdm, set2_10_70, 0)\n",
    "t2, h2 = discretize(sdm, set2_10_70, 0)\n",
    "display_discretizations_comparison(set2_10_70, t1, t2, [0], 0, \"splitting boundaries generated by rsdm and sdm with attribute 0, 70% of noise\", \"rsdm threshold\", \"sdm threshold\")"
   ]
  },
  {
   "cell_type": "code",
   "execution_count": 6,
   "metadata": {},
   "outputs": [],
   "source": [
    "train_set2_10_70, test_set2_10_70 = split_dataset(set2_10_70, 80)"
   ]
  },
  {
   "cell_type": "code",
   "execution_count": 7,
   "metadata": {},
   "outputs": [
    {
     "name": "stdout",
     "output_type": "stream",
     "text": [
      "depth :  4\n",
      "number of leaves :  4\n",
      "rule monotone :  False\n",
      "accuracy :  1.0\n",
      "average ratio between number of pairwise non-monotone label comparisons and number of pairs :  1.0\n",
      "rank shannon evaluation :  0.5\n"
     ]
    },
    {
     "data": {
      "image/svg+xml": [
       "<?xml version=\"1.0\" encoding=\"UTF-8\" standalone=\"no\"?>\n",
       "<!DOCTYPE svg PUBLIC \"-//W3C//DTD SVG 1.1//EN\"\n",
       " \"http://www.w3.org/Graphics/SVG/1.1/DTD/svg11.dtd\">\n",
       "<!-- Generated by graphviz version 2.40.1 (20161225.0304)\n",
       " -->\n",
       "<!-- Title: %3 Pages: 1 -->\n",
       "<svg width=\"399pt\" height=\"305pt\"\n",
       " viewBox=\"0.00 0.00 399.00 305.00\" xmlns=\"http://www.w3.org/2000/svg\" xmlns:xlink=\"http://www.w3.org/1999/xlink\">\n",
       "<g id=\"graph0\" class=\"graph\" transform=\"scale(1 1) rotate(0) translate(4 301)\">\n",
       "<title>%3</title>\n",
       "<polygon fill=\"#ffffff\" stroke=\"transparent\" points=\"-4,4 -4,-301 395,-301 395,4 -4,4\"/>\n",
       "<!-- A -->\n",
       "<g id=\"node1\" class=\"node\">\n",
       "<title>A</title>\n",
       "<ellipse fill=\"none\" stroke=\"#000000\" cx=\"182\" cy=\"-279\" rx=\"27\" ry=\"18\"/>\n",
       "<text text-anchor=\"middle\" x=\"182\" y=\"-275.3\" font-family=\"Times,serif\" font-size=\"14.00\" fill=\"#000000\">0</text>\n",
       "</g>\n",
       "<!-- Al -->\n",
       "<g id=\"node2\" class=\"node\">\n",
       "<title>Al</title>\n",
       "<ellipse fill=\"none\" stroke=\"#000000\" cx=\"103\" cy=\"-192\" rx=\"27\" ry=\"18\"/>\n",
       "<text text-anchor=\"middle\" x=\"103\" y=\"-188.3\" font-family=\"Times,serif\" font-size=\"14.00\" fill=\"#000000\">1</text>\n",
       "</g>\n",
       "<!-- A&#45;&gt;Al -->\n",
       "<g id=\"edge5\" class=\"edge\">\n",
       "<title>A&#45;&gt;Al</title>\n",
       "<path fill=\"none\" stroke=\"#000000\" d=\"M155.8872,-274.3887C138.0003,-269.7351 115.5069,-260.6018 104,-243 99.6199,-236.2998 98.2082,-227.9729 98.2148,-220.0034\"/>\n",
       "<polygon fill=\"#000000\" stroke=\"#000000\" points=\"101.7153,-220.116 98.9101,-209.8993 94.7318,-219.6354 101.7153,-220.116\"/>\n",
       "<text text-anchor=\"middle\" x=\"172\" y=\"-231.8\" font-family=\"Times,serif\" font-size=\"14.00\" fill=\"#000000\">&lt;=1.6409400815678192</text>\n",
       "</g>\n",
       "<!-- Ar -->\n",
       "<g id=\"node7\" class=\"node\">\n",
       "<title>Ar</title>\n",
       "<polygon fill=\"none\" stroke=\"#000000\" points=\"289,-210 235,-210 235,-174 289,-174 289,-210\"/>\n",
       "<text text-anchor=\"middle\" x=\"262\" y=\"-188.3\" font-family=\"Times,serif\" font-size=\"14.00\" fill=\"#000000\">2</text>\n",
       "</g>\n",
       "<!-- A&#45;&gt;Ar -->\n",
       "<g id=\"edge6\" class=\"edge\">\n",
       "<title>A&#45;&gt;Ar</title>\n",
       "<path fill=\"none\" stroke=\"#000000\" d=\"M204.7071,-269.0358C216.4989,-262.9266 230.4066,-254.1324 240,-243 245.8178,-236.2488 250.3024,-227.7251 253.658,-219.5886\"/>\n",
       "<polygon fill=\"#000000\" stroke=\"#000000\" points=\"257.0177,-220.5943 257.205,-210.0011 250.4526,-218.1654 257.0177,-220.5943\"/>\n",
       "<text text-anchor=\"middle\" x=\"313.5\" y=\"-231.8\" font-family=\"Times,serif\" font-size=\"14.00\" fill=\"#000000\">&gt;1.6409400815678192</text>\n",
       "</g>\n",
       "<!-- All -->\n",
       "<g id=\"node3\" class=\"node\">\n",
       "<title>All</title>\n",
       "<polygon fill=\"none\" stroke=\"#000000\" points=\"54,-123 0,-123 0,-87 54,-87 54,-123\"/>\n",
       "<text text-anchor=\"middle\" x=\"27\" y=\"-101.3\" font-family=\"Times,serif\" font-size=\"14.00\" fill=\"#000000\">1</text>\n",
       "</g>\n",
       "<!-- Al&#45;&gt;All -->\n",
       "<g id=\"edge3\" class=\"edge\">\n",
       "<title>Al&#45;&gt;All</title>\n",
       "<path fill=\"none\" stroke=\"#000000\" d=\"M76.7566,-186.7908C59.7318,-181.9163 38.7799,-172.7649 28,-156 23.7372,-149.3705 22.3175,-141.1865 22.2793,-133.3301\"/>\n",
       "<polygon fill=\"#000000\" stroke=\"#000000\" points=\"25.7725,-133.5476 22.9019,-123.3491 18.786,-133.1117 25.7725,-133.5476\"/>\n",
       "<text text-anchor=\"middle\" x=\"92.5\" y=\"-144.8\" font-family=\"Times,serif\" font-size=\"14.00\" fill=\"#000000\">&lt;=7.398524546773597</text>\n",
       "</g>\n",
       "<!-- Alr -->\n",
       "<g id=\"node4\" class=\"node\">\n",
       "<title>Alr</title>\n",
       "<ellipse fill=\"none\" stroke=\"#000000\" cx=\"179\" cy=\"-105\" rx=\"27\" ry=\"18\"/>\n",
       "<text text-anchor=\"middle\" x=\"179\" y=\"-101.3\" font-family=\"Times,serif\" font-size=\"14.00\" fill=\"#000000\">0</text>\n",
       "</g>\n",
       "<!-- Al&#45;&gt;Alr -->\n",
       "<g id=\"edge4\" class=\"edge\">\n",
       "<title>Al&#45;&gt;Alr</title>\n",
       "<path fill=\"none\" stroke=\"#000000\" d=\"M124.9286,-181.2606C135.7278,-175.0862 148.2691,-166.471 157,-156 162.7073,-149.1552 167.1612,-140.6054 170.5227,-132.4739\"/>\n",
       "<polygon fill=\"#000000\" stroke=\"#000000\" points=\"173.8762,-133.498 174.092,-122.9054 167.3176,-131.0514 173.8762,-133.498\"/>\n",
       "<text text-anchor=\"middle\" x=\"227.5\" y=\"-144.8\" font-family=\"Times,serif\" font-size=\"14.00\" fill=\"#000000\">&gt;7.398524546773597</text>\n",
       "</g>\n",
       "<!-- Alrl -->\n",
       "<g id=\"node5\" class=\"node\">\n",
       "<title>Alrl</title>\n",
       "<polygon fill=\"none\" stroke=\"#000000\" points=\"121,-36 67,-36 67,0 121,0 121,-36\"/>\n",
       "<text text-anchor=\"middle\" x=\"94\" y=\"-14.3\" font-family=\"Times,serif\" font-size=\"14.00\" fill=\"#000000\">2</text>\n",
       "</g>\n",
       "<!-- Alr&#45;&gt;Alrl -->\n",
       "<g id=\"edge1\" class=\"edge\">\n",
       "<title>Alr&#45;&gt;Alrl</title>\n",
       "<path fill=\"none\" stroke=\"#000000\" d=\"M152.5668,-101.3269C133.0939,-97.0964 107.8522,-88.0813 95,-69 90.5969,-62.4629 89.1345,-54.307 89.1002,-46.448\"/>\n",
       "<polygon fill=\"#000000\" stroke=\"#000000\" points=\"92.594,-46.6548 89.7506,-36.4487 85.6088,-46.2004 92.594,-46.6548\"/>\n",
       "<text text-anchor=\"middle\" x=\"168.5\" y=\"-57.8\" font-family=\"Times,serif\" font-size=\"14.00\" fill=\"#000000\">&lt;=&#45;0.39344257090776236</text>\n",
       "</g>\n",
       "<!-- Alrr -->\n",
       "<g id=\"node6\" class=\"node\">\n",
       "<title>Alrr</title>\n",
       "<polygon fill=\"none\" stroke=\"#000000\" points=\"291,-36 237,-36 237,0 291,0 291,-36\"/>\n",
       "<text text-anchor=\"middle\" x=\"264\" y=\"-14.3\" font-family=\"Times,serif\" font-size=\"14.00\" fill=\"#000000\">1</text>\n",
       "</g>\n",
       "<!-- Alr&#45;&gt;Alrr -->\n",
       "<g id=\"edge2\" class=\"edge\">\n",
       "<title>Alr&#45;&gt;Alrr</title>\n",
       "<path fill=\"none\" stroke=\"#000000\" d=\"M202.4402,-96.0161C215.5036,-90.0215 231.2536,-81.0215 242,-69 247.9396,-62.3557 252.4579,-53.8617 255.8071,-45.7195\"/>\n",
       "<polygon fill=\"#000000\" stroke=\"#000000\" points=\"259.1739,-46.704 259.3294,-36.1103 252.6015,-44.2948 259.1739,-46.704\"/>\n",
       "<text text-anchor=\"middle\" x=\"321.5\" y=\"-57.8\" font-family=\"Times,serif\" font-size=\"14.00\" fill=\"#000000\">&gt;&#45;0.39344257090776236</text>\n",
       "</g>\n",
       "</g>\n",
       "</svg>\n"
      ],
      "text/plain": [
       "<graphviz.dot.Digraph at 0x7ff07cb04898>"
      ]
     },
     "execution_count": 7,
     "metadata": {},
     "output_type": "execute_result"
    }
   ],
   "source": [
    "rdmt2_10 = RDMT(rsdm, \"shannon\", 0, 10, 0, [1, 2])\n",
    "rdmt2_10.train(train_set2_10_70)\n",
    "print(\"depth : \", rdmt2_10.get_depth())\n",
    "print(\"number of leaves : \", rdmt2_10.get_nb_leaves())\n",
    "print(\"rule monotone : \", rdmt2_10.is_rule_monotone())\n",
    "print(\"accuracy : \", rdmt2_10.accuracy(test_set2_10_70))\n",
    "print(\"average ratio between number of pairwise non-monotone label comparisons and number of pairs : \", rdmt2_10.get_ratio_non_monotone_pairs())\n",
    "print(\"rank shannon evaluation : \", rdmt2_10.evaluate_monotonicity())\n",
    "\n",
    "rdmt2_10.plot()"
   ]
  },
  {
   "cell_type": "code",
   "execution_count": 8,
   "metadata": {},
   "outputs": [
    {
     "name": "stdout",
     "output_type": "stream",
     "text": [
      "depth :  4\n",
      "number of leaves :  4\n",
      "rule monotone :  False\n",
      "accuracy :  1.0\n",
      "average ratio between number of pairwise non-monotone label comparisons and number of pairs :  1.0\n",
      "rank shannon evaluation :  0.5\n"
     ]
    },
    {
     "data": {
      "image/svg+xml": [
       "<?xml version=\"1.0\" encoding=\"UTF-8\" standalone=\"no\"?>\n",
       "<!DOCTYPE svg PUBLIC \"-//W3C//DTD SVG 1.1//EN\"\n",
       " \"http://www.w3.org/Graphics/SVG/1.1/DTD/svg11.dtd\">\n",
       "<!-- Generated by graphviz version 2.40.1 (20161225.0304)\n",
       " -->\n",
       "<!-- Title: %3 Pages: 1 -->\n",
       "<svg width=\"399pt\" height=\"305pt\"\n",
       " viewBox=\"0.00 0.00 399.00 305.00\" xmlns=\"http://www.w3.org/2000/svg\" xmlns:xlink=\"http://www.w3.org/1999/xlink\">\n",
       "<g id=\"graph0\" class=\"graph\" transform=\"scale(1 1) rotate(0) translate(4 301)\">\n",
       "<title>%3</title>\n",
       "<polygon fill=\"#ffffff\" stroke=\"transparent\" points=\"-4,4 -4,-301 395,-301 395,4 -4,4\"/>\n",
       "<!-- A -->\n",
       "<g id=\"node1\" class=\"node\">\n",
       "<title>A</title>\n",
       "<ellipse fill=\"none\" stroke=\"#000000\" cx=\"182\" cy=\"-279\" rx=\"27\" ry=\"18\"/>\n",
       "<text text-anchor=\"middle\" x=\"182\" y=\"-275.3\" font-family=\"Times,serif\" font-size=\"14.00\" fill=\"#000000\">0</text>\n",
       "</g>\n",
       "<!-- Al -->\n",
       "<g id=\"node2\" class=\"node\">\n",
       "<title>Al</title>\n",
       "<ellipse fill=\"none\" stroke=\"#000000\" cx=\"103\" cy=\"-192\" rx=\"27\" ry=\"18\"/>\n",
       "<text text-anchor=\"middle\" x=\"103\" y=\"-188.3\" font-family=\"Times,serif\" font-size=\"14.00\" fill=\"#000000\">1</text>\n",
       "</g>\n",
       "<!-- A&#45;&gt;Al -->\n",
       "<g id=\"edge5\" class=\"edge\">\n",
       "<title>A&#45;&gt;Al</title>\n",
       "<path fill=\"none\" stroke=\"#000000\" d=\"M155.8872,-274.3887C138.0003,-269.7351 115.5069,-260.6018 104,-243 99.6199,-236.2998 98.2082,-227.9729 98.2148,-220.0034\"/>\n",
       "<polygon fill=\"#000000\" stroke=\"#000000\" points=\"101.7153,-220.116 98.9101,-209.8993 94.7318,-219.6354 101.7153,-220.116\"/>\n",
       "<text text-anchor=\"middle\" x=\"172\" y=\"-231.8\" font-family=\"Times,serif\" font-size=\"14.00\" fill=\"#000000\">&lt;=1.6409400815678192</text>\n",
       "</g>\n",
       "<!-- Ar -->\n",
       "<g id=\"node7\" class=\"node\">\n",
       "<title>Ar</title>\n",
       "<polygon fill=\"none\" stroke=\"#000000\" points=\"289,-210 235,-210 235,-174 289,-174 289,-210\"/>\n",
       "<text text-anchor=\"middle\" x=\"262\" y=\"-188.3\" font-family=\"Times,serif\" font-size=\"14.00\" fill=\"#000000\">2</text>\n",
       "</g>\n",
       "<!-- A&#45;&gt;Ar -->\n",
       "<g id=\"edge6\" class=\"edge\">\n",
       "<title>A&#45;&gt;Ar</title>\n",
       "<path fill=\"none\" stroke=\"#000000\" d=\"M204.7071,-269.0358C216.4989,-262.9266 230.4066,-254.1324 240,-243 245.8178,-236.2488 250.3024,-227.7251 253.658,-219.5886\"/>\n",
       "<polygon fill=\"#000000\" stroke=\"#000000\" points=\"257.0177,-220.5943 257.205,-210.0011 250.4526,-218.1654 257.0177,-220.5943\"/>\n",
       "<text text-anchor=\"middle\" x=\"313.5\" y=\"-231.8\" font-family=\"Times,serif\" font-size=\"14.00\" fill=\"#000000\">&gt;1.6409400815678192</text>\n",
       "</g>\n",
       "<!-- All -->\n",
       "<g id=\"node3\" class=\"node\">\n",
       "<title>All</title>\n",
       "<polygon fill=\"none\" stroke=\"#000000\" points=\"54,-123 0,-123 0,-87 54,-87 54,-123\"/>\n",
       "<text text-anchor=\"middle\" x=\"27\" y=\"-101.3\" font-family=\"Times,serif\" font-size=\"14.00\" fill=\"#000000\">1</text>\n",
       "</g>\n",
       "<!-- Al&#45;&gt;All -->\n",
       "<g id=\"edge3\" class=\"edge\">\n",
       "<title>Al&#45;&gt;All</title>\n",
       "<path fill=\"none\" stroke=\"#000000\" d=\"M76.7566,-186.7908C59.7318,-181.9163 38.7799,-172.7649 28,-156 23.7372,-149.3705 22.3175,-141.1865 22.2793,-133.3301\"/>\n",
       "<polygon fill=\"#000000\" stroke=\"#000000\" points=\"25.7725,-133.5476 22.9019,-123.3491 18.786,-133.1117 25.7725,-133.5476\"/>\n",
       "<text text-anchor=\"middle\" x=\"92.5\" y=\"-144.8\" font-family=\"Times,serif\" font-size=\"14.00\" fill=\"#000000\">&lt;=7.398524546773597</text>\n",
       "</g>\n",
       "<!-- Alr -->\n",
       "<g id=\"node4\" class=\"node\">\n",
       "<title>Alr</title>\n",
       "<ellipse fill=\"none\" stroke=\"#000000\" cx=\"179\" cy=\"-105\" rx=\"27\" ry=\"18\"/>\n",
       "<text text-anchor=\"middle\" x=\"179\" y=\"-101.3\" font-family=\"Times,serif\" font-size=\"14.00\" fill=\"#000000\">0</text>\n",
       "</g>\n",
       "<!-- Al&#45;&gt;Alr -->\n",
       "<g id=\"edge4\" class=\"edge\">\n",
       "<title>Al&#45;&gt;Alr</title>\n",
       "<path fill=\"none\" stroke=\"#000000\" d=\"M124.9286,-181.2606C135.7278,-175.0862 148.2691,-166.471 157,-156 162.7073,-149.1552 167.1612,-140.6054 170.5227,-132.4739\"/>\n",
       "<polygon fill=\"#000000\" stroke=\"#000000\" points=\"173.8762,-133.498 174.092,-122.9054 167.3176,-131.0514 173.8762,-133.498\"/>\n",
       "<text text-anchor=\"middle\" x=\"227.5\" y=\"-144.8\" font-family=\"Times,serif\" font-size=\"14.00\" fill=\"#000000\">&gt;7.398524546773597</text>\n",
       "</g>\n",
       "<!-- Alrl -->\n",
       "<g id=\"node5\" class=\"node\">\n",
       "<title>Alrl</title>\n",
       "<polygon fill=\"none\" stroke=\"#000000\" points=\"121,-36 67,-36 67,0 121,0 121,-36\"/>\n",
       "<text text-anchor=\"middle\" x=\"94\" y=\"-14.3\" font-family=\"Times,serif\" font-size=\"14.00\" fill=\"#000000\">2</text>\n",
       "</g>\n",
       "<!-- Alr&#45;&gt;Alrl -->\n",
       "<g id=\"edge1\" class=\"edge\">\n",
       "<title>Alr&#45;&gt;Alrl</title>\n",
       "<path fill=\"none\" stroke=\"#000000\" d=\"M152.5668,-101.3269C133.0939,-97.0964 107.8522,-88.0813 95,-69 90.5969,-62.4629 89.1345,-54.307 89.1002,-46.448\"/>\n",
       "<polygon fill=\"#000000\" stroke=\"#000000\" points=\"92.594,-46.6548 89.7506,-36.4487 85.6088,-46.2004 92.594,-46.6548\"/>\n",
       "<text text-anchor=\"middle\" x=\"168.5\" y=\"-57.8\" font-family=\"Times,serif\" font-size=\"14.00\" fill=\"#000000\">&lt;=&#45;0.39344257090776236</text>\n",
       "</g>\n",
       "<!-- Alrr -->\n",
       "<g id=\"node6\" class=\"node\">\n",
       "<title>Alrr</title>\n",
       "<polygon fill=\"none\" stroke=\"#000000\" points=\"291,-36 237,-36 237,0 291,0 291,-36\"/>\n",
       "<text text-anchor=\"middle\" x=\"264\" y=\"-14.3\" font-family=\"Times,serif\" font-size=\"14.00\" fill=\"#000000\">1</text>\n",
       "</g>\n",
       "<!-- Alr&#45;&gt;Alrr -->\n",
       "<g id=\"edge2\" class=\"edge\">\n",
       "<title>Alr&#45;&gt;Alrr</title>\n",
       "<path fill=\"none\" stroke=\"#000000\" d=\"M202.4402,-96.0161C215.5036,-90.0215 231.2536,-81.0215 242,-69 247.9396,-62.3557 252.4579,-53.8617 255.8071,-45.7195\"/>\n",
       "<polygon fill=\"#000000\" stroke=\"#000000\" points=\"259.1739,-46.704 259.3294,-36.1103 252.6015,-44.2948 259.1739,-46.704\"/>\n",
       "<text text-anchor=\"middle\" x=\"321.5\" y=\"-57.8\" font-family=\"Times,serif\" font-size=\"14.00\" fill=\"#000000\">&gt;&#45;0.39344257090776236</text>\n",
       "</g>\n",
       "</g>\n",
       "</svg>\n"
      ],
      "text/plain": [
       "<graphviz.dot.Digraph at 0x7ff07cb1a438>"
      ]
     },
     "execution_count": 8,
     "metadata": {},
     "output_type": "execute_result"
    }
   ],
   "source": [
    "dmt2_10 = RDMT(sdm, \"shannon\", 0, 10, 0, [1, 2])\n",
    "dmt2_10.train(train_set2_10_70)\n",
    "print(\"depth : \", dmt2_10.get_depth())\n",
    "print(\"number of leaves : \", dmt2_10.get_nb_leaves())\n",
    "print(\"rule monotone : \", dmt2_10.is_rule_monotone())\n",
    "print(\"accuracy : \", dmt2_10.accuracy(test_set2_10_70))\n",
    "print(\"average ratio between number of pairwise non-monotone label comparisons and number of pairs : \", dmt2_10.get_ratio_non_monotone_pairs())\n",
    "print(\"rank shannon evaluation : \", dmt2_10.evaluate_monotonicity())\n",
    "\n",
    "dmt2_10.plot()"
   ]
  },
  {
   "cell_type": "markdown",
   "metadata": {},
   "source": [
    "- 100 exemples :  "
   ]
  },
  {
   "cell_type": "code",
   "execution_count": 377,
   "metadata": {},
   "outputs": [
    {
     "data": {
      "image/png": "[encoded data removed]",
      "text/plain": [
       "<Figure size 432x288 with 1 Axes>"
      ]
     },
     "metadata": {},
     "output_type": "display_data"
    }
   ],
   "source": [
    "set2_100, t = generate_2Ddataset(0, 3, 100, 0.05, 0.1, [[-10, 10], [-10, 10]])\n",
    "t1, h1 = discretize(rsdm, set2_100, 0)\n",
    "t2, h2 = discretize(sdm, set2_100, 0)\n",
    "plot2DSet(set2_100, \"\")\n",
    "# display_discretizations_comparison(set2_100, t1, t2, [0], 0, \"splitting boundaries generated by rsdm and sdm with attribute 0, 10% of noise\", \"rsdm threshold\", \"sdm threshold\")"
   ]
  },
  {
   "cell_type": "code",
   "execution_count": 402,
   "metadata": {},
   "outputs": [
    {
     "data": {
      "image/png": "[encoded data removed]",
      "text/plain": [
       "<Figure size 432x288 with 1 Axes>"
      ]
     },
     "metadata": {},
     "output_type": "display_data"
    }
   ],
   "source": [
    "display_discretizations_comparison(set2_100, t1, t2, [], 0, \"splitting boundaries generated by rsdm and sdm with attribute 0, 5% of noise\", \"rsdm threshold\", \"sdm threshold\")"
   ]
  },
  {
   "cell_type": "code",
   "execution_count": 378,
   "metadata": {},
   "outputs": [],
   "source": [
    "train_set2_100, test_set2_100 = split_dataset(set2_100, 80)"
   ]
  },
  {
   "cell_type": "code",
   "execution_count": 379,
   "metadata": {},
   "outputs": [],
   "source": [
    "sets2_100 = get_ten_folds(set2_100)"
   ]
  },
  {
   "cell_type": "code",
   "execution_count": 403,
   "metadata": {},
   "outputs": [
    {
     "name": "stdout",
     "output_type": "stream",
     "text": [
      "depth :  4\n",
      "number of leaves :  5\n",
      "rule monotone :  True\n",
      "accuracy :  1.0\n",
      "average ratio between number of pairwise non-monotone label comparisons and number of pairs :  0.31645569620253167\n",
      "number of nodes :  4\n",
      "number of pairs :  2\n",
      "pairs ratio :  0.5\n",
      "average rank shannon evaluation :  0.0\n"
     ]
    },
    {
     "data": {
      "image/svg+xml": [
       "<?xml version=\"1.0\" encoding=\"UTF-8\" standalone=\"no\"?>\n",
       "<!DOCTYPE svg PUBLIC \"-//W3C//DTD SVG 1.1//EN\"\n",
       " \"http://www.w3.org/Graphics/SVG/1.1/DTD/svg11.dtd\">\n",
       "<!-- Generated by graphviz version 2.40.1 (20161225.0304)\n",
       " -->\n",
       "<!-- Title: %3 Pages: 1 -->\n",
       "<svg width=\"278pt\" height=\"305pt\"\n",
       " viewBox=\"0.00 0.00 278.00 305.00\" xmlns=\"http://www.w3.org/2000/svg\" xmlns:xlink=\"http://www.w3.org/1999/xlink\">\n",
       "<g id=\"graph0\" class=\"graph\" transform=\"scale(1 1) rotate(0) translate(4 301)\">\n",
       "<title>%3</title>\n",
       "<polygon fill=\"#ffffff\" stroke=\"transparent\" points=\"-4,4 -4,-301 274,-301 274,4 -4,4\"/>\n",
       "<!-- A -->\n",
       "<g id=\"node1\" class=\"node\">\n",
       "<title>A</title>\n",
       "<ellipse fill=\"none\" stroke=\"#000000\" cx=\"135\" cy=\"-279\" rx=\"27\" ry=\"18\"/>\n",
       "<text text-anchor=\"middle\" x=\"135\" y=\"-275.3\" font-family=\"Times,serif\" font-size=\"14.00\" fill=\"#000000\">0</text>\n",
       "</g>\n",
       "<!-- Al -->\n",
       "<g id=\"node2\" class=\"node\">\n",
       "<title>Al</title>\n",
       "<ellipse fill=\"none\" stroke=\"#000000\" cx=\"99\" cy=\"-192\" rx=\"27\" ry=\"18\"/>\n",
       "<text text-anchor=\"middle\" x=\"99\" y=\"-188.3\" font-family=\"Times,serif\" font-size=\"14.00\" fill=\"#000000\">0</text>\n",
       "</g>\n",
       "<!-- A&#45;&gt;Al -->\n",
       "<g id=\"edge7\" class=\"edge\">\n",
       "<title>A&#45;&gt;Al</title>\n",
       "<path fill=\"none\" stroke=\"#000000\" d=\"M119.663,-263.7513C114.505,-257.7585 109.2425,-250.5166 106,-243 102.9335,-235.8914 101.1408,-227.7541 100.1109,-220.0982\"/>\n",
       "<polygon fill=\"#000000\" stroke=\"#000000\" points=\"103.5897,-219.7096 99.1314,-210.0985 96.623,-220.3921 103.5897,-219.7096\"/>\n",
       "<text text-anchor=\"middle\" x=\"126.5\" y=\"-231.8\" font-family=\"Times,serif\" font-size=\"14.00\" fill=\"#000000\">&lt;=3.23</text>\n",
       "</g>\n",
       "<!-- Ar -->\n",
       "<g id=\"node5\" class=\"node\">\n",
       "<title>Ar</title>\n",
       "<ellipse fill=\"none\" stroke=\"#000000\" cx=\"171\" cy=\"-192\" rx=\"27\" ry=\"18\"/>\n",
       "<text text-anchor=\"middle\" x=\"171\" y=\"-188.3\" font-family=\"Times,serif\" font-size=\"14.00\" fill=\"#000000\">0</text>\n",
       "</g>\n",
       "<!-- A&#45;&gt;Ar -->\n",
       "<g id=\"edge8\" class=\"edge\">\n",
       "<title>A&#45;&gt;Ar</title>\n",
       "<path fill=\"none\" stroke=\"#000000\" d=\"M142.2851,-261.3943C147.3111,-249.2482 154.0893,-232.8674 159.7982,-219.0711\"/>\n",
       "<polygon fill=\"#000000\" stroke=\"#000000\" points=\"163.1362,-220.158 163.7257,-209.5796 156.6681,-217.4815 163.1362,-220.158\"/>\n",
       "<text text-anchor=\"middle\" x=\"171.5\" y=\"-231.8\" font-family=\"Times,serif\" font-size=\"14.00\" fill=\"#000000\">&gt;3.23</text>\n",
       "</g>\n",
       "<!-- All -->\n",
       "<g id=\"node3\" class=\"node\">\n",
       "<title>All</title>\n",
       "<polygon fill=\"none\" stroke=\"#000000\" points=\"54,-123 0,-123 0,-87 54,-87 54,-123\"/>\n",
       "<text text-anchor=\"middle\" x=\"27\" y=\"-101.3\" font-family=\"Times,serif\" font-size=\"14.00\" fill=\"#000000\">1</text>\n",
       "</g>\n",
       "<!-- Al&#45;&gt;All -->\n",
       "<g id=\"edge1\" class=\"edge\">\n",
       "<title>Al&#45;&gt;All</title>\n",
       "<path fill=\"none\" stroke=\"#000000\" d=\"M77.9695,-180.4714C68.1481,-174.2553 56.9072,-165.838 49,-156 43.5027,-149.1604 39.1338,-140.739 35.7857,-132.7247\"/>\n",
       "<polygon fill=\"#000000\" stroke=\"#000000\" points=\"39.023,-131.3906 32.2007,-123.2846 32.479,-133.8757 39.023,-131.3906\"/>\n",
       "<text text-anchor=\"middle\" x=\"72\" y=\"-144.8\" font-family=\"Times,serif\" font-size=\"14.00\" fill=\"#000000\">&lt;=&#45;3.19</text>\n",
       "</g>\n",
       "<!-- Alr -->\n",
       "<g id=\"node4\" class=\"node\">\n",
       "<title>Alr</title>\n",
       "<polygon fill=\"none\" stroke=\"#000000\" points=\"126,-123 72,-123 72,-87 126,-87 126,-123\"/>\n",
       "<text text-anchor=\"middle\" x=\"99\" y=\"-101.3\" font-family=\"Times,serif\" font-size=\"14.00\" fill=\"#000000\">2</text>\n",
       "</g>\n",
       "<!-- Al&#45;&gt;Alr -->\n",
       "<g id=\"edge2\" class=\"edge\">\n",
       "<title>Al&#45;&gt;Alr</title>\n",
       "<path fill=\"none\" stroke=\"#000000\" d=\"M99,-173.9735C99,-162.1918 99,-146.5607 99,-133.1581\"/>\n",
       "<polygon fill=\"#000000\" stroke=\"#000000\" points=\"102.5001,-133.0033 99,-123.0034 95.5001,-133.0034 102.5001,-133.0033\"/>\n",
       "<text text-anchor=\"middle\" x=\"117.5\" y=\"-144.8\" font-family=\"Times,serif\" font-size=\"14.00\" fill=\"#000000\">&gt;&#45;3.19</text>\n",
       "</g>\n",
       "<!-- Arl -->\n",
       "<g id=\"node6\" class=\"node\">\n",
       "<title>Arl</title>\n",
       "<ellipse fill=\"none\" stroke=\"#000000\" cx=\"171\" cy=\"-105\" rx=\"27\" ry=\"18\"/>\n",
       "<text text-anchor=\"middle\" x=\"171\" y=\"-101.3\" font-family=\"Times,serif\" font-size=\"14.00\" fill=\"#000000\">1</text>\n",
       "</g>\n",
       "<!-- Ar&#45;&gt;Arl -->\n",
       "<g id=\"edge5\" class=\"edge\">\n",
       "<title>Ar&#45;&gt;Arl</title>\n",
       "<path fill=\"none\" stroke=\"#000000\" d=\"M171,-173.9735C171,-162.1918 171,-146.5607 171,-133.1581\"/>\n",
       "<polygon fill=\"#000000\" stroke=\"#000000\" points=\"174.5001,-133.0033 171,-123.0034 167.5001,-133.0034 174.5001,-133.0033\"/>\n",
       "<text text-anchor=\"middle\" x=\"191.5\" y=\"-144.8\" font-family=\"Times,serif\" font-size=\"14.00\" fill=\"#000000\">&lt;=4.02</text>\n",
       "</g>\n",
       "<!-- Arr -->\n",
       "<g id=\"node9\" class=\"node\">\n",
       "<title>Arr</title>\n",
       "<polygon fill=\"none\" stroke=\"#000000\" points=\"270,-123 216,-123 216,-87 270,-87 270,-123\"/>\n",
       "<text text-anchor=\"middle\" x=\"243\" y=\"-101.3\" font-family=\"Times,serif\" font-size=\"14.00\" fill=\"#000000\">3</text>\n",
       "</g>\n",
       "<!-- Ar&#45;&gt;Arr -->\n",
       "<g id=\"edge6\" class=\"edge\">\n",
       "<title>Ar&#45;&gt;Arr</title>\n",
       "<path fill=\"none\" stroke=\"#000000\" d=\"M190.4634,-179.1682C199.0078,-172.8856 208.7269,-164.7858 216,-156 221.8774,-148.9001 227.0175,-140.3166 231.1912,-132.2328\"/>\n",
       "<polygon fill=\"#000000\" stroke=\"#000000\" points=\"234.4105,-133.6155 235.633,-123.0914 228.1145,-130.5562 234.4105,-133.6155\"/>\n",
       "<text text-anchor=\"middle\" x=\"241.5\" y=\"-144.8\" font-family=\"Times,serif\" font-size=\"14.00\" fill=\"#000000\">&gt;4.02</text>\n",
       "</g>\n",
       "<!-- Arll -->\n",
       "<g id=\"node7\" class=\"node\">\n",
       "<title>Arll</title>\n",
       "<polygon fill=\"none\" stroke=\"#000000\" points=\"162,-36 108,-36 108,0 162,0 162,-36\"/>\n",
       "<text text-anchor=\"middle\" x=\"135\" y=\"-14.3\" font-family=\"Times,serif\" font-size=\"14.00\" fill=\"#000000\">2</text>\n",
       "</g>\n",
       "<!-- Arl&#45;&gt;Arll -->\n",
       "<g id=\"edge3\" class=\"edge\">\n",
       "<title>Arl&#45;&gt;Arll</title>\n",
       "<path fill=\"none\" stroke=\"#000000\" d=\"M154.1553,-90.4597C148.3263,-84.4436 142.4063,-77.0019 139,-69 135.9866,-61.9212 134.5546,-53.7935 133.9787,-46.1373\"/>\n",
       "<polygon fill=\"#000000\" stroke=\"#000000\" points=\"137.4766,-46.014 133.656,-36.1321 130.4803,-46.2398 137.4766,-46.014\"/>\n",
       "<text text-anchor=\"middle\" x=\"162\" y=\"-57.8\" font-family=\"Times,serif\" font-size=\"14.00\" fill=\"#000000\">&lt;=&#45;2.31</text>\n",
       "</g>\n",
       "<!-- Arlr -->\n",
       "<g id=\"node8\" class=\"node\">\n",
       "<title>Arlr</title>\n",
       "<polygon fill=\"none\" stroke=\"#000000\" points=\"234,-36 180,-36 180,0 234,0 234,-36\"/>\n",
       "<text text-anchor=\"middle\" x=\"207\" y=\"-14.3\" font-family=\"Times,serif\" font-size=\"14.00\" fill=\"#000000\">3</text>\n",
       "</g>\n",
       "<!-- Arl&#45;&gt;Arlr -->\n",
       "<g id=\"edge4\" class=\"edge\">\n",
       "<title>Arl&#45;&gt;Arlr</title>\n",
       "<path fill=\"none\" stroke=\"#000000\" d=\"M178.2851,-87.3943C183.245,-75.408 189.9113,-59.2978 195.5723,-45.617\"/>\n",
       "<polygon fill=\"#000000\" stroke=\"#000000\" points=\"198.8884,-46.7569 199.4779,-36.1785 192.4202,-44.0804 198.8884,-46.7569\"/>\n",
       "<text text-anchor=\"middle\" x=\"209.5\" y=\"-57.8\" font-family=\"Times,serif\" font-size=\"14.00\" fill=\"#000000\">&gt;&#45;2.31</text>\n",
       "</g>\n",
       "</g>\n",
       "</svg>\n"
      ],
      "text/plain": [
       "<graphviz.dot.Digraph at 0x7ff07c984438>"
      ]
     },
     "execution_count": 403,
     "metadata": {},
     "output_type": "execute_result"
    }
   ],
   "source": [
    "rdmt2_100 = RDMT(rsdm, \"shannon\", 0, 100, 0.01 * train_set2_100.size(), [1, 2, 3])\n",
    "rdmt2_100.train(train_set2_100)\n",
    "print(\"depth : \", rdmt2_100.get_depth())\n",
    "print(\"number of leaves : \", rdmt2_100.get_nb_leaves())\n",
    "print(\"rule monotone : \", rdmt2_100.is_rule_monotone())\n",
    "print(\"accuracy : \", rdmt2_100.accuracy(test_set2_100))\n",
    "print(\"average ratio between number of pairwise non-monotone label comparisons and number of pairs : \", rdmt2_100.get_ratio_non_monotone_pairs())\n",
    "print(\"number of nodes : \", rdmt2_100.get_nb_nodes())\n",
    "print(\"number of pairs : \", rdmt2_100.get_total_pairs())\n",
    "print(\"pairs ratio : \", rdmt2_100.pairs_ratio())\n",
    "print(\"average rank shannon evaluation : \", rdmt2_100.evaluate_monotonicity())\n",
    "rdmt2_100.plot()\n"
   ]
  },
  {
   "cell_type": "code",
   "execution_count": 380,
   "metadata": {
    "scrolled": false
   },
   "outputs": [
    {
     "name": "stdout",
     "output_type": "stream",
     "text": [
      "depth :  4\n",
      "number of leaves :  5\n",
      "rule monotone :  True\n",
      "accuracy :  1.0\n",
      "average ratio between number of pairwise non-monotone label comparisons and number of pairs :  0.31645569620253167\n",
      "number of nodes :  4\n",
      "number of pairs :  2\n",
      "pairs ratio :  0.5\n",
      "average rank shannon evaluation :  0.0\n"
     ]
    },
    {
     "data": {
      "image/svg+xml": [
       "<?xml version=\"1.0\" encoding=\"UTF-8\" standalone=\"no\"?>\n",
       "<!DOCTYPE svg PUBLIC \"-//W3C//DTD SVG 1.1//EN\"\n",
       " \"http://www.w3.org/Graphics/SVG/1.1/DTD/svg11.dtd\">\n",
       "<!-- Generated by graphviz version 2.40.1 (20161225.0304)\n",
       " -->\n",
       "<!-- Title: %3 Pages: 1 -->\n",
       "<svg width=\"603pt\" height=\"305pt\"\n",
       " viewBox=\"0.00 0.00 603.00 305.00\" xmlns=\"http://www.w3.org/2000/svg\" xmlns:xlink=\"http://www.w3.org/1999/xlink\">\n",
       "<g id=\"graph0\" class=\"graph\" transform=\"scale(1 1) rotate(0) translate(4 301)\">\n",
       "<title>%3</title>\n",
       "<polygon fill=\"#ffffff\" stroke=\"transparent\" points=\"-4,4 -4,-301 599,-301 599,4 -4,4\"/>\n",
       "<!-- A -->\n",
       "<g id=\"node1\" class=\"node\">\n",
       "<title>A</title>\n",
       "<ellipse fill=\"none\" stroke=\"#000000\" cx=\"259\" cy=\"-279\" rx=\"27\" ry=\"18\"/>\n",
       "<text text-anchor=\"middle\" x=\"259\" y=\"-275.3\" font-family=\"Times,serif\" font-size=\"14.00\" fill=\"#000000\">0</text>\n",
       "</g>\n",
       "<!-- Al -->\n",
       "<g id=\"node2\" class=\"node\">\n",
       "<title>Al</title>\n",
       "<ellipse fill=\"none\" stroke=\"#000000\" cx=\"180\" cy=\"-192\" rx=\"27\" ry=\"18\"/>\n",
       "<text text-anchor=\"middle\" x=\"180\" y=\"-188.3\" font-family=\"Times,serif\" font-size=\"14.00\" fill=\"#000000\">0</text>\n",
       "</g>\n",
       "<!-- A&#45;&gt;Al -->\n",
       "<g id=\"edge7\" class=\"edge\">\n",
       "<title>A&#45;&gt;Al</title>\n",
       "<path fill=\"none\" stroke=\"#000000\" d=\"M232.8872,-274.3887C215.0003,-269.7351 192.5069,-260.6018 181,-243 176.6199,-236.2998 175.2082,-227.9729 175.2148,-220.0034\"/>\n",
       "<polygon fill=\"#000000\" stroke=\"#000000\" points=\"178.7153,-220.116 175.9101,-209.8993 171.7318,-219.6354 178.7153,-220.116\"/>\n",
       "<text text-anchor=\"middle\" x=\"249\" y=\"-231.8\" font-family=\"Times,serif\" font-size=\"14.00\" fill=\"#000000\">&lt;=3.2288095345377243</text>\n",
       "</g>\n",
       "<!-- Ar -->\n",
       "<g id=\"node5\" class=\"node\">\n",
       "<title>Ar</title>\n",
       "<ellipse fill=\"none\" stroke=\"#000000\" cx=\"339\" cy=\"-192\" rx=\"27\" ry=\"18\"/>\n",
       "<text text-anchor=\"middle\" x=\"339\" y=\"-188.3\" font-family=\"Times,serif\" font-size=\"14.00\" fill=\"#000000\">0</text>\n",
       "</g>\n",
       "<!-- A&#45;&gt;Ar -->\n",
       "<g id=\"edge8\" class=\"edge\">\n",
       "<title>A&#45;&gt;Ar</title>\n",
       "<path fill=\"none\" stroke=\"#000000\" d=\"M281.7071,-269.0358C293.4989,-262.9266 307.4066,-254.1324 317,-243 322.8178,-236.2488 327.3024,-227.7251 330.658,-219.5886\"/>\n",
       "<polygon fill=\"#000000\" stroke=\"#000000\" points=\"334.0177,-220.5943 334.205,-210.0011 327.4526,-218.1654 334.0177,-220.5943\"/>\n",
       "<text text-anchor=\"middle\" x=\"389.5\" y=\"-231.8\" font-family=\"Times,serif\" font-size=\"14.00\" fill=\"#000000\">&gt;3.2288095345377243</text>\n",
       "</g>\n",
       "<!-- All -->\n",
       "<g id=\"node3\" class=\"node\">\n",
       "<title>All</title>\n",
       "<polygon fill=\"none\" stroke=\"#000000\" points=\"54,-123 0,-123 0,-87 54,-87 54,-123\"/>\n",
       "<text text-anchor=\"middle\" x=\"27\" y=\"-101.3\" font-family=\"Times,serif\" font-size=\"14.00\" fill=\"#000000\">1</text>\n",
       "</g>\n",
       "<!-- Al&#45;&gt;All -->\n",
       "<g id=\"edge1\" class=\"edge\">\n",
       "<title>Al&#45;&gt;All</title>\n",
       "<path fill=\"none\" stroke=\"#000000\" d=\"M153.5764,-187.9445C118.9354,-182.1366 60.7203,-170.5295 45,-156 38.5291,-150.0193 34.3836,-141.57 31.7281,-133.2658\"/>\n",
       "<polygon fill=\"#000000\" stroke=\"#000000\" points=\"35.0648,-132.1887 29.1718,-123.3839 28.2878,-133.9418 35.0648,-132.1887\"/>\n",
       "<text text-anchor=\"middle\" x=\"111.5\" y=\"-144.8\" font-family=\"Times,serif\" font-size=\"14.00\" fill=\"#000000\">&lt;=&#45;3.186356814068807</text>\n",
       "</g>\n",
       "<!-- Alr -->\n",
       "<g id=\"node4\" class=\"node\">\n",
       "<title>Alr</title>\n",
       "<polygon fill=\"none\" stroke=\"#000000\" points=\"210,-123 156,-123 156,-87 210,-87 210,-123\"/>\n",
       "<text text-anchor=\"middle\" x=\"183\" y=\"-101.3\" font-family=\"Times,serif\" font-size=\"14.00\" fill=\"#000000\">2</text>\n",
       "</g>\n",
       "<!-- Al&#45;&gt;Alr -->\n",
       "<g id=\"edge2\" class=\"edge\">\n",
       "<title>Al&#45;&gt;Alr</title>\n",
       "<path fill=\"none\" stroke=\"#000000\" d=\"M180.6216,-173.9735C181.0279,-162.1918 181.5669,-146.5607 182.029,-133.1581\"/>\n",
       "<polygon fill=\"#000000\" stroke=\"#000000\" points=\"185.5324,-133.1181 182.3792,-123.0034 178.5366,-132.8768 185.5324,-133.1181\"/>\n",
       "<text text-anchor=\"middle\" x=\"244.5\" y=\"-144.8\" font-family=\"Times,serif\" font-size=\"14.00\" fill=\"#000000\">&gt;&#45;3.186356814068807</text>\n",
       "</g>\n",
       "<!-- Arl -->\n",
       "<g id=\"node6\" class=\"node\">\n",
       "<title>Arl</title>\n",
       "<ellipse fill=\"none\" stroke=\"#000000\" cx=\"334\" cy=\"-105\" rx=\"27\" ry=\"18\"/>\n",
       "<text text-anchor=\"middle\" x=\"334\" y=\"-101.3\" font-family=\"Times,serif\" font-size=\"14.00\" fill=\"#000000\">1</text>\n",
       "</g>\n",
       "<!-- Ar&#45;&gt;Arl -->\n",
       "<g id=\"edge5\" class=\"edge\">\n",
       "<title>Ar&#45;&gt;Arl</title>\n",
       "<path fill=\"none\" stroke=\"#000000\" d=\"M336.6421,-173.7143C335.999,-168.0462 335.3765,-161.7731 335,-156 334.5275,-148.7563 334.2551,-140.9228 334.1031,-133.6197\"/>\n",
       "<polygon fill=\"#000000\" stroke=\"#000000\" points=\"337.6001,-133.3787 333.9571,-123.4299 330.6008,-133.479 337.6001,-133.3787\"/>\n",
       "<text text-anchor=\"middle\" x=\"399.5\" y=\"-144.8\" font-family=\"Times,serif\" font-size=\"14.00\" fill=\"#000000\">&lt;=4.018317481063157</text>\n",
       "</g>\n",
       "<!-- Arr -->\n",
       "<g id=\"node9\" class=\"node\">\n",
       "<title>Arr</title>\n",
       "<polygon fill=\"none\" stroke=\"#000000\" points=\"513,-123 459,-123 459,-87 513,-87 513,-123\"/>\n",
       "<text text-anchor=\"middle\" x=\"486\" y=\"-101.3\" font-family=\"Times,serif\" font-size=\"14.00\" fill=\"#000000\">3</text>\n",
       "</g>\n",
       "<!-- Ar&#45;&gt;Arr -->\n",
       "<g id=\"edge6\" class=\"edge\">\n",
       "<title>Ar&#45;&gt;Arr</title>\n",
       "<path fill=\"none\" stroke=\"#000000\" d=\"M365.2755,-187.1723C397.4083,-180.8117 449.3392,-168.9099 464,-156 470.8661,-149.9539 475.6646,-141.3845 478.985,-132.9925\"/>\n",
       "<polygon fill=\"#000000\" stroke=\"#000000\" points=\"482.3463,-133.9786 482.2393,-123.3843 475.7162,-131.733 482.3463,-133.9786\"/>\n",
       "<text text-anchor=\"middle\" x=\"534.5\" y=\"-144.8\" font-family=\"Times,serif\" font-size=\"14.00\" fill=\"#000000\">&gt;4.018317481063157</text>\n",
       "</g>\n",
       "<!-- Arll -->\n",
       "<g id=\"node7\" class=\"node\">\n",
       "<title>Arll</title>\n",
       "<polygon fill=\"none\" stroke=\"#000000\" points=\"279,-36 225,-36 225,0 279,0 279,-36\"/>\n",
       "<text text-anchor=\"middle\" x=\"252\" y=\"-14.3\" font-family=\"Times,serif\" font-size=\"14.00\" fill=\"#000000\">2</text>\n",
       "</g>\n",
       "<!-- Arl&#45;&gt;Arll -->\n",
       "<g id=\"edge3\" class=\"edge\">\n",
       "<title>Arl&#45;&gt;Arll</title>\n",
       "<path fill=\"none\" stroke=\"#000000\" d=\"M307.1552,-101.4911C287.3984,-97.3488 261.8334,-88.3723 249,-69 244.6405,-62.4192 243.6748,-54.25 244.27,-46.3922\"/>\n",
       "<polygon fill=\"#000000\" stroke=\"#000000\" points=\"247.7459,-46.8157 245.7976,-36.4016 240.8263,-45.7577 247.7459,-46.8157\"/>\n",
       "<text text-anchor=\"middle\" x=\"319\" y=\"-57.8\" font-family=\"Times,serif\" font-size=\"14.00\" fill=\"#000000\">&lt;=&#45;2.3130634307120106</text>\n",
       "</g>\n",
       "<!-- Arlr -->\n",
       "<g id=\"node8\" class=\"node\">\n",
       "<title>Arlr</title>\n",
       "<polygon fill=\"none\" stroke=\"#000000\" points=\"442,-36 388,-36 388,0 442,0 442,-36\"/>\n",
       "<text text-anchor=\"middle\" x=\"415\" y=\"-14.3\" font-family=\"Times,serif\" font-size=\"14.00\" fill=\"#000000\">3</text>\n",
       "</g>\n",
       "<!-- Arl&#45;&gt;Arlr -->\n",
       "<g id=\"edge4\" class=\"edge\">\n",
       "<title>Arl&#45;&gt;Arlr</title>\n",
       "<path fill=\"none\" stroke=\"#000000\" d=\"M356.8111,-95.2637C368.8681,-89.1733 383.1653,-80.3248 393,-69 398.8436,-62.2711 403.3352,-53.7535 406.6895,-45.6159\"/>\n",
       "<polygon fill=\"#000000\" stroke=\"#000000\" points=\"410.0507,-46.6172 410.2313,-36.0239 403.484,-44.1924 410.0507,-46.6172\"/>\n",
       "<text text-anchor=\"middle\" x=\"468\" y=\"-57.8\" font-family=\"Times,serif\" font-size=\"14.00\" fill=\"#000000\">&gt;&#45;2.3130634307120106</text>\n",
       "</g>\n",
       "</g>\n",
       "</svg>\n"
      ],
      "text/plain": [
       "<graphviz.dot.Digraph at 0x7ff06011a470>"
      ]
     },
     "execution_count": 380,
     "metadata": {},
     "output_type": "execute_result"
    }
   ],
   "source": [
    "rdmt2_100 = RDMT(rsdm, \"shannon\", 0, 100, 0.01 * train_set2_100.size(), [1, 2, 3])\n",
    "rdmt2_100.train(train_set2_100)\n",
    "print(\"depth : \", rdmt2_100.get_depth())\n",
    "print(\"number of leaves : \", rdmt2_100.get_nb_leaves())\n",
    "print(\"rule monotone : \", rdmt2_100.is_rule_monotone())\n",
    "print(\"accuracy : \", rdmt2_100.accuracy(test_set2_100))\n",
    "print(\"average ratio between number of pairwise non-monotone label comparisons and number of pairs : \", rdmt2_100.get_ratio_non_monotone_pairs())\n",
    "print(\"number of nodes : \", rdmt2_100.get_nb_nodes())\n",
    "print(\"number of pairs : \", rdmt2_100.get_total_pairs())\n",
    "print(\"pairs ratio : \", rdmt2_100.pairs_ratio())\n",
    "print(\"average rank shannon evaluation : \", rdmt2_100.evaluate_monotonicity())\n",
    "rdmt2_100.plot()\n"
   ]
  },
  {
   "cell_type": "code",
   "execution_count": 404,
   "metadata": {},
   "outputs": [
    {
     "name": "stdout",
     "output_type": "stream",
     "text": [
      "depth :  5\n",
      "number of leaves :  5\n",
      "rule monotone :  False\n",
      "accuracy :  1.0\n",
      "average ratio between number of pairwise non-monotone label comparisons and number of pairs :  1.0\n",
      "number of nodes :  4\n",
      "number of pairs :  1\n",
      "pairs ratio :  0.25\n",
      "average rank shannon evaluation :  0.5283208335737187\n"
     ]
    },
    {
     "data": {
      "image/svg+xml": [
       "<?xml version=\"1.0\" encoding=\"UTF-8\" standalone=\"no\"?>\n",
       "<!DOCTYPE svg PUBLIC \"-//W3C//DTD SVG 1.1//EN\"\n",
       " \"http://www.w3.org/Graphics/SVG/1.1/DTD/svg11.dtd\">\n",
       "<!-- Generated by graphviz version 2.40.1 (20161225.0304)\n",
       " -->\n",
       "<!-- Title: %3 Pages: 1 -->\n",
       "<svg width=\"206pt\" height=\"392pt\"\n",
       " viewBox=\"0.00 0.00 206.00 392.00\" xmlns=\"http://www.w3.org/2000/svg\" xmlns:xlink=\"http://www.w3.org/1999/xlink\">\n",
       "<g id=\"graph0\" class=\"graph\" transform=\"scale(1 1) rotate(0) translate(4 388)\">\n",
       "<title>%3</title>\n",
       "<polygon fill=\"#ffffff\" stroke=\"transparent\" points=\"-4,4 -4,-388 202,-388 202,4 -4,4\"/>\n",
       "<!-- A -->\n",
       "<g id=\"node1\" class=\"node\">\n",
       "<title>A</title>\n",
       "<ellipse fill=\"none\" stroke=\"#000000\" cx=\"62\" cy=\"-366\" rx=\"27\" ry=\"18\"/>\n",
       "<text text-anchor=\"middle\" x=\"62\" y=\"-362.3\" font-family=\"Times,serif\" font-size=\"14.00\" fill=\"#000000\">0</text>\n",
       "</g>\n",
       "<!-- Al -->\n",
       "<g id=\"node2\" class=\"node\">\n",
       "<title>Al</title>\n",
       "<polygon fill=\"none\" stroke=\"#000000\" points=\"54,-297 0,-297 0,-261 54,-261 54,-297\"/>\n",
       "<text text-anchor=\"middle\" x=\"27\" y=\"-275.3\" font-family=\"Times,serif\" font-size=\"14.00\" fill=\"#000000\">1</text>\n",
       "</g>\n",
       "<!-- A&#45;&gt;Al -->\n",
       "<g id=\"edge7\" class=\"edge\">\n",
       "<title>A&#45;&gt;Al</title>\n",
       "<path fill=\"none\" stroke=\"#000000\" d=\"M44.8121,-351.9646C38.6675,-345.9109 32.4216,-338.3104 29,-330 26.0777,-322.9022 24.9041,-314.7684 24.6303,-307.1124\"/>\n",
       "<polygon fill=\"#000000\" stroke=\"#000000\" points=\"28.13,-307.1469 24.7351,-297.1107 21.1304,-307.0735 28.13,-307.1469\"/>\n",
       "<text text-anchor=\"middle\" x=\"52\" y=\"-318.8\" font-family=\"Times,serif\" font-size=\"14.00\" fill=\"#000000\">&lt;=&#45;3.19</text>\n",
       "</g>\n",
       "<!-- Ar -->\n",
       "<g id=\"node3\" class=\"node\">\n",
       "<title>Ar</title>\n",
       "<ellipse fill=\"none\" stroke=\"#000000\" cx=\"99\" cy=\"-279\" rx=\"27\" ry=\"18\"/>\n",
       "<text text-anchor=\"middle\" x=\"99\" y=\"-275.3\" font-family=\"Times,serif\" font-size=\"14.00\" fill=\"#000000\">0</text>\n",
       "</g>\n",
       "<!-- A&#45;&gt;Ar -->\n",
       "<g id=\"edge8\" class=\"edge\">\n",
       "<title>A&#45;&gt;Ar</title>\n",
       "<path fill=\"none\" stroke=\"#000000\" d=\"M69.4875,-348.3943C74.6531,-336.2482 81.6196,-319.8674 87.487,-306.0711\"/>\n",
       "<polygon fill=\"#000000\" stroke=\"#000000\" points=\"90.8308,-307.1517 91.5236,-296.5796 84.3891,-304.4121 90.8308,-307.1517\"/>\n",
       "<text text-anchor=\"middle\" x=\"101.5\" y=\"-318.8\" font-family=\"Times,serif\" font-size=\"14.00\" fill=\"#000000\">&gt;&#45;3.19</text>\n",
       "</g>\n",
       "<!-- Arl -->\n",
       "<g id=\"node4\" class=\"node\">\n",
       "<title>Arl</title>\n",
       "<polygon fill=\"none\" stroke=\"#000000\" points=\"92,-210 38,-210 38,-174 92,-174 92,-210\"/>\n",
       "<text text-anchor=\"middle\" x=\"65\" y=\"-188.3\" font-family=\"Times,serif\" font-size=\"14.00\" fill=\"#000000\">2</text>\n",
       "</g>\n",
       "<!-- Ar&#45;&gt;Arl -->\n",
       "<g id=\"edge5\" class=\"edge\">\n",
       "<title>Ar&#45;&gt;Arl</title>\n",
       "<path fill=\"none\" stroke=\"#000000\" d=\"M83.5045,-263.8179C78.3294,-257.8322 73.0965,-250.5779 70,-243 67.0848,-235.8659 65.57,-227.7204 64.8416,-220.0647\"/>\n",
       "<polygon fill=\"#000000\" stroke=\"#000000\" points=\"68.3356,-219.857 64.2782,-210.0699 61.3467,-220.2511 68.3356,-219.857\"/>\n",
       "<text text-anchor=\"middle\" x=\"90.5\" y=\"-231.8\" font-family=\"Times,serif\" font-size=\"14.00\" fill=\"#000000\">&lt;=3.23</text>\n",
       "</g>\n",
       "<!-- Arr -->\n",
       "<g id=\"node5\" class=\"node\">\n",
       "<title>Arr</title>\n",
       "<ellipse fill=\"none\" stroke=\"#000000\" cx=\"137\" cy=\"-192\" rx=\"27\" ry=\"18\"/>\n",
       "<text text-anchor=\"middle\" x=\"137\" y=\"-188.3\" font-family=\"Times,serif\" font-size=\"14.00\" fill=\"#000000\">0</text>\n",
       "</g>\n",
       "<!-- Ar&#45;&gt;Arr -->\n",
       "<g id=\"edge6\" class=\"edge\">\n",
       "<title>Ar&#45;&gt;Arr</title>\n",
       "<path fill=\"none\" stroke=\"#000000\" d=\"M106.6899,-261.3943C112.0299,-249.1683 119.2441,-232.6517 125.2946,-218.7992\"/>\n",
       "<polygon fill=\"#000000\" stroke=\"#000000\" points=\"128.6559,-219.8476 129.4513,-209.2827 122.2411,-217.0457 128.6559,-219.8476\"/>\n",
       "<text text-anchor=\"middle\" x=\"136.5\" y=\"-231.8\" font-family=\"Times,serif\" font-size=\"14.00\" fill=\"#000000\">&gt;3.23</text>\n",
       "</g>\n",
       "<!-- Arrl -->\n",
       "<g id=\"node6\" class=\"node\">\n",
       "<title>Arrl</title>\n",
       "<ellipse fill=\"none\" stroke=\"#000000\" cx=\"99\" cy=\"-105\" rx=\"27\" ry=\"18\"/>\n",
       "<text text-anchor=\"middle\" x=\"99\" y=\"-101.3\" font-family=\"Times,serif\" font-size=\"14.00\" fill=\"#000000\">0</text>\n",
       "</g>\n",
       "<!-- Arr&#45;&gt;Arrl -->\n",
       "<g id=\"edge3\" class=\"edge\">\n",
       "<title>Arr&#45;&gt;Arrl</title>\n",
       "<path fill=\"none\" stroke=\"#000000\" d=\"M120.9212,-177.2668C115.3037,-171.227 109.5263,-163.8195 106,-156 102.8174,-148.9426 100.9871,-140.8218 99.9584,-133.1654\"/>\n",
       "<polygon fill=\"#000000\" stroke=\"#000000\" points=\"103.4373,-132.7773 99.0007,-123.1562 96.4692,-133.4441 103.4373,-132.7773\"/>\n",
       "<text text-anchor=\"middle\" x=\"126.5\" y=\"-144.8\" font-family=\"Times,serif\" font-size=\"14.00\" fill=\"#000000\">&lt;=4.02</text>\n",
       "</g>\n",
       "<!-- Arrr -->\n",
       "<g id=\"node9\" class=\"node\">\n",
       "<title>Arrr</title>\n",
       "<polygon fill=\"none\" stroke=\"#000000\" points=\"198,-123 144,-123 144,-87 198,-87 198,-123\"/>\n",
       "<text text-anchor=\"middle\" x=\"171\" y=\"-101.3\" font-family=\"Times,serif\" font-size=\"14.00\" fill=\"#000000\">3</text>\n",
       "</g>\n",
       "<!-- Arr&#45;&gt;Arrr -->\n",
       "<g id=\"edge4\" class=\"edge\">\n",
       "<title>Arr&#45;&gt;Arrr</title>\n",
       "<path fill=\"none\" stroke=\"#000000\" d=\"M143.8804,-174.3943C148.5647,-162.408 154.8606,-146.2978 160.2071,-132.617\"/>\n",
       "<polygon fill=\"#000000\" stroke=\"#000000\" points=\"163.5157,-133.7665 163.8958,-123.1785 156.9959,-131.2185 163.5157,-133.7665\"/>\n",
       "<text text-anchor=\"middle\" x=\"172.5\" y=\"-144.8\" font-family=\"Times,serif\" font-size=\"14.00\" fill=\"#000000\">&gt;4.02</text>\n",
       "</g>\n",
       "<!-- Arrll -->\n",
       "<g id=\"node7\" class=\"node\">\n",
       "<title>Arrll</title>\n",
       "<polygon fill=\"none\" stroke=\"#000000\" points=\"90,-36 36,-36 36,0 90,0 90,-36\"/>\n",
       "<text text-anchor=\"middle\" x=\"63\" y=\"-14.3\" font-family=\"Times,serif\" font-size=\"14.00\" fill=\"#000000\">3</text>\n",
       "</g>\n",
       "<!-- Arrl&#45;&gt;Arrll -->\n",
       "<g id=\"edge1\" class=\"edge\">\n",
       "<title>Arrl&#45;&gt;Arrll</title>\n",
       "<path fill=\"none\" stroke=\"#000000\" d=\"M84.8845,-89.5283C80.0999,-83.5114 75.1697,-76.3112 72,-69 68.902,-61.8542 66.8701,-53.7049 65.5375,-46.0494\"/>\n",
       "<polygon fill=\"#000000\" stroke=\"#000000\" points=\"68.9898,-45.4657 64.1194,-36.0567 62.0593,-46.4493 68.9898,-45.4657\"/>\n",
       "<text text-anchor=\"middle\" x=\"92.5\" y=\"-57.8\" font-family=\"Times,serif\" font-size=\"14.00\" fill=\"#000000\">&lt;=3.75</text>\n",
       "</g>\n",
       "<!-- Arrlr -->\n",
       "<g id=\"node8\" class=\"node\">\n",
       "<title>Arrlr</title>\n",
       "<polygon fill=\"none\" stroke=\"#000000\" points=\"162,-36 108,-36 108,0 162,0 162,-36\"/>\n",
       "<text text-anchor=\"middle\" x=\"135\" y=\"-14.3\" font-family=\"Times,serif\" font-size=\"14.00\" fill=\"#000000\">2</text>\n",
       "</g>\n",
       "<!-- Arrl&#45;&gt;Arrlr -->\n",
       "<g id=\"edge2\" class=\"edge\">\n",
       "<title>Arrl&#45;&gt;Arrlr</title>\n",
       "<path fill=\"none\" stroke=\"#000000\" d=\"M106.2851,-87.3943C111.245,-75.408 117.9113,-59.2978 123.5723,-45.617\"/>\n",
       "<polygon fill=\"#000000\" stroke=\"#000000\" points=\"126.8884,-46.7569 127.4779,-36.1785 120.4202,-44.0804 126.8884,-46.7569\"/>\n",
       "<text text-anchor=\"middle\" x=\"135.5\" y=\"-57.8\" font-family=\"Times,serif\" font-size=\"14.00\" fill=\"#000000\">&gt;3.75</text>\n",
       "</g>\n",
       "</g>\n",
       "</svg>\n"
      ],
      "text/plain": [
       "<graphviz.dot.Digraph at 0x7ff07cb935f8>"
      ]
     },
     "execution_count": 404,
     "metadata": {},
     "output_type": "execute_result"
    }
   ],
   "source": [
    "dmt2_100 = RDMT(sdm, \"shannon\", 0, 100, 0.01 * train_set2_100.size(), [1, 2, 3])\n",
    "dmt2_100.train(train_set2_100)\n",
    "print(\"depth : \", dmt2_100.get_depth())\n",
    "print(\"number of leaves : \", dmt2_100.get_nb_leaves())\n",
    "print(\"rule monotone : \", dmt2_100.is_rule_monotone())\n",
    "print(\"accuracy : \", dmt2_100.accuracy(test_set2_100))\n",
    "print(\"average ratio between number of pairwise non-monotone label comparisons and number of pairs : \", dmt2_100.get_ratio_non_monotone_pairs())\n",
    "print(\"number of nodes : \", dmt2_100.get_nb_nodes())\n",
    "print(\"number of pairs : \", dmt2_100.get_total_pairs())\n",
    "print(\"pairs ratio : \", dmt2_100.pairs_ratio())\n",
    "print(\"average rank shannon evaluation : \", dmt2_100.evaluate_monotonicity())\n",
    "dmt2_100.plot()"
   ]
  },
  {
   "cell_type": "code",
   "execution_count": 384,
   "metadata": {},
   "outputs": [
    {
     "name": "stdout",
     "output_type": "stream",
     "text": [
      "depth :  5\n",
      "number of leaves :  5\n",
      "rule monotone :  False\n",
      "accuracy :  1.0\n",
      "average ratio between number of pairwise non-monotone label comparisons and number of pairs :  1.0\n",
      "number of nodes :  4\n",
      "number of pairs :  1\n",
      "pairs ratio :  0.25\n",
      "average rank shannon evaluation :  0.5283208335737187\n"
     ]
    },
    {
     "data": {
      "image/svg+xml": [
       "<?xml version=\"1.0\" encoding=\"UTF-8\" standalone=\"no\"?>\n",
       "<!DOCTYPE svg PUBLIC \"-//W3C//DTD SVG 1.1//EN\"\n",
       " \"http://www.w3.org/Graphics/SVG/1.1/DTD/svg11.dtd\">\n",
       "<!-- Generated by graphviz version 2.40.1 (20161225.0304)\n",
       " -->\n",
       "<!-- Title: %3 Pages: 1 -->\n",
       "<svg width=\"455pt\" height=\"392pt\"\n",
       " viewBox=\"0.00 0.00 455.00 392.00\" xmlns=\"http://www.w3.org/2000/svg\" xmlns:xlink=\"http://www.w3.org/1999/xlink\">\n",
       "<g id=\"graph0\" class=\"graph\" transform=\"scale(1 1) rotate(0) translate(4 388)\">\n",
       "<title>%3</title>\n",
       "<polygon fill=\"#ffffff\" stroke=\"transparent\" points=\"-4,4 -4,-388 451,-388 451,4 -4,4\"/>\n",
       "<!-- A -->\n",
       "<g id=\"node1\" class=\"node\">\n",
       "<title>A</title>\n",
       "<ellipse fill=\"none\" stroke=\"#000000\" cx=\"105\" cy=\"-366\" rx=\"27\" ry=\"18\"/>\n",
       "<text text-anchor=\"middle\" x=\"105\" y=\"-362.3\" font-family=\"Times,serif\" font-size=\"14.00\" fill=\"#000000\">0</text>\n",
       "</g>\n",
       "<!-- Al -->\n",
       "<g id=\"node2\" class=\"node\">\n",
       "<title>Al</title>\n",
       "<polygon fill=\"none\" stroke=\"#000000\" points=\"54,-297 0,-297 0,-261 54,-261 54,-297\"/>\n",
       "<text text-anchor=\"middle\" x=\"27\" y=\"-275.3\" font-family=\"Times,serif\" font-size=\"14.00\" fill=\"#000000\">1</text>\n",
       "</g>\n",
       "<!-- A&#45;&gt;Al -->\n",
       "<g id=\"edge7\" class=\"edge\">\n",
       "<title>A&#45;&gt;Al</title>\n",
       "<path fill=\"none\" stroke=\"#000000\" d=\"M78.8352,-361.1925C61.2348,-356.4631 39.262,-347.3202 28,-330 23.7035,-323.3923 22.2736,-315.2149 22.2363,-307.3579\"/>\n",
       "<polygon fill=\"#000000\" stroke=\"#000000\" points=\"25.7296,-307.573 22.8656,-297.3726 18.7435,-307.1326 25.7296,-307.573\"/>\n",
       "<text text-anchor=\"middle\" x=\"94.5\" y=\"-318.8\" font-family=\"Times,serif\" font-size=\"14.00\" fill=\"#000000\">&lt;=&#45;3.186356814068807</text>\n",
       "</g>\n",
       "<!-- Ar -->\n",
       "<g id=\"node3\" class=\"node\">\n",
       "<title>Ar</title>\n",
       "<ellipse fill=\"none\" stroke=\"#000000\" cx=\"183\" cy=\"-279\" rx=\"27\" ry=\"18\"/>\n",
       "<text text-anchor=\"middle\" x=\"183\" y=\"-275.3\" font-family=\"Times,serif\" font-size=\"14.00\" fill=\"#000000\">0</text>\n",
       "</g>\n",
       "<!-- A&#45;&gt;Ar -->\n",
       "<g id=\"edge8\" class=\"edge\">\n",
       "<title>A&#45;&gt;Ar</title>\n",
       "<path fill=\"none\" stroke=\"#000000\" d=\"M127.1944,-355.7253C138.5185,-349.5765 151.8052,-340.8423 161,-330 166.7642,-323.203 171.2338,-314.6665 174.5923,-306.5324\"/>\n",
       "<polygon fill=\"#000000\" stroke=\"#000000\" points=\"177.949,-307.5472 178.1501,-296.9542 171.387,-305.1096 177.949,-307.5472\"/>\n",
       "<text text-anchor=\"middle\" x=\"233.5\" y=\"-318.8\" font-family=\"Times,serif\" font-size=\"14.00\" fill=\"#000000\">&gt;&#45;3.186356814068807</text>\n",
       "</g>\n",
       "<!-- Arl -->\n",
       "<g id=\"node4\" class=\"node\">\n",
       "<title>Arl</title>\n",
       "<polygon fill=\"none\" stroke=\"#000000\" points=\"131,-210 77,-210 77,-174 131,-174 131,-210\"/>\n",
       "<text text-anchor=\"middle\" x=\"104\" y=\"-188.3\" font-family=\"Times,serif\" font-size=\"14.00\" fill=\"#000000\">2</text>\n",
       "</g>\n",
       "<!-- Ar&#45;&gt;Arl -->\n",
       "<g id=\"edge5\" class=\"edge\">\n",
       "<title>Ar&#45;&gt;Arl</title>\n",
       "<path fill=\"none\" stroke=\"#000000\" d=\"M156.8872,-274.3887C139.0003,-269.7351 116.5069,-260.6018 105,-243 100.6872,-236.4029 99.2523,-228.2287 99.2155,-220.3714\"/>\n",
       "<polygon fill=\"#000000\" stroke=\"#000000\" points=\"102.7089,-220.5853 99.848,-210.384 95.7229,-220.1428 102.7089,-220.5853\"/>\n",
       "<text text-anchor=\"middle\" x=\"173\" y=\"-231.8\" font-family=\"Times,serif\" font-size=\"14.00\" fill=\"#000000\">&lt;=3.2288095345377243</text>\n",
       "</g>\n",
       "<!-- Arr -->\n",
       "<g id=\"node5\" class=\"node\">\n",
       "<title>Arr</title>\n",
       "<ellipse fill=\"none\" stroke=\"#000000\" cx=\"263\" cy=\"-192\" rx=\"27\" ry=\"18\"/>\n",
       "<text text-anchor=\"middle\" x=\"263\" y=\"-188.3\" font-family=\"Times,serif\" font-size=\"14.00\" fill=\"#000000\">0</text>\n",
       "</g>\n",
       "<!-- Ar&#45;&gt;Arr -->\n",
       "<g id=\"edge6\" class=\"edge\">\n",
       "<title>Ar&#45;&gt;Arr</title>\n",
       "<path fill=\"none\" stroke=\"#000000\" d=\"M205.7071,-269.0358C217.4989,-262.9266 231.4066,-254.1324 241,-243 246.8178,-236.2488 251.3024,-227.7251 254.658,-219.5886\"/>\n",
       "<polygon fill=\"#000000\" stroke=\"#000000\" points=\"258.0177,-220.5943 258.205,-210.0011 251.4526,-218.1654 258.0177,-220.5943\"/>\n",
       "<text text-anchor=\"middle\" x=\"313.5\" y=\"-231.8\" font-family=\"Times,serif\" font-size=\"14.00\" fill=\"#000000\">&gt;3.2288095345377243</text>\n",
       "</g>\n",
       "<!-- Arrl -->\n",
       "<g id=\"node6\" class=\"node\">\n",
       "<title>Arrl</title>\n",
       "<ellipse fill=\"none\" stroke=\"#000000\" cx=\"187\" cy=\"-105\" rx=\"27\" ry=\"18\"/>\n",
       "<text text-anchor=\"middle\" x=\"187\" y=\"-101.3\" font-family=\"Times,serif\" font-size=\"14.00\" fill=\"#000000\">0</text>\n",
       "</g>\n",
       "<!-- Arr&#45;&gt;Arrl -->\n",
       "<g id=\"edge3\" class=\"edge\">\n",
       "<title>Arr&#45;&gt;Arrl</title>\n",
       "<path fill=\"none\" stroke=\"#000000\" d=\"M236.7566,-186.7908C219.7318,-181.9163 198.7799,-172.7649 188,-156 183.6706,-149.2669 182.2739,-140.9303 182.2785,-132.962\"/>\n",
       "<polygon fill=\"#000000\" stroke=\"#000000\" points=\"185.7786,-133.0788 182.9632,-122.8649 178.7946,-132.6052 185.7786,-133.0788\"/>\n",
       "<text text-anchor=\"middle\" x=\"252.5\" y=\"-144.8\" font-family=\"Times,serif\" font-size=\"14.00\" fill=\"#000000\">&lt;=4.018317481063157</text>\n",
       "</g>\n",
       "<!-- Arrr -->\n",
       "<g id=\"node9\" class=\"node\">\n",
       "<title>Arrr</title>\n",
       "<polygon fill=\"none\" stroke=\"#000000\" points=\"366,-123 312,-123 312,-87 366,-87 366,-123\"/>\n",
       "<text text-anchor=\"middle\" x=\"339\" y=\"-101.3\" font-family=\"Times,serif\" font-size=\"14.00\" fill=\"#000000\">3</text>\n",
       "</g>\n",
       "<!-- Arr&#45;&gt;Arrr -->\n",
       "<g id=\"edge4\" class=\"edge\">\n",
       "<title>Arr&#45;&gt;Arrr</title>\n",
       "<path fill=\"none\" stroke=\"#000000\" d=\"M284.9286,-181.2606C295.7278,-175.0862 308.2691,-166.471 317,-156 322.6195,-149.2605 327.0238,-140.8681 330.3667,-132.8495\"/>\n",
       "<polygon fill=\"#000000\" stroke=\"#000000\" points=\"333.6801,-133.9821 333.9283,-123.3902 327.1291,-131.5155 333.6801,-133.9821\"/>\n",
       "<text text-anchor=\"middle\" x=\"386.5\" y=\"-144.8\" font-family=\"Times,serif\" font-size=\"14.00\" fill=\"#000000\">&gt;4.018317481063157</text>\n",
       "</g>\n",
       "<!-- Arrll -->\n",
       "<g id=\"node7\" class=\"node\">\n",
       "<title>Arrll</title>\n",
       "<polygon fill=\"none\" stroke=\"#000000\" points=\"135,-36 81,-36 81,0 135,0 135,-36\"/>\n",
       "<text text-anchor=\"middle\" x=\"108\" y=\"-14.3\" font-family=\"Times,serif\" font-size=\"14.00\" fill=\"#000000\">3</text>\n",
       "</g>\n",
       "<!-- Arrl&#45;&gt;Arrll -->\n",
       "<g id=\"edge1\" class=\"edge\">\n",
       "<title>Arrl&#45;&gt;Arrll</title>\n",
       "<path fill=\"none\" stroke=\"#000000\" d=\"M160.8872,-100.3887C143.0003,-95.7351 120.5069,-86.6018 109,-69 104.6872,-62.4029 103.2523,-54.2287 103.2155,-46.3714\"/>\n",
       "<polygon fill=\"#000000\" stroke=\"#000000\" points=\"106.7089,-46.5853 103.848,-36.384 99.7229,-46.1428 106.7089,-46.5853\"/>\n",
       "<text text-anchor=\"middle\" x=\"177\" y=\"-57.8\" font-family=\"Times,serif\" font-size=\"14.00\" fill=\"#000000\">&lt;=3.7474604429226264</text>\n",
       "</g>\n",
       "<!-- Arrlr -->\n",
       "<g id=\"node8\" class=\"node\">\n",
       "<title>Arrlr</title>\n",
       "<polygon fill=\"none\" stroke=\"#000000\" points=\"294,-36 240,-36 240,0 294,0 294,-36\"/>\n",
       "<text text-anchor=\"middle\" x=\"267\" y=\"-14.3\" font-family=\"Times,serif\" font-size=\"14.00\" fill=\"#000000\">2</text>\n",
       "</g>\n",
       "<!-- Arrl&#45;&gt;Arrlr -->\n",
       "<g id=\"edge2\" class=\"edge\">\n",
       "<title>Arrl&#45;&gt;Arrlr</title>\n",
       "<path fill=\"none\" stroke=\"#000000\" d=\"M209.7071,-95.0358C221.4989,-88.9266 235.4066,-80.1324 245,-69 250.8178,-62.2488 255.3024,-53.7251 258.658,-45.5886\"/>\n",
       "<polygon fill=\"#000000\" stroke=\"#000000\" points=\"262.0177,-46.5943 262.205,-36.0011 255.4526,-44.1654 262.0177,-46.5943\"/>\n",
       "<text text-anchor=\"middle\" x=\"317.5\" y=\"-57.8\" font-family=\"Times,serif\" font-size=\"14.00\" fill=\"#000000\">&gt;3.7474604429226264</text>\n",
       "</g>\n",
       "</g>\n",
       "</svg>\n"
      ],
      "text/plain": [
       "<graphviz.dot.Digraph at 0x7ff07ca8f978>"
      ]
     },
     "execution_count": 384,
     "metadata": {},
     "output_type": "execute_result"
    }
   ],
   "source": [
    "dmt2_100 = RDMT(sdm, \"shannon\", 0, 100, 0.01 * train_set2_100.size(), [1, 2, 3])\n",
    "dmt2_100.train(train_set2_100)\n",
    "print(\"depth : \", dmt2_100.get_depth())\n",
    "print(\"number of leaves : \", dmt2_100.get_nb_leaves())\n",
    "print(\"rule monotone : \", dmt2_100.is_rule_monotone())\n",
    "print(\"accuracy : \", dmt2_100.accuracy(test_set2_100))\n",
    "print(\"average ratio between number of pairwise non-monotone label comparisons and number of pairs : \", dmt2_100.get_ratio_non_monotone_pairs())\n",
    "print(\"number of nodes : \", dmt2_100.get_nb_nodes())\n",
    "print(\"number of pairs : \", dmt2_100.get_total_pairs())\n",
    "print(\"pairs ratio : \", dmt2_100.pairs_ratio())\n",
    "print(\"average rank shannon evaluation : \", dmt2_100.evaluate_monotonicity())\n",
    "dmt2_100.plot()"
   ]
  },
  {
   "cell_type": "code",
   "execution_count": 385,
   "metadata": {},
   "outputs": [
    {
     "name": "stdout",
     "output_type": "stream",
     "text": [
      "average accuracy :  0.9836257309941522\n",
      "average depth :  3.9000000000000004\n",
      "average number of leaves :  4.800000000000001\n",
      "average ratio between number of pairwise non-monotone label comparisons and number of pairs :  0.3220729887396554\n",
      "average number of pairs used for ratio computing :  1.9000000000000001\n",
      "average rank shannon evaluation :  0.0\n"
     ]
    }
   ],
   "source": [
    "avg_accuracy = 0\n",
    "avg_leaves = 0\n",
    "avg_depth = 0\n",
    "avg_ratio = 0\n",
    "avg_pairs = 0\n",
    "avg_evaluation = 0\n",
    "\n",
    "for i in range(10):\n",
    "    test_set = sets2_100[i]\n",
    "    train_set = LabeledSet(2)\n",
    "    for j in range(0, 10):\n",
    "        if i != j:\n",
    "            train_set.addExamples(sets2_100[j].x, sets2_100[j].y)\n",
    "    tree = RDMT(rsdm, \"shannon\", 0, 100, 0.01, [1, 2, 3])\n",
    "    tree.train(train_set)\n",
    "    avg_accuracy += tree.accuracy(test_set)\n",
    "    avg_leaves += tree.get_nb_leaves()\n",
    "    avg_depth += tree.get_depth()\n",
    "    avg_ratio += tree.get_ratio_non_monotone_pairs() \n",
    "    avg_pairs += tree.get_total_pairs()\n",
    "    avg_evaluation += tree.evaluate_monotonicity()\n",
    "        \n",
    "avg_accuracy = avg_accuracy * (1.0/10)\n",
    "avg_leaves = avg_leaves * (1.0/10)\n",
    "avg_depth = avg_depth * (1.0/10)\n",
    "avg_ratio = avg_ratio * (1.0/10)\n",
    "avg_pairs = avg_pairs * (1.0/10)\n",
    "avg_evaluation = avg_evaluation * (1.0/10)\n",
    "\n",
    "print(\"average accuracy : \", avg_accuracy)\n",
    "print(\"average depth : \", avg_depth)\n",
    "print(\"average number of leaves : \", avg_leaves)\n",
    "print(\"average ratio between number of pairwise non-monotone label comparisons and number of pairs : \", avg_ratio)\n",
    "print(\"average number of pairs used for ratio computing : \", avg_pairs)\n",
    "print(\"average rank shannon evaluation : \", avg_evaluation)"
   ]
  },
  {
   "cell_type": "code",
   "execution_count": 386,
   "metadata": {},
   "outputs": [
    {
     "name": "stdout",
     "output_type": "stream",
     "text": [
      "average accuracy :  0.9783625730994153\n",
      "average depth :  4.800000000000001\n",
      "average number of leaves :  4.800000000000001\n",
      "average ratio between number of pairwise non-monotone label comparisons and number of pairs :  0.934065934065934\n",
      "average number of pairs used for ratio computing :  1.0\n",
      "average rank shannon evaluation :  0.46982458350160317\n"
     ]
    }
   ],
   "source": [
    "avg_accuracy = 0\n",
    "avg_leaves = 0\n",
    "avg_depth = 0\n",
    "avg_ratio = 0\n",
    "avg_pairs = 0\n",
    "avg_evaluation = 0\n",
    "\n",
    "for i in range(10):\n",
    "    test_set = sets2_100[i]\n",
    "    train_set = LabeledSet(2)\n",
    "    for j in range(0, 10):\n",
    "        if i != j:\n",
    "            train_set.addExamples(sets2_100[j].x, sets2_100[j].y)\n",
    "    tree = RDMT(sdm, \"shannon\", 0, 100, 0.01, [1, 2, 3])\n",
    "    tree.train(train_set)\n",
    "    avg_accuracy += tree.accuracy(test_set)\n",
    "    avg_leaves += tree.get_nb_leaves()\n",
    "    avg_depth += tree.get_depth()\n",
    "    avg_ratio += tree.get_ratio_non_monotone_pairs() \n",
    "    avg_pairs += tree.get_total_pairs()\n",
    "    avg_evaluation += tree.evaluate_monotonicity()\n",
    "        \n",
    "avg_accuracy = avg_accuracy * (1.0/10)\n",
    "avg_leaves = avg_leaves * (1.0/10)\n",
    "avg_depth = avg_depth * (1.0/10)\n",
    "avg_ratio = avg_ratio * (1.0/10)\n",
    "avg_pairs = avg_pairs * (1.0/10)\n",
    "avg_evaluation = avg_evaluation * (1.0/10)\n",
    "\n",
    "print(\"average accuracy : \", avg_accuracy)\n",
    "print(\"average depth : \", avg_depth)\n",
    "print(\"average number of leaves : \", avg_leaves)\n",
    "print(\"average ratio between number of pairwise non-monotone label comparisons and number of pairs : \", avg_ratio)\n",
    "print(\"average number of pairs used for ratio computing : \", avg_pairs)\n",
    "print(\"average rank shannon evaluation : \", avg_evaluation)"
   ]
  },
  {
   "cell_type": "code",
   "execution_count": 399,
   "metadata": {},
   "outputs": [
    {
     "name": "stdout",
     "output_type": "stream",
     "text": [
      "Running time :  356.22304606437683\n"
     ]
    }
   ],
   "source": [
    "y1 = []\n",
    "y2 = []\n",
    "y3 = []\n",
    "\n",
    "avg_leaves1 = []\n",
    "avg_leaves2 = []\n",
    "# avg_leaves3 = []\n",
    "\n",
    "avg_depth1 = []\n",
    "avg_depth2 = []\n",
    "# avg_depth3 = []\n",
    "\n",
    "avg_ratio1 = []\n",
    "avg_ratio2 = []\n",
    "# avg_ratio3 = []\n",
    "\n",
    "avg_pairs1 = []\n",
    "avg_pairs2 = []\n",
    "# avg_pairs3 = []\n",
    "\n",
    "avg_eval1 = []\n",
    "avg_eval2 = []\n",
    "# avg_eval3 = []\n",
    "\n",
    "start = time.time()\n",
    "\n",
    "#dataset, t = generate_2Ddataset(0, 2, 1000, 0, 0.1, [[-10, 10], [-10, 10]])\n",
    "dataset, t = generate_2Ddataset(0, 2, 100, 0, 0.1, [[-10, 10], [-10, 10]])\n",
    "\n",
    "noises = []\n",
    "noise = 0\n",
    "\n",
    "for k in range(22):\n",
    "    if k > 0:\n",
    "        dataset = add_noise(dataset, 0.025)\n",
    "    sets = get_ten_folds(dataset)\n",
    "    noises.append(noise)\n",
    "    \n",
    "    acc1 = 0\n",
    "    leaves1 = 0\n",
    "    depth1 = 0\n",
    "    ratio1 = 0\n",
    "    pairs1 = 0\n",
    "    eval1 = 0\n",
    "    \n",
    "    acc2 = 0\n",
    "    leaves2 = 0\n",
    "    depth2 = 0\n",
    "    ratio2 = 0\n",
    "    pairs2 = 0\n",
    "    eval2 = 0\n",
    "    \n",
    "#     acc3 = 0\n",
    "#     leaves3 = 0\n",
    "#     depth3 = 0\n",
    "#     ratio3 = 0\n",
    "#     pairs3 = 0\n",
    "#     eval3 = 0\n",
    "    \n",
    "    for i in range(10):\n",
    "        test_set = sets[i]\n",
    "        train_set = LabeledSet(2)\n",
    "        for j in range(0, 10):\n",
    "            if i != j:\n",
    "                train_set.addExamples(sets[j].x, sets[j].y)\n",
    "        tree1 = RDMT(rsdm, \"shannon\", 0, 100, 0.01, [1, 2])\n",
    "        tree1.train(train_set)\n",
    "        acc1 += tree1.accuracy(test_set)\n",
    "        leaves1 += tree1.get_nb_leaves()\n",
    "        depth1 += tree1.get_depth()\n",
    "        ratio1 += tree1.get_ratio_non_monotone_pairs() \n",
    "        pairs1 += tree1.get_total_pairs()\n",
    "        eval1 += tree1.evaluate_monotonicity()\n",
    "        \n",
    "        tree2 = RDMT(sdm, \"shannon\", 0, 100, 0.01, [1, 2])\n",
    "        tree2.train(train_set)\n",
    "        acc2 += tree2.accuracy(test_set)\n",
    "        leaves2 += tree2.get_nb_leaves()\n",
    "        depth2 += tree2.get_depth()\n",
    "        ratio2 += tree2.get_ratio_non_monotone_pairs() \n",
    "        pairs2 += tree2.get_total_pairs()\n",
    "        eval2 += tree2.evaluate_monotonicity()\n",
    "        \n",
    "#         tree3 = RDMT(prdm, \"shannon\", 0, 100, 0.01, [1, 2])\n",
    "#         tree3.train(train_set)\n",
    "#         acc3 += tree3.accuracy(test_set)\n",
    "#         leaves3 += tree3.get_nb_leaves()\n",
    "#         depth3 += tree3.get_depth()\n",
    "#         ratio3 += tree3.get_ratio_non_monotone_pairs() \n",
    "#         pairs3 += tree3.get_total_pairs()\n",
    "#         eval3 += tree3.evaluate_monotonicity()\n",
    "        \n",
    "    y1.append(acc1 * (1.0/10))    \n",
    "    avg_leaves1.append(leaves1 * (1.0/10))\n",
    "    avg_depth1.append(depth1 * (1.0/10))\n",
    "    avg_ratio1.append(ratio1 * (1.0/10))\n",
    "    avg_pairs1.append(pairs1 * (1.0/10))\n",
    "    avg_eval1.append(eval1 * (1.0/10))\n",
    "    \n",
    "    y2.append(acc2 * (1.0/10))    \n",
    "    avg_leaves2.append(leaves2 * (1.0/10))\n",
    "    avg_depth2.append(depth2 * (1.0/10))\n",
    "    avg_ratio2.append(ratio2 * (1.0/10))\n",
    "    avg_pairs2.append(pairs2 * (1.0/10))\n",
    "    avg_eval2.append(eval2 * (1.0/10))\n",
    "    \n",
    "#     y3.append(acc3 * (1.0/10))    \n",
    "#     avg_leaves3.append(leaves3 * (1.0/10))\n",
    "#     avg_depth3.append(depth3 * (1.0/10))\n",
    "#     avg_ratio3.append(ratio3 * (1.0/10))\n",
    "#     avg_pairs3.append(pairs3 * (1.0/10))    \n",
    "#     avg_eval3.append(eval3 * (1.0/10))\n",
    "    \n",
    "print(\"Running time : \", format(time.time() - start))"
   ]
  },
  {
   "cell_type": "code",
   "execution_count": 389,
   "metadata": {},
   "outputs": [],
   "source": [
    "x = np.array(noises) * 100\n",
    "y1 = np.array(y1)\n",
    "y2 = np.array(y2)\n",
    "# y3 = np.array(y3)"
   ]
  },
  {
   "cell_type": "code",
   "execution_count": 390,
   "metadata": {},
   "outputs": [
    {
     "data": {
      "image/png": "[encoded data removed]",
      "text/plain": [
       "<Figure size 432x288 with 1 Axes>"
      ]
     },
     "metadata": {},
     "output_type": "display_data"
    }
   ],
   "source": [
    "plt.plot(x, avg_eval1, label=\"rank Shannon discrimination measure tree\")\n",
    "plt.plot(x, avg_eval2, label=\"conditional Shannon entropy tree\")\n",
    "# plt.plot(x, avg_eval3, label=\"pessimistic rank discrimination measure tree\")\n",
    "plt.xlabel(\"noise %\")\n",
    "plt.ylabel(\"Rank Shannon evaluation\")\n",
    "plt.title(\"Rank Shannon evaluation depending on noise %\")\n",
    "plt.legend()\n",
    "plt.show()"
   ]
  },
  {
   "cell_type": "code",
   "execution_count": 391,
   "metadata": {},
   "outputs": [
    {
     "data": {
      "image/png": "[encoded data removed]",
      "text/plain": [
       "<Figure size 432x288 with 1 Axes>"
      ]
     },
     "metadata": {},
     "output_type": "display_data"
    }
   ],
   "source": [
    "plt.plot(x, y1 * 100, label=\"rank Shannon discrimination measure tree\")\n",
    "plt.plot(x, y2 * 100, label=\"conditional Shannon entropy tree\")\n",
    "# plt.plot(x, y3 * 100, label=\"pessimistic rank discrimination measure tree\")\n",
    "plt.xlabel(\"noise %\")\n",
    "plt.ylabel(\"correctly classified instances %\")\n",
    "plt.title(\"correctly classified instances % depending on noise %\")\n",
    "plt.legend()\n",
    "plt.show()"
   ]
  },
  {
   "cell_type": "code",
   "execution_count": 392,
   "metadata": {},
   "outputs": [
    {
     "data": {
      "image/png": "[encoded data removed]",
      "text/plain": [
       "<Figure size 432x288 with 1 Axes>"
      ]
     },
     "metadata": {},
     "output_type": "display_data"
    }
   ],
   "source": [
    "z = ((y2 + 1) / (y1 + 1))\n",
    "plt.plot(x, z)\n",
    "plt.xlabel(\"noise % \")\n",
    "plt.ylabel(\"(sdm tree accuracy + 1) / (rsdm tree accuracy + 1)\")\n",
    "plt.title(\"(sdm tree accuracy + 1) / (rsdm tree accuracy + 1) depending on noise %\")\n",
    "plt.show()"
   ]
  },
  {
   "cell_type": "code",
   "execution_count": 393,
   "metadata": {},
   "outputs": [
    {
     "data": {
      "image/png": "[encoded data removed]",
      "text/plain": [
       "<Figure size 432x288 with 1 Axes>"
      ]
     },
     "metadata": {},
     "output_type": "display_data"
    }
   ],
   "source": [
    "plt.plot(x, avg_leaves1, label=\"rank shannon discrimination measure\")\n",
    "plt.plot(x, avg_leaves2, label=\"conditional Shannon entropy\")\n",
    "# plt.plot(x, avg_leaves3, label=\"pessimistic rank discrimination measure\")\n",
    "plt.xlabel(\"noise %\")\n",
    "plt.ylabel(\"average number of leaves\")\n",
    "plt.title(\"average number of leaves depending on noise %\")\n",
    "plt.legend()\n",
    "plt.show()"
   ]
  },
  {
   "cell_type": "code",
   "execution_count": 394,
   "metadata": {},
   "outputs": [
    {
     "data": {
      "image/png": "[encoded data removed]",
      "text/plain": [
       "<Figure size 432x288 with 1 Axes>"
      ]
     },
     "metadata": {},
     "output_type": "display_data"
    }
   ],
   "source": [
    "plt.plot(x, avg_depth1, label=\"rank shannon discrimination measure\")\n",
    "plt.plot(x, avg_depth2, label=\"conditional Shannon entropy\")\n",
    "# plt.plot(x, avg_depth3, label=\"pessimistic rank discrimination measure\")\n",
    "plt.xlabel(\"noise %\")\n",
    "plt.ylabel(\"average tree depth\")\n",
    "plt.title(\"average tree depth depending on noise %\")\n",
    "plt.legend()\n",
    "plt.show()"
   ]
  },
  {
   "cell_type": "code",
   "execution_count": 395,
   "metadata": {},
   "outputs": [
    {
     "data": {
      "image/png": "[encoded data removed]",
      "text/plain": [
       "<Figure size 432x288 with 1 Axes>"
      ]
     },
     "metadata": {},
     "output_type": "display_data"
    }
   ],
   "source": [
    "plt.plot(x, avg_ratio1, label=\"rank shannon discrimination measure\")\n",
    "plt.plot(x, avg_ratio2, label=\"conditional Shannon entropy\")\n",
    "# plt.plot(x, avg_ratio3, label=\"pessimistic rank discrimination measure\")\n",
    "plt.xlabel(\"noise %\")\n",
    "plt.ylabel(\"average ratio between number of pairwise non-monotone label comparisons and number of pairs\")\n",
    "plt.title(\"average ratio between number of pairwise non-monotone label comparisons and number of pairs depending on noise %\", x=1)\n",
    "plt.legend()\n",
    "plt.show()"
   ]
  },
  {
   "cell_type": "code",
   "execution_count": 396,
   "metadata": {},
   "outputs": [
    {
     "data": {
      "image/png": "[encoded data removed]",
      "text/plain": [
       "<Figure size 432x288 with 1 Axes>"
      ]
     },
     "metadata": {},
     "output_type": "display_data"
    }
   ],
   "source": [
    "plt.plot(x, np.array(avg_ratio2) - np.array(avg_ratio1))\n",
    "plt.plot(x, np.array([0] * len(x)))\n",
    "plt.xlabel(\"noise %\")\n",
    "plt.ylabel(\"difference between average ratio computed by sdm and average ratio computed by rsdm depending on noise %\")\n",
    "plt.title(\"difference between average ratio computed by sdm and average ratio computed by rsdm depending on noise %\", x=1)\n",
    "plt.show()"
   ]
  },
  {
   "cell_type": "code",
   "execution_count": 397,
   "metadata": {},
   "outputs": [
    {
     "data": {
      "image/png": "[encoded data removed]",
      "text/plain": [
       "<Figure size 432x288 with 1 Axes>"
      ]
     },
     "metadata": {},
     "output_type": "display_data"
    }
   ],
   "source": [
    "plt.plot(x, avg_pairs1, label=\"rank shannon discrimination measure\")\n",
    "plt.plot(x, avg_pairs2, label=\"conditional Shannon entropy\")\n",
    "# plt.plot(x, avg_pairs3, label=\"pessimistic rank discrimination measure\")\n",
    "plt.xlabel(\"noise %\")\n",
    "plt.ylabel(\"total number of pairs used for ratio computing\")\n",
    "plt.title(\"total number of pairs used for ratio computing depending on noise %\", x=0.6)\n",
    "plt.legend()\n",
    "plt.show()"
   ]
  },
  {
   "cell_type": "markdown",
   "metadata": {
    "collapsed": true
   },
   "source": [
    "## Expérimentations sur des datasets monotone consistent"
   ]
  },
  {
   "cell_type": "markdown",
   "metadata": {},
   "source": [
    "### 2 classes :"
   ]
  },
  {
   "cell_type": "code",
   "execution_count": 208,
   "metadata": {
    "scrolled": true
   },
   "outputs": [
    {
     "data": {
      "image/png": "[encoded data removed]",
      "text/plain": [
       "<Figure size 432x288 with 1 Axes>"
      ]
     },
     "metadata": {},
     "output_type": "display_data"
    }
   ],
   "source": [
    "set3_100, t = generate_2Ddataset(0, 3, 100, 0.1, 0.1, [[-10, 10], [-10, 10]])\n",
    "t1, h1 = discretize(rsdm, set3_100, 0)\n",
    "t2, h2 = discretize(sdm, set3_100, 0)\n",
    "display_discretizations_comparison(set3_100, t1, t2, t, 0, \"splitting boundaries generated by rsdm and sdm with attribute 0, 10% of noise\", \"rsdm threshold\", \"sdm threshold\")"
   ]
  },
  {
   "cell_type": "code",
   "execution_count": 209,
   "metadata": {
    "collapsed": true
   },
   "outputs": [],
   "source": [
    "sets3_100 = get_ten_folds(set3_100)"
   ]
  },
  {
   "cell_type": "code",
   "execution_count": 214,
   "metadata": {},
   "outputs": [
    {
     "name": "stdout",
     "output_type": "stream",
     "text": [
      "average accuracy :  0.9111111111111111\n",
      "average depth :  5.800000000000001\n",
      "average number of leaves :  9.200000000000001\n",
      "average ratio between number of pairwise non-monotone label comparisons and number of pairs :  0.9644281644281645\n",
      "average number of pairs used for ratio computing :  2.7\n",
      "average rank shannon evaluation :  0.1116847612358744\n"
     ]
    }
   ],
   "source": [
    "avg_accuracy = 0\n",
    "avg_leaves = 0\n",
    "avg_depth = 0\n",
    "avg_ratio = 0\n",
    "avg_pairs = 0\n",
    "avg_evaluation = 0\n",
    "\n",
    "for i in range(10):\n",
    "    test_set = sets3_100[i]\n",
    "    train_set = LabeledSet(2)\n",
    "    for j in range(0, 10):\n",
    "        if i != j:\n",
    "            train_set.addExamples(sets3_100[j].x, sets3_100[j].y)\n",
    "    tree = RDMT(rsdm, \"shannon\", 0, 100, 0.01, [1, 2, 3])\n",
    "    tree.train(train_set)\n",
    "    avg_accuracy += tree.accuracy(test_set)\n",
    "    avg_leaves += tree.get_nb_leaves()\n",
    "    avg_depth += tree.get_depth()\n",
    "    avg_ratio += tree.get_ratio_non_monotone_pairs() \n",
    "    avg_pairs += tree.get_total_pairs()\n",
    "    avg_evaluation += tree.evaluate_monotonicity()\n",
    "        \n",
    "avg_accuracy = avg_accuracy * (1.0/10)\n",
    "avg_leaves = avg_leaves * (1.0/10)\n",
    "avg_depth = avg_depth * (1.0/10)\n",
    "avg_ratio = avg_ratio * (1.0/10)\n",
    "avg_pairs = avg_pairs * (1.0/10)\n",
    "avg_evaluation = avg_evaluation * (1.0/10)\n",
    "\n",
    "print(\"average accuracy : \", avg_accuracy)\n",
    "print(\"average depth : \", avg_depth)\n",
    "print(\"average number of leaves : \", avg_leaves)\n",
    "print(\"average ratio between number of pairwise non-monotone label comparisons and number of pairs : \", avg_ratio)\n",
    "print(\"average number of pairs used for ratio computing : \", avg_pairs)\n",
    "print(\"average rank shannon evaluation : \", avg_evaluation)"
   ]
  },
  {
   "cell_type": "code",
   "execution_count": 215,
   "metadata": {},
   "outputs": [
    {
     "name": "stdout",
     "output_type": "stream",
     "text": [
      "average accuracy :  0.9222222222222222\n",
      "average depth :  5.0\n",
      "average number of leaves :  8.4\n",
      "average ratio between number of pairwise non-monotone label comparisons and number of pairs :  0.9564645231311899\n",
      "average number of pairs used for ratio computing :  2.7\n",
      "average rank shannon evaluation :  0.09082380715352983\n"
     ]
    }
   ],
   "source": [
    "avg_accuracy = 0\n",
    "avg_leaves = 0\n",
    "avg_depth = 0\n",
    "avg_ratio = 0\n",
    "avg_pairs = 0\n",
    "avg_evaluation = 0\n",
    "\n",
    "for i in range(10):\n",
    "    test_set = sets3_100[i]\n",
    "    train_set = LabeledSet(2)\n",
    "    for j in range(0, 10):\n",
    "        if i != j:\n",
    "            train_set.addExamples(sets3_100[j].x, sets3_100[j].y)\n",
    "    tree = RDMT(sdm, \"shannon\", 0, 100, 0.01, [1, 2, 3])\n",
    "    tree.train(train_set)\n",
    "    avg_accuracy += tree.accuracy(test_set)\n",
    "    avg_leaves += tree.get_nb_leaves()\n",
    "    avg_depth += tree.get_depth()\n",
    "    avg_ratio += tree.get_ratio_non_monotone_pairs() \n",
    "    avg_pairs += tree.get_total_pairs()\n",
    "    avg_evaluation += tree.evaluate_monotonicity()\n",
    "        \n",
    "avg_accuracy = avg_accuracy * (1.0/10)\n",
    "avg_leaves = avg_leaves * (1.0/10)\n",
    "avg_depth = avg_depth * (1.0/10)\n",
    "avg_ratio = avg_ratio * (1.0/10)\n",
    "avg_pairs = avg_pairs * (1.0/10)\n",
    "avg_evaluation = avg_evaluation * (1.0/10)\n",
    "\n",
    "print(\"average accuracy : \", avg_accuracy)\n",
    "print(\"average depth : \", avg_depth)\n",
    "print(\"average number of leaves : \", avg_leaves)\n",
    "print(\"average ratio between number of pairwise non-monotone label comparisons and number of pairs : \", avg_ratio)\n",
    "print(\"average number of pairs used for ratio computing : \", avg_pairs)\n",
    "print(\"average rank shannon evaluation : \", avg_evaluation)"
   ]
  },
  {
   "cell_type": "code",
   "execution_count": 216,
   "metadata": {},
   "outputs": [
    {
     "data": {
      "image/svg+xml": [
       "<?xml version=\"1.0\" encoding=\"UTF-8\" standalone=\"no\"?>\n",
       "<!DOCTYPE svg PUBLIC \"-//W3C//DTD SVG 1.1//EN\"\n",
       " \"http://www.w3.org/Graphics/SVG/1.1/DTD/svg11.dtd\">\n",
       "<!-- Generated by graphviz version 2.38.0 (20140413.2041)\n",
       " -->\n",
       "<!-- Title: %3 Pages: 1 -->\n",
       "<svg width=\"918pt\" height=\"392pt\"\n",
       " viewBox=\"0.00 0.00 918.00 392.00\" xmlns=\"http://www.w3.org/2000/svg\" xmlns:xlink=\"http://www.w3.org/1999/xlink\">\n",
       "<g id=\"graph0\" class=\"graph\" transform=\"scale(1 1) rotate(0) translate(4 388)\">\n",
       "<title>%3</title>\n",
       "<polygon fill=\"white\" stroke=\"none\" points=\"-4,4 -4,-388 914,-388 914,4 -4,4\"/>\n",
       "<!-- A -->\n",
       "<g id=\"node1\" class=\"node\"><title>A</title>\n",
       "<ellipse fill=\"none\" stroke=\"black\" cx=\"421\" cy=\"-366\" rx=\"27\" ry=\"18\"/>\n",
       "<text text-anchor=\"middle\" x=\"421\" y=\"-362.3\" font-family=\"Times,serif\" font-size=\"14.00\">0</text>\n",
       "</g>\n",
       "<!-- Al -->\n",
       "<g id=\"node2\" class=\"node\"><title>Al</title>\n",
       "<ellipse fill=\"none\" stroke=\"black\" cx=\"342\" cy=\"-279\" rx=\"27\" ry=\"18\"/>\n",
       "<text text-anchor=\"middle\" x=\"342\" y=\"-275.3\" font-family=\"Times,serif\" font-size=\"14.00\">0</text>\n",
       "</g>\n",
       "<!-- A&#45;&gt;Al -->\n",
       "<g id=\"edge15\" class=\"edge\"><title>A&#45;&gt;Al</title>\n",
       "<path fill=\"none\" stroke=\"black\" d=\"M394.912,-360.723C377.037,-356.299 354.548,-347.454 343,-330 338.603,-323.354 337.23,-315.047 337.278,-307.124\"/>\n",
       "<polygon fill=\"black\" stroke=\"black\" points=\"340.772,-307.334 338.026,-297.101 333.792,-306.813 340.772,-307.334\"/>\n",
       "<text text-anchor=\"middle\" x=\"411\" y=\"-318.8\" font-family=\"Times,serif\" font-size=\"14.00\">&lt;=3.1954748629227447</text>\n",
       "</g>\n",
       "<!-- Ar -->\n",
       "<g id=\"node13\" class=\"node\"><title>Ar</title>\n",
       "<ellipse fill=\"none\" stroke=\"black\" cx=\"501\" cy=\"-279\" rx=\"27\" ry=\"18\"/>\n",
       "<text text-anchor=\"middle\" x=\"501\" y=\"-275.3\" font-family=\"Times,serif\" font-size=\"14.00\">1</text>\n",
       "</g>\n",
       "<!-- A&#45;&gt;Ar -->\n",
       "<g id=\"edge16\" class=\"edge\"><title>A&#45;&gt;Ar</title>\n",
       "<path fill=\"none\" stroke=\"black\" d=\"M443.394,-355.558C455.238,-349.644 469.293,-341.041 479,-330 484.876,-323.316 489.401,-314.813 492.775,-306.724\"/>\n",
       "<polygon fill=\"black\" stroke=\"black\" points=\"496.108,-307.803 496.333,-297.211 489.551,-305.351 496.108,-307.803\"/>\n",
       "<text text-anchor=\"middle\" x=\"552.5\" y=\"-318.8\" font-family=\"Times,serif\" font-size=\"14.00\">&gt;3.1954748629227447</text>\n",
       "</g>\n",
       "<!-- All -->\n",
       "<g id=\"node3\" class=\"node\"><title>All</title>\n",
       "<ellipse fill=\"none\" stroke=\"black\" cx=\"184\" cy=\"-192\" rx=\"27\" ry=\"18\"/>\n",
       "<text text-anchor=\"middle\" x=\"184\" y=\"-188.3\" font-family=\"Times,serif\" font-size=\"14.00\">1</text>\n",
       "</g>\n",
       "<!-- Al&#45;&gt;All -->\n",
       "<g id=\"edge9\" class=\"edge\"><title>Al&#45;&gt;All</title>\n",
       "<path fill=\"none\" stroke=\"black\" d=\"M314.823,-277.945C284.595,-276.47 235.953,-269.694 205,-243 198.03,-236.99 193.322,-228.279 190.163,-219.807\"/>\n",
       "<polygon fill=\"black\" stroke=\"black\" points=\"193.464,-218.636 187.125,-210.147 186.786,-220.736 193.464,-218.636\"/>\n",
       "<text text-anchor=\"middle\" x=\"271.5\" y=\"-231.8\" font-family=\"Times,serif\" font-size=\"14.00\">&lt;=&#45;2.959615828523284</text>\n",
       "</g>\n",
       "<!-- Alr -->\n",
       "<g id=\"node8\" class=\"node\"><title>Alr</title>\n",
       "<ellipse fill=\"none\" stroke=\"black\" cx=\"342\" cy=\"-192\" rx=\"27\" ry=\"18\"/>\n",
       "<text text-anchor=\"middle\" x=\"342\" y=\"-188.3\" font-family=\"Times,serif\" font-size=\"14.00\">0</text>\n",
       "</g>\n",
       "<!-- Al&#45;&gt;Alr -->\n",
       "<g id=\"edge10\" class=\"edge\"><title>Al&#45;&gt;Alr</title>\n",
       "<path fill=\"none\" stroke=\"black\" d=\"M342,-260.799C342,-249.163 342,-233.548 342,-220.237\"/>\n",
       "<polygon fill=\"black\" stroke=\"black\" points=\"345.5,-220.175 342,-210.175 338.5,-220.175 345.5,-220.175\"/>\n",
       "<text text-anchor=\"middle\" x=\"404.5\" y=\"-231.8\" font-family=\"Times,serif\" font-size=\"14.00\">&gt;&#45;2.959615828523284</text>\n",
       "</g>\n",
       "<!-- Alll -->\n",
       "<g id=\"node4\" class=\"node\"><title>Alll</title>\n",
       "<polygon fill=\"none\" stroke=\"black\" points=\"66,-123 12,-123 12,-87 66,-87 66,-123\"/>\n",
       "<text text-anchor=\"middle\" x=\"39\" y=\"-101.3\" font-family=\"Times,serif\" font-size=\"14.00\">1</text>\n",
       "</g>\n",
       "<!-- All&#45;&gt;Alll -->\n",
       "<g id=\"edge3\" class=\"edge\"><title>All&#45;&gt;Alll</title>\n",
       "<path fill=\"none\" stroke=\"black\" d=\"M157.022,-190.371C128.95,-188.305 85.3455,-180.934 58,-156 51.3654,-149.951 47.0321,-141.338 44.2081,-132.962\"/>\n",
       "<polygon fill=\"black\" stroke=\"black\" points=\"47.5044,-131.751 41.4589,-123.05 40.7591,-133.622 47.5044,-131.751\"/>\n",
       "<text text-anchor=\"middle\" x=\"119\" y=\"-144.8\" font-family=\"Times,serif\" font-size=\"14.00\">&lt;=8.08216246870332</text>\n",
       "</g>\n",
       "<!-- Allr -->\n",
       "<g id=\"node5\" class=\"node\"><title>Allr</title>\n",
       "<ellipse fill=\"none\" stroke=\"black\" cx=\"183\" cy=\"-105\" rx=\"27\" ry=\"18\"/>\n",
       "<text text-anchor=\"middle\" x=\"183\" y=\"-101.3\" font-family=\"Times,serif\" font-size=\"14.00\">0</text>\n",
       "</g>\n",
       "<!-- All&#45;&gt;Allr -->\n",
       "<g id=\"edge4\" class=\"edge\"><title>All&#45;&gt;Allr</title>\n",
       "<path fill=\"none\" stroke=\"black\" d=\"M183.798,-173.799C183.661,-162.163 183.477,-146.548 183.32,-133.237\"/>\n",
       "<polygon fill=\"black\" stroke=\"black\" points=\"186.82,-133.134 183.202,-123.175 179.82,-133.216 186.82,-133.134\"/>\n",
       "<text text-anchor=\"middle\" x=\"241\" y=\"-144.8\" font-family=\"Times,serif\" font-size=\"14.00\">&gt;8.08216246870332</text>\n",
       "</g>\n",
       "<!-- Allrl -->\n",
       "<g id=\"node6\" class=\"node\"><title>Allrl</title>\n",
       "<polygon fill=\"none\" stroke=\"black\" points=\"54,-36 0,-36 0,-0 54,-0 54,-36\"/>\n",
       "<text text-anchor=\"middle\" x=\"27\" y=\"-14.3\" font-family=\"Times,serif\" font-size=\"14.00\">1</text>\n",
       "</g>\n",
       "<!-- Allr&#45;&gt;Allrl -->\n",
       "<g id=\"edge1\" class=\"edge\"><title>Allr&#45;&gt;Allrl</title>\n",
       "<path fill=\"none\" stroke=\"black\" d=\"M156.839,-100.239C121.829,-94.7254 62.2512,-83.511 46,-69 39.2291,-62.9542 34.8588,-54.2355 32.043,-45.7665\"/>\n",
       "<polygon fill=\"black\" stroke=\"black\" points=\"35.417,-44.8356 29.4009,-36.1146 28.6654,-46.6839 35.417,-44.8356\"/>\n",
       "<text text-anchor=\"middle\" x=\"112.5\" y=\"-57.8\" font-family=\"Times,serif\" font-size=\"14.00\">&lt;=&#45;4.446437722163147</text>\n",
       "</g>\n",
       "<!-- Allrr -->\n",
       "<g id=\"node7\" class=\"node\"><title>Allrr</title>\n",
       "<polygon fill=\"none\" stroke=\"black\" points=\"210,-36 156,-36 156,-0 210,-0 210,-36\"/>\n",
       "<text text-anchor=\"middle\" x=\"183\" y=\"-14.3\" font-family=\"Times,serif\" font-size=\"14.00\">2</text>\n",
       "</g>\n",
       "<!-- Allr&#45;&gt;Allrr -->\n",
       "<g id=\"edge2\" class=\"edge\"><title>Allr&#45;&gt;Allrr</title>\n",
       "<path fill=\"none\" stroke=\"black\" d=\"M183,-86.799C183,-75.1626 183,-59.5479 183,-46.2368\"/>\n",
       "<polygon fill=\"black\" stroke=\"black\" points=\"186.5,-46.1754 183,-36.1754 179.5,-46.1755 186.5,-46.1754\"/>\n",
       "<text text-anchor=\"middle\" x=\"245.5\" y=\"-57.8\" font-family=\"Times,serif\" font-size=\"14.00\">&gt;&#45;4.446437722163147</text>\n",
       "</g>\n",
       "<!-- Alrl -->\n",
       "<g id=\"node9\" class=\"node\"><title>Alrl</title>\n",
       "<ellipse fill=\"none\" stroke=\"black\" cx=\"331\" cy=\"-105\" rx=\"27\" ry=\"18\"/>\n",
       "<text text-anchor=\"middle\" x=\"331\" y=\"-101.3\" font-family=\"Times,serif\" font-size=\"14.00\">0</text>\n",
       "</g>\n",
       "<!-- Alr&#45;&gt;Alrl -->\n",
       "<g id=\"edge7\" class=\"edge\"><title>Alr&#45;&gt;Alrl</title>\n",
       "<path fill=\"none\" stroke=\"black\" d=\"M336.221,-174.105C334.533,-168.421 332.901,-161.999 332,-156 330.908,-148.731 330.429,-140.802 330.276,-133.445\"/>\n",
       "<polygon fill=\"black\" stroke=\"black\" points=\"333.776,-133.209 330.254,-123.217 326.776,-133.224 333.776,-133.209\"/>\n",
       "<text text-anchor=\"middle\" x=\"402\" y=\"-144.8\" font-family=\"Times,serif\" font-size=\"14.00\">&lt;=&#45;0.9575576674841999</text>\n",
       "</g>\n",
       "<!-- Alrr -->\n",
       "<g id=\"node12\" class=\"node\"><title>Alrr</title>\n",
       "<polygon fill=\"none\" stroke=\"black\" points=\"521,-123 467,-123 467,-87 521,-87 521,-123\"/>\n",
       "<text text-anchor=\"middle\" x=\"494\" y=\"-101.3\" font-family=\"Times,serif\" font-size=\"14.00\">2</text>\n",
       "</g>\n",
       "<!-- Alr&#45;&gt;Alrr -->\n",
       "<g id=\"edge8\" class=\"edge\"><title>Alr&#45;&gt;Alrr</title>\n",
       "<path fill=\"none\" stroke=\"black\" d=\"M369.035,-190.365C397.748,-188.315 442.922,-180.976 472,-156 479.032,-149.96 483.902,-141.242 487.235,-132.773\"/>\n",
       "<polygon fill=\"black\" stroke=\"black\" points=\"490.611,-133.714 490.479,-123.12 483.976,-131.484 490.611,-133.714\"/>\n",
       "<text text-anchor=\"middle\" x=\"549\" y=\"-144.8\" font-family=\"Times,serif\" font-size=\"14.00\">&gt;&#45;0.9575576674841999</text>\n",
       "</g>\n",
       "<!-- Alrll -->\n",
       "<g id=\"node10\" class=\"node\"><title>Alrll</title>\n",
       "<polygon fill=\"none\" stroke=\"black\" points=\"358,-36 304,-36 304,-0 358,-0 358,-36\"/>\n",
       "<text text-anchor=\"middle\" x=\"331\" y=\"-14.3\" font-family=\"Times,serif\" font-size=\"14.00\">2</text>\n",
       "</g>\n",
       "<!-- Alrl&#45;&gt;Alrll -->\n",
       "<g id=\"edge5\" class=\"edge\"><title>Alrl&#45;&gt;Alrll</title>\n",
       "<path fill=\"none\" stroke=\"black\" d=\"M331,-86.799C331,-75.1626 331,-59.5479 331,-46.2368\"/>\n",
       "<polygon fill=\"black\" stroke=\"black\" points=\"334.5,-46.1754 331,-36.1754 327.5,-46.1755 334.5,-46.1754\"/>\n",
       "<text text-anchor=\"middle\" x=\"401\" y=\"-57.8\" font-family=\"Times,serif\" font-size=\"14.00\">&lt;=&#45;1.6286854096146888</text>\n",
       "</g>\n",
       "<!-- Alrlr -->\n",
       "<g id=\"node11\" class=\"node\"><title>Alrlr</title>\n",
       "<polygon fill=\"none\" stroke=\"black\" points=\"521,-36 467,-36 467,-0 521,-0 521,-36\"/>\n",
       "<text text-anchor=\"middle\" x=\"494\" y=\"-14.3\" font-family=\"Times,serif\" font-size=\"14.00\">1</text>\n",
       "</g>\n",
       "<!-- Alrl&#45;&gt;Alrlr -->\n",
       "<g id=\"edge6\" class=\"edge\"><title>Alrl&#45;&gt;Alrlr</title>\n",
       "<path fill=\"none\" stroke=\"black\" d=\"M358.038,-104.111C388.992,-102.836 439.586,-96.291 472,-69 479.092,-63.0293 483.975,-54.3284 487.303,-45.8527\"/>\n",
       "<polygon fill=\"black\" stroke=\"black\" points=\"490.684,-46.7773 490.534,-36.1835 484.045,-44.5588 490.684,-46.7773\"/>\n",
       "<text text-anchor=\"middle\" x=\"549\" y=\"-57.8\" font-family=\"Times,serif\" font-size=\"14.00\">&gt;&#45;1.6286854096146888</text>\n",
       "</g>\n",
       "<!-- Arl -->\n",
       "<g id=\"node14\" class=\"node\"><title>Arl</title>\n",
       "<polygon fill=\"none\" stroke=\"black\" points=\"528,-210 474,-210 474,-174 528,-174 528,-210\"/>\n",
       "<text text-anchor=\"middle\" x=\"501\" y=\"-188.3\" font-family=\"Times,serif\" font-size=\"14.00\">3</text>\n",
       "</g>\n",
       "<!-- Ar&#45;&gt;Arl -->\n",
       "<g id=\"edge13\" class=\"edge\"><title>Ar&#45;&gt;Arl</title>\n",
       "<path fill=\"none\" stroke=\"black\" d=\"M501,-260.799C501,-249.163 501,-233.548 501,-220.237\"/>\n",
       "<polygon fill=\"black\" stroke=\"black\" points=\"504.5,-220.175 501,-210.175 497.5,-220.175 504.5,-220.175\"/>\n",
       "<text text-anchor=\"middle\" x=\"562\" y=\"-231.8\" font-family=\"Times,serif\" font-size=\"14.00\">&lt;=8.00892268586665</text>\n",
       "</g>\n",
       "<!-- Arr -->\n",
       "<g id=\"node15\" class=\"node\"><title>Arr</title>\n",
       "<ellipse fill=\"none\" stroke=\"black\" cx=\"649\" cy=\"-192\" rx=\"27\" ry=\"18\"/>\n",
       "<text text-anchor=\"middle\" x=\"649\" y=\"-188.3\" font-family=\"Times,serif\" font-size=\"14.00\">0</text>\n",
       "</g>\n",
       "<!-- Ar&#45;&gt;Arr -->\n",
       "<g id=\"edge14\" class=\"edge\"><title>Ar&#45;&gt;Arr</title>\n",
       "<path fill=\"none\" stroke=\"black\" d=\"M527.875,-276.543C554.927,-273.775 596.482,-265.813 624,-243 631.383,-236.88 636.791,-228.035 640.649,-219.48\"/>\n",
       "<polygon fill=\"black\" stroke=\"black\" points=\"643.933,-220.692 644.368,-210.106 637.427,-218.11 643.933,-220.692\"/>\n",
       "<text text-anchor=\"middle\" x=\"692\" y=\"-231.8\" font-family=\"Times,serif\" font-size=\"14.00\">&gt;8.00892268586665</text>\n",
       "</g>\n",
       "<!-- Arrl -->\n",
       "<g id=\"node16\" class=\"node\"><title>Arrl</title>\n",
       "<polygon fill=\"none\" stroke=\"black\" points=\"676,-123 622,-123 622,-87 676,-87 676,-123\"/>\n",
       "<text text-anchor=\"middle\" x=\"649\" y=\"-101.3\" font-family=\"Times,serif\" font-size=\"14.00\">2</text>\n",
       "</g>\n",
       "<!-- Arr&#45;&gt;Arrl -->\n",
       "<g id=\"edge11\" class=\"edge\"><title>Arr&#45;&gt;Arrl</title>\n",
       "<path fill=\"none\" stroke=\"black\" d=\"M649,-173.799C649,-162.163 649,-146.548 649,-133.237\"/>\n",
       "<polygon fill=\"black\" stroke=\"black\" points=\"652.5,-133.175 649,-123.175 645.5,-133.175 652.5,-133.175\"/>\n",
       "<text text-anchor=\"middle\" x=\"713.5\" y=\"-144.8\" font-family=\"Times,serif\" font-size=\"14.00\">&lt;=5.003477626085491</text>\n",
       "</g>\n",
       "<!-- Arrr -->\n",
       "<g id=\"node17\" class=\"node\"><title>Arrr</title>\n",
       "<polygon fill=\"none\" stroke=\"black\" points=\"828,-123 774,-123 774,-87 828,-87 828,-123\"/>\n",
       "<text text-anchor=\"middle\" x=\"801\" y=\"-101.3\" font-family=\"Times,serif\" font-size=\"14.00\">3</text>\n",
       "</g>\n",
       "<!-- Arr&#45;&gt;Arrr -->\n",
       "<g id=\"edge12\" class=\"edge\"><title>Arr&#45;&gt;Arrr</title>\n",
       "<path fill=\"none\" stroke=\"black\" d=\"M676.035,-190.365C704.748,-188.315 749.922,-180.976 779,-156 786.032,-149.96 790.902,-141.242 794.235,-132.773\"/>\n",
       "<polygon fill=\"black\" stroke=\"black\" points=\"797.611,-133.714 797.479,-123.12 790.976,-131.484 797.611,-133.714\"/>\n",
       "<text text-anchor=\"middle\" x=\"849.5\" y=\"-144.8\" font-family=\"Times,serif\" font-size=\"14.00\">&gt;5.003477626085491</text>\n",
       "</g>\n",
       "</g>\n",
       "</svg>\n"
      ],
      "text/plain": [
       "<graphviz.dot.Digraph at 0x7f82bcc5c438>"
      ]
     },
     "execution_count": 216,
     "metadata": {},
     "output_type": "execute_result"
    }
   ],
   "source": [
    "tree.plot()"
   ]
  }
 ],
 "metadata": {
  "kernelspec": {
   "display_name": "Python 3",
   "language": "python",
   "name": "python3"
  },
  "language_info": {
   "codemirror_mode": {
    "name": "ipython",
    "version": 3
   },
   "file_extension": ".py",
   "mimetype": "text/x-python",
   "name": "python",
   "nbconvert_exporter": "python",
   "pygments_lexer": "ipython3",
   "version": "3.6.6"
  }
 },
 "nbformat": 4,
 "nbformat_minor": 2
}
